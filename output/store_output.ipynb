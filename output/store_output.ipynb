{
 "cells": [
  {
   "cell_type": "markdown",
   "metadata": {},
   "source": [
    "## Settings"
   ]
  },
  {
   "cell_type": "code",
   "execution_count": 1,
   "metadata": {},
   "outputs": [],
   "source": [
    "%load_ext autoreload\n",
    "%autoreload 2"
   ]
  },
  {
   "cell_type": "code",
   "execution_count": 2,
   "metadata": {},
   "outputs": [],
   "source": [
    "import pandas as pd\n",
    "import numpy as np\n",
    "import random\n",
    "import os\n",
    "import sys\n",
    "import logging\n",
    "import torch\n",
    "import itertools\n",
    "\n",
    "import plotly.express as px\n",
    "import plotly.graph_objects as go\n",
    "from plotly.subplots import make_subplots"
   ]
  },
  {
   "cell_type": "code",
   "execution_count": 3,
   "metadata": {},
   "outputs": [
    {
     "data": {
      "text/plain": [
       "'/Users/meina/Github/meina-t/matching_with_dl'"
      ]
     },
     "execution_count": 3,
     "metadata": {},
     "output_type": "execute_result"
    }
   ],
   "source": [
    "project_root = os.path.abspath('')\n",
    "if project_root not in sys.path:\n",
    "    sys.path.append(project_root)\n",
    "project_root"
   ]
  },
  {
   "cell_type": "code",
   "execution_count": null,
   "metadata": {},
   "outputs": [],
   "source": [
    "from logging import getLogger\n",
    "logger = getLogger(__name__)\n",
    "logger.setLevel(logging.INFO)"
   ]
  },
  {
   "cell_type": "markdown",
   "metadata": {},
   "source": [
    "sv \n",
    "https://arxiv.org/pdf/2107.03427\n"
   ]
  },
  {
   "cell_type": "code",
   "execution_count": 37,
   "metadata": {},
   "outputs": [],
   "source": [
    "from model.model import MatchingNet, train_model\n",
    "from model.params import HParams\n",
    "from model.data import Data\n",
    "from model.loss.strategy_proofness import compute_spv\n",
    "from model.loss.stability import compute_sv\n",
    "from model.loss.efficiency import generate_stable_matchings, filter_efficient_stable_matchings, compute_ev\n",
    "from model.utils import is_pareto_dominates, da_with_t"
   ]
  },
  {
   "cell_type": "markdown",
   "metadata": {},
   "source": [
    "## Train"
   ]
  },
  {
   "cell_type": "code",
   "execution_count": 44,
   "metadata": {},
   "outputs": [],
   "source": [
    "p_list = list(itertools.permutations([0.5, 0.3333, 0.1666]))\n",
    "q_list = p_list + [(0.2,0.4,0.4), (0.4,0.2,0.4), (0.4,0.4,0.2),(0.25,.25,0.5), (0.25,0.5,0.25), (0.5,0.25,0.25), (0.3333,0.3333,0.3333)]"
   ]
  },
  {
   "cell_type": "code",
   "execution_count": 45,
   "metadata": {},
   "outputs": [],
   "source": [
    "pairs_1_1 = []\n",
    "pairs_1_2 = []\n",
    "pairs_1_3 = []\n",
    "pairs_2_1 = []\n",
    "pairs_2_2 = []\n",
    "pairs_2_3 = []\n",
    "pairs_3_1 = []\n",
    "pairs_3_2 = []\n",
    "pairs_3_3 = []\n",
    "\n",
    "p_set_1 = []\n",
    "p_set_2 = []\n",
    "p_set_3 = []\n",
    "q_set_1 = []\n",
    "q_set_2 = []\n",
    "q_set_3 = []\n",
    "\n",
    "for i in range(6):\n",
    "    p_1 = p_list[i]\n",
    "    p_set_1.append([p_1 for _ in range(3)])\n",
    "for i in range(13):\n",
    "    q_1 = q_list[i]\n",
    "    q_set_1.append([q_1 for _ in range(3)])\n",
    "\n",
    "# p_listから重複なく2つ選び、p_2を作成\n",
    "for i in range(5):\n",
    "    for j in range(i+1, 6):\n",
    "        p_set_2.append([p_list[i], p_list[j], p_list[j]])\n",
    "\n",
    "for i in range(12):\n",
    "    for j in range(i+1, 13):\n",
    "        q_set_2.append([q_list[i], q_list[j], q_list[j]])\n",
    "\n",
    "for i in range(4):\n",
    "    for j in range(i+1, 5):\n",
    "        for k in range(j+1, 6):\n",
    "            p_set_3.append([p_list[i], p_list[j], p_list[k]])\n",
    "\n",
    "for i in range(11):\n",
    "    for j in range(i+1, 12):\n",
    "        for k in range(j+1, 13):\n",
    "            q_set_3.append([q_list[i], q_list[j], q_list[k]])\n",
    "\n",
    "\n",
    "\n",
    "for i in p_set_1:\n",
    "    for j in q_set_1:\n",
    "        pairs_1_1.append((i, j))\n",
    "\n",
    "for i in p_set_1:\n",
    "    for j in q_set_2:\n",
    "        pairs_1_2.append((i, j))\n",
    "\n",
    "for i in p_set_1:\n",
    "    for j in q_set_3:\n",
    "        pairs_1_3.append((i, j))\n",
    "\n",
    "for i in p_set_2:\n",
    "    for j in q_set_1:\n",
    "        pairs_2_1.append((i, j))\n",
    "\n",
    "for i in p_set_2:\n",
    "    for j in q_set_2:\n",
    "        pairs_2_2.append((i, j))\n",
    "\n",
    "for i in p_set_2:\n",
    "    for j in q_set_3:\n",
    "        pairs_2_3.append((i, j))\n",
    "\n",
    "for i in p_set_3:\n",
    "    for j in q_set_1:\n",
    "        pairs_3_1.append((i, j))\n",
    "\n",
    "for i in p_set_3:\n",
    "    for j in q_set_2:\n",
    "        pairs_3_2.append((i, j))\n",
    "\n",
    "for i in p_set_3:\n",
    "    for j in q_set_3:\n",
    "        pairs_3_3.append((i, j))"
   ]
  },
  {
   "cell_type": "code",
   "execution_count": 20,
   "metadata": {},
   "outputs": [],
   "source": [
    "p_list = []\n",
    "q_list = []\n",
    "\n",
    "for pair in pairs_1_1:\n",
    "    p_list.append(pair[0])\n",
    "    q_list.append(pair[1])\n",
    "\n",
    "df_1_1 = pd.DataFrame({'p': p_list, 'q': q_list})\n"
   ]
  },
  {
   "cell_type": "code",
   "execution_count": 8,
   "metadata": {},
   "outputs": [],
   "source": [
    "cfg = HParams(\n",
    "    num_agents=3,\n",
    "    num_hidden_nodes=64,\n",
    "    batch_size=128,\n",
    "    epochs=2000,\n",
    "    corr = 0,\n",
    "    device='mps',\n",
    "    lr=0.05,\n",
    "    )\n",
    "\n",
    "model = MatchingNet(cfg)"
   ]
  },
  {
   "cell_type": "code",
   "execution_count": 30,
   "metadata": {},
   "outputs": [
    {
     "name": "stderr",
     "output_type": "stream",
     "text": [
      "/Users/meina/Github/meina-t/matching_with_dl/model/data.py:60: UserWarning: Creating a tensor from a list of numpy.ndarrays is extremely slow. Please consider converting the list to a single numpy.ndarray with numpy.array() before converting to a tensor. (Triggered internally at /Users/runner/work/pytorch/pytorch/pytorch/torch/csrc/utils/tensor_new.cpp:281.)\n",
      "  return torch.tensor(matchings, dtype=torch.float32, device=self.device)\n"
     ]
    }
   ],
   "source": [
    "data = Data(cfg)"
   ]
  },
  {
   "cell_type": "code",
   "execution_count": 9,
   "metadata": {},
   "outputs": [],
   "source": [
    "device = 'mps'\n",
    "\n",
    "p = torch.tensor([[[1.0, 0.0, 0.0], [0.0, 1.0, 0.0], [0.0, 0.0, 1.0]]],  dtype=torch.float32).to(device)\n",
    "q = torch.tensor([[[1.0, 0.0, 0.0], [0.0,1.0, 0.0], [0.0, 0.0, 1.0]]],  dtype=torch.float32).to(device)"
   ]
  },
  {
   "cell_type": "code",
   "execution_count": 57,
   "metadata": {},
   "outputs": [],
   "source": [
    "def compute_matching(pairs):\n",
    "    p_list = []\n",
    "    q_list = []\n",
    "\n",
    "    for pair in pairs:\n",
    "        p_list.append(pair[0])\n",
    "        q_list.append(pair[1])\n",
    "\n",
    "    df_1_1 = pd.DataFrame({'p': p_list, 'q': q_list})\n",
    "\n",
    "    matching_list = []\n",
    "    spv_list = []\n",
    "    sv_list = []\n",
    "    ev_list = []\n",
    "    da_matching_list = []\n",
    "    da_spv_list = []\n",
    "    da_sv_list = []\n",
    "    da_ev_list = []\n",
    "\n",
    "    for index, row in df_1_1.iterrows():\n",
    "        p = torch.tensor(row['p'], dtype=torch.float32, device = 'mps') # torch.tensorに変換\n",
    "        q = torch.tensor(row['q'], dtype=torch.float32, device = 'mps') # torch.tensorに変換\n",
    "        p = p.unsqueeze(0) \n",
    "        q = q.unsqueeze(0) \n",
    "\n",
    "        #matching = model(p, q) \n",
    "        #spv = compute_spv(cfg, model, matching, p, q)\n",
    "        #sv = compute_sv(cfg,matching, p, q)\n",
    "        #ev = compute_ev(cfg, matching, p, q, data)\n",
    "\n",
    "        da_matching = da_with_t(p, q)\n",
    "        da_spv = compute_spv(cfg, da_with_t, da_matching, p, q)\n",
    "        da_sv = compute_sv(cfg, da_matching, p, q)\n",
    "        da_ev = compute_ev(cfg, da_matching, p, q, data)\n",
    "\n",
    "        #matching_list.append(matching.cpu().squeeze(0).tolist()) \n",
    "        #spv_list.append(spv.sum().cpu().item())\n",
    "        #sv_list.append(sv.sum().cpu().item())\n",
    "        #ev_list.append(ev.sum().cpu().item())\n",
    "\n",
    "        da_matching_list.append(da_matching.cpu().squeeze(0).tolist())\n",
    "        da_spv_list.append(da_spv.sum().cpu().item())\n",
    "        da_sv_list.append(da_sv.sum().cpu().item())\n",
    "        da_ev_list.append(da_ev.sum().cpu().item())\n",
    "\n",
    "    #df_1_1['matching'] = matching_list\n",
    "    #df_1_1['spv'] = spv_list\n",
    "    #df_1_1['sv'] = sv_list\n",
    "    #df_1_1['ev'] = ev_list\n",
    "    df_1_1['da_matching'] = da_matching_list\n",
    "    df_1_1['da_spv'] = da_spv_list\n",
    "    df_1_1['da_sv'] = da_sv_list\n",
    "    df_1_1['da_ev'] = da_ev_list\n",
    "\n",
    "    return df_1_1"
   ]
  },
  {
   "cell_type": "code",
   "execution_count": 58,
   "metadata": {},
   "outputs": [
    {
     "name": "stdout",
     "output_type": "stream",
     "text": [
      "finish 1_1\n",
      "finish 1_2\n",
      "finish 1_3\n",
      "finish 2_1\n",
      "finish 2_2\n",
      "finish 2_3\n",
      "finish 3_1\n",
      "finish 3_2\n",
      "finish 3_3\n"
     ]
    }
   ],
   "source": [
    "df_1_1 = compute_matching(pairs_1_1)\n",
    "print('finish 1_1')\n",
    "df_1_2 = compute_matching(pairs_1_2)\n",
    "print('finish 1_2')\n",
    "df_1_3 = compute_matching(pairs_1_3)\n",
    "print('finish 1_3')\n",
    "df_2_1 = compute_matching(pairs_2_1)\n",
    "print('finish 2_1')\n",
    "df_2_2 = compute_matching(pairs_2_2)\n",
    "print('finish 2_2')\n",
    "df_2_3 = compute_matching(pairs_2_3)\n",
    "print('finish 2_3')\n",
    "df_3_1 = compute_matching(pairs_3_1)\n",
    "print('finish 3_1')\n",
    "df_3_2 = compute_matching(pairs_3_2)\n",
    "print('finish 3_2')\n",
    "df_3_3 = compute_matching(pairs_3_3)\n",
    "print('finish 3_3')\n"
   ]
  },
  {
   "cell_type": "code",
   "execution_count": 61,
   "metadata": {},
   "outputs": [
    {
     "name": "stderr",
     "output_type": "stream",
     "text": [
      "/var/folders/3s/sh8zstl54dl_t2y55d7th57m0000gn/T/ipykernel_34642/395456298.py:2: FutureWarning: You are using `torch.load` with `weights_only=False` (the current default value), which uses the default pickle module implicitly. It is possible to construct malicious pickle data which will execute arbitrary code during unpickling (See https://github.com/pytorch/pytorch/blob/main/SECURITY.md#untrusted-models for more details). In a future release, the default value for `weights_only` will be flipped to `True`. This limits the functions that could be executed during unpickling. Arbitrary objects will no longer be allowed to be loaded via this mode unless they are explicitly allowlisted by the user via `torch.serialization.add_safe_globals`. We recommend you start setting `weights_only=True` for any use case where you don't have full control of the loaded file. Please open an issue on GitHub for any issues related to this experimental feature.\n",
      "  model.load_state_dict(torch.load('model_0120.pth'))\n"
     ]
    },
    {
     "data": {
      "text/plain": [
       "MatchingNet(\n",
       "  (layers): Sequential(\n",
       "    (0): Linear(in_features=18, out_features=64, bias=True)\n",
       "    (1): LeakyReLU(negative_slope=0.01)\n",
       "    (2): Linear(in_features=64, out_features=64, bias=True)\n",
       "    (3): LeakyReLU(negative_slope=0.01)\n",
       "    (4): Linear(in_features=64, out_features=64, bias=True)\n",
       "    (5): LeakyReLU(negative_slope=0.01)\n",
       "    (6): Linear(in_features=64, out_features=64, bias=True)\n",
       "    (7): LeakyReLU(negative_slope=0.01)\n",
       "    (8): Linear(in_features=64, out_features=9, bias=True)\n",
       "  )\n",
       ")"
      ]
     },
     "execution_count": 61,
     "metadata": {},
     "output_type": "execute_result"
    }
   ],
   "source": [
    "model = MatchingNet(cfg)\n",
    "model.load_state_dict(torch.load('model_0120.pth'))\n",
    "model.to(device)\n",
    "model.eval()"
   ]
  },
  {
   "cell_type": "code",
   "execution_count": 66,
   "metadata": {},
   "outputs": [],
   "source": [
    "def add_modeldata(df):\n",
    "    matching_list = []\n",
    "    spv_list = []\n",
    "    sv_list = []\n",
    "    ev_list = []\n",
    "\n",
    "    for index, row in df.iterrows():\n",
    "        p = torch.tensor(row['p'], dtype=torch.float32, device = 'mps') # torch.tensorに変換\n",
    "        q = torch.tensor(row['q'], dtype=torch.float32, device = 'mps') # torch.tensorに変換\n",
    "        p = p.unsqueeze(0) \n",
    "        q = q.unsqueeze(0) \n",
    "\n",
    "        matching = model(p, q) \n",
    "        spv = compute_spv(cfg, model, matching, p, q)\n",
    "        sv = compute_sv(cfg,matching, p, q)\n",
    "        ev = compute_ev(cfg, matching, p, q, data)\n",
    "\n",
    "        matching_list.append(matching.cpu().squeeze(0).tolist()) \n",
    "        spv_list.append(spv.sum().cpu().item())\n",
    "        sv_list.append(sv.sum().cpu().item())\n",
    "        ev_list.append(ev.sum().cpu().item())\n",
    "\n",
    "    df['matching'] = matching_list\n",
    "    df['spv'] = spv_list\n",
    "    df['sv'] = sv_list\n",
    "    df['ev'] = ev_list\n",
    "\n",
    "    return df\n"
   ]
  },
  {
   "cell_type": "code",
   "execution_count": 67,
   "metadata": {},
   "outputs": [],
   "source": [
    "df_1_1 = add_modeldata(df_1_1)\n",
    "df_1_2 = add_modeldata(df_1_2)\n",
    "df_1_3 = add_modeldata(df_1_3)\n",
    "df_2_1 = add_modeldata(df_2_1)\n",
    "df_2_2 = add_modeldata(df_2_2)\n",
    "df_2_3 = add_modeldata(df_2_3)\n",
    "df_3_1 = add_modeldata(df_3_1)\n",
    "df_3_2 = add_modeldata(df_3_2)\n",
    "df_3_3 = add_modeldata(df_3_3)\n"
   ]
  },
  {
   "cell_type": "code",
   "execution_count": 62,
   "metadata": {},
   "outputs": [
    {
     "data": {
      "text/plain": [
       "tensor([[[2.0241e-01, 5.7346e-04, 7.9702e-01],\n",
       "         [7.1915e-01, 2.4288e-01, 3.7965e-02],\n",
       "         [7.8577e-02, 7.5729e-01, 1.6414e-01]]], device='mps:0',\n",
       "       grad_fn=<DivBackward0>)"
      ]
     },
     "execution_count": 62,
     "metadata": {},
     "output_type": "execute_result"
    }
   ],
   "source": [
    "model(p, q)"
   ]
  },
  {
   "cell_type": "code",
   "execution_count": 72,
   "metadata": {},
   "outputs": [],
   "source": [
    "import pandas as pd\n",
    "\n",
    "excel_file = 'output_0120.xlsx' \n",
    "\n",
    "with pd.ExcelWriter(excel_file, engine='openpyxl') as writer:\n",
    "    df_1_1.to_excel(writer, sheet_name='Sheet1_1', index=False)\n",
    "    df_1_2.to_excel(writer, sheet_name='Sheet1_2', index=False)\n",
    "    df_1_3.to_excel(writer, sheet_name='Sheet1_3', index=False)\n",
    "    df_2_1.to_excel(writer, sheet_name='Sheet2_1', index=False)\n",
    "    df_2_2.to_excel(writer, sheet_name='Sheet2_2', index=False)\n",
    "    df_2_3.to_excel(writer, sheet_name='Sheet2_3', index=False)\n",
    "    df_3_1.to_excel(writer, sheet_name='Sheet3_1', index=False)\n",
    "    df_3_2.to_excel(writer, sheet_name='Sheet3_2', index=False)\n",
    "    df_3_3.to_excel(writer, sheet_name='Sheet3_3', index=False)\n"
   ]
  },
  {
   "cell_type": "code",
   "execution_count": null,
   "metadata": {},
   "outputs": [],
   "source": []
  }
 ],
 "metadata": {
  "kernelspec": {
   "display_name": "3.10.4",
   "language": "python",
   "name": "python3"
  },
  "language_info": {
   "codemirror_mode": {
    "name": "ipython",
    "version": 3
   },
   "file_extension": ".py",
   "mimetype": "text/x-python",
   "name": "python",
   "nbconvert_exporter": "python",
   "pygments_lexer": "ipython3",
   "version": "3.10.4"
  }
 },
 "nbformat": 4,
 "nbformat_minor": 2
}
