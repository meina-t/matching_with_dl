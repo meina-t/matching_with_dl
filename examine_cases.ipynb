{
 "cells": [
  {
   "cell_type": "markdown",
   "metadata": {},
   "source": [
    "## 設定"
   ]
  },
  {
   "cell_type": "code",
   "execution_count": 1,
   "metadata": {},
   "outputs": [],
   "source": [
    "import os\n",
    "import sys\n",
    "import time\n",
    "import logging\n",
    "import argparse\n",
    "import numpy as np\n",
    "import pandas as pd\n",
    "from tqdm import tqdm\n",
    "from random import random\n",
    "import itertools\n",
    "from pathlib import Path\n",
    "\n",
    "\n",
    "import torch\n",
    "import torch.nn\n",
    "from torch import optim\n",
    "import torch.nn.functional as F\n",
    "\n",
    "from data import Data\n",
    "\n",
    "from primal_net import PrimalNet\n",
    "from primal_loss import *\n",
    "from primal_train import *\n",
    "\n",
    "#from dual_net import DualNet\n",
    "#from dual_loss import *\n",
    "#from dual_train import *\n",
    "\n",
    "import torch\n",
    "import matplotlib.pyplot as plt\n",
    "import seaborn as sns\n",
    "\n",
    "sys.path.append(str(Path(\"examine_cases.ipynb\").resolve().parent.parent))\n"
   ]
  },
  {
   "cell_type": "code",
   "execution_count": 15,
   "metadata": {},
   "outputs": [
    {
     "name": "stderr",
     "output_type": "stream",
     "text": [
      "/var/folders/3s/sh8zstl54dl_t2y55d7th57m0000gn/T/ipykernel_60303/2577132240.py:16: FutureWarning: You are using `torch.load` with `weights_only=False` (the current default value), which uses the default pickle module implicitly. It is possible to construct malicious pickle data which will execute arbitrary code during unpickling (See https://github.com/pytorch/pytorch/blob/main/SECURITY.md#untrusted-models for more details). In a future release, the default value for `weights_only` will be flipped to `True`. This limits the functions that could be executed during unpickling. Arbitrary objects will no longer be allowed to be loaded via this mode unless they are explicitly allowlisted by the user via `torch.serialization.add_safe_globals`. We recommend you start setting `weights_only=True` for any use case where you don't have full control of the loaded file. Please open an issue on GitHub for any issues related to this experimental feature.\n",
      "  model.load_state_dict(torch.load('model_1222.pth'))\n"
     ]
    },
    {
     "data": {
      "text/plain": [
       "PrimalNet(\n",
       "  (input_block): Sequential(\n",
       "    (0): Linear(in_features=18, out_features=256, bias=True)\n",
       "    (1): LeakyReLU(negative_slope=0.01)\n",
       "    (2): Linear(in_features=256, out_features=256, bias=True)\n",
       "    (3): LeakyReLU(negative_slope=0.01)\n",
       "    (4): Linear(in_features=256, out_features=256, bias=True)\n",
       "    (5): LeakyReLU(negative_slope=0.01)\n",
       "    (6): Linear(in_features=256, out_features=256, bias=True)\n",
       "    (7): LeakyReLU(negative_slope=0.01)\n",
       "    (8): Linear(in_features=256, out_features=256, bias=True)\n",
       "    (9): LeakyReLU(negative_slope=0.01)\n",
       "  )\n",
       "  (layer_out): Linear(in_features=256, out_features=9, bias=True)\n",
       ")"
      ]
     },
     "execution_count": 15,
     "metadata": {},
     "output_type": "execute_result"
    }
   ],
   "source": [
    "device = \"mps\" #if torch.cuda.is_available() else \"cpu\"\n",
    "lambd = np.ones((3,3))*0.001\n",
    "# lambd = cfg.lambd\n",
    "\n",
    "cfg = HParams(num_agents = 3,\n",
    "              device = device,\n",
    "              lambd = lambd,\n",
    "              rho = 0.1,\n",
    "              lagr_iter = 100,\n",
    "              batch_size = 128,\n",
    "              epochs = 10000)\n",
    "\n",
    "cfg.lr = 1e-4\n",
    "\n",
    "model = PrimalNet(cfg)\n",
    "model.load_state_dict(torch.load('model_1222.pth'))\n",
    "model.to(device)\n",
    "model.eval()"
   ]
  },
  {
   "cell_type": "code",
   "execution_count": 16,
   "metadata": {},
   "outputs": [
    {
     "data": {
      "text/plain": [
       "'mps'"
      ]
     },
     "execution_count": 16,
     "metadata": {},
     "output_type": "execute_result"
    }
   ],
   "source": [
    "device"
   ]
  },
  {
   "cell_type": "code",
   "execution_count": 17,
   "metadata": {},
   "outputs": [],
   "source": [
    "import random\n",
    "random.seed(314)"
   ]
  },
  {
   "cell_type": "code",
   "execution_count": 18,
   "metadata": {},
   "outputs": [],
   "source": [
    "from utils import normalize_tuples, apply_features, convert_to_float"
   ]
  },
  {
   "cell_type": "code",
   "execution_count": 19,
   "metadata": {},
   "outputs": [],
   "source": [
    "from primal_loss import compute_t\n",
    "from efficiency_loss import compute_efficiency_loss\n",
    "from utils import da_with_t"
   ]
  },
  {
   "cell_type": "markdown",
   "metadata": {},
   "source": [
    "## パターン1"
   ]
  },
  {
   "cell_type": "code",
   "execution_count": 20,
   "metadata": {},
   "outputs": [],
   "source": [
    "one_tie_2_1 = list(set(itertools.permutations([2, 2, 1])))\n",
    "no_tie_patterns = list(itertools.permutations([3, 2, 1]))\n",
    "\n",
    "one_tie_2_1 = normalize_tuples(one_tie_2_1)\n",
    "no_tie_patterns = normalize_tuples(no_tie_patterns)\n",
    "preference_list_p = list(itertools.product(no_tie_patterns, repeat=3))\n",
    "preference_list_q = list(itertools.product(one_tie_2_1, repeat=3))\n",
    "pairs = [(random.choice(preference_list_p), random.choice(preference_list_q)) for _ in range(1000)]\n",
    "df_1 = pd.DataFrame(pairs, columns=['p', 'q'])"
   ]
  },
  {
   "cell_type": "code",
   "execution_count": 21,
   "metadata": {},
   "outputs": [
    {
     "name": "stderr",
     "output_type": "stream",
     "text": [
      "Processing rows: 100%|██████████| 1000/1000 [01:42<00:00,  9.72it/s]\n",
      "/Users/meina/Github/meina-t/matching_with_dl/utils.py:162: FutureWarning: DataFrame.applymap has been deprecated. Use DataFrame.map instead.\n",
      "  return df.applymap(try_convert)\n"
     ]
    }
   ],
   "source": [
    "df_1 = apply_features(cfg, model, df_1)\n",
    "df_1 = convert_to_float(df_1)"
   ]
  },
  {
   "cell_type": "code",
   "execution_count": 22,
   "metadata": {},
   "outputs": [
    {
     "data": {
      "text/html": [
       "<div>\n",
       "<style scoped>\n",
       "    .dataframe tbody tr th:only-of-type {\n",
       "        vertical-align: middle;\n",
       "    }\n",
       "\n",
       "    .dataframe tbody tr th {\n",
       "        vertical-align: top;\n",
       "    }\n",
       "\n",
       "    .dataframe thead th {\n",
       "        text-align: right;\n",
       "    }\n",
       "</style>\n",
       "<table border=\"1\" class=\"dataframe\">\n",
       "  <thead>\n",
       "    <tr style=\"text-align: right;\">\n",
       "      <th></th>\n",
       "      <th>model_efficiency_loss</th>\n",
       "      <th>model_stability_loss</th>\n",
       "      <th>model_sp_loss</th>\n",
       "      <th>da_efficiency_loss</th>\n",
       "      <th>da_stability_loss</th>\n",
       "      <th>da_sp_loss</th>\n",
       "    </tr>\n",
       "  </thead>\n",
       "  <tbody>\n",
       "    <tr>\n",
       "      <th>count</th>\n",
       "      <td>1000.000000</td>\n",
       "      <td>1.000000e+03</td>\n",
       "      <td>1000.000000</td>\n",
       "      <td>1000.000000</td>\n",
       "      <td>1000.000000</td>\n",
       "      <td>1000.0</td>\n",
       "    </tr>\n",
       "    <tr>\n",
       "      <th>mean</th>\n",
       "      <td>-0.258292</td>\n",
       "      <td>1.520026e-01</td>\n",
       "      <td>0.248798</td>\n",
       "      <td>-0.176250</td>\n",
       "      <td>0.170672</td>\n",
       "      <td>0.0</td>\n",
       "    </tr>\n",
       "    <tr>\n",
       "      <th>std</th>\n",
       "      <td>0.738410</td>\n",
       "      <td>8.622905e-02</td>\n",
       "      <td>0.208262</td>\n",
       "      <td>0.321484</td>\n",
       "      <td>0.101627</td>\n",
       "      <td>0.0</td>\n",
       "    </tr>\n",
       "    <tr>\n",
       "      <th>min</th>\n",
       "      <td>-2.250152</td>\n",
       "      <td>7.094528e-07</td>\n",
       "      <td>0.000001</td>\n",
       "      <td>-1.250000</td>\n",
       "      <td>0.000000</td>\n",
       "      <td>0.0</td>\n",
       "    </tr>\n",
       "    <tr>\n",
       "      <th>25%</th>\n",
       "      <td>-0.912164</td>\n",
       "      <td>8.914764e-02</td>\n",
       "      <td>0.057300</td>\n",
       "      <td>-0.500000</td>\n",
       "      <td>0.088889</td>\n",
       "      <td>0.0</td>\n",
       "    </tr>\n",
       "    <tr>\n",
       "      <th>50%</th>\n",
       "      <td>-0.001587</td>\n",
       "      <td>1.498319e-01</td>\n",
       "      <td>0.221915</td>\n",
       "      <td>0.000000</td>\n",
       "      <td>0.177778</td>\n",
       "      <td>0.0</td>\n",
       "    </tr>\n",
       "    <tr>\n",
       "      <th>75%</th>\n",
       "      <td>0.005111</td>\n",
       "      <td>2.075212e-01</td>\n",
       "      <td>0.397366</td>\n",
       "      <td>0.000000</td>\n",
       "      <td>0.244444</td>\n",
       "      <td>0.0</td>\n",
       "    </tr>\n",
       "    <tr>\n",
       "      <th>max</th>\n",
       "      <td>2.924163</td>\n",
       "      <td>4.031537e-01</td>\n",
       "      <td>0.882955</td>\n",
       "      <td>0.000000</td>\n",
       "      <td>0.450000</td>\n",
       "      <td>0.0</td>\n",
       "    </tr>\n",
       "  </tbody>\n",
       "</table>\n",
       "</div>"
      ],
      "text/plain": [
       "       model_efficiency_loss  model_stability_loss  model_sp_loss  \\\n",
       "count            1000.000000          1.000000e+03    1000.000000   \n",
       "mean               -0.258292          1.520026e-01       0.248798   \n",
       "std                 0.738410          8.622905e-02       0.208262   \n",
       "min                -2.250152          7.094528e-07       0.000001   \n",
       "25%                -0.912164          8.914764e-02       0.057300   \n",
       "50%                -0.001587          1.498319e-01       0.221915   \n",
       "75%                 0.005111          2.075212e-01       0.397366   \n",
       "max                 2.924163          4.031537e-01       0.882955   \n",
       "\n",
       "       da_efficiency_loss  da_stability_loss  da_sp_loss  \n",
       "count         1000.000000        1000.000000      1000.0  \n",
       "mean            -0.176250           0.170672         0.0  \n",
       "std              0.321484           0.101627         0.0  \n",
       "min             -1.250000           0.000000         0.0  \n",
       "25%             -0.500000           0.088889         0.0  \n",
       "50%              0.000000           0.177778         0.0  \n",
       "75%              0.000000           0.244444         0.0  \n",
       "max              0.000000           0.450000         0.0  "
      ]
     },
     "execution_count": 22,
     "metadata": {},
     "output_type": "execute_result"
    }
   ],
   "source": [
    "df_1.describe()"
   ]
  },
  {
   "cell_type": "code",
   "execution_count": 23,
   "metadata": {},
   "outputs": [
    {
     "data": {
      "text/html": [
       "<div>\n",
       "<style scoped>\n",
       "    .dataframe tbody tr th:only-of-type {\n",
       "        vertical-align: middle;\n",
       "    }\n",
       "\n",
       "    .dataframe tbody tr th {\n",
       "        vertical-align: top;\n",
       "    }\n",
       "\n",
       "    .dataframe thead th {\n",
       "        text-align: right;\n",
       "    }\n",
       "</style>\n",
       "<table border=\"1\" class=\"dataframe\">\n",
       "  <thead>\n",
       "    <tr style=\"text-align: right;\">\n",
       "      <th></th>\n",
       "      <th>p</th>\n",
       "      <th>q</th>\n",
       "      <th>model_efficiency_loss</th>\n",
       "      <th>model_stability_loss</th>\n",
       "      <th>model_sp_loss</th>\n",
       "      <th>da_efficiency_loss</th>\n",
       "      <th>da_stability_loss</th>\n",
       "      <th>da_sp_loss</th>\n",
       "    </tr>\n",
       "  </thead>\n",
       "  <tbody>\n",
       "    <tr>\n",
       "      <th>0</th>\n",
       "      <td>((0.5, 0.16666666666666666, 0.3333333333333333...</td>\n",
       "      <td>((0.4, 0.2, 0.4), (0.4, 0.2, 0.4), (0.4, 0.4, ...</td>\n",
       "      <td>0.086036</td>\n",
       "      <td>0.209564</td>\n",
       "      <td>0.355142</td>\n",
       "      <td>0.0</td>\n",
       "      <td>0.200000</td>\n",
       "      <td>0.0</td>\n",
       "    </tr>\n",
       "    <tr>\n",
       "      <th>1</th>\n",
       "      <td>((0.5, 0.3333333333333333, 0.16666666666666666...</td>\n",
       "      <td>((0.2, 0.4, 0.4), (0.4, 0.2, 0.4), (0.4, 0.4, ...</td>\n",
       "      <td>0.000292</td>\n",
       "      <td>0.133355</td>\n",
       "      <td>0.002530</td>\n",
       "      <td>0.0</td>\n",
       "      <td>0.133333</td>\n",
       "      <td>0.0</td>\n",
       "    </tr>\n",
       "    <tr>\n",
       "      <th>2</th>\n",
       "      <td>((0.5, 0.3333333333333333, 0.16666666666666666...</td>\n",
       "      <td>((0.4, 0.4, 0.2), (0.2, 0.4, 0.4), (0.4, 0.4, ...</td>\n",
       "      <td>-0.002414</td>\n",
       "      <td>0.310892</td>\n",
       "      <td>0.486120</td>\n",
       "      <td>0.0</td>\n",
       "      <td>0.361111</td>\n",
       "      <td>0.0</td>\n",
       "    </tr>\n",
       "    <tr>\n",
       "      <th>3</th>\n",
       "      <td>((0.16666666666666666, 0.5, 0.3333333333333333...</td>\n",
       "      <td>((0.4, 0.2, 0.4), (0.2, 0.4, 0.4), (0.2, 0.4, ...</td>\n",
       "      <td>-0.997764</td>\n",
       "      <td>0.222454</td>\n",
       "      <td>0.150245</td>\n",
       "      <td>-0.5</td>\n",
       "      <td>0.266667</td>\n",
       "      <td>0.0</td>\n",
       "    </tr>\n",
       "    <tr>\n",
       "      <th>4</th>\n",
       "      <td>((0.5, 0.16666666666666666, 0.3333333333333333...</td>\n",
       "      <td>((0.4, 0.2, 0.4), (0.4, 0.2, 0.4), (0.2, 0.4, ...</td>\n",
       "      <td>-0.999738</td>\n",
       "      <td>0.111141</td>\n",
       "      <td>0.156208</td>\n",
       "      <td>-0.5</td>\n",
       "      <td>0.177778</td>\n",
       "      <td>0.0</td>\n",
       "    </tr>\n",
       "  </tbody>\n",
       "</table>\n",
       "</div>"
      ],
      "text/plain": [
       "                                                   p  \\\n",
       "0  ((0.5, 0.16666666666666666, 0.3333333333333333...   \n",
       "1  ((0.5, 0.3333333333333333, 0.16666666666666666...   \n",
       "2  ((0.5, 0.3333333333333333, 0.16666666666666666...   \n",
       "3  ((0.16666666666666666, 0.5, 0.3333333333333333...   \n",
       "4  ((0.5, 0.16666666666666666, 0.3333333333333333...   \n",
       "\n",
       "                                                   q  model_efficiency_loss  \\\n",
       "0  ((0.4, 0.2, 0.4), (0.4, 0.2, 0.4), (0.4, 0.4, ...               0.086036   \n",
       "1  ((0.2, 0.4, 0.4), (0.4, 0.2, 0.4), (0.4, 0.4, ...               0.000292   \n",
       "2  ((0.4, 0.4, 0.2), (0.2, 0.4, 0.4), (0.4, 0.4, ...              -0.002414   \n",
       "3  ((0.4, 0.2, 0.4), (0.2, 0.4, 0.4), (0.2, 0.4, ...              -0.997764   \n",
       "4  ((0.4, 0.2, 0.4), (0.4, 0.2, 0.4), (0.2, 0.4, ...              -0.999738   \n",
       "\n",
       "   model_stability_loss  model_sp_loss  da_efficiency_loss  da_stability_loss  \\\n",
       "0              0.209564       0.355142                 0.0           0.200000   \n",
       "1              0.133355       0.002530                 0.0           0.133333   \n",
       "2              0.310892       0.486120                 0.0           0.361111   \n",
       "3              0.222454       0.150245                -0.5           0.266667   \n",
       "4              0.111141       0.156208                -0.5           0.177778   \n",
       "\n",
       "   da_sp_loss  \n",
       "0         0.0  \n",
       "1         0.0  \n",
       "2         0.0  \n",
       "3         0.0  \n",
       "4         0.0  "
      ]
     },
     "execution_count": 23,
     "metadata": {},
     "output_type": "execute_result"
    }
   ],
   "source": [
    "df_1.head()"
   ]
  },
  {
   "cell_type": "code",
   "execution_count": 24,
   "metadata": {},
   "outputs": [],
   "source": [
    "# n行目を取り出したい場合は3の部分をnに変更する\n",
    "p = df_1['p'][3]\n",
    "q = df_1['q'][3]"
   ]
  },
  {
   "cell_type": "markdown",
   "metadata": {},
   "source": [
    "## パターン2"
   ]
  },
  {
   "cell_type": "code",
   "execution_count": null,
   "metadata": {},
   "outputs": [],
   "source": [
    "one_tie_2_2 = list(set(itertools.permutations([2, 1, 1])))\n",
    "no_tie_patterns = list(itertools.permutations([3, 2, 1]))\n",
    "one_tie_2_2 = normalize_tuples(one_tie_2_2)\n",
    "no_tie_patterns = normalize_tuples(no_tie_patterns)\n",
    "preference_list_p = list(itertools.product(no_tie_patterns, repeat=3))\n",
    "preference_list_q = list(itertools.product(one_tie_2_2, repeat=3))\n",
    "pairs = [(random.choice(preference_list_p), random.choice(preference_list_q)) for _ in range(1000)]\n",
    "df_2 = pd.DataFrame(pairs, columns=['p', 'q'])"
   ]
  },
  {
   "cell_type": "code",
   "execution_count": null,
   "metadata": {},
   "outputs": [],
   "source": [
    "df_2 = apply_features(cfg, model, df_2)\n",
    "df_2 = convert_to_float(df_2)"
   ]
  },
  {
   "cell_type": "code",
   "execution_count": null,
   "metadata": {},
   "outputs": [],
   "source": [
    "df_2.describe()"
   ]
  },
  {
   "cell_type": "code",
   "execution_count": null,
   "metadata": {},
   "outputs": [],
   "source": [
    "df_2.head()"
   ]
  },
  {
   "cell_type": "code",
   "execution_count": null,
   "metadata": {},
   "outputs": [],
   "source": [
    "# n行目を取り出したい場合は3の部分をnに変更する\n",
    "p = df_2['p'][3]\n",
    "q = df_2['q'][3]"
   ]
  },
  {
   "cell_type": "markdown",
   "metadata": {},
   "source": [
    "## パターン3"
   ]
  },
  {
   "cell_type": "code",
   "execution_count": null,
   "metadata": {},
   "outputs": [],
   "source": [
    "full_tie_pattern = [(1, 1, 1)]\n",
    "no_tie_patterns = list(itertools.permutations([3, 2, 1]))\n",
    "\n",
    "full_tie_pattern = normalize_tuples(full_tie_pattern)\n",
    "no_tie_patterns = normalize_tuples(no_tie_patterns)\n",
    "preference_list_p = list(itertools.product(no_tie_patterns, repeat=3))\n",
    "preference_list_q = list(itertools.product(full_tie_pattern, repeat=3))\n",
    "pairs = [(random.choice(preference_list_p), random.choice(preference_list_q)) for _ in range(1000)]\n",
    "df = pd.DataFrame(pairs, columns=['p', 'q'])"
   ]
  },
  {
   "cell_type": "code",
   "execution_count": null,
   "metadata": {},
   "outputs": [],
   "source": [
    "df = apply_features(cfg, model, df)\n",
    "df = convert_to_float(df)"
   ]
  },
  {
   "cell_type": "code",
   "execution_count": null,
   "metadata": {},
   "outputs": [],
   "source": [
    "df.describe()"
   ]
  },
  {
   "cell_type": "code",
   "execution_count": null,
   "metadata": {},
   "outputs": [],
   "source": [
    "df.head()"
   ]
  },
  {
   "cell_type": "code",
   "execution_count": null,
   "metadata": {},
   "outputs": [],
   "source": [
    "p = df['p'][3]\n",
    "q = df['q'][3]"
   ]
  },
  {
   "cell_type": "markdown",
   "metadata": {},
   "source": [
    "## 個別のケース"
   ]
  },
  {
   "cell_type": "code",
   "execution_count": null,
   "metadata": {},
   "outputs": [],
   "source": [
    "#　選好度を指定したい場合。！こちらの場合は次のブロックを実行しないように\n",
    "p = torch.tensor([[[0.6, 0.3, 1], [1, 0.5, 0], [0.3, 0, 1]]]).to(device)\n",
    "q = torch.tensor([[[0.5, 1.0, 0], [0, 1, 0.5], [0, 0.5, 1.0]]]).to(device)\n"
   ]
  },
  {
   "cell_type": "code",
   "execution_count": 25,
   "metadata": {},
   "outputs": [],
   "source": [
    "# 抜き出した行を使用する場合\n",
    "p = torch.tensor([p]).to(device)\n",
    "q = torch.tensor([q]).to(device)"
   ]
  },
  {
   "cell_type": "code",
   "execution_count": 26,
   "metadata": {},
   "outputs": [],
   "source": [
    "model_output = model(p, q)\n",
    "model_efficiency_loss = compute_efficiency_loss(cfg, model_output, p, q)\n",
    "model_stability_loss = compute_t(model_output, p, q).mean()\n",
    "model_sp_loss = compute_spv_w(cfg, model, model_output, p, q).mean()\n",
    "\n",
    "da_output = da_with_t(p, q)\n",
    "da_efficiency_loss = compute_efficiency_loss(cfg, da_output, p, q)\n",
    "da_stability_loss = compute_t(da_output, p, q).mean()\n",
    "da_sp_loss = compute_spv_w(cfg, da_with_t, da_output, p, q).mean()"
   ]
  },
  {
   "cell_type": "code",
   "execution_count": 27,
   "metadata": {},
   "outputs": [
    {
     "name": "stdout",
     "output_type": "stream",
     "text": [
      "p:tensor([[[0.1667, 0.5000, 0.3333],\n",
      "         [0.3333, 0.5000, 0.1667],\n",
      "         [0.1667, 0.5000, 0.3333]]], device='mps:0')\n",
      "q:tensor([[[0.4000, 0.2000, 0.4000],\n",
      "         [0.2000, 0.4000, 0.4000],\n",
      "         [0.2000, 0.4000, 0.4000]]], device='mps:0')\n",
      "\n",
      "Model Results:\n",
      "  Output: tensor([[[1.8157e-03, 7.1655e-04, 9.9747e-01],\n",
      "         [9.9889e-01, 6.8546e-04, 4.1967e-04],\n",
      "         [9.1691e-05, 9.9869e-01, 1.2192e-03]]], device='mps:0',\n",
      "       grad_fn=<DivBackward0>)\n",
      "  Efficiency Loss: -0.9977641701698303\n",
      "  Stability Loss: 0.2224535197019577\n",
      "  SP Loss: 0.15024502575397491\n",
      "\n",
      "DA Results:\n",
      "  Output: tensor([[[0.5000, 0.0000, 0.5000],\n",
      "         [0.5000, 0.5000, 0.0000],\n",
      "         [0.0000, 0.5000, 0.5000]]], device='mps:0')\n",
      "  Efficiency Loss: -0.5\n",
      "  Stability Loss: 0.2666666805744171\n",
      "  SP Loss: 0.0\n"
     ]
    }
   ],
   "source": [
    "print(f\"p:{p}\")\n",
    "print(f\"q:{q}\")\n",
    "print(\"\\nModel Results:\")\n",
    "print(f\"  Output: {model_output}\")\n",
    "print(f\"  Efficiency Loss: {model_efficiency_loss}\")\n",
    "print(f\"  Stability Loss: {model_stability_loss}\")\n",
    "print(f\"  SP Loss: {model_sp_loss}\")\n",
    "\n",
    "print(\"\\nDA Results:\")\n",
    "print(f\"  Output: {da_output}\")\n",
    "print(f\"  Efficiency Loss: {da_efficiency_loss}\")\n",
    "print(f\"  Stability Loss: {da_stability_loss}\")\n",
    "print(f\"  SP Loss: {da_sp_loss}\")"
   ]
  },
  {
   "cell_type": "code",
   "execution_count": null,
   "metadata": {},
   "outputs": [],
   "source": []
  }
 ],
 "metadata": {
  "kernelspec": {
   "display_name": "3.10.4",
   "language": "python",
   "name": "python3"
  },
  "language_info": {
   "codemirror_mode": {
    "name": "ipython",
    "version": 3
   },
   "file_extension": ".py",
   "mimetype": "text/x-python",
   "name": "python",
   "nbconvert_exporter": "python",
   "pygments_lexer": "ipython3",
   "version": "3.10.4"
  }
 },
 "nbformat": 4,
 "nbformat_minor": 2
}
