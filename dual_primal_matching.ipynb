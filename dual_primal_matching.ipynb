{
 "cells": [
  {
   "cell_type": "code",
   "execution_count": 1,
   "metadata": {},
   "outputs": [],
   "source": [
    "%load_ext autoreload\n",
    "%autoreload 2"
   ]
  },
  {
   "cell_type": "markdown",
   "metadata": {},
   "source": [
    "## (Strategy Proofness - First Order Stochastic Dominance)\n",
    "$$\n",
    "\\forall i\\in W\\cup F \\ \\forall \\succ_i \\forall \\succ_{-i} \\forall \\succ'_i \\forall j \\\\\n",
    "\\sum_{j'\\succeq j}(g_{ij'}(\\succ'_i,\\succ_{-i})-g_{ij'}(\\succ_i,\\succ_{-i})) \\leq 0\n",
    "$$"
   ]
  },
  {
   "cell_type": "markdown",
   "metadata": {},
   "source": [
    "## (Ex-ante Stability)\n",
    "$\\nexists (w,f)\\in W\\times F$ s.t. $\\exist f'\\ [g_{wf'}(\\succ)>0\\land f\\succ_w f']\\ \\exist w'\\ [g_{w'f}(\\succ)>0\\land w\\succ_f w']$\n",
    "\n",
    "## (Stability of Deterministic Matching)\n",
    "$$\n",
    "\\forall (w,f)\\in W\\times F \\ g_{wf}+\\sum_{f'\\succ_w f}g_{wf'}+\\sum_{w'\\succ_f w}g_{w'f}\\geq 1\n",
    "$$\n",
    "\n",
    "## (Ex-post Stability)\n",
    "A randomized matching is **ex-post stable** iff it can be decomposed into deterministic stable matchings.\n",
    "\n",
    "## (Fractionally Stable)\n",
    "$$\n",
    "\\forall (w,f)\\in W\\times F \\ g_{wf}+\\sum_{f'\\succ_w f}g_{wf'}+\\sum_{w'\\succ_f w}g_{w'f}\\geq 1\n",
    "$$\n",
    "\n",
    "### (Violation of Fractionally Stability)\n",
    "$$\n",
    "\\sum_\\succ\\sum_w\\sum_f\\max\\left\\{0,1-g_{wf}(\\succ)-\\sum_{w'\\succ_f w}g_{w'f}(\\succ)-\\sum_{f'\\succ_w f}g_{wf'}(\\succ)\\right\\}\n",
    "$$"
   ]
  },
  {
   "cell_type": "markdown",
   "metadata": {},
   "source": [
    "## (Primal)\n",
    "$$\n",
    "\\begin{align*}\n",
    "    \\min & \\sum_\\succ\\sum_w\\sum_f t_{wf}(\\succ)\\\\\n",
    "    \\text{s.t.} & \\sum_f g_{wf}(\\succ)\\leq 1 & \\forall\\succ\\forall w \\\\\n",
    "    & \\sum_w g_{wf}(\\succ)\\leq 1 & \\forall \\succ\\forall f\\\\\n",
    "    & t_{wf}(\\succ)\\geq 1-g_{wf}(\\succ)-\\sum_{w'\\succ_f w}g_{w'f}(\\succ)-\\sum_{f'\\succ_w f}g_{wf'}(\\succ) & \\forall\\succ\\forall w\\forall f\\\\\n",
    "    & \\sum_{f'\\succ_wf}(g_{wf'}(\\succ_w',\\succ_{-w})-g_{wf'}(\\succ))\\leq 0 & \\forall\\succ\\forall w\\forall\\succ_{w}'\\forall f\\\\\n",
    "    & \\sum_{w'\\succ_fw}(g_{w'f}(\\succ_f',\\succ_{-f})-g_{w'f}(\\succ))\\leq 0 & \\forall\\succ\\forall f\\forall\\succ_{f}'\\forall w\\\\\n",
    "    & g_{wf}(\\succ)\\geq 0,\\ t_{wf}(\\succ)\\geq 0 & \\forall\\succ\\forall w \\forall y\n",
    "\\end{align*}\n",
    "$$\n",
    "\n"
   ]
  },
  {
   "cell_type": "markdown",
   "metadata": {},
   "source": [
    "efficient_loss:\n",
    "\n",
    "$M = 効率的なマッチングの集合$ とした時、そのマッチング$\\mu$におけるefficiency_lossは\n",
    "$$\n",
    "\\min_{\\nu \\in M} \\sum_{p \\in P} \\sum_{q \\in Q}  (\\sum{}\\nu())\n",
    "\n",
    "$$"
   ]
  },
  {
   "cell_type": "markdown",
   "metadata": {},
   "source": [
    "## (Dual)\n",
    "$$\n",
    "\\begin{align*}\n",
    "    \\min & \\sum_\\succ\\left(\\sum_wx_w(\\succ)+\\sum_fy_f(\\succ)-\\sum_w\\sum_fz_{wf}(\\succ)\\right)\\\\\n",
    "    \\text{s.t.}  \\\\\n",
    "    & \\forall \\succ \\forall w \\forall f\\\\\n",
    "    & x_w(\\succ)+y_f(\\succ)-z_{wf}(\\succ)-\\sum_{f'\\prec_wf}z_{wf'}(\\succ)-\\sum_{w'\\prec_fw}z_{w'f}(\\succ)-\\sum_{\\succ_w'}\\left(\\sum_{f'\\prec_w f}u_{wf'}(\\succ_w',\\succ_w,\\succ_{-w})-\\sum_{f'\\prec_w'f}u_{wf'}(\\succ_w,\\succ_w',\\succ_{-w})\\right)-\\sum_{\\succ_f'}\\left(\\sum_{w'\\prec_fw}v_{w'f}(\\succ_f',\\succ_f,\\succ_{-f})-\\sum_{w'\\prec_f'w}v_{w'f}(\\succ_f,\\succ_f',\\succ_{-f})\\right)\\geq 0 & \\forall\\succ\\forall w\\forall f\\\\\n",
    "    & x_w(\\succ)\\geq 0,\\ y_f(\\succ)\\geq 0,\\ 0\\leq z_{wf}(\\succ)\\leq 1 & \\forall\\succ\\forall w\\forall f\\\\\n",
    "    & u_{wf}(\\succ'_w,\\succ_w,\\succ_{-w})\\geq 0 & \\forall\\succ\\forall w\\forall\\succ_w'\\forall f\\\\\n",
    "    & v_{wf}(\\succ'_f,\\succ_f,\\succ_{-f})\\geq 0 & \\forall\\succ\\forall f\\forall\\succ_f'\\forall w\n",
    "\\end{align*}\n",
    "$$"
   ]
  },
  {
   "cell_type": "code",
   "execution_count": 16,
   "metadata": {},
   "outputs": [],
   "source": [
    "import os\n",
    "import sys\n",
    "import time\n",
    "import logging\n",
    "import argparse\n",
    "import numpy as np\n",
    "import pandas as pd\n",
    "from tqdm import tqdm\n",
    "from random import random\n",
    "import itertools\n",
    "from pathlib import Path\n",
    "\n",
    "sys.path.append(str(Path(\"primal_dual_matching.ipynb\").resolve().parent.parent))\n",
    "\n",
    "import torch\n",
    "import torch.nn\n",
    "from torch import optim\n",
    "import torch.nn.functional as F\n",
    "\n",
    "from data import Data\n",
    "\n",
    "from primal_net import PrimalNet\n",
    "from primal_loss import *\n",
    "from primal_train import *\n",
    "\n",
    "#from dual_net import DualNet\n",
    "#from dual_loss import *\n",
    "#from dual_train import *\n",
    "\n",
    "import torch\n",
    "import matplotlib.pyplot as plt\n",
    "import seaborn as sns"
   ]
  },
  {
   "cell_type": "markdown",
   "metadata": {},
   "source": [
    "### 2*2"
   ]
  },
  {
   "cell_type": "code",
   "execution_count": 132,
   "metadata": {},
   "outputs": [
    {
     "name": "stderr",
     "output_type": "stream",
     "text": [
      "2024-12-16 18:10:48,755:INFO:[TRAIN-ITER]: 0, [Time-Elapsed]: 0.156508, [Total-Loss]: 0.190648\n",
      "2024-12-16 18:10:48,758:INFO:[CONSTR-Vio]: 0.000397, [OBJECTIVE]: 0.158863, [EFFICIENCY-loss]:  0.031785\n"
     ]
    },
    {
     "name": "stdout",
     "output_type": "stream",
     "text": [
      "t mean: 0.03971577063202858\n",
      "t max: 0.5086209774017334\n",
      "t min: 0.0\n",
      "t mean: 0.059413403272628784\n",
      "t max: 0.5074684619903564\n",
      "t min: 0.0\n",
      "t mean: 0.07906465232372284\n",
      "t max: 0.5063648819923401\n",
      "t min: 0.0\n",
      "t mean: 0.06706331670284271\n",
      "t max: 0.5052825212478638\n",
      "t min: 0.0\n",
      "t mean: 0.0629839301109314\n",
      "t max: 0.5042276978492737\n",
      "t min: 0.0\n",
      "t mean: 0.07072551548480988\n",
      "t max: 0.5031864643096924\n",
      "t min: 0.0\n",
      "t mean: 0.08233144879341125\n",
      "t max: 0.5021237730979919\n",
      "t min: 0.0\n",
      "t mean: 0.07040353864431381\n",
      "t max: 0.5010590553283691\n",
      "t min: 0.0\n",
      "t mean: 0.054647646844387054\n",
      "t max: 0.49998587369918823\n",
      "t min: 0.0\n",
      "t mean: 0.0779205858707428\n",
      "t max: 0.49889516830444336\n",
      "t min: 0.0\n",
      "t mean: 0.05443213880062103\n",
      "t max: 0.4977753758430481\n",
      "t min: 0.0\n",
      "t mean: 0.065946564078331\n",
      "t max: 0.4966467618942261\n",
      "t min: 0.0\n",
      "t mean: 0.05806644260883331\n",
      "t max: 0.49558985233306885\n",
      "t min: 0.0\n",
      "t mean: 0.06567197293043137\n",
      "t max: 0.4945549964904785\n",
      "t min: 0.0\n",
      "t mean: 0.061685770750045776\n",
      "t max: 0.4935457706451416\n",
      "t min: 0.0\n",
      "t mean: 0.05770459771156311\n",
      "t max: 0.4925050139427185\n",
      "t min: 0.0\n",
      "t mean: 0.061418626457452774\n",
      "t max: 0.49146509170532227\n",
      "t min: 0.0\n",
      "t mean: 0.049786701798439026\n",
      "t max: 0.4904014468193054\n",
      "t min: 0.0\n",
      "t mean: 0.061109509319067\n",
      "t max: 0.48899519443511963\n",
      "t min: 0.0\n",
      "t mean: 0.04954097047448158\n",
      "t max: 0.4880746603012085\n",
      "t min: 0.0\n",
      "t mean: 0.06841011345386505\n",
      "t max: 0.48682308197021484\n",
      "t min: 0.0\n",
      "t mean: 0.05306077003479004\n",
      "t max: 0.4854615330696106\n",
      "t min: 0.0\n",
      "t mean: 0.05667664855718613\n",
      "t max: 0.48402297496795654\n",
      "t min: 0.0\n",
      "t mean: 0.06026008725166321\n",
      "t max: 0.4824873208999634\n",
      "t min: 0.0\n",
      "t mean: 0.06003285571932793\n",
      "t max: 0.4804326295852661\n",
      "t min: 0.0\n",
      "t mean: 0.05608038231730461\n",
      "t max: 0.4790971279144287\n",
      "t min: 0.0\n",
      "t mean: 0.08563689142465591\n",
      "t max: 0.47707700729370117\n",
      "t min: 0.0\n",
      "t mean: 0.0667329952120781\n",
      "t max: 0.47522908449172974\n",
      "t min: 0.0\n",
      "t mean: 0.0627441257238388\n",
      "t max: 0.4731215238571167\n",
      "t min: 0.0\n",
      "t mean: 0.06611160933971405\n",
      "t max: 0.4708912968635559\n",
      "t min: 0.0\n",
      "t mean: 0.05846955627202988\n",
      "t max: 0.4684678912162781\n",
      "t min: 0.0\n",
      "t mean: 0.05448201298713684\n",
      "t max: 0.46589207649230957\n",
      "t min: 0.0\n",
      "t mean: 0.06498052924871445\n",
      "t max: 0.4631301164627075\n",
      "t min: 0.0\n",
      "t mean: 0.07170940935611725\n",
      "t max: 0.4601135849952698\n",
      "t min: 0.0\n",
      "t mean: 0.06756691634654999\n",
      "t max: 0.4567995071411133\n",
      "t min: 0.0\n",
      "t mean: 0.0459137000143528\n",
      "t max: 0.453241229057312\n",
      "t min: 0.0\n",
      "t mean: 0.059514936059713364\n",
      "t max: 0.449415922164917\n",
      "t min: 0.0\n",
      "t mean: 0.03807876259088516\n",
      "t max: 0.4434353709220886\n",
      "t min: 0.0\n",
      "t mean: 0.05485359579324722\n",
      "t max: 0.4407247304916382\n",
      "t min: 0.0\n",
      "t mean: 0.06439949572086334\n",
      "t max: 0.4358251094818115\n",
      "t min: 0.0\n",
      "t mean: 0.04684435576200485\n",
      "t max: 0.43048256635665894\n",
      "t min: 0.0\n",
      "t mean: 0.05292024463415146\n",
      "t max: 0.4248230457305908\n",
      "t min: 0.0\n",
      "t mean: 0.06174410134553909\n",
      "t max: 0.418013334274292\n",
      "t min: 0.0\n",
      "t mean: 0.04795850068330765\n",
      "t max: 0.4118881821632385\n",
      "t min: 0.0\n",
      "t mean: 0.040821027010679245\n",
      "t max: 0.40461820363998413\n",
      "t min: 0.0\n",
      "t mean: 0.06150055676698685\n",
      "t max: 0.3968127965927124\n",
      "t min: 0.0\n",
      "t mean: 0.057125162333250046\n",
      "t max: 0.38829267024993896\n",
      "t min: 0.0\n",
      "t mean: 0.04113098606467247\n",
      "t max: 0.378983736038208\n",
      "t min: 0.0\n",
      "t mean: 0.039999306201934814\n",
      "t max: 0.36892169713974\n",
      "t min: 0.0\n",
      "t mean: 0.05541745200753212\n",
      "t max: 0.3581618070602417\n",
      "t min: 0.0\n",
      "t mean: 0.04548342153429985\n",
      "t max: 0.3464844822883606\n",
      "t min: 0.0\n",
      "t mean: 0.048925984650850296\n",
      "t max: 0.33401399850845337\n",
      "t min: 0.0\n",
      "t mean: 0.042039044201374054\n",
      "t max: 0.32055628299713135\n",
      "t min: 0.0\n",
      "t mean: 0.044623102992773056\n",
      "t max: 0.3064877986907959\n",
      "t min: 0.0\n",
      "t mean: 0.04244320094585419\n",
      "t max: 0.2914109230041504\n",
      "t min: 0.0\n",
      "t mean: 0.02967006154358387\n",
      "t max: 0.2757527232170105\n",
      "t min: 0.0\n",
      "t mean: 0.033560607582330704\n",
      "t max: 0.25938791036605835\n",
      "t min: 0.0\n",
      "t mean: 0.03173030912876129\n",
      "t max: 0.2433539628982544\n",
      "t min: 0.0\n",
      "t mean: 0.02759733237326145\n",
      "t max: 0.2266753911972046\n",
      "t min: 0.0\n",
      "t mean: 0.024034395813941956\n",
      "t max: 0.21052932739257812\n",
      "t min: 0.0\n",
      "t mean: 0.02338409796357155\n",
      "t max: 0.19388318061828613\n",
      "t min: 0.0\n",
      "t mean: 0.021524982526898384\n",
      "t max: 0.177068293094635\n",
      "t min: 0.0\n",
      "t mean: 0.021854326128959656\n",
      "t max: 0.16165459156036377\n",
      "t min: 0.0\n",
      "t mean: 0.017606865614652634\n",
      "t max: 0.14587879180908203\n",
      "t min: 0.0\n",
      "t mean: 0.017635365948081017\n",
      "t max: 0.13019627332687378\n",
      "t min: 0.0\n",
      "t mean: 0.009489688090980053\n",
      "t max: 0.115092933177948\n",
      "t min: 0.0\n",
      "t mean: 0.011380195617675781\n",
      "t max: 0.10169589519500732\n",
      "t min: 0.0\n",
      "t mean: 0.01137036457657814\n",
      "t max: 0.08939659595489502\n",
      "t min: 0.0\n",
      "t mean: 0.009311487898230553\n",
      "t max: 0.07858556509017944\n",
      "t min: 0.0\n",
      "t mean: 0.007168728858232498\n",
      "t max: 0.06824320554733276\n",
      "t min: 0.0\n",
      "t mean: 0.0043969713151454926\n",
      "t max: 0.05868363380432129\n",
      "t min: 0.0\n",
      "t mean: 0.0051376610063016415\n",
      "t max: 0.050741374492645264\n",
      "t min: 0.0\n",
      "t mean: 0.005471391137689352\n",
      "t max: 0.04406905174255371\n",
      "t min: 0.0\n",
      "t mean: 0.0028571407310664654\n",
      "t max: 0.03794628381729126\n",
      "t min: 0.0\n",
      "t mean: 0.004443526268005371\n",
      "t max: 0.03254091739654541\n",
      "t min: 0.0\n",
      "t mean: 0.0032163821160793304\n",
      "t max: 0.027879714965820312\n",
      "t min: 0.0\n",
      "t mean: 0.0029632272198796272\n",
      "t max: 0.023962676525115967\n",
      "t min: 0.0\n",
      "t mean: 0.002074744552373886\n",
      "t max: 0.020699799060821533\n",
      "t min: 0.0\n",
      "t mean: 0.0019091631984338164\n",
      "t max: 0.01804417371749878\n",
      "t min: 0.0\n",
      "t mean: 0.001828446751460433\n",
      "t max: 0.015713989734649658\n",
      "t min: 0.0\n",
      "t mean: 0.0017712560947984457\n",
      "t max: 0.013677537441253662\n",
      "t min: 0.0\n",
      "t mean: 0.0011241547763347626\n",
      "t max: 0.011903166770935059\n",
      "t min: 0.0\n",
      "t mean: 0.0011959585826843977\n",
      "t max: 0.010374844074249268\n",
      "t min: 0.0\n",
      "t mean: 0.000939683523029089\n",
      "t max: 0.009057223796844482\n",
      "t min: 0.0\n",
      "t mean: 0.0007723149610683322\n",
      "t max: 0.00797957181930542\n",
      "t min: 0.0\n",
      "t mean: 0.000599011720623821\n",
      "t max: 0.007068634033203125\n",
      "t min: 0.0\n",
      "t mean: 0.0005464979913085699\n",
      "t max: 0.006371557712554932\n",
      "t min: 0.0\n",
      "t mean: 0.0006147557287476957\n",
      "t max: 0.005763053894042969\n",
      "t min: 0.0\n",
      "t mean: 0.00037101126508787274\n",
      "t max: 0.005225479602813721\n",
      "t min: 0.0\n",
      "t mean: 0.0005592911038547754\n",
      "t max: 0.0047969818115234375\n",
      "t min: 0.0\n",
      "t mean: 0.000479654292576015\n",
      "t max: 0.004445314407348633\n",
      "t min: 0.0\n",
      "t mean: 0.00038439955096691847\n",
      "t max: 0.004126608371734619\n",
      "t min: 0.0\n",
      "t mean: 0.0003118187887594104\n",
      "t max: 0.003839254379272461\n",
      "t min: 0.0\n",
      "t mean: 0.0003826008760370314\n",
      "t max: 0.0035814642906188965\n",
      "t min: 0.0\n",
      "t mean: 0.000332473311573267\n",
      "t max: 0.0033353567123413086\n",
      "t min: 0.0\n",
      "t mean: 0.000322156265610829\n",
      "t max: 0.0031377673149108887\n",
      "t min: 0.0\n",
      "t mean: 0.00030360842356458306\n",
      "t max: 0.0029474496841430664\n",
      "t min: 0.0\n",
      "t mean: 0.00031215581111609936\n",
      "t max: 0.0027640461921691895\n",
      "t min: 0.0\n",
      "t mean: 0.0003194431192241609\n",
      "t max: 0.0026160478591918945\n",
      "t min: 0.0\n"
     ]
    },
    {
     "name": "stderr",
     "output_type": "stream",
     "text": [
      "2024-12-16 18:10:56,638:INFO:[TRAIN-ITER]: 100, [Time-Elapsed]: 8.042199, [Total-Loss]: 0.063234\n",
      "2024-12-16 18:10:56,639:INFO:[CONSTR-Vio]: 0.000179, [OBJECTIVE]: 0.000869, [EFFICIENCY-loss]:  0.062365\n"
     ]
    },
    {
     "name": "stdout",
     "output_type": "stream",
     "text": [
      "t mean: 0.0002680872566998005\n",
      "t max: 0.002471327781677246\n",
      "t min: 0.0\n",
      "t mean: 0.0002172667591366917\n",
      "t max: 0.002338230609893799\n",
      "t min: 0.0\n",
      "t mean: 0.0002950053894892335\n",
      "t max: 0.0022174715995788574\n",
      "t min: 0.0\n",
      "t mean: 0.0002439409727230668\n",
      "t max: 0.0021099448204040527\n",
      "t min: 0.0\n",
      "t mean: 0.00015733008331153542\n",
      "t max: 0.0020148754119873047\n",
      "t min: 0.0\n",
      "t mean: 0.0002153737295884639\n",
      "t max: 0.0019322037696838379\n",
      "t min: 0.0\n",
      "t mean: 0.00015901087317615747\n",
      "t max: 0.001858055591583252\n",
      "t min: 0.0\n",
      "t mean: 0.00022859693854115903\n",
      "t max: 0.0017929673194885254\n",
      "t min: 0.0\n",
      "t mean: 0.00013565225526690483\n",
      "t max: 0.0017338395118713379\n",
      "t min: 0.0\n",
      "t mean: 0.0001314126857323572\n",
      "t max: 0.0016760826110839844\n",
      "t min: 0.0\n",
      "t mean: 0.00014890951570123434\n",
      "t max: 0.0016353130340576172\n",
      "t min: 0.0\n",
      "t mean: 0.0001905540411826223\n",
      "t max: 0.001588582992553711\n",
      "t min: 0.0\n",
      "t mean: 0.0002245039213448763\n",
      "t max: 0.001553177833557129\n",
      "t min: 0.0\n",
      "t mean: 0.00016272012726403773\n",
      "t max: 0.001512765884399414\n",
      "t min: 0.0\n",
      "t mean: 0.00013765272160526365\n",
      "t max: 0.0014731287956237793\n",
      "t min: 0.0\n",
      "t mean: 0.00016201226389966905\n",
      "t max: 0.0014351606369018555\n",
      "t min: 0.0\n",
      "t mean: 0.00010759325232356787\n",
      "t max: 0.0013983845710754395\n",
      "t min: 0.0\n",
      "t mean: 0.0001303634635405615\n",
      "t max: 0.0013631582260131836\n",
      "t min: 0.0\n",
      "t mean: 0.00010731720976764336\n",
      "t max: 0.0012356042861938477\n",
      "t min: 0.0\n",
      "t mean: 0.00017289514653384686\n",
      "t max: 0.001297593116760254\n",
      "t min: 0.0\n",
      "t mean: 0.00013810786185786128\n",
      "t max: 0.0012668371200561523\n",
      "t min: 0.0\n",
      "t mean: 0.00018256899784319103\n",
      "t max: 0.0012359023094177246\n",
      "t min: 0.0\n",
      "t mean: 0.00011579803685890511\n",
      "t max: 0.0012142062187194824\n",
      "t min: 0.0\n",
      "t mean: 8.457359217572957e-05\n",
      "t max: 0.0011914372444152832\n",
      "t min: 0.0\n",
      "t mean: 0.00013001312618143857\n",
      "t max: 0.0011709332466125488\n",
      "t min: 0.0\n",
      "t mean: 0.00010941951768472791\n",
      "t max: 0.00115203857421875\n",
      "t min: 0.0\n",
      "t mean: 0.00016665553266648203\n",
      "t max: 0.0011342763900756836\n",
      "t min: 0.0\n",
      "t mean: 0.0001282038283534348\n",
      "t max: 0.0011161565780639648\n",
      "t min: 0.0\n",
      "t mean: 0.00013779733853880316\n",
      "t max: 0.0010977387428283691\n",
      "t min: 0.0\n",
      "t mean: 9.77174931904301e-05\n",
      "t max: 0.0010787248611450195\n",
      "t min: 0.0\n",
      "t mean: 0.00012349561438895762\n",
      "t max: 0.0010600686073303223\n",
      "t min: 0.0\n",
      "t mean: 0.00012508723011706024\n",
      "t max: 0.0010413527488708496\n",
      "t min: 0.0\n",
      "t mean: 8.10992787592113e-05\n",
      "t max: 0.0010238289833068848\n",
      "t min: 0.0\n",
      "t mean: 0.00013685936573892832\n",
      "t max: 0.0010080337524414062\n",
      "t min: 0.0\n",
      "t mean: 0.00012437003897503018\n",
      "t max: 0.0009927153587341309\n",
      "t min: 0.0\n",
      "t mean: 0.00011167626507813111\n",
      "t max: 0.0009784102439880371\n",
      "t min: 0.0\n",
      "t mean: 0.00010222932905890048\n",
      "t max: 0.0009644627571105957\n",
      "t min: 0.0\n",
      "t mean: 0.00010625629511196166\n",
      "t max: 0.0009502172470092773\n",
      "t min: 0.0\n",
      "t mean: 0.00014280842151492834\n",
      "t max: 0.0009354352951049805\n",
      "t min: 0.0\n",
      "t mean: 0.0001086443880922161\n",
      "t max: 0.000920712947845459\n",
      "t min: 0.0\n",
      "t mean: 0.00010125843982677907\n",
      "t max: 0.000906825065612793\n",
      "t min: 0.0\n",
      "t mean: 4.1388775571249425e-05\n",
      "t max: 0.0008347630500793457\n",
      "t min: 0.0\n",
      "t mean: 0.00010826670768437907\n",
      "t max: 0.000882267951965332\n",
      "t min: 0.0\n",
      "t mean: 9.384597069583833e-05\n",
      "t max: 0.0008710622787475586\n",
      "t min: 0.0\n",
      "t mean: 9.649340790929273e-05\n",
      "t max: 0.0008592009544372559\n",
      "t min: 0.0\n",
      "t mean: 0.00010636598744895309\n",
      "t max: 0.0008469820022583008\n",
      "t min: 0.0\n"
     ]
    },
    {
     "ename": "KeyboardInterrupt",
     "evalue": "",
     "output_type": "error",
     "traceback": [
      "\u001b[0;31m---------------------------------------------------------------------------\u001b[0m",
      "\u001b[0;31mKeyboardInterrupt\u001b[0m                         Traceback (most recent call last)",
      "Cell \u001b[0;32mIn[132], line 22\u001b[0m\n\u001b[1;32m     19\u001b[0m model \u001b[38;5;241m=\u001b[39m PrimalNet(cfg)\n\u001b[1;32m     20\u001b[0m model\u001b[38;5;241m.\u001b[39mto(device)\n\u001b[0;32m---> 22\u001b[0m \u001b[43mtrain_primal\u001b[49m\u001b[43m(\u001b[49m\u001b[43mcfg\u001b[49m\u001b[43m,\u001b[49m\u001b[43mG\u001b[49m\u001b[43m,\u001b[49m\u001b[43mmodel\u001b[49m\u001b[43m)\u001b[49m\n",
      "File \u001b[0;32m~/Github/meina-t/matching_with_dl/primal_train.py:92\u001b[0m, in \u001b[0;36mtrain_primal\u001b[0;34m(cfg, G, model, include_truncation)\u001b[0m\n\u001b[1;32m     89\u001b[0m p, q \u001b[38;5;241m=\u001b[39m torch\u001b[38;5;241m.\u001b[39mTensor(P)\u001b[38;5;241m.\u001b[39mto(cfg\u001b[38;5;241m.\u001b[39mdevice), torch\u001b[38;5;241m.\u001b[39mTensor(Q)\u001b[38;5;241m.\u001b[39mto(cfg\u001b[38;5;241m.\u001b[39mdevice)\n\u001b[1;32m     90\u001b[0m r \u001b[38;5;241m=\u001b[39m model(p, q)\n\u001b[0;32m---> 92\u001b[0m loss, constr_vio, obj, efficiency_loss \u001b[38;5;241m=\u001b[39m \u001b[43mcompute_loss\u001b[49m\u001b[43m(\u001b[49m\u001b[43mcfg\u001b[49m\u001b[43m,\u001b[49m\u001b[43mmodel\u001b[49m\u001b[43m,\u001b[49m\u001b[43mr\u001b[49m\u001b[43m,\u001b[49m\u001b[43mp\u001b[49m\u001b[43m,\u001b[49m\u001b[43mq\u001b[49m\u001b[43m,\u001b[49m\u001b[43mlambd\u001b[49m\u001b[43m,\u001b[49m\u001b[43mcfg\u001b[49m\u001b[38;5;241;43m.\u001b[39;49m\u001b[43mrho\u001b[49m\u001b[43m)\u001b[49m\n\u001b[1;32m     93\u001b[0m \u001b[38;5;28;01mif\u001b[39;00m (i\u001b[38;5;241m>\u001b[39m\u001b[38;5;241m0\u001b[39m) \u001b[38;5;129;01mand\u001b[39;00m (i\u001b[38;5;241m%\u001b[39mcfg\u001b[38;5;241m.\u001b[39mlagr_iter \u001b[38;5;241m==\u001b[39m \u001b[38;5;241m0\u001b[39m):\n\u001b[1;32m     94\u001b[0m     lambd \u001b[38;5;241m+\u001b[39m\u001b[38;5;241m=\u001b[39m cfg\u001b[38;5;241m.\u001b[39mrho\u001b[38;5;241m*\u001b[39mconstr_vio\u001b[38;5;241m.\u001b[39mcpu()\u001b[38;5;241m.\u001b[39mdetach()\u001b[38;5;241m.\u001b[39mnumpy()\u001b[38;5;241m.\u001b[39mcopy()\n",
      "File \u001b[0;32m~/Github/meina-t/matching_with_dl/primal_loss.py:79\u001b[0m, in \u001b[0;36mcompute_loss\u001b[0;34m(cfg, model, r, p, q, lambd, rho)\u001b[0m\n\u001b[1;32m     75\u001b[0m \u001b[38;5;28mprint\u001b[39m(\u001b[38;5;124m\"\u001b[39m\u001b[38;5;124mt max:\u001b[39m\u001b[38;5;124m\"\u001b[39m, t\u001b[38;5;241m.\u001b[39mmax()\u001b[38;5;241m.\u001b[39mitem())\n\u001b[1;32m     76\u001b[0m \u001b[38;5;28mprint\u001b[39m(\u001b[38;5;124m\"\u001b[39m\u001b[38;5;124mt min:\u001b[39m\u001b[38;5;124m\"\u001b[39m, t\u001b[38;5;241m.\u001b[39mmin()\u001b[38;5;241m.\u001b[39mitem())\n\u001b[0;32m---> 79\u001b[0m efficiency_loss \u001b[38;5;241m=\u001b[39m \u001b[43mcompute_efficiency_loss\u001b[49m\u001b[43m(\u001b[49m\u001b[43mcfg\u001b[49m\u001b[43m,\u001b[49m\u001b[43m \u001b[49m\u001b[43mr\u001b[49m\u001b[43m,\u001b[49m\u001b[43m \u001b[49m\u001b[43mp\u001b[49m\u001b[43m,\u001b[49m\u001b[43m \u001b[49m\u001b[43mq\u001b[49m\u001b[43m)\u001b[49m\n\u001b[1;32m     81\u001b[0m lambd \u001b[38;5;241m=\u001b[39m torch\u001b[38;5;241m.\u001b[39mTensor(lambd)\u001b[38;5;241m.\u001b[39mto(cfg\u001b[38;5;241m.\u001b[39mdevice)\n\u001b[1;32m     82\u001b[0m loss \u001b[38;5;241m=\u001b[39m obj \u001b[38;5;241m+\u001b[39m (constr_vio\u001b[38;5;241m*\u001b[39mlambd)\u001b[38;5;241m.\u001b[39msum() \u001b[38;5;241m+\u001b[39m \u001b[38;5;241m0.5\u001b[39m\u001b[38;5;241m*\u001b[39mrho\u001b[38;5;241m*\u001b[39mconstr_vio\u001b[38;5;241m.\u001b[39msquare()\u001b[38;5;241m.\u001b[39msum() \u001b[38;5;241m+\u001b[39m efficiency_loss \u001b[38;5;66;03m# 3項目は大きいものを強く抑制するため\u001b[39;00m\n",
      "File \u001b[0;32m~/Github/meina-t/matching_with_dl/efficiency_loss.py:106\u001b[0m, in \u001b[0;36mcompute_efficiency_loss\u001b[0;34m(cfg, r, p, q)\u001b[0m\n\u001b[1;32m    103\u001b[0m     p_batch \u001b[38;5;241m=\u001b[39m p[batch_idx]\n\u001b[1;32m    104\u001b[0m     q_batch \u001b[38;5;241m=\u001b[39m q[batch_idx]\n\u001b[0;32m--> 106\u001b[0m     stable_matchings \u001b[38;5;241m=\u001b[39m \u001b[43mgenerate_stable_matchings\u001b[49m\u001b[43m(\u001b[49m\u001b[43mp_batch\u001b[49m\u001b[43m,\u001b[49m\u001b[43m \u001b[49m\u001b[43mq_batch\u001b[49m\u001b[43m)\u001b[49m\n\u001b[1;32m    107\u001b[0m     efficient_matchings \u001b[38;5;241m=\u001b[39m filter_efficient_stable_matchings(stable_matchings, p_batch, q_batch)\n\u001b[1;32m    109\u001b[0m batch_efficiency_loss \u001b[38;5;241m=\u001b[39m \u001b[38;5;28mfloat\u001b[39m(\u001b[38;5;124m\"\u001b[39m\u001b[38;5;124minf\u001b[39m\u001b[38;5;124m\"\u001b[39m)\n",
      "File \u001b[0;32m~/Github/meina-t/matching_with_dl/efficiency_loss.py:23\u001b[0m, in \u001b[0;36mgenerate_stable_matchings\u001b[0;34m(p, q)\u001b[0m\n\u001b[1;32m     19\u001b[0m \u001b[38;5;28;01mfor\u001b[39;00m j \u001b[38;5;129;01min\u001b[39;00m \u001b[38;5;28mrange\u001b[39m(num_agents):\n\u001b[1;32m     20\u001b[0m     \u001b[38;5;28;01mif\u001b[39;00m i \u001b[38;5;241m!=\u001b[39m j:\n\u001b[1;32m     21\u001b[0m         \u001b[38;5;66;03m# ブロッキングペアの条件をチェック\u001b[39;00m\n\u001b[1;32m     22\u001b[0m         \u001b[38;5;28;01mif\u001b[39;00m (\n\u001b[0;32m---> 23\u001b[0m             \u001b[43m(\u001b[49m\u001b[43mp\u001b[49m\u001b[43m[\u001b[49m\u001b[43mi\u001b[49m\u001b[43m,\u001b[49m\u001b[43m \u001b[49m\u001b[43mpossible_matching\u001b[49m\u001b[43m[\u001b[49m\u001b[43mj\u001b[49m\u001b[43m]\u001b[49m\u001b[43m]\u001b[49m\u001b[43m \u001b[49m\u001b[38;5;241;43m>\u001b[39;49m\u001b[43m \u001b[49m\u001b[43mp\u001b[49m\u001b[43m[\u001b[49m\u001b[43mi\u001b[49m\u001b[43m,\u001b[49m\u001b[43m \u001b[49m\u001b[43mpossible_matching\u001b[49m\u001b[43m[\u001b[49m\u001b[43mi\u001b[49m\u001b[43m]\u001b[49m\u001b[43m]\u001b[49m\u001b[43m)\u001b[49m\u001b[38;5;241;43m.\u001b[39;49m\u001b[43mitem\u001b[49m\u001b[43m(\u001b[49m\u001b[43m)\u001b[49m\n\u001b[1;32m     24\u001b[0m             \u001b[38;5;129;01mand\u001b[39;00m (q[possible_matching[j], i] \u001b[38;5;241m>\u001b[39m q[possible_matching[j], j])\u001b[38;5;241m.\u001b[39mitem()\n\u001b[1;32m     25\u001b[0m         ):\n\u001b[1;32m     26\u001b[0m             is_stable \u001b[38;5;241m=\u001b[39m \u001b[38;5;28;01mFalse\u001b[39;00m\n\u001b[1;32m     27\u001b[0m             \u001b[38;5;28;01mbreak\u001b[39;00m\n",
      "\u001b[0;31mKeyboardInterrupt\u001b[0m: "
     ]
    }
   ],
   "source": [
    "device = \"mps\" #if torch.cuda.is_available() else \"cpu\"\n",
    "lambd = np.ones((2,2))*0.001\n",
    "# lambd = cfg.lambd\n",
    "\n",
    "cfg = HParams(num_agents = 2,\n",
    "              device = device,\n",
    "              lambd = lambd,\n",
    "              rho = 0.1,\n",
    "              lagr_iter = 10,\n",
    "              batch_size = 32,\n",
    "              epochs=10000)\n",
    "\n",
    "cfg.lr = 1e-4\n",
    "\n",
    "np.random.seed(cfg.seed)\n",
    "\n",
    "G = Data(cfg)\n",
    "\n",
    "model = PrimalNet(cfg)\n",
    "model.to(device)\n",
    "\n",
    "train_primal(cfg,G,model)"
   ]
  },
  {
   "cell_type": "code",
   "execution_count": null,
   "metadata": {},
   "outputs": [],
   "source": [
    "p = torch.tensor([[1, 0.0], [0, 1]]).to(device)\n",
    "q = torch.tensor([[1, 0.0], [0, 1]]).to(device)\n",
    "\n",
    "output = model(p, q)"
   ]
  },
  {
   "cell_type": "code",
   "execution_count": null,
   "metadata": {},
   "outputs": [
    {
     "data": {
      "text/plain": [
       "tensor([[[0.5070, 0.4930],\n",
       "         [0.4929, 0.5071]]], device='mps:0', grad_fn=<DivBackward0>)"
      ]
     },
     "execution_count": 103,
     "metadata": {},
     "output_type": "execute_result"
    }
   ],
   "source": [
    "output"
   ]
  },
  {
   "cell_type": "markdown",
   "metadata": {},
   "source": [
    "### 3* 3"
   ]
  },
  {
   "cell_type": "code",
   "execution_count": 7,
   "metadata": {},
   "outputs": [],
   "source": [
    "device = \"mps\" #if torch.cuda.is_available() else \"cpu\"\n",
    "lambd = np.ones((3,3))*0.001\n",
    "# lambd = cfg.lambd\n",
    "\n",
    "cfg = HParams(num_agents = 3,\n",
    "              device = device,\n",
    "              lambd = lambd,\n",
    "              rho = 0.1,\n",
    "              lagr_iter = 100,\n",
    "              batch_size = 128,\n",
    "              epochs = 10000)\n",
    "\n",
    "cfg.lr = 1e-4\n",
    "\n",
    "np.random.seed(cfg.seed)\n",
    "\n",
    "G = Data(cfg)"
   ]
  },
  {
   "cell_type": "code",
   "execution_count": 6,
   "metadata": {},
   "outputs": [
    {
     "data": {
      "text/plain": [
       "PrimalNet(\n",
       "  (input_block): Sequential(\n",
       "    (0): Linear(in_features=18, out_features=256, bias=True)\n",
       "    (1): LeakyReLU(negative_slope=0.01)\n",
       "    (2): Linear(in_features=256, out_features=256, bias=True)\n",
       "    (3): LeakyReLU(negative_slope=0.01)\n",
       "    (4): Linear(in_features=256, out_features=256, bias=True)\n",
       "    (5): LeakyReLU(negative_slope=0.01)\n",
       "    (6): Linear(in_features=256, out_features=256, bias=True)\n",
       "    (7): LeakyReLU(negative_slope=0.01)\n",
       "    (8): Linear(in_features=256, out_features=256, bias=True)\n",
       "    (9): LeakyReLU(negative_slope=0.01)\n",
       "  )\n",
       "  (layer_out): Linear(in_features=256, out_features=9, bias=True)\n",
       ")"
      ]
     },
     "execution_count": 6,
     "metadata": {},
     "output_type": "execute_result"
    }
   ],
   "source": [
    "model = PrimalNet(cfg)\n",
    "model.to(device)"
   ]
  },
  {
   "cell_type": "code",
   "execution_count": 7,
   "metadata": {},
   "outputs": [
    {
     "name": "stderr",
     "output_type": "stream",
     "text": [
      "2024-12-21 17:46:09,713:INFO:[TRAIN-ITER]: 0, [Time-Elapsed]: 1.896664, [Total-Loss]: 1.567277\n",
      "2024-12-21 17:46:09,715:INFO:[CONSTR-Vio]: 0.001671, [OBJECTIVE]: 1.561960, [EFFICIENCY-loss]:  0.005315\n",
      "2024-12-21 17:48:14,275:INFO:[TRAIN-ITER]: 100, [Time-Elapsed]: 126.458519, [Total-Loss]: 1.379439\n",
      "2024-12-21 17:48:14,278:INFO:[CONSTR-Vio]: 0.072068, [OBJECTIVE]: 1.377446, [EFFICIENCY-loss]:  0.001889\n",
      "2024-12-21 17:50:25,142:INFO:[TRAIN-ITER]: 200, [Time-Elapsed]: 257.325461, [Total-Loss]: 0.788619\n",
      "2024-12-21 17:50:25,144:INFO:[CONSTR-Vio]: 0.391810, [OBJECTIVE]: 0.775084, [EFFICIENCY-loss]:  0.011954\n",
      "2024-12-21 17:52:43,101:INFO:[TRAIN-ITER]: 300, [Time-Elapsed]: 395.284120, [Total-Loss]: 0.648144\n",
      "2024-12-21 17:52:43,102:INFO:[CONSTR-Vio]: 0.393012, [OBJECTIVE]: 0.659801, [EFFICIENCY-loss]:  -0.014967\n",
      "2024-12-21 17:54:49,689:INFO:[TRAIN-ITER]: 400, [Time-Elapsed]: 521.872136, [Total-Loss]: 0.720561\n",
      "2024-12-21 17:54:49,691:INFO:[CONSTR-Vio]: 0.443050, [OBJECTIVE]: 0.714589, [EFFICIENCY-loss]:  0.000039\n",
      "2024-12-21 17:57:01,078:INFO:[TRAIN-ITER]: 500, [Time-Elapsed]: 653.261190, [Total-Loss]: 0.596156\n",
      "2024-12-21 17:57:01,080:INFO:[CONSTR-Vio]: 0.467631, [OBJECTIVE]: 0.617917, [EFFICIENCY-loss]:  -0.030204\n",
      "2024-12-21 17:59:19,281:INFO:[TRAIN-ITER]: 600, [Time-Elapsed]: 791.463978, [Total-Loss]: 0.578421\n",
      "2024-12-21 17:59:19,282:INFO:[CONSTR-Vio]: 0.534824, [OBJECTIVE]: 0.571282, [EFFICIENCY-loss]:  -0.005617\n",
      "2024-12-21 18:01:37,812:INFO:[TRAIN-ITER]: 700, [Time-Elapsed]: 929.995319, [Total-Loss]: 0.556544\n",
      "2024-12-21 18:01:37,814:INFO:[CONSTR-Vio]: 0.510844, [OBJECTIVE]: 0.587916, [EFFICIENCY-loss]:  -0.046415\n",
      "2024-12-21 18:03:56,690:INFO:[TRAIN-ITER]: 800, [Time-Elapsed]: 1068.873324, [Total-Loss]: 0.444701\n",
      "2024-12-21 18:03:56,692:INFO:[CONSTR-Vio]: 0.418122, [OBJECTIVE]: 0.500203, [EFFICIENCY-loss]:  -0.070049\n",
      "2024-12-21 18:06:16,920:INFO:[TRAIN-ITER]: 900, [Time-Elapsed]: 1209.103750, [Total-Loss]: 0.601920\n",
      "2024-12-21 18:06:16,921:INFO:[CONSTR-Vio]: 0.535429, [OBJECTIVE]: 0.606016, [EFFICIENCY-loss]:  -0.025583\n",
      "2024-12-21 18:08:34,948:INFO:[TRAIN-ITER]: 1000, [Time-Elapsed]: 1347.131500, [Total-Loss]: 0.537920\n",
      "2024-12-21 18:08:34,949:INFO:[CONSTR-Vio]: 0.443964, [OBJECTIVE]: 0.564659, [EFFICIENCY-loss]:  -0.046941\n",
      "2024-12-21 18:10:42,502:INFO:[TRAIN-ITER]: 1100, [Time-Elapsed]: 1474.684777, [Total-Loss]: 0.544973\n",
      "2024-12-21 18:10:42,504:INFO:[CONSTR-Vio]: 0.516460, [OBJECTIVE]: 0.518334, [EFFICIENCY-loss]:  0.000523\n",
      "2024-12-21 18:12:48,579:INFO:[TRAIN-ITER]: 1200, [Time-Elapsed]: 1600.761697, [Total-Loss]: 0.480776\n",
      "2024-12-21 18:12:48,581:INFO:[CONSTR-Vio]: 0.402877, [OBJECTIVE]: 0.444695, [EFFICIENCY-loss]:  0.013452\n",
      "2024-12-21 18:14:58,315:INFO:[TRAIN-ITER]: 1300, [Time-Elapsed]: 1730.498068, [Total-Loss]: 0.598751\n",
      "2024-12-21 18:14:58,316:INFO:[CONSTR-Vio]: 0.458016, [OBJECTIVE]: 0.570854, [EFFICIENCY-loss]:  0.000050\n",
      "2024-12-21 18:17:10,635:INFO:[TRAIN-ITER]: 1400, [Time-Elapsed]: 1862.818758, [Total-Loss]: 0.443920\n",
      "2024-12-21 18:17:10,637:INFO:[CONSTR-Vio]: 0.418282, [OBJECTIVE]: 0.418038, [EFFICIENCY-loss]:  -0.001470\n",
      "2024-12-21 18:19:15,425:INFO:[TRAIN-ITER]: 1500, [Time-Elapsed]: 1987.607677, [Total-Loss]: 0.424340\n",
      "2024-12-21 18:19:15,426:INFO:[CONSTR-Vio]: 0.411398, [OBJECTIVE]: 0.391884, [EFFICIENCY-loss]:  0.003775\n",
      "2024-12-21 18:21:20,750:INFO:[TRAIN-ITER]: 1600, [Time-Elapsed]: 2112.932893, [Total-Loss]: 0.434341\n",
      "2024-12-21 18:21:20,752:INFO:[CONSTR-Vio]: 0.408796, [OBJECTIVE]: 0.450700, [EFFICIENCY-loss]:  -0.046705\n",
      "2024-12-21 18:23:25,102:INFO:[TRAIN-ITER]: 1700, [Time-Elapsed]: 2237.285094, [Total-Loss]: 0.547130\n",
      "2024-12-21 18:23:25,104:INFO:[CONSTR-Vio]: 0.478882, [OBJECTIVE]: 0.508530, [EFFICIENCY-loss]:  0.000452\n",
      "2024-12-21 18:26:50,422:INFO:[TRAIN-ITER]: 1800, [Time-Elapsed]: 2442.605040, [Total-Loss]: 0.522563\n",
      "2024-12-21 18:26:50,424:INFO:[CONSTR-Vio]: 0.480386, [OBJECTIVE]: 0.457022, [EFFICIENCY-loss]:  0.024958\n",
      "2024-12-21 18:29:08,593:INFO:[TRAIN-ITER]: 1900, [Time-Elapsed]: 2580.776567, [Total-Loss]: 0.447222\n",
      "2024-12-21 18:29:08,594:INFO:[CONSTR-Vio]: 0.369351, [OBJECTIVE]: 0.414299, [EFFICIENCY-loss]:  -0.000101\n",
      "2024-12-21 18:31:20,981:INFO:[TRAIN-ITER]: 2000, [Time-Elapsed]: 2713.163938, [Total-Loss]: 0.480052\n",
      "2024-12-21 18:31:20,982:INFO:[CONSTR-Vio]: 0.425419, [OBJECTIVE]: 0.470559, [EFFICIENCY-loss]:  -0.030798\n",
      "2024-12-21 18:33:27,881:INFO:[TRAIN-ITER]: 2100, [Time-Elapsed]: 2840.063854, [Total-Loss]: 0.458801\n",
      "2024-12-21 18:33:27,882:INFO:[CONSTR-Vio]: 0.393032, [OBJECTIVE]: 0.435326, [EFFICIENCY-loss]:  -0.015609\n",
      "2024-12-21 18:35:33,343:INFO:[TRAIN-ITER]: 2200, [Time-Elapsed]: 2965.526142, [Total-Loss]: 0.387916\n",
      "2024-12-21 18:35:33,345:INFO:[CONSTR-Vio]: 0.360277, [OBJECTIVE]: 0.350162, [EFFICIENCY-loss]:  0.000652\n",
      "2024-12-21 18:37:40,050:INFO:[TRAIN-ITER]: 2300, [Time-Elapsed]: 3092.232964, [Total-Loss]: 0.447454\n",
      "2024-12-21 18:37:40,051:INFO:[CONSTR-Vio]: 0.389235, [OBJECTIVE]: 0.421235, [EFFICIENCY-loss]:  -0.015639\n",
      "2024-12-21 18:39:46,755:INFO:[TRAIN-ITER]: 2400, [Time-Elapsed]: 3218.937915, [Total-Loss]: 0.450244\n",
      "2024-12-21 18:39:46,756:INFO:[CONSTR-Vio]: 0.374154, [OBJECTIVE]: 0.408573, [EFFICIENCY-loss]:  0.000000\n",
      "2024-12-21 18:41:52,980:INFO:[TRAIN-ITER]: 2500, [Time-Elapsed]: 3345.163411, [Total-Loss]: 0.320915\n",
      "2024-12-21 18:41:52,981:INFO:[CONSTR-Vio]: 0.336624, [OBJECTIVE]: 0.336360, [EFFICIENCY-loss]:  -0.054561\n",
      "2024-12-21 18:43:58,799:INFO:[TRAIN-ITER]: 2600, [Time-Elapsed]: 3470.982049, [Total-Loss]: 0.366883\n",
      "2024-12-21 18:43:58,801:INFO:[CONSTR-Vio]: 0.354646, [OBJECTIVE]: 0.402638, [EFFICIENCY-loss]:  -0.078115\n",
      "2024-12-21 18:46:29,217:INFO:[TRAIN-ITER]: 2700, [Time-Elapsed]: 3621.400441, [Total-Loss]: 0.408031\n",
      "2024-12-21 18:46:29,219:INFO:[CONSTR-Vio]: 0.379131, [OBJECTIVE]: 0.361073, [EFFICIENCY-loss]:  0.000009\n",
      "2024-12-21 19:03:59,225:INFO:[TRAIN-ITER]: 2800, [Time-Elapsed]: 4671.408030, [Total-Loss]: 0.335358\n",
      "2024-12-21 19:03:59,227:INFO:[CONSTR-Vio]: 0.338910, [OBJECTIVE]: 0.291412, [EFFICIENCY-loss]:  0.000000\n",
      "2024-12-21 19:36:48,543:INFO:[TRAIN-ITER]: 2900, [Time-Elapsed]: 6640.726898, [Total-Loss]: 0.368907\n",
      "2024-12-21 19:36:48,545:INFO:[CONSTR-Vio]: 0.315902, [OBJECTIVE]: 0.332446, [EFFICIENCY-loss]:  -0.004222\n",
      "2024-12-21 19:41:52,568:INFO:[TRAIN-ITER]: 3000, [Time-Elapsed]: 6944.751627, [Total-Loss]: 0.362537\n",
      "2024-12-21 19:41:52,570:INFO:[CONSTR-Vio]: 0.485767, [OBJECTIVE]: 0.346573, [EFFICIENCY-loss]:  -0.049673\n",
      "2024-12-21 19:44:11,720:INFO:[TRAIN-ITER]: 3100, [Time-Elapsed]: 7083.904641, [Total-Loss]: 0.287175\n",
      "2024-12-21 19:44:11,721:INFO:[CONSTR-Vio]: 0.316880, [OBJECTIVE]: 0.313015, [EFFICIENCY-loss]:  -0.070075\n",
      "2024-12-21 19:46:27,684:INFO:[TRAIN-ITER]: 3200, [Time-Elapsed]: 7219.866977, [Total-Loss]: 0.321342\n",
      "2024-12-21 19:46:27,685:INFO:[CONSTR-Vio]: 0.332017, [OBJECTIVE]: 0.297395, [EFFICIENCY-loss]:  -0.023710\n",
      "2024-12-21 19:48:40,464:INFO:[TRAIN-ITER]: 3300, [Time-Elapsed]: 7352.648032, [Total-Loss]: 0.386962\n",
      "2024-12-21 19:48:40,467:INFO:[CONSTR-Vio]: 0.264003, [OBJECTIVE]: 0.348396, [EFFICIENCY-loss]:  -0.000225\n",
      "2024-12-21 19:50:57,026:INFO:[TRAIN-ITER]: 3400, [Time-Elapsed]: 7489.209026, [Total-Loss]: 0.319858\n",
      "2024-12-21 19:50:57,027:INFO:[CONSTR-Vio]: 0.340054, [OBJECTIVE]: 0.268777, [EFFICIENCY-loss]:  0.000000\n",
      "2024-12-21 19:53:14,276:INFO:[TRAIN-ITER]: 3500, [Time-Elapsed]: 7626.459251, [Total-Loss]: 0.334170\n",
      "2024-12-21 19:53:14,278:INFO:[CONSTR-Vio]: 0.335209, [OBJECTIVE]: 0.298389, [EFFICIENCY-loss]:  -0.015624\n",
      "2024-12-21 19:55:32,725:INFO:[TRAIN-ITER]: 3600, [Time-Elapsed]: 7764.908053, [Total-Loss]: 0.382074\n",
      "2024-12-21 19:55:32,727:INFO:[CONSTR-Vio]: 0.328059, [OBJECTIVE]: 0.310741, [EFFICIENCY-loss]:  0.019348\n",
      "2024-12-21 19:57:50,308:INFO:[TRAIN-ITER]: 3700, [Time-Elapsed]: 7902.491732, [Total-Loss]: 0.344970\n",
      "2024-12-21 19:57:50,310:INFO:[CONSTR-Vio]: 0.291475, [OBJECTIVE]: 0.298452, [EFFICIENCY-loss]:  -0.000024\n",
      "2024-12-21 20:00:08,330:INFO:[TRAIN-ITER]: 3800, [Time-Elapsed]: 8040.513945, [Total-Loss]: 0.309148\n",
      "2024-12-21 20:00:08,332:INFO:[CONSTR-Vio]: 0.302298, [OBJECTIVE]: 0.274416, [EFFICIENCY-loss]:  -0.014997\n",
      "2024-12-21 20:06:48,048:INFO:[TRAIN-ITER]: 3900, [Time-Elapsed]: 8440.231562, [Total-Loss]: 0.378080\n",
      "2024-12-21 20:06:48,051:INFO:[CONSTR-Vio]: 0.335284, [OBJECTIVE]: 0.346300, [EFFICIENCY-loss]:  -0.024803\n",
      "2024-12-21 20:09:06,525:INFO:[TRAIN-ITER]: 4000, [Time-Elapsed]: 8578.709475, [Total-Loss]: 0.389435\n",
      "2024-12-21 20:09:06,527:INFO:[CONSTR-Vio]: 0.332994, [OBJECTIVE]: 0.332140, [EFFICIENCY-loss]:  0.000000\n",
      "2024-12-21 20:11:23,505:INFO:[TRAIN-ITER]: 4100, [Time-Elapsed]: 8715.688728, [Total-Loss]: 0.372461\n",
      "2024-12-21 20:11:23,507:INFO:[CONSTR-Vio]: 0.293512, [OBJECTIVE]: 0.352964, [EFFICIENCY-loss]:  -0.031250\n",
      "2024-12-21 20:13:41,753:INFO:[TRAIN-ITER]: 4200, [Time-Elapsed]: 8853.937113, [Total-Loss]: 0.342791\n",
      "2024-12-21 20:13:41,756:INFO:[CONSTR-Vio]: 0.319785, [OBJECTIVE]: 0.284796, [EFFICIENCY-loss]:  -0.000133\n",
      "2024-12-21 20:15:59,532:INFO:[TRAIN-ITER]: 4300, [Time-Elapsed]: 8991.715271, [Total-Loss]: 0.381146\n",
      "2024-12-21 20:15:59,534:INFO:[CONSTR-Vio]: 0.251223, [OBJECTIVE]: 0.336069, [EFFICIENCY-loss]:  0.000001\n",
      "2024-12-21 20:18:17,679:INFO:[TRAIN-ITER]: 4400, [Time-Elapsed]: 9129.861956, [Total-Loss]: 0.309233\n",
      "2024-12-21 20:18:17,681:INFO:[CONSTR-Vio]: 0.255942, [OBJECTIVE]: 0.269764, [EFFICIENCY-loss]:  -0.007798\n",
      "2024-12-21 20:20:36,964:INFO:[TRAIN-ITER]: 4500, [Time-Elapsed]: 9269.146712, [Total-Loss]: 0.378090\n",
      "2024-12-21 20:20:36,965:INFO:[CONSTR-Vio]: 0.322610, [OBJECTIVE]: 0.357446, [EFFICIENCY-loss]:  -0.040252\n",
      "2024-12-21 20:22:55,496:INFO:[TRAIN-ITER]: 4600, [Time-Elapsed]: 9407.679369, [Total-Loss]: 0.362025\n",
      "2024-12-21 20:22:55,498:INFO:[CONSTR-Vio]: 0.310783, [OBJECTIVE]: 0.295539, [EFFICIENCY-loss]:  0.007443\n",
      "2024-12-21 20:25:13,945:INFO:[TRAIN-ITER]: 4700, [Time-Elapsed]: 9546.128204, [Total-Loss]: 0.342200\n",
      "2024-12-21 20:25:13,947:INFO:[CONSTR-Vio]: 0.275551, [OBJECTIVE]: 0.280786, [EFFICIENCY-loss]:  0.007808\n",
      "2024-12-21 20:43:17,851:INFO:[TRAIN-ITER]: 4800, [Time-Elapsed]: 10630.035066, [Total-Loss]: 0.384139\n",
      "2024-12-21 20:43:17,853:INFO:[CONSTR-Vio]: 0.268601, [OBJECTIVE]: 0.339721, [EFFICIENCY-loss]:  -0.007959\n",
      "2024-12-21 20:45:21,566:INFO:[TRAIN-ITER]: 4900, [Time-Elapsed]: 10753.749201, [Total-Loss]: 0.330883\n",
      "2024-12-21 20:45:21,568:INFO:[CONSTR-Vio]: 0.295712, [OBJECTIVE]: 0.295352, [EFFICIENCY-loss]:  -0.023594\n",
      "2024-12-21 20:47:25,537:INFO:[TRAIN-ITER]: 5000, [Time-Elapsed]: 10877.720681, [Total-Loss]: 0.344213\n",
      "2024-12-21 20:47:25,538:INFO:[CONSTR-Vio]: 0.265810, [OBJECTIVE]: 0.290582, [EFFICIENCY-loss]:  -0.000007\n",
      "2024-12-21 20:49:30,240:INFO:[TRAIN-ITER]: 5100, [Time-Elapsed]: 11002.423143, [Total-Loss]: 0.339744\n",
      "2024-12-21 20:49:30,242:INFO:[CONSTR-Vio]: 0.302872, [OBJECTIVE]: 0.285281, [EFFICIENCY-loss]:  -0.008090\n",
      "2024-12-21 20:51:34,207:INFO:[TRAIN-ITER]: 5200, [Time-Elapsed]: 11126.391659, [Total-Loss]: 0.336692\n",
      "2024-12-21 20:51:34,209:INFO:[CONSTR-Vio]: 0.228863, [OBJECTIVE]: 0.320125, [EFFICIENCY-loss]:  -0.031297\n",
      "2024-12-21 20:53:38,842:INFO:[TRAIN-ITER]: 5300, [Time-Elapsed]: 11251.024619, [Total-Loss]: 0.348594\n",
      "2024-12-21 20:53:38,844:INFO:[CONSTR-Vio]: 0.275047, [OBJECTIVE]: 0.290956, [EFFICIENCY-loss]:  -0.000000\n",
      "2024-12-21 20:55:42,549:INFO:[TRAIN-ITER]: 5400, [Time-Elapsed]: 11374.731527, [Total-Loss]: 0.428488\n",
      "2024-12-21 20:55:42,550:INFO:[CONSTR-Vio]: 0.349452, [OBJECTIVE]: 0.352835, [EFFICIENCY-loss]:  -0.000000\n",
      "2024-12-21 20:57:46,209:INFO:[TRAIN-ITER]: 5500, [Time-Elapsed]: 11498.392252, [Total-Loss]: 0.351006\n",
      "2024-12-21 20:57:46,211:INFO:[CONSTR-Vio]: 0.295463, [OBJECTIVE]: 0.301918, [EFFICIENCY-loss]:  -0.015625\n",
      "2024-12-21 20:59:56,246:INFO:[TRAIN-ITER]: 5600, [Time-Elapsed]: 11628.429111, [Total-Loss]: 0.288299\n",
      "2024-12-21 20:59:56,248:INFO:[CONSTR-Vio]: 0.293146, [OBJECTIVE]: 0.238751, [EFFICIENCY-loss]:  -0.015645\n",
      "2024-12-21 21:02:15,440:INFO:[TRAIN-ITER]: 5700, [Time-Elapsed]: 11767.622791, [Total-Loss]: 0.342443\n",
      "2024-12-21 21:02:15,441:INFO:[CONSTR-Vio]: 0.263253, [OBJECTIVE]: 0.282761, [EFFICIENCY-loss]:  0.000000\n",
      "2024-12-21 21:04:34,685:INFO:[TRAIN-ITER]: 5800, [Time-Elapsed]: 11906.868469, [Total-Loss]: 0.356493\n",
      "2024-12-21 21:04:34,687:INFO:[CONSTR-Vio]: 0.305877, [OBJECTIVE]: 0.296384, [EFFICIENCY-loss]:  -0.009625\n",
      "2024-12-21 21:06:52,662:INFO:[TRAIN-ITER]: 5900, [Time-Elapsed]: 12044.845212, [Total-Loss]: 0.311274\n",
      "2024-12-21 21:06:52,664:INFO:[CONSTR-Vio]: 0.274715, [OBJECTIVE]: 0.247529, [EFFICIENCY-loss]:  -0.000001\n",
      "2024-12-21 21:09:11,293:INFO:[TRAIN-ITER]: 6000, [Time-Elapsed]: 12183.476416, [Total-Loss]: 0.305230\n",
      "2024-12-21 21:09:11,295:INFO:[CONSTR-Vio]: 0.171358, [OBJECTIVE]: 0.264693, [EFFICIENCY-loss]:  0.000099\n",
      "2024-12-21 21:11:27,047:INFO:[TRAIN-ITER]: 6100, [Time-Elapsed]: 12319.230060, [Total-Loss]: 0.308063\n",
      "2024-12-21 21:11:27,049:INFO:[CONSTR-Vio]: 0.188258, [OBJECTIVE]: 0.263803, [EFFICIENCY-loss]:  0.000004\n",
      "2024-12-21 21:13:44,816:INFO:[TRAIN-ITER]: 6200, [Time-Elapsed]: 12456.999239, [Total-Loss]: 0.277836\n",
      "2024-12-21 21:13:44,818:INFO:[CONSTR-Vio]: 0.281222, [OBJECTIVE]: 0.210221, [EFFICIENCY-loss]:  -0.000000\n",
      "2024-12-21 21:16:02,767:INFO:[TRAIN-ITER]: 6300, [Time-Elapsed]: 12594.949822, [Total-Loss]: 0.258898\n",
      "2024-12-21 21:16:02,769:INFO:[CONSTR-Vio]: 0.260932, [OBJECTIVE]: 0.195364, [EFFICIENCY-loss]:  -0.000000\n",
      "2024-12-21 21:18:20,882:INFO:[TRAIN-ITER]: 6400, [Time-Elapsed]: 12733.065652, [Total-Loss]: 0.390223\n",
      "2024-12-21 21:18:20,883:INFO:[CONSTR-Vio]: 0.266632, [OBJECTIVE]: 0.325386, [EFFICIENCY-loss]:  -0.000001\n",
      "2024-12-21 21:20:38,375:INFO:[TRAIN-ITER]: 6500, [Time-Elapsed]: 12870.558183, [Total-Loss]: 0.398506\n",
      "2024-12-21 21:20:38,377:INFO:[CONSTR-Vio]: 0.248674, [OBJECTIVE]: 0.336135, [EFFICIENCY-loss]:  -0.000001\n",
      "2024-12-21 21:22:57,065:INFO:[TRAIN-ITER]: 6600, [Time-Elapsed]: 13009.248200, [Total-Loss]: 0.356892\n",
      "2024-12-21 21:22:57,067:INFO:[CONSTR-Vio]: 0.271371, [OBJECTIVE]: 0.313823, [EFFICIENCY-loss]:  -0.025299\n",
      "2024-12-21 21:38:56,247:INFO:[TRAIN-ITER]: 6700, [Time-Elapsed]: 13968.428499, [Total-Loss]: 0.346215\n",
      "2024-12-21 21:38:56,249:INFO:[CONSTR-Vio]: 0.211529, [OBJECTIVE]: 0.292711, [EFFICIENCY-loss]:  0.000001\n",
      "2024-12-21 21:41:14,290:INFO:[TRAIN-ITER]: 6800, [Time-Elapsed]: 14106.473513, [Total-Loss]: 0.309373\n",
      "2024-12-21 21:41:14,292:INFO:[CONSTR-Vio]: 0.170336, [OBJECTIVE]: 0.265729, [EFFICIENCY-loss]:  0.000018\n",
      "2024-12-21 21:43:32,556:INFO:[TRAIN-ITER]: 6900, [Time-Elapsed]: 14244.739177, [Total-Loss]: 0.282028\n",
      "2024-12-21 21:43:32,558:INFO:[CONSTR-Vio]: 0.260602, [OBJECTIVE]: 0.222278, [EFFICIENCY-loss]:  -0.007824\n",
      "2024-12-21 21:45:51,216:INFO:[TRAIN-ITER]: 7000, [Time-Elapsed]: 14383.400180, [Total-Loss]: 0.310798\n",
      "2024-12-21 21:45:51,219:INFO:[CONSTR-Vio]: 0.239280, [OBJECTIVE]: 0.259587, [EFFICIENCY-loss]:  -0.011117\n",
      "2024-12-21 21:48:09,084:INFO:[TRAIN-ITER]: 7100, [Time-Elapsed]: 14521.267104, [Total-Loss]: 0.340187\n",
      "2024-12-21 21:48:09,086:INFO:[CONSTR-Vio]: 0.297774, [OBJECTIVE]: 0.308182, [EFFICIENCY-loss]:  -0.046875\n",
      "2024-12-21 21:50:27,112:INFO:[TRAIN-ITER]: 7200, [Time-Elapsed]: 14659.295072, [Total-Loss]: 0.299452\n",
      "2024-12-21 21:50:27,114:INFO:[CONSTR-Vio]: 0.208764, [OBJECTIVE]: 0.244100, [EFFICIENCY-loss]:  -0.000027\n",
      "2024-12-21 21:52:45,509:INFO:[TRAIN-ITER]: 7300, [Time-Elapsed]: 14797.692425, [Total-Loss]: 0.373545\n",
      "2024-12-21 21:52:45,512:INFO:[CONSTR-Vio]: 0.272452, [OBJECTIVE]: 0.331450, [EFFICIENCY-loss]:  -0.031249\n",
      "2024-12-21 21:55:02,917:INFO:[TRAIN-ITER]: 7400, [Time-Elapsed]: 14935.100745, [Total-Loss]: 0.293179\n",
      "2024-12-21 21:55:02,919:INFO:[CONSTR-Vio]: 0.212870, [OBJECTIVE]: 0.255290, [EFFICIENCY-loss]:  -0.020398\n",
      "2024-12-21 21:57:21,153:INFO:[TRAIN-ITER]: 7500, [Time-Elapsed]: 15073.337016, [Total-Loss]: 0.350520\n",
      "2024-12-21 21:57:21,155:INFO:[CONSTR-Vio]: 0.226841, [OBJECTIVE]: 0.288069, [EFFICIENCY-loss]:  -0.000000\n",
      "2024-12-21 21:59:38,655:INFO:[TRAIN-ITER]: 7600, [Time-Elapsed]: 15210.838150, [Total-Loss]: 0.238330\n",
      "2024-12-21 21:59:38,657:INFO:[CONSTR-Vio]: 0.213535, [OBJECTIVE]: 0.202673, [EFFICIENCY-loss]:  -0.023434\n",
      "2024-12-21 22:27:15,193:INFO:[TRAIN-ITER]: 7700, [Time-Elapsed]: 16867.377439, [Total-Loss]: 0.301749\n",
      "2024-12-21 22:27:15,197:INFO:[CONSTR-Vio]: 0.204789, [OBJECTIVE]: 0.244484, [EFFICIENCY-loss]:  -0.000005\n",
      "2024-12-21 22:29:27,868:INFO:[TRAIN-ITER]: 7800, [Time-Elapsed]: 17000.051921, [Total-Loss]: 0.397929\n",
      "2024-12-21 22:29:27,869:INFO:[CONSTR-Vio]: 0.236065, [OBJECTIVE]: 0.315732, [EFFICIENCY-loss]:  0.015624\n",
      "2024-12-21 22:48:01,551:INFO:[TRAIN-ITER]: 7900, [Time-Elapsed]: 18113.735570, [Total-Loss]: 0.436412\n",
      "2024-12-21 22:48:01,554:INFO:[CONSTR-Vio]: 0.267449, [OBJECTIVE]: 0.360635, [EFFICIENCY-loss]:  0.000040\n",
      "2024-12-21 22:50:15,498:INFO:[TRAIN-ITER]: 8000, [Time-Elapsed]: 18247.682204, [Total-Loss]: 0.330614\n",
      "2024-12-21 22:50:15,499:INFO:[CONSTR-Vio]: 0.224257, [OBJECTIVE]: 0.281517, [EFFICIENCY-loss]:  -0.015464\n",
      "2024-12-21 23:07:54,311:INFO:[TRAIN-ITER]: 8100, [Time-Elapsed]: 19306.495477, [Total-Loss]: 0.322375\n",
      "2024-12-21 23:07:54,313:INFO:[CONSTR-Vio]: 0.135577, [OBJECTIVE]: 0.283165, [EFFICIENCY-loss]:  0.000000\n",
      "2024-12-21 23:25:33,561:INFO:[TRAIN-ITER]: 8200, [Time-Elapsed]: 20365.744369, [Total-Loss]: 0.295936\n",
      "2024-12-21 23:25:33,563:INFO:[CONSTR-Vio]: 0.147367, [OBJECTIVE]: 0.299781, [EFFICIENCY-loss]:  -0.046825\n",
      "2024-12-21 23:27:48,193:INFO:[TRAIN-ITER]: 8300, [Time-Elapsed]: 20500.376982, [Total-Loss]: 0.319018\n",
      "2024-12-21 23:27:48,195:INFO:[CONSTR-Vio]: 0.231737, [OBJECTIVE]: 0.267317, [EFFICIENCY-loss]:  -0.015625\n",
      "2024-12-21 23:45:14,129:INFO:[TRAIN-ITER]: 8400, [Time-Elapsed]: 21546.313588, [Total-Loss]: 0.300995\n",
      "2024-12-21 23:45:14,132:INFO:[CONSTR-Vio]: 0.221924, [OBJECTIVE]: 0.236020, [EFFICIENCY-loss]:  0.000004\n",
      "2024-12-22 00:02:51,264:INFO:[TRAIN-ITER]: 8500, [Time-Elapsed]: 22603.448023, [Total-Loss]: 0.364756\n",
      "2024-12-22 00:02:51,265:INFO:[CONSTR-Vio]: 0.212878, [OBJECTIVE]: 0.301235, [EFFICIENCY-loss]:  -0.000004\n",
      "2024-12-22 00:20:28,969:INFO:[TRAIN-ITER]: 8600, [Time-Elapsed]: 23661.152834, [Total-Loss]: 0.383000\n",
      "2024-12-22 00:20:28,970:INFO:[CONSTR-Vio]: 0.280092, [OBJECTIVE]: 0.299229, [EFFICIENCY-loss]:  0.000000\n",
      "2024-12-22 00:38:07,497:INFO:[TRAIN-ITER]: 8700, [Time-Elapsed]: 24719.681613, [Total-Loss]: 0.339641\n",
      "2024-12-22 00:38:07,500:INFO:[CONSTR-Vio]: 0.207210, [OBJECTIVE]: 0.308051, [EFFICIENCY-loss]:  -0.031230\n",
      "2024-12-22 00:55:23,905:INFO:[TRAIN-ITER]: 8800, [Time-Elapsed]: 25756.088820, [Total-Loss]: 0.278999\n",
      "2024-12-22 00:55:23,907:INFO:[CONSTR-Vio]: 0.243797, [OBJECTIVE]: 0.267270, [EFFICIENCY-loss]:  -0.062500\n",
      "2024-12-22 01:00:36,391:INFO:[TRAIN-ITER]: 8900, [Time-Elapsed]: 26068.574988, [Total-Loss]: 0.184286\n",
      "2024-12-22 01:00:36,394:INFO:[CONSTR-Vio]: 0.125111, [OBJECTIVE]: 0.223450, [EFFICIENCY-loss]:  -0.078116\n",
      "2024-12-22 01:02:54,331:INFO:[TRAIN-ITER]: 9000, [Time-Elapsed]: 26206.514888, [Total-Loss]: 0.325097\n",
      "2024-12-22 01:02:54,332:INFO:[CONSTR-Vio]: 0.218583, [OBJECTIVE]: 0.257570, [EFFICIENCY-loss]:  0.000000\n",
      "2024-12-22 01:05:12,283:INFO:[TRAIN-ITER]: 9100, [Time-Elapsed]: 26344.466215, [Total-Loss]: 0.255078\n",
      "2024-12-22 01:05:12,284:INFO:[CONSTR-Vio]: 0.174505, [OBJECTIVE]: 0.200711, [EFFICIENCY-loss]:  -0.000007\n",
      "2024-12-22 01:07:29,421:INFO:[TRAIN-ITER]: 9200, [Time-Elapsed]: 26481.604714, [Total-Loss]: 0.340672\n",
      "2024-12-22 01:07:29,423:INFO:[CONSTR-Vio]: 0.216875, [OBJECTIVE]: 0.272435, [EFFICIENCY-loss]:  -0.000000\n",
      "2024-12-22 01:09:48,463:INFO:[TRAIN-ITER]: 9300, [Time-Elapsed]: 26620.646889, [Total-Loss]: 0.349617\n",
      "2024-12-22 01:09:48,465:INFO:[CONSTR-Vio]: 0.178636, [OBJECTIVE]: 0.316339, [EFFICIENCY-loss]:  -0.023437\n",
      "2024-12-22 01:12:08,233:INFO:[TRAIN-ITER]: 9400, [Time-Elapsed]: 26760.416404, [Total-Loss]: 0.422571\n",
      "2024-12-22 01:12:08,234:INFO:[CONSTR-Vio]: 0.156734, [OBJECTIVE]: 0.372342, [EFFICIENCY-loss]:  0.000000\n",
      "2024-12-22 01:14:26,962:INFO:[TRAIN-ITER]: 9500, [Time-Elapsed]: 26899.145403, [Total-Loss]: 0.317939\n",
      "2024-12-22 01:14:26,964:INFO:[CONSTR-Vio]: 0.149321, [OBJECTIVE]: 0.309663, [EFFICIENCY-loss]:  -0.039062\n",
      "2024-12-22 01:16:44,855:INFO:[TRAIN-ITER]: 9600, [Time-Elapsed]: 27037.038316, [Total-Loss]: 0.275900\n",
      "2024-12-22 01:16:44,856:INFO:[CONSTR-Vio]: 0.240717, [OBJECTIVE]: 0.206208, [EFFICIENCY-loss]:  -0.007812\n",
      "2024-12-22 01:19:03,027:INFO:[TRAIN-ITER]: 9700, [Time-Elapsed]: 27175.210322, [Total-Loss]: 0.227034\n",
      "2024-12-22 01:19:03,029:INFO:[CONSTR-Vio]: 0.137099, [OBJECTIVE]: 0.237463, [EFFICIENCY-loss]:  -0.054687\n",
      "2024-12-22 01:21:44,852:INFO:[TRAIN-ITER]: 9800, [Time-Elapsed]: 27337.035168, [Total-Loss]: 0.317725\n",
      "2024-12-22 01:21:44,860:INFO:[CONSTR-Vio]: 0.118134, [OBJECTIVE]: 0.286479, [EFFICIENCY-loss]:  -0.007760\n",
      "2024-12-22 01:54:48,083:INFO:[TRAIN-ITER]: 9900, [Time-Elapsed]: 29320.266744, [Total-Loss]: 0.356983\n",
      "2024-12-22 01:54:48,084:INFO:[CONSTR-Vio]: 0.268781, [OBJECTIVE]: 0.292423, [EFFICIENCY-loss]:  -0.023437\n",
      "2024-12-22 01:57:00,337:INFO:[TRAIN-ITER]: 9999, [Time-Elapsed]: 29452.520974, [Total-Loss]: 0.284739\n",
      "2024-12-22 01:57:00,339:INFO:[CONSTR-Vio]: 0.148974, [OBJECTIVE]: 0.241818, [EFFICIENCY-loss]:  -0.006635\n",
      "2024-12-22 01:57:00,339:INFO:train ended!\n"
     ]
    }
   ],
   "source": [
    "train_primal(cfg,G,model)"
   ]
  },
  {
   "cell_type": "code",
   "execution_count": 8,
   "metadata": {},
   "outputs": [],
   "source": [
    "torch.save(model.state_dict(), 'model')"
   ]
  },
  {
   "cell_type": "code",
   "execution_count": 15,
   "metadata": {},
   "outputs": [],
   "source": [
    "torch.save(model.state_dict(), 'model_state_dict.pth')"
   ]
  },
  {
   "cell_type": "code",
   "execution_count": 8,
   "metadata": {},
   "outputs": [
    {
     "name": "stderr",
     "output_type": "stream",
     "text": [
      "/var/folders/y_/0ll3m2hj5r9cswvxrg0b576r0000gn/T/ipykernel_39289/452310846.py:3: FutureWarning: You are using `torch.load` with `weights_only=False` (the current default value), which uses the default pickle module implicitly. It is possible to construct malicious pickle data which will execute arbitrary code during unpickling (See https://github.com/pytorch/pytorch/blob/main/SECURITY.md#untrusted-models for more details). In a future release, the default value for `weights_only` will be flipped to `True`. This limits the functions that could be executed during unpickling. Arbitrary objects will no longer be allowed to be loaded via this mode unless they are explicitly allowlisted by the user via `torch.serialization.add_safe_globals`. We recommend you start setting `weights_only=True` for any use case where you don't have full control of the loaded file. Please open an issue on GitHub for any issues related to this experimental feature.\n",
      "  model_s.load_state_dict(torch.load('model_state_dict.pth'))\n"
     ]
    },
    {
     "data": {
      "text/plain": [
       "PrimalNet(\n",
       "  (input_block): Sequential(\n",
       "    (0): Linear(in_features=18, out_features=256, bias=True)\n",
       "    (1): LeakyReLU(negative_slope=0.01)\n",
       "    (2): Linear(in_features=256, out_features=256, bias=True)\n",
       "    (3): LeakyReLU(negative_slope=0.01)\n",
       "    (4): Linear(in_features=256, out_features=256, bias=True)\n",
       "    (5): LeakyReLU(negative_slope=0.01)\n",
       "    (6): Linear(in_features=256, out_features=256, bias=True)\n",
       "    (7): LeakyReLU(negative_slope=0.01)\n",
       "    (8): Linear(in_features=256, out_features=256, bias=True)\n",
       "    (9): LeakyReLU(negative_slope=0.01)\n",
       "  )\n",
       "  (layer_out): Linear(in_features=256, out_features=9, bias=True)\n",
       ")"
      ]
     },
     "execution_count": 8,
     "metadata": {},
     "output_type": "execute_result"
    }
   ],
   "source": [
    "# 空のモデルインスタンスを作成\n",
    "model_s = PrimalNet(cfg)  # モデルクラスを再定義する必要があります\n",
    "model_s.load_state_dict(torch.load('model_state_dict.pth'))\n",
    "model_s.to(device)\n",
    "model_s.eval()\n"
   ]
  },
  {
   "cell_type": "code",
   "execution_count": 9,
   "metadata": {},
   "outputs": [],
   "source": [
    "model = model_s"
   ]
  },
  {
   "cell_type": "markdown",
   "metadata": {},
   "source": [
    "### plot"
   ]
  },
  {
   "cell_type": "code",
   "execution_count": 17,
   "metadata": {},
   "outputs": [],
   "source": [
    "def plot_matching(p, q, match):\n",
    "    # Move tensor to CPU and convert to NumPy\n",
    "    output_matrix = match.squeeze().detach().cpu().numpy()\n",
    "\n",
    "    annotations = np.empty_like(output_matrix, dtype=object)\n",
    "    for i in range(output_matrix.shape[0]):\n",
    "        for j in range(output_matrix.shape[1]):\n",
    "            annotations[i, j] = f'{output_matrix[i, j]:.2e}\\n[{p[i, j]}, {q[j, i]}]'\n",
    "\n",
    "    # Plot the heatmap\n",
    "    plt.figure(figsize=(8, 6))\n",
    "    sns.heatmap(output_matrix, annot=annotations, fmt='', cmap='Blues', cbar=True)\n",
    "    plt.title(\"Agent Relationship Heatmap with Vector Details\")\n",
    "    plt.xlabel(\"Agent\")\n",
    "    plt.ylabel(\"Agent\")\n",
    "    plt.show()\n"
   ]
  },
  {
   "cell_type": "code",
   "execution_count": 10,
   "metadata": {},
   "outputs": [],
   "source": [
    "p = torch.tensor([[1, 0.0, 0], [0, 1, 0], [0, 0, 1]]).to(device)\n",
    "q = torch.tensor([[1, 0.0, 0], [0, 1, 0], [0, 0, 1]]).to(device)\n",
    "\n",
    "output = model(p, q)"
   ]
  },
  {
   "cell_type": "code",
   "execution_count": 11,
   "metadata": {},
   "outputs": [
    {
     "data": {
      "text/plain": [
       "tensor([[[1., 0., 0.],\n",
       "         [0., 1., 0.],\n",
       "         [0., 0., 1.]]], device='mps:0', grad_fn=<DivBackward0>)"
      ]
     },
     "execution_count": 11,
     "metadata": {},
     "output_type": "execute_result"
    }
   ],
   "source": [
    "output"
   ]
  },
  {
   "cell_type": "code",
   "execution_count": 18,
   "metadata": {},
   "outputs": [
    {
     "data": {
      "image/png": "[encoded data removed]",
      "text/plain": [
       "<Figure size 800x600 with 2 Axes>"
      ]
     },
     "metadata": {},
     "output_type": "display_data"
    }
   ],
   "source": [
    "plot_matching(p, q, output)"
   ]
  },
  {
   "cell_type": "markdown",
   "metadata": {},
   "source": [
    "### compare"
   ]
  },
  {
   "cell_type": "code",
   "execution_count": 19,
   "metadata": {},
   "outputs": [],
   "source": [
    "from primal_loss import compute_t"
   ]
  },
  {
   "cell_type": "code",
   "execution_count": 20,
   "metadata": {},
   "outputs": [],
   "source": [
    "from efficiency_loss import compute_efficiency_loss"
   ]
  },
  {
   "cell_type": "code",
   "execution_count": 21,
   "metadata": {},
   "outputs": [],
   "source": [
    "from utils import da_with_t"
   ]
  },
  {
   "cell_type": "code",
   "execution_count": 27,
   "metadata": {},
   "outputs": [],
   "source": [
    "p = torch.tensor([[[0.6, 0.3, 1], [1, 0.5, 0], [0.3, 0, 1]]]).to(device)\n",
    "q = torch.tensor([[[0.5, 1.0, 0], [0, 1, 0.5], [0, 0.5, 1.0]]]).to(device)"
   ]
  },
  {
   "cell_type": "code",
   "execution_count": 146,
   "metadata": {},
   "outputs": [],
   "source": [
    "p = torch.tensor([p]).to(device)\n",
    "q = torch.tensor([q]).to(device)"
   ]
  },
  {
   "cell_type": "code",
   "execution_count": 147,
   "metadata": {},
   "outputs": [
    {
     "data": {
      "text/plain": [
       "tensor([[[0.1667, 0.5000, 0.3333],\n",
       "         [0.3333, 0.5000, 0.1667],\n",
       "         [0.1667, 0.5000, 0.3333]]], device='mps:0')"
      ]
     },
     "execution_count": 147,
     "metadata": {},
     "output_type": "execute_result"
    }
   ],
   "source": [
    "p"
   ]
  },
  {
   "cell_type": "code",
   "execution_count": 148,
   "metadata": {},
   "outputs": [
    {
     "data": {
      "text/plain": [
       "tensor([[[0.4000, 0.2000, 0.4000],\n",
       "         [0.2000, 0.4000, 0.4000],\n",
       "         [0.2000, 0.4000, 0.4000]]], device='mps:0')"
      ]
     },
     "execution_count": 148,
     "metadata": {},
     "output_type": "execute_result"
    }
   ],
   "source": [
    "q"
   ]
  },
  {
   "cell_type": "code",
   "execution_count": 152,
   "metadata": {},
   "outputs": [
    {
     "name": "stdout",
     "output_type": "stream",
     "text": [
      "batch_size 1\n",
      "(0, 1, 2) tensor(-0.5000, device='mps:0')\n",
      "(2, 0, 1) tensor(0.5000, device='mps:0')\n"
     ]
    },
    {
     "data": {
      "text/plain": [
       "tensor(-0.5000, device='mps:0')"
      ]
     },
     "execution_count": 152,
     "metadata": {},
     "output_type": "execute_result"
    }
   ],
   "source": [
    "compute_efficiency_loss(cfg, da_output, p, q)"
   ]
  },
  {
   "cell_type": "code",
   "execution_count": 151,
   "metadata": {},
   "outputs": [
    {
     "data": {
      "text/plain": [
       "tensor([[[0.5000, 0.0000, 0.5000],\n",
       "         [0.5000, 0.5000, 0.0000],\n",
       "         [0.0000, 0.5000, 0.5000]]], device='mps:0')"
      ]
     },
     "execution_count": 151,
     "metadata": {},
     "output_type": "execute_result"
    }
   ],
   "source": [
    "da_output"
   ]
  },
  {
   "cell_type": "code",
   "execution_count": 150,
   "metadata": {},
   "outputs": [
    {
     "name": "stdout",
     "output_type": "stream",
     "text": [
      "batch_size 1\n",
      "(0, 1, 2) tensor(-0.8149, device='mps:0', grad_fn=<SumBackward0>)\n",
      "(2, 0, 1) tensor(0.1851, device='mps:0', grad_fn=<SumBackward0>)\n",
      "batch_size 1\n",
      "(0, 1, 2) tensor(-0.5000, device='mps:0')\n",
      "(2, 0, 1) tensor(0.5000, device='mps:0')\n"
     ]
    }
   ],
   "source": [
    "model_output = model(p, q)\n",
    "model_efficiency_loss = compute_efficiency_loss(cfg, model_output, p, q)\n",
    "model_stability_loss = compute_t(model_output, p, q).mean()\n",
    "model_sp_loss = compute_spv_w(cfg, model, model_output, p, q).mean()\n",
    "\n",
    "da_output = da_with_t(p, q)\n",
    "da_efficiency_loss = compute_efficiency_loss(cfg, da_output, p, q)\n",
    "da_stability_loss = compute_t(da_output, p, q).mean()\n",
    "da_sp_loss = compute_spv_w(cfg, da_with_t, da_output, p, q).mean()"
   ]
  },
  {
   "cell_type": "code",
   "execution_count": 113,
   "metadata": {},
   "outputs": [
    {
     "name": "stdout",
     "output_type": "stream",
     "text": [
      "p:tensor([[[0.5000, 0.1667, 0.3333],\n",
      "         [0.3333, 0.5000, 0.1667],\n",
      "         [0.3333, 0.5000, 0.1667]]], device='mps:0')\n",
      "q:tensor([[[0.4000, 0.2000, 0.4000],\n",
      "         [0.4000, 0.2000, 0.4000],\n",
      "         [0.4000, 0.4000, 0.2000]]], device='mps:0')\n",
      "\n",
      "Model Results:\n",
      "  Output: tensor([[[9.3796e-01, 1.4272e-05, 6.2023e-02],\n",
      "         [6.7026e-02, 1.3577e-03, 9.3162e-01],\n",
      "         [4.1644e-04, 9.9931e-01, 2.7459e-04]]], device='mps:0',\n",
      "       grad_fn=<DivBackward0>)\n",
      "  Efficiency Loss: -0.006724852602928877\n",
      "  Stability Loss: 0.19931083917617798\n",
      "  SP Loss: 0.05522659793496132\n",
      "\n",
      "DA Results:\n",
      "  Output: tensor([[[1., 0., 0.],\n",
      "         [0., 0., 1.],\n",
      "         [0., 1., 0.]]], device='mps:0')\n",
      "  Efficiency Loss: 0.0\n",
      "  Stability Loss: 0.20000000298023224\n",
      "  SP Loss: 0.0\n"
     ]
    }
   ],
   "source": [
    "print(f\"p:{p}\")\n",
    "print(f\"q:{q}\")\n",
    "print(\"\\nModel Results:\")\n",
    "print(f\"  Output: {model_output}\")\n",
    "print(f\"  Efficiency Loss: {model_efficiency_loss}\")\n",
    "print(f\"  Stability Loss: {model_stability_loss}\")\n",
    "print(f\"  SP Loss: {model_sp_loss}\")\n",
    "\n",
    "print(\"\\nDA Results:\")\n",
    "print(f\"  Output: {da_output}\")\n",
    "print(f\"  Efficiency Loss: {da_efficiency_loss}\")\n",
    "print(f\"  Stability Loss: {da_stability_loss}\")\n",
    "print(f\"  SP Loss: {da_sp_loss}\")"
   ]
  },
  {
   "cell_type": "markdown",
   "metadata": {},
   "source": [
    "## patterns_2_1\n",
    "受け手の選好は必ず二つの同等に好ましい提案者と、好ましくない一人の提案者となる\n",
    "\n",
    "提案側の選考はランダムな強選好"
   ]
  },
  {
   "cell_type": "code",
   "execution_count": 40,
   "metadata": {},
   "outputs": [],
   "source": [
    "from utils import normalize_tuples, apply_features, convert_to_float"
   ]
  },
  {
   "cell_type": "code",
   "execution_count": 32,
   "metadata": {},
   "outputs": [],
   "source": [
    "one_tie_2_1 = list(set(itertools.permutations([2, 2, 1])))"
   ]
  },
  {
   "cell_type": "code",
   "execution_count": 33,
   "metadata": {},
   "outputs": [],
   "source": [
    "no_tie_patterns = list(itertools.permutations([3, 2, 1]))"
   ]
  },
  {
   "cell_type": "code",
   "execution_count": 114,
   "metadata": {},
   "outputs": [],
   "source": [
    "import random\n",
    "random.seed(314)\n",
    "\n",
    "one_tie_2_1 = normalize_tuples(one_tie_2_1)\n",
    "no_tie_patterns = normalize_tuples(no_tie_patterns)\n",
    "preference_list_p = list(itertools.product(no_tie_patterns, repeat=3))\n",
    "preference_list_q = list(itertools.product(one_tie_2_1, repeat=3))\n",
    "pairs = [(random.choice(preference_list_p), random.choice(preference_list_q)) for _ in range(1000)]\n",
    "df_1 = pd.DataFrame(pairs, columns=['p', 'q'])"
   ]
  },
  {
   "cell_type": "code",
   "execution_count": 115,
   "metadata": {},
   "outputs": [
    {
     "data": {
      "text/html": [
       "<div>\n",
       "<style scoped>\n",
       "    .dataframe tbody tr th:only-of-type {\n",
       "        vertical-align: middle;\n",
       "    }\n",
       "\n",
       "    .dataframe tbody tr th {\n",
       "        vertical-align: top;\n",
       "    }\n",
       "\n",
       "    .dataframe thead th {\n",
       "        text-align: right;\n",
       "    }\n",
       "</style>\n",
       "<table border=\"1\" class=\"dataframe\">\n",
       "  <thead>\n",
       "    <tr style=\"text-align: right;\">\n",
       "      <th></th>\n",
       "      <th>p</th>\n",
       "      <th>q</th>\n",
       "    </tr>\n",
       "  </thead>\n",
       "  <tbody>\n",
       "    <tr>\n",
       "      <th>0</th>\n",
       "      <td>((0.5, 0.16666666666666666, 0.3333333333333333...</td>\n",
       "      <td>((0.4, 0.2, 0.4), (0.4, 0.2, 0.4), (0.4, 0.4, ...</td>\n",
       "    </tr>\n",
       "    <tr>\n",
       "      <th>1</th>\n",
       "      <td>((0.5000000000000001, 0.33333333333333337, 0.1...</td>\n",
       "      <td>((0.2, 0.4, 0.4), (0.4, 0.2, 0.4), (0.4, 0.4, ...</td>\n",
       "    </tr>\n",
       "    <tr>\n",
       "      <th>2</th>\n",
       "      <td>((0.5000000000000001, 0.33333333333333337, 0.1...</td>\n",
       "      <td>((0.4, 0.4, 0.2), (0.2, 0.4, 0.4), (0.4, 0.4, ...</td>\n",
       "    </tr>\n",
       "    <tr>\n",
       "      <th>3</th>\n",
       "      <td>((0.16666666666666666, 0.5, 0.3333333333333333...</td>\n",
       "      <td>((0.4, 0.2, 0.4), (0.2, 0.4, 0.4), (0.2, 0.4, ...</td>\n",
       "    </tr>\n",
       "    <tr>\n",
       "      <th>4</th>\n",
       "      <td>((0.5, 0.16666666666666666, 0.3333333333333333...</td>\n",
       "      <td>((0.4, 0.2, 0.4), (0.4, 0.2, 0.4), (0.2, 0.4, ...</td>\n",
       "    </tr>\n",
       "    <tr>\n",
       "      <th>...</th>\n",
       "      <td>...</td>\n",
       "      <td>...</td>\n",
       "    </tr>\n",
       "    <tr>\n",
       "      <th>995</th>\n",
       "      <td>((0.16666666666666666, 0.5, 0.3333333333333333...</td>\n",
       "      <td>((0.2, 0.4, 0.4), (0.2, 0.4, 0.4), (0.2, 0.4, ...</td>\n",
       "    </tr>\n",
       "    <tr>\n",
       "      <th>996</th>\n",
       "      <td>((0.33333333333333337, 0.5000000000000001, 0.1...</td>\n",
       "      <td>((0.4, 0.2, 0.4), (0.4, 0.2, 0.4), (0.4, 0.2, ...</td>\n",
       "    </tr>\n",
       "    <tr>\n",
       "      <th>997</th>\n",
       "      <td>((0.5, 0.16666666666666666, 0.3333333333333333...</td>\n",
       "      <td>((0.2, 0.4, 0.4), (0.4, 0.2, 0.4), (0.2, 0.4, ...</td>\n",
       "    </tr>\n",
       "    <tr>\n",
       "      <th>998</th>\n",
       "      <td>((0.16666666666666666, 0.3333333333333333, 0.5...</td>\n",
       "      <td>((0.2, 0.4, 0.4), (0.4, 0.2, 0.4), (0.4, 0.4, ...</td>\n",
       "    </tr>\n",
       "    <tr>\n",
       "      <th>999</th>\n",
       "      <td>((0.16666666666666666, 0.5, 0.3333333333333333...</td>\n",
       "      <td>((0.4, 0.2, 0.4), (0.4, 0.2, 0.4), (0.4, 0.4, ...</td>\n",
       "    </tr>\n",
       "  </tbody>\n",
       "</table>\n",
       "<p>1000 rows × 2 columns</p>\n",
       "</div>"
      ],
      "text/plain": [
       "                                                     p  \\\n",
       "0    ((0.5, 0.16666666666666666, 0.3333333333333333...   \n",
       "1    ((0.5000000000000001, 0.33333333333333337, 0.1...   \n",
       "2    ((0.5000000000000001, 0.33333333333333337, 0.1...   \n",
       "3    ((0.16666666666666666, 0.5, 0.3333333333333333...   \n",
       "4    ((0.5, 0.16666666666666666, 0.3333333333333333...   \n",
       "..                                                 ...   \n",
       "995  ((0.16666666666666666, 0.5, 0.3333333333333333...   \n",
       "996  ((0.33333333333333337, 0.5000000000000001, 0.1...   \n",
       "997  ((0.5, 0.16666666666666666, 0.3333333333333333...   \n",
       "998  ((0.16666666666666666, 0.3333333333333333, 0.5...   \n",
       "999  ((0.16666666666666666, 0.5, 0.3333333333333333...   \n",
       "\n",
       "                                                     q  \n",
       "0    ((0.4, 0.2, 0.4), (0.4, 0.2, 0.4), (0.4, 0.4, ...  \n",
       "1    ((0.2, 0.4, 0.4), (0.4, 0.2, 0.4), (0.4, 0.4, ...  \n",
       "2    ((0.4, 0.4, 0.2), (0.2, 0.4, 0.4), (0.4, 0.4, ...  \n",
       "3    ((0.4, 0.2, 0.4), (0.2, 0.4, 0.4), (0.2, 0.4, ...  \n",
       "4    ((0.4, 0.2, 0.4), (0.4, 0.2, 0.4), (0.2, 0.4, ...  \n",
       "..                                                 ...  \n",
       "995  ((0.2, 0.4, 0.4), (0.2, 0.4, 0.4), (0.2, 0.4, ...  \n",
       "996  ((0.4, 0.2, 0.4), (0.4, 0.2, 0.4), (0.4, 0.2, ...  \n",
       "997  ((0.2, 0.4, 0.4), (0.4, 0.2, 0.4), (0.2, 0.4, ...  \n",
       "998  ((0.2, 0.4, 0.4), (0.4, 0.2, 0.4), (0.4, 0.4, ...  \n",
       "999  ((0.4, 0.2, 0.4), (0.4, 0.2, 0.4), (0.4, 0.4, ...  \n",
       "\n",
       "[1000 rows x 2 columns]"
      ]
     },
     "execution_count": 115,
     "metadata": {},
     "output_type": "execute_result"
    }
   ],
   "source": [
    "df_1"
   ]
  },
  {
   "cell_type": "code",
   "execution_count": 137,
   "metadata": {},
   "outputs": [
    {
     "name": "stderr",
     "output_type": "stream",
     "text": [
      "Processing rows:   0%|          | 2/1000 [00:00<01:26, 11.57it/s]"
     ]
    },
    {
     "name": "stdout",
     "output_type": "stream",
     "text": [
      "batch_size 1\n",
      "(0, 2, 1) tensor(-0.0067, device='mps:0', grad_fn=<SumBackward0>)\n",
      "batch_size 1\n",
      "(0, 2, 1) tensor(0., device='mps:0')\n",
      "batch_size 1\n",
      "(0, 2, 1) tensor(0.0077, device='mps:0', grad_fn=<SumBackward0>)\n",
      "batch_size 1\n",
      "(0, 2, 1) tensor(0., device='mps:0')\n",
      "batch_size 1\n",
      "(0, 1, 2) tensor(-0.1058, device='mps:0', grad_fn=<SumBackward0>)\n"
     ]
    },
    {
     "name": "stderr",
     "output_type": "stream",
     "text": [
      "Processing rows:   0%|          | 4/1000 [00:00<01:41,  9.85it/s]"
     ]
    },
    {
     "name": "stdout",
     "output_type": "stream",
     "text": [
      "(0, 2, 1) tensor(-0.1058, device='mps:0', grad_fn=<SumBackward0>)\n",
      "(2, 0, 1) tensor(-0.1058, device='mps:0', grad_fn=<SumBackward0>)\n",
      "batch_size 1\n",
      "(0, 1, 2) tensor(0., device='mps:0')\n",
      "(0, 2, 1) tensor(0., device='mps:0')\n",
      "(2, 0, 1) tensor(0., device='mps:0')\n",
      "batch_size 1\n",
      "(0, 1, 2) tensor(-0.8149, device='mps:0', grad_fn=<SumBackward0>)\n",
      "(2, 0, 1) tensor(0.1851, device='mps:0', grad_fn=<SumBackward0>)\n",
      "batch_size 1\n",
      "(0, 1, 2) tensor(-0.5000, device='mps:0')\n",
      "(2, 0, 1) tensor(0.5000, device='mps:0')\n",
      "batch_size 1\n"
     ]
    },
    {
     "name": "stderr",
     "output_type": "stream",
     "text": [
      "Processing rows:   1%|          | 6/1000 [00:00<01:29, 11.16it/s]"
     ]
    },
    {
     "name": "stdout",
     "output_type": "stream",
     "text": [
      "(0, 1, 2) tensor(-0.9978, device='mps:0', grad_fn=<SumBackward0>)\n",
      "(0, 2, 1) tensor(0.0022, device='mps:0', grad_fn=<SumBackward0>)\n",
      "batch_size 1\n",
      "(0, 1, 2) tensor(-0.5000, device='mps:0')\n",
      "(0, 2, 1) tensor(0.5000, device='mps:0')\n",
      "batch_size 1\n",
      "(0, 1, 2) tensor(0.0146, device='mps:0', grad_fn=<SumBackward0>)\n",
      "batch_size 1\n",
      "(0, 1, 2) tensor(0., device='mps:0')\n",
      "batch_size 1\n",
      "(0, 2, 1) tensor(-1.9965, device='mps:0', grad_fn=<SumBackward0>)\n",
      "(1, 2, 0) tensor(-0.9965, device='mps:0', grad_fn=<SumBackward0>)\n",
      "(2, 1, 0) tensor(0.0035, device='mps:0', grad_fn=<SumBackward0>)\n",
      "batch_size 1\n",
      "(0, 2, 1) "
     ]
    },
    {
     "name": "stderr",
     "output_type": "stream",
     "text": [
      "Processing rows:   1%|          | 8/1000 [00:00<01:38, 10.11it/s]"
     ]
    },
    {
     "name": "stdout",
     "output_type": "stream",
     "text": [
      "tensor(-1.2500, device='mps:0')\n",
      "(1, 2, 0) tensor(-0.2500, device='mps:0')\n",
      "(2, 1, 0) tensor(0.7500, device='mps:0')\n",
      "batch_size 1\n",
      "(0, 1, 2) tensor(0.0166, device='mps:0', grad_fn=<SumBackward0>)\n",
      "(0, 2, 1) tensor(0.0166, device='mps:0', grad_fn=<SumBackward0>)\n",
      "(2, 0, 1) tensor(-0.9834, device='mps:0', grad_fn=<SumBackward0>)\n",
      "batch_size 1\n",
      "(0, 1, 2) tensor(0.2500, device='mps:0')\n",
      "(0, 2, 1) tensor(0.2500, device='mps:0')\n",
      "(2, 0, 1) tensor(-0.7500, device='mps:0')\n",
      "batch_size 1\n",
      "(1, 0, 2) tensor(0.0054, device='mps:0', grad_fn=<SumBackward0>)\n",
      "(2, 0, 1) tensor(0.0054, device='mps:0', grad_fn=<SumBackward0>)\n",
      "batch_size 1\n"
     ]
    },
    {
     "name": "stderr",
     "output_type": "stream",
     "text": [
      "Processing rows:   1%|          | 10/1000 [00:00<01:33, 10.61it/s]"
     ]
    },
    {
     "name": "stdout",
     "output_type": "stream",
     "text": [
      "(1, 0, 2) tensor(0., device='mps:0')\n",
      "(2, 0, 1) tensor(0., device='mps:0')\n",
      "batch_size 1\n",
      "(0, 1, 2) tensor(0.6298, device='mps:0', grad_fn=<SumBackward0>)\n",
      "(1, 2, 0) tensor(-0.3702, device='mps:0', grad_fn=<SumBackward0>)\n",
      "batch_size 1\n",
      "(0, 1, 2) tensor(0.5000, device='mps:0')\n",
      "(1, 2, 0) tensor(-0.5000, device='mps:0')\n",
      "batch_size 1\n",
      "(0, 1, 2) tensor(-0.9536, device='mps:0', grad_fn=<SumBackward0>)\n",
      "(1, 0, 2) tensor(-1.9536, device='mps:0', grad_fn=<SumBackward0>)\n",
      "(2, 1, 0) tensor(0.0464, device='mps:0', grad_fn=<SumBackward0>)\n",
      "batch_size 1\n",
      "(0, 1, 2) tensor(-0.2500, device='mps:0')\n",
      "(1, 0, 2) tensor(-1.2500, device='mps:0')\n"
     ]
    },
    {
     "name": "stderr",
     "output_type": "stream",
     "text": [
      "Processing rows:   1%|          | 12/1000 [00:01<01:37, 10.14it/s]"
     ]
    },
    {
     "name": "stdout",
     "output_type": "stream",
     "text": [
      "(2, 1, 0) tensor(0.7500, device='mps:0')\n",
      "batch_size 1\n",
      "(1, 0, 2) tensor(0.0037, device='mps:0', grad_fn=<SumBackward0>)\n",
      "(1, 2, 0) tensor(0.0037, device='mps:0', grad_fn=<SumBackward0>)\n",
      "batch_size 1\n",
      "(1, 0, 2) tensor(0., device='mps:0')\n",
      "(1, 2, 0) tensor(0., device='mps:0')\n",
      "batch_size 1\n",
      "(1, 0, 2) tensor(-0.9613, device='mps:0', grad_fn=<SumBackward0>)\n",
      "(1, 2, 0) tensor(-1.9613, device='mps:0', grad_fn=<SumBackward0>)\n",
      "(2, 1, 0) tensor(-1.9613, device='mps:0', grad_fn=<SumBackward0>)\n",
      "batch_size 1\n",
      "(1, 0, 2) tensor(0.5000, device='mps:0')\n"
     ]
    },
    {
     "name": "stderr",
     "output_type": "stream",
     "text": [
      "Processing rows:   1%|▏         | 14/1000 [00:01<01:40,  9.79it/s]"
     ]
    },
    {
     "name": "stdout",
     "output_type": "stream",
     "text": [
      "(1, 2, 0) tensor(-0.5000, device='mps:0')\n",
      "(2, 1, 0) tensor(-0.5000, device='mps:0')\n",
      "batch_size 1\n",
      "(1, 0, 2) tensor(-1.3882, device='mps:0', grad_fn=<SumBackward0>)\n",
      "(1, 2, 0) tensor(-1.3882, device='mps:0', grad_fn=<SumBackward0>)\n",
      "(2, 1, 0) tensor(-0.3882, device='mps:0', grad_fn=<SumBackward0>)\n",
      "batch_size 1\n",
      "(1, 0, 2) tensor(-0.5000, device='mps:0')\n",
      "(1, 2, 0) tensor(-0.5000, device='mps:0')\n",
      "(2, 1, 0) tensor(0.5000, device='mps:0')\n",
      "batch_size 1\n",
      "(0, 1, 2) tensor(-0.0194, device='mps:0', grad_fn=<SumBackward0>)\n",
      "(2, 1, 0) tensor(-0.0194, device='mps:0', grad_fn=<SumBackward0>)\n",
      "batch_size 1\n",
      "(0, 1, 2) tensor(0., device='mps:0')\n"
     ]
    },
    {
     "name": "stderr",
     "output_type": "stream",
     "text": [
      "Processing rows:   2%|▏         | 18/1000 [00:01<01:20, 12.20it/s]"
     ]
    },
    {
     "name": "stdout",
     "output_type": "stream",
     "text": [
      "(2, 1, 0) tensor(0., device='mps:0')\n",
      "batch_size 1\n",
      "(1, 0, 2) tensor(0.0288, device='mps:0', grad_fn=<SumBackward0>)\n",
      "batch_size 1\n",
      "(1, 0, 2) tensor(0., device='mps:0')\n",
      "batch_size 1\n",
      "(1, 2, 0) tensor(0.0052, device='mps:0', grad_fn=<SumBackward0>)\n",
      "batch_size 1\n",
      "(1, 2, 0) tensor(0., device='mps:0')\n",
      "batch_size 1\n",
      "(1, 0, 2) tensor(0.4239, device='mps:0', grad_fn=<SumBackward0>)\n",
      "batch_size 1\n",
      "(1, 0, 2) tensor(0., device='mps:0')\n",
      "batch_size 1\n",
      "(0, 1, 2) tensor(-1.0123, device='mps:0', grad_fn=<SumBackward0>)\n",
      "(1, 0, 2) tensor(-2.0123, device='mps:0', grad_fn=<SumBackward0>)\n",
      "(2, 0, 1) tensor(-2.0123, device='mps:0', grad_fn=<SumBackward0>)\n",
      "batch_size 1\n",
      "(0, 1, 2) tensor(0.5000, device='mps:0')\n",
      "(1, 0, 2) tensor(-0.5000, device='mps:0')\n",
      "(2, 0, 1) tensor(-0.5000, device='mps:0')\n",
      "batch_size 1\n",
      "(0, 1, 2) tensor(-0.0036, device='mps:0', grad_fn=<SumBackward0>)\n",
      "(0, 2, 1) tensor(-0.0036, device='mps:0', grad_fn=<SumBackward0>)\n",
      "(2, 0, 1) tensor(-0.0036, device='mps:0', grad_fn=<SumBackward0>)\n",
      "batch_size 1\n",
      "(0, 1, 2) tensor(0., device='mps:0')\n",
      "(0, 2, 1) tensor(0., device='mps:0')\n",
      "(2, 0, 1) tensor(0., device='mps:0')\n"
     ]
    },
    {
     "name": "stderr",
     "output_type": "stream",
     "text": [
      "Processing rows:   2%|▏         | 22/1000 [00:02<01:23, 11.68it/s]"
     ]
    },
    {
     "name": "stdout",
     "output_type": "stream",
     "text": [
      "batch_size 1\n",
      "(0, 1, 2) tensor(0.0395, device='mps:0', grad_fn=<SumBackward0>)\n",
      "(1, 2, 0) tensor(-0.9605, device='mps:0', grad_fn=<SumBackward0>)\n",
      "batch_size 1\n",
      "(0, 1, 2) tensor(0.5000, device='mps:0')\n",
      "(1, 2, 0) tensor(-0.5000, device='mps:0')\n",
      "batch_size 1\n",
      "(1, 0, 2) tensor(1.3675, device='mps:0', grad_fn=<SumBackward0>)\n",
      "batch_size 1\n",
      "(1, 0, 2) tensor(0., device='mps:0')\n",
      "batch_size 1\n",
      "(0, 1, 2) tensor(0.0071, device='mps:0', grad_fn=<SumBackward0>)\n",
      "(2, 1, 0) tensor(0.0071, device='mps:0', grad_fn=<SumBackward0>)\n",
      "batch_size 1\n"
     ]
    },
    {
     "name": "stderr",
     "output_type": "stream",
     "text": [
      "Processing rows:   2%|▏         | 24/1000 [00:02<01:19, 12.24it/s]"
     ]
    },
    {
     "name": "stdout",
     "output_type": "stream",
     "text": [
      "(0, 1, 2) tensor(0., device='mps:0')\n",
      "(2, 1, 0) tensor(0., device='mps:0')\n",
      "batch_size 1\n",
      "(0, 1, 2) tensor(1.8848, device='mps:0', grad_fn=<SumBackward0>)\n",
      "batch_size 1\n",
      "(0, 1, 2) tensor(0., device='mps:0')\n",
      "batch_size 1\n",
      "(2, 0, 1) tensor(2.8586, device='mps:0', grad_fn=<SumBackward0>)\n",
      "batch_size 1\n",
      "(2, 0, 1) tensor(0., device='mps:0')\n",
      "batch_size 1\n",
      "(0, 1, 2) tensor(-0.0380, device='mps:0', grad_fn=<SumBackward0>)\n",
      "(1, 2, 0) tensor(-0.0380, device='mps:0', grad_fn=<SumBackward0>)\n",
      "(2, 1, 0) tensor(-0.0380, device='mps:0', grad_fn=<SumBackward0>)\n",
      "batch_size 1\n"
     ]
    },
    {
     "name": "stderr",
     "output_type": "stream",
     "text": [
      "Processing rows:   3%|▎         | 28/1000 [00:02<01:16, 12.68it/s]"
     ]
    },
    {
     "name": "stdout",
     "output_type": "stream",
     "text": [
      "(0, 1, 2) tensor(0., device='mps:0')\n",
      "(1, 2, 0) tensor(0., device='mps:0')\n",
      "(2, 1, 0) tensor(0., device='mps:0')\n",
      "batch_size 1\n",
      "(0, 1, 2) tensor(-0.0045, device='mps:0', grad_fn=<SumBackward0>)\n",
      "(2, 1, 0) tensor(-0.0045, device='mps:0', grad_fn=<SumBackward0>)\n",
      "batch_size 1\n",
      "(0, 1, 2) tensor(0., device='mps:0')\n",
      "(2, 1, 0) tensor(0., device='mps:0')\n",
      "batch_size 1\n",
      "(2, 1, 0) tensor(0.9967, device='mps:0', grad_fn=<SumBackward0>)\n",
      "batch_size 1\n",
      "(2, 1, 0) tensor(0., device='mps:0')\n",
      "batch_size 1\n",
      "(0, 1, 2) tensor(-0.9246, device='mps:0', grad_fn=<SumBackward0>)\n"
     ]
    },
    {
     "name": "stderr",
     "output_type": "stream",
     "text": [
      "Processing rows:   3%|▎         | 30/1000 [00:02<01:13, 13.15it/s]"
     ]
    },
    {
     "name": "stdout",
     "output_type": "stream",
     "text": [
      "(1, 0, 2) tensor(0.0754, device='mps:0', grad_fn=<SumBackward0>)\n",
      "batch_size 1\n",
      "(0, 1, 2) tensor(-0.5000, device='mps:0')\n",
      "(1, 0, 2) tensor(0.5000, device='mps:0')\n",
      "batch_size 1\n",
      "(0, 2, 1) tensor(0.0002, device='mps:0', grad_fn=<SumBackward0>)\n",
      "batch_size 1\n",
      "(0, 2, 1) tensor(0., device='mps:0')\n",
      "batch_size 1\n",
      "(2, 1, 0) tensor(0.3054, device='mps:0', grad_fn=<SumBackward0>)\n",
      "batch_size 1\n",
      "(2, 1, 0) tensor(0., device='mps:0')\n",
      "batch_size 1\n",
      "(0, 1, 2) tensor(0.0315, device='mps:0', grad_fn=<SumBackward0>)\n",
      "batch_size 1\n"
     ]
    },
    {
     "name": "stderr",
     "output_type": "stream",
     "text": [
      "Processing rows:   3%|▎         | 34/1000 [00:02<01:08, 14.20it/s]"
     ]
    },
    {
     "name": "stdout",
     "output_type": "stream",
     "text": [
      "(0, 1, 2) tensor(0., device='mps:0')\n",
      "batch_size 1\n",
      "(0, 1, 2) tensor(-0.0299, device='mps:0', grad_fn=<SumBackward0>)\n",
      "(2, 1, 0) tensor(-0.0299, device='mps:0', grad_fn=<SumBackward0>)\n",
      "batch_size 1\n",
      "(0, 1, 2) tensor(0., device='mps:0')\n",
      "(2, 1, 0) tensor(0., device='mps:0')\n",
      "batch_size 1\n",
      "(0, 2, 1) tensor(0.0006, device='mps:0', grad_fn=<SumBackward0>)\n",
      "batch_size 1\n",
      "(0, 2, 1) tensor(0., device='mps:0')\n",
      "batch_size 1\n",
      "(1, 0, 2) tensor(-0.0138, device='mps:0', grad_fn=<SumBackward0>)\n",
      "batch_size 1\n",
      "(1, 0, 2) tensor(0., device='mps:0')\n"
     ]
    },
    {
     "name": "stderr",
     "output_type": "stream",
     "text": [
      "Processing rows:   4%|▎         | 36/1000 [00:02<01:06, 14.46it/s]"
     ]
    },
    {
     "name": "stdout",
     "output_type": "stream",
     "text": [
      "batch_size 1\n",
      "(1, 2, 0) tensor(0.0014, device='mps:0', grad_fn=<SumBackward0>)\n",
      "batch_size 1\n",
      "(1, 2, 0) tensor(0., device='mps:0')\n",
      "batch_size 1\n",
      "(0, 1, 2) tensor(-0.3961, device='mps:0', grad_fn=<SumBackward0>)\n",
      "(1, 0, 2) tensor(0.6039, device='mps:0', grad_fn=<SumBackward0>)\n",
      "(2, 1, 0) tensor(-0.3961, device='mps:0', grad_fn=<SumBackward0>)\n",
      "batch_size 1\n",
      "(0, 1, 2) tensor(-0.5000, device='mps:0')\n",
      "(1, 0, 2) tensor(0.5000, device='mps:0')\n",
      "(2, 1, 0) tensor(-0.5000, device='mps:0')\n",
      "batch_size 1\n"
     ]
    },
    {
     "name": "stderr",
     "output_type": "stream",
     "text": [
      "Processing rows:   4%|▍         | 40/1000 [00:03<01:05, 14.67it/s]"
     ]
    },
    {
     "name": "stdout",
     "output_type": "stream",
     "text": [
      "(1, 2, 0) tensor(0.0001, device='mps:0', grad_fn=<SumBackward0>)\n",
      "batch_size 1\n",
      "(1, 2, 0) tensor(0., device='mps:0')\n",
      "batch_size 1\n",
      "(0, 1, 2) tensor(-0.0163, device='mps:0', grad_fn=<SumBackward0>)\n",
      "batch_size 1\n",
      "(0, 1, 2) tensor(0., device='mps:0')\n",
      "batch_size 1\n",
      "(1, 2, 0) tensor(0.0007, device='mps:0', grad_fn=<SumBackward0>)\n",
      "batch_size 1\n",
      "(1, 2, 0) tensor(0., device='mps:0')\n",
      "batch_size 1\n",
      "(0, 1, 2) tensor(0.9130, device='mps:0', grad_fn=<SumBackward0>)\n",
      "batch_size 1\n",
      "(0, 1, 2) tensor(0., device='mps:0')\n"
     ]
    },
    {
     "name": "stderr",
     "output_type": "stream",
     "text": [
      "Processing rows:   4%|▍         | 42/1000 [00:03<01:03, 15.10it/s]"
     ]
    },
    {
     "name": "stdout",
     "output_type": "stream",
     "text": [
      "batch_size 1\n",
      "(1, 0, 2) tensor(-0.0396, device='mps:0', grad_fn=<SumBackward0>)\n",
      "batch_size 1\n",
      "(1, 0, 2) tensor(0., device='mps:0')\n",
      "batch_size 1\n",
      "(0, 1, 2) tensor(-0.9536, device='mps:0', grad_fn=<SumBackward0>)\n",
      "(1, 0, 2) tensor(-1.9536, device='mps:0', grad_fn=<SumBackward0>)\n",
      "(2, 1, 0) tensor(0.0464, device='mps:0', grad_fn=<SumBackward0>)\n",
      "batch_size 1\n",
      "(0, 1, 2) tensor(-0.2500, device='mps:0')\n",
      "(1, 0, 2) tensor(-1.2500, device='mps:0')\n",
      "(2, 1, 0) tensor(0.7500, device='mps:0')\n",
      "batch_size 1\n",
      "(0, 1, 2) tensor(0.0043, device='mps:0', grad_fn=<SumBackward0>)\n",
      "batch_size 1\n"
     ]
    },
    {
     "name": "stderr",
     "output_type": "stream",
     "text": [
      "Processing rows:   5%|▍         | 46/1000 [00:03<01:08, 14.02it/s]"
     ]
    },
    {
     "name": "stdout",
     "output_type": "stream",
     "text": [
      "(0, 1, 2) tensor(0., device='mps:0')\n",
      "batch_size 1\n",
      "(0, 1, 2) tensor(0.0028, device='mps:0', grad_fn=<SumBackward0>)\n",
      "(1, 0, 2) tensor(0.0028, device='mps:0', grad_fn=<SumBackward0>)\n",
      "batch_size 1\n",
      "(0, 1, 2) tensor(0., device='mps:0')\n",
      "(1, 0, 2) tensor(0., device='mps:0')\n",
      "batch_size 1\n",
      "(2, 0, 1) tensor(1.4462, device='mps:0', grad_fn=<SumBackward0>)\n",
      "batch_size 1\n",
      "(2, 0, 1) tensor(0., device='mps:0')\n",
      "batch_size 1\n",
      "(1, 0, 2) tensor(0.0004, device='mps:0', grad_fn=<SumBackward0>)\n",
      "batch_size 1\n"
     ]
    },
    {
     "name": "stderr",
     "output_type": "stream",
     "text": [
      "Processing rows:   5%|▍         | 48/1000 [00:03<01:05, 14.64it/s]"
     ]
    },
    {
     "name": "stdout",
     "output_type": "stream",
     "text": [
      "(1, 0, 2) tensor(0., device='mps:0')\n",
      "batch_size 1\n",
      "(1, 0, 2) tensor(-0.0040, device='mps:0', grad_fn=<SumBackward0>)\n",
      "batch_size 1\n",
      "(1, 0, 2) tensor(0., device='mps:0')\n",
      "batch_size 1\n",
      "(0, 1, 2) tensor(0.1319, device='mps:0', grad_fn=<SumBackward0>)\n",
      "(1, 2, 0) tensor(-0.8681, device='mps:0', grad_fn=<SumBackward0>)\n",
      "batch_size 1\n",
      "(0, 1, 2) tensor(0.5000, device='mps:0')\n",
      "(1, 2, 0) tensor(-0.5000, device='mps:0')\n",
      "batch_size 1\n",
      "(0, 2, 1) tensor(0.0002, device='mps:0', grad_fn=<SumBackward0>)\n",
      "(1, 0, 2) tensor(-0.9998, device='mps:0', grad_fn=<SumBackward0>)\n",
      "(2, 0, 1) tensor(-0.9998, device='mps:0', grad_fn=<SumBackward0>)\n"
     ]
    },
    {
     "name": "stderr",
     "output_type": "stream",
     "text": [
      "Processing rows:   5%|▌         | 50/1000 [00:04<01:13, 12.94it/s]"
     ]
    },
    {
     "name": "stdout",
     "output_type": "stream",
     "text": [
      "batch_size 1\n",
      "(0, 2, 1) tensor(0.5000, device='mps:0')\n",
      "(1, 0, 2) tensor(-0.5000, device='mps:0')\n",
      "(2, 0, 1) tensor(-0.5000, device='mps:0')\n",
      "batch_size 1\n",
      "(1, 0, 2) tensor(0.0090, device='mps:0', grad_fn=<SumBackward0>)\n",
      "(1, 2, 0) tensor(-0.9910, device='mps:0', grad_fn=<SumBackward0>)\n",
      "batch_size 1\n",
      "(1, 0, 2) tensor(0.5000, device='mps:0')\n",
      "(1, 2, 0) tensor(-0.5000, device='mps:0')\n",
      "batch_size 1\n",
      "(0, 1, 2) tensor(-0.1175, device='mps:0', grad_fn=<SumBackward0>)\n",
      "(2, 1, 0) tensor(-0.1175, device='mps:0', grad_fn=<SumBackward0>)\n",
      "batch_size 1\n"
     ]
    },
    {
     "name": "stderr",
     "output_type": "stream",
     "text": [
      "Processing rows:   5%|▌         | 54/1000 [00:04<01:17, 12.25it/s]"
     ]
    },
    {
     "name": "stdout",
     "output_type": "stream",
     "text": [
      "(0, 1, 2) tensor(0., device='mps:0')\n",
      "(2, 1, 0) tensor(0., device='mps:0')\n",
      "batch_size 1\n",
      "(1, 0, 2) tensor(-0.3210, device='mps:0', grad_fn=<SumBackward0>)\n",
      "(1, 2, 0) tensor(0.6790, device='mps:0', grad_fn=<SumBackward0>)\n",
      "(2, 0, 1) tensor(-1.3210, device='mps:0', grad_fn=<SumBackward0>)\n",
      "batch_size 1\n",
      "(1, 0, 2) tensor(-0.2500, device='mps:0')\n",
      "(1, 2, 0) tensor(0.7500, device='mps:0')\n",
      "(2, 0, 1) tensor(-1.2500, device='mps:0')\n",
      "batch_size 1\n",
      "(1, 2, 0) tensor(0.0001, device='mps:0', grad_fn=<SumBackward0>)\n",
      "batch_size 1\n",
      "(1, 2, 0) tensor(0., device='mps:0')\n"
     ]
    },
    {
     "name": "stderr",
     "output_type": "stream",
     "text": [
      "Processing rows:   6%|▌         | 56/1000 [00:04<01:17, 12.22it/s]"
     ]
    },
    {
     "name": "stdout",
     "output_type": "stream",
     "text": [
      "batch_size 1\n",
      "(0, 1, 2) tensor(0.0052, device='mps:0', grad_fn=<SumBackward0>)\n",
      "batch_size 1\n",
      "(0, 1, 2) tensor(0., device='mps:0')\n",
      "batch_size 1\n",
      "(0, 1, 2) tensor(-0.0042, device='mps:0', grad_fn=<SumBackward0>)\n",
      "(2, 0, 1) tensor(-0.0042, device='mps:0', grad_fn=<SumBackward0>)\n",
      "(2, 1, 0) tensor(-0.0042, device='mps:0', grad_fn=<SumBackward0>)\n",
      "batch_size 1\n",
      "(0, 1, 2) tensor(0., device='mps:0')\n",
      "(2, 0, 1) tensor(0., device='mps:0')\n",
      "(2, 1, 0) tensor(0., device='mps:0')\n",
      "batch_size 1\n",
      "(0, 1, 2) tensor(0.0041, device='mps:0', grad_fn=<SumBackward0>)\n",
      "(0, 2, 1) tensor(-0.9959, device='mps:0', grad_fn=<SumBackward0>)\n"
     ]
    },
    {
     "name": "stderr",
     "output_type": "stream",
     "text": [
      "Processing rows:   6%|▌         | 58/1000 [00:04<01:23, 11.31it/s]"
     ]
    },
    {
     "name": "stdout",
     "output_type": "stream",
     "text": [
      "(2, 0, 1) tensor(-0.9959, device='mps:0', grad_fn=<SumBackward0>)\n",
      "batch_size 1\n",
      "(0, 1, 2) tensor(0.5000, device='mps:0')\n",
      "(0, 2, 1) tensor(-0.5000, device='mps:0')\n",
      "(2, 0, 1) tensor(-0.5000, device='mps:0')\n",
      "batch_size 1\n",
      "(0, 1, 2) tensor(0.0022, device='mps:0', grad_fn=<SumBackward0>)\n",
      "(2, 0, 1) tensor(1.0022, device='mps:0', grad_fn=<SumBackward0>)\n",
      "batch_size 1\n",
      "(0, 1, 2) tensor(-0.5000, device='mps:0')\n",
      "(2, 0, 1) tensor(0.5000, device='mps:0')\n",
      "batch_size 1\n",
      "(1, 0, 2) tensor(-0.0004, device='mps:0', grad_fn=<SumBackward0>)\n",
      "(2, 0, 1) tensor(-1.0004, device='mps:0', grad_fn=<SumBackward0>)\n"
     ]
    },
    {
     "name": "stderr",
     "output_type": "stream",
     "text": [
      "Processing rows:   6%|▌         | 60/1000 [00:04<01:26, 10.91it/s]"
     ]
    },
    {
     "name": "stdout",
     "output_type": "stream",
     "text": [
      "batch_size 1\n",
      "(1, 0, 2) tensor(0.5000, device='mps:0')\n",
      "(2, 0, 1) tensor(-0.5000, device='mps:0')\n",
      "batch_size 1\n",
      "(0, 1, 2) tensor(0.1088, device='mps:0', grad_fn=<SumBackward0>)\n",
      "(1, 2, 0) tensor(-0.8912, device='mps:0', grad_fn=<SumBackward0>)\n",
      "(2, 1, 0) tensor(-0.8912, device='mps:0', grad_fn=<SumBackward0>)\n",
      "batch_size 1\n",
      "(0, 1, 2) tensor(0.5000, device='mps:0')\n",
      "(1, 2, 0) tensor(-0.5000, device='mps:0')\n",
      "(2, 1, 0) tensor(-0.5000, device='mps:0')\n",
      "batch_size 1\n",
      "(1, 0, 2) tensor(0.0026, device='mps:0', grad_fn=<SumBackward0>)\n",
      "batch_size 1\n"
     ]
    },
    {
     "name": "stderr",
     "output_type": "stream",
     "text": [
      "Processing rows:   6%|▌         | 62/1000 [00:05<01:16, 12.22it/s]"
     ]
    },
    {
     "name": "stdout",
     "output_type": "stream",
     "text": [
      "(1, 0, 2) tensor(0., device='mps:0')\n",
      "batch_size 1\n",
      "(2, 0, 1) tensor(0.0006, device='mps:0', grad_fn=<SumBackward0>)\n",
      "batch_size 1\n",
      "(2, 0, 1) tensor(0., device='mps:0')\n",
      "batch_size 1\n",
      "(2, 1, 0) tensor(0.0090, device='mps:0', grad_fn=<SumBackward0>)\n",
      "batch_size 1\n",
      "(2, 1, 0) tensor(0., device='mps:0')\n",
      "batch_size 1\n",
      "(1, 2, 0) tensor(0.0076, device='mps:0', grad_fn=<SumBackward0>)\n",
      "(2, 1, 0) tensor(-0.9924, device='mps:0', grad_fn=<SumBackward0>)\n",
      "batch_size 1\n",
      "(1, 2, 0) tensor(0.5000, device='mps:0')\n",
      "(2, 1, 0) "
     ]
    },
    {
     "name": "stderr",
     "output_type": "stream",
     "text": [
      "Processing rows:   7%|▋         | 66/1000 [00:05<01:14, 12.60it/s]"
     ]
    },
    {
     "name": "stdout",
     "output_type": "stream",
     "text": [
      "tensor(-0.5000, device='mps:0')\n",
      "batch_size 1\n",
      "(0, 1, 2) tensor(0.0089, device='mps:0', grad_fn=<SumBackward0>)\n",
      "batch_size 1\n",
      "(0, 1, 2) tensor(0., device='mps:0')\n",
      "batch_size 1\n",
      "(0, 1, 2) tensor(-0.0023, device='mps:0', grad_fn=<SumBackward0>)\n",
      "(0, 2, 1) tensor(-0.0023, device='mps:0', grad_fn=<SumBackward0>)\n",
      "(1, 0, 2) tensor(-0.0023, device='mps:0', grad_fn=<SumBackward0>)\n",
      "batch_size 1\n",
      "(0, 1, 2) tensor(0., device='mps:0')\n",
      "(0, 2, 1) tensor(0., device='mps:0')\n",
      "(1, 0, 2) tensor(0., device='mps:0')\n",
      "batch_size 1\n",
      "(0, 1, 2) tensor(-0.0359, device='mps:0', grad_fn=<SumBackward0>)\n"
     ]
    },
    {
     "name": "stderr",
     "output_type": "stream",
     "text": [
      "Processing rows:   7%|▋         | 68/1000 [00:05<01:11, 13.01it/s]"
     ]
    },
    {
     "name": "stdout",
     "output_type": "stream",
     "text": [
      "(2, 1, 0) tensor(-0.0359, device='mps:0', grad_fn=<SumBackward0>)\n",
      "batch_size 1\n",
      "(0, 1, 2) tensor(0., device='mps:0')\n",
      "(2, 1, 0) tensor(0., device='mps:0')\n",
      "batch_size 1\n",
      "(1, 0, 2) tensor(-0.0008, device='mps:0', grad_fn=<SumBackward0>)\n",
      "batch_size 1\n",
      "(1, 0, 2) tensor(0., device='mps:0')\n",
      "batch_size 1\n",
      "(0, 1, 2) tensor(0.0005, device='mps:0', grad_fn=<SumBackward0>)\n",
      "(2, 1, 0) tensor(0.0005, device='mps:0', grad_fn=<SumBackward0>)\n",
      "batch_size 1\n",
      "(0, 1, 2) tensor(0., device='mps:0')\n",
      "(2, 1, 0) tensor(0., device='mps:0')\n",
      "batch_size 1\n"
     ]
    },
    {
     "name": "stderr",
     "output_type": "stream",
     "text": [
      "Processing rows:   7%|▋         | 70/1000 [00:05<01:13, 12.60it/s]"
     ]
    },
    {
     "name": "stdout",
     "output_type": "stream",
     "text": [
      "(1, 0, 2) tensor(-0.0009, device='mps:0', grad_fn=<SumBackward0>)\n",
      "(1, 2, 0) tensor(-0.0009, device='mps:0', grad_fn=<SumBackward0>)\n",
      "batch_size 1\n",
      "(1, 0, 2) tensor(0., device='mps:0')\n",
      "(1, 2, 0) tensor(0., device='mps:0')\n",
      "batch_size 1\n",
      "(0, 1, 2) tensor(-0.0008, device='mps:0', grad_fn=<SumBackward0>)\n",
      "batch_size 1\n",
      "(0, 1, 2) tensor(0., device='mps:0')\n",
      "batch_size 1\n",
      "(0, 1, 2) tensor(0.0026, device='mps:0', grad_fn=<SumBackward0>)\n",
      "(2, 1, 0) tensor(-0.9974, device='mps:0', grad_fn=<SumBackward0>)\n",
      "batch_size 1\n",
      "(0, 1, 2) tensor(0.5000, device='mps:0')\n",
      "(2, 1, 0) tensor(-0.5000, device='mps:0')\n"
     ]
    },
    {
     "name": "stderr",
     "output_type": "stream",
     "text": [
      "Processing rows:   7%|▋         | 72/1000 [00:05<01:11, 12.98it/s]"
     ]
    },
    {
     "name": "stdout",
     "output_type": "stream",
     "text": [
      "batch_size 1\n",
      "(0, 1, 2) tensor(-0.0082, device='mps:0', grad_fn=<SumBackward0>)\n",
      "(2, 0, 1) tensor(0.9918, device='mps:0', grad_fn=<SumBackward0>)\n",
      "(2, 1, 0) tensor(-0.0082, device='mps:0', grad_fn=<SumBackward0>)\n",
      "batch_size 1\n",
      "(0, 1, 2) tensor(-0.5000, device='mps:0')\n",
      "(2, 0, 1) tensor(0.5000, device='mps:0')\n",
      "(2, 1, 0) tensor(-0.5000, device='mps:0')\n",
      "batch_size 1\n",
      "(0, 1, 2) tensor(-0.9990, device='mps:0', grad_fn=<SumBackward0>)\n",
      "(1, 0, 2) tensor(0.0010, device='mps:0', grad_fn=<SumBackward0>)\n",
      "(2, 1, 0) tensor(-1.9990, device='mps:0', grad_fn=<SumBackward0>)\n",
      "batch_size 1\n"
     ]
    },
    {
     "name": "stderr",
     "output_type": "stream",
     "text": [
      "Processing rows:   8%|▊         | 76/1000 [00:06<01:15, 12.28it/s]"
     ]
    },
    {
     "name": "stdout",
     "output_type": "stream",
     "text": [
      "(0, 1, 2) tensor(-0.2500, device='mps:0')\n",
      "(1, 0, 2) tensor(0.7500, device='mps:0')\n",
      "(2, 1, 0) tensor(-1.2500, device='mps:0')\n",
      "batch_size 1\n",
      "(1, 2, 0) tensor(0.0003, device='mps:0', grad_fn=<SumBackward0>)\n",
      "batch_size 1\n",
      "(1, 2, 0) tensor(0., device='mps:0')\n",
      "batch_size 1\n",
      "(1, 0, 2) tensor(0.0011, device='mps:0', grad_fn=<SumBackward0>)\n",
      "batch_size 1\n",
      "(1, 0, 2) tensor(0., device='mps:0')\n",
      "batch_size 1\n",
      "(1, 0, 2) tensor(-0.0041, device='mps:0', grad_fn=<SumBackward0>)\n",
      "(1, 2, 0) tensor(-0.0041, device='mps:0', grad_fn=<SumBackward0>)\n"
     ]
    },
    {
     "name": "stderr",
     "output_type": "stream",
     "text": [
      "Processing rows:   8%|▊         | 78/1000 [00:06<01:15, 12.16it/s]"
     ]
    },
    {
     "name": "stdout",
     "output_type": "stream",
     "text": [
      "batch_size 1\n",
      "(1, 0, 2) tensor(0., device='mps:0')\n",
      "(1, 2, 0) tensor(0., device='mps:0')\n",
      "batch_size 1\n",
      "(1, 0, 2) tensor(-0.4812, device='mps:0', grad_fn=<SumBackward0>)\n",
      "(1, 2, 0) tensor(0.5188, device='mps:0', grad_fn=<SumBackward0>)\n",
      "batch_size 1\n",
      "(1, 0, 2) tensor(-0.5000, device='mps:0')\n",
      "(1, 2, 0) tensor(0.5000, device='mps:0')\n",
      "batch_size 1\n",
      "(2, 0, 1) tensor(0.0014, device='mps:0', grad_fn=<SumBackward0>)\n",
      "batch_size 1\n",
      "(2, 0, 1) tensor(0., device='mps:0')\n",
      "batch_size 1\n"
     ]
    },
    {
     "name": "stderr",
     "output_type": "stream",
     "text": [
      "Processing rows:   8%|▊         | 80/1000 [00:06<01:13, 12.58it/s]"
     ]
    },
    {
     "name": "stdout",
     "output_type": "stream",
     "text": [
      "(1, 0, 2) tensor(0.0309, device='mps:0', grad_fn=<SumBackward0>)\n",
      "(1, 2, 0) tensor(0.0309, device='mps:0', grad_fn=<SumBackward0>)\n",
      "batch_size 1\n",
      "(1, 0, 2) tensor(0., device='mps:0')\n",
      "(1, 2, 0) tensor(0., device='mps:0')\n",
      "batch_size 1\n",
      "(1, 0, 2) tensor(0.0314, device='mps:0', grad_fn=<SumBackward0>)\n",
      "(1, 2, 0) tensor(0.0314, device='mps:0', grad_fn=<SumBackward0>)\n",
      "batch_size 1\n",
      "(1, 0, 2) tensor(0., device='mps:0')\n",
      "(1, 2, 0) tensor(0., device='mps:0')\n",
      "batch_size 1\n",
      "(2, 0, 1) tensor(1.9723, device='mps:0', grad_fn=<SumBackward0>)\n",
      "batch_size 1\n",
      "(2, 0, 1) tensor(0., device='mps:0')\n"
     ]
    },
    {
     "name": "stderr",
     "output_type": "stream",
     "text": [
      "Processing rows:   8%|▊         | 84/1000 [00:06<01:15, 12.12it/s]"
     ]
    },
    {
     "name": "stdout",
     "output_type": "stream",
     "text": [
      "batch_size 1\n",
      "(0, 1, 2) tensor(-0.0314, device='mps:0', grad_fn=<SumBackward0>)\n",
      "(2, 1, 0) tensor(-0.0314, device='mps:0', grad_fn=<SumBackward0>)\n",
      "batch_size 1\n",
      "(0, 1, 2) tensor(0., device='mps:0')\n",
      "(2, 1, 0) tensor(0., device='mps:0')\n",
      "batch_size 1\n",
      "(0, 2, 1) tensor(0.0003, device='mps:0', grad_fn=<SumBackward0>)\n",
      "(2, 0, 1) tensor(-0.9997, device='mps:0', grad_fn=<SumBackward0>)\n",
      "(2, 1, 0) tensor(-1.9997, device='mps:0', grad_fn=<SumBackward0>)\n",
      "batch_size 1\n",
      "(0, 2, 1) tensor(0.7500, device='mps:0')\n",
      "(2, 0, 1) tensor(-0.2500, device='mps:0')\n",
      "(2, 1, 0) tensor(-1.2500, device='mps:0')\n",
      "batch_size 1\n"
     ]
    },
    {
     "name": "stderr",
     "output_type": "stream",
     "text": [
      "Processing rows:   9%|▊         | 86/1000 [00:06<01:09, 13.08it/s]"
     ]
    },
    {
     "name": "stdout",
     "output_type": "stream",
     "text": [
      "(0, 2, 1) tensor(0.9850, device='mps:0', grad_fn=<SumBackward0>)\n",
      "batch_size 1\n",
      "(0, 2, 1) tensor(0., device='mps:0')\n",
      "batch_size 1\n",
      "(0, 2, 1) tensor(0.0077, device='mps:0', grad_fn=<SumBackward0>)\n",
      "batch_size 1\n",
      "(0, 2, 1) tensor(0., device='mps:0')\n",
      "batch_size 1\n",
      "(1, 2, 0) tensor(-0.4031, device='mps:0', grad_fn=<SumBackward0>)\n",
      "(2, 0, 1) tensor(-1.4031, device='mps:0', grad_fn=<SumBackward0>)\n",
      "(2, 1, 0) tensor(-1.4031, device='mps:0', grad_fn=<SumBackward0>)\n",
      "batch_size 1\n",
      "(1, 2, 0) tensor(0.5000, device='mps:0')\n",
      "(2, 0, 1) tensor(-0.5000, device='mps:0')\n"
     ]
    },
    {
     "name": "stderr",
     "output_type": "stream",
     "text": [
      "Processing rows:   9%|▉         | 88/1000 [00:07<01:13, 12.42it/s]"
     ]
    },
    {
     "name": "stdout",
     "output_type": "stream",
     "text": [
      "(2, 1, 0) tensor(-0.5000, device='mps:0')\n",
      "batch_size 1\n",
      "(2, 1, 0) tensor(0.0934, device='mps:0', grad_fn=<SumBackward0>)\n",
      "batch_size 1\n",
      "(2, 1, 0) tensor(0., device='mps:0')\n",
      "batch_size 1\n",
      "(0, 1, 2) tensor(-0.0040, device='mps:0', grad_fn=<SumBackward0>)\n",
      "(1, 0, 2) tensor(-0.0040, device='mps:0', grad_fn=<SumBackward0>)\n",
      "(2, 0, 1) tensor(-0.0040, device='mps:0', grad_fn=<SumBackward0>)\n",
      "batch_size 1\n",
      "(0, 1, 2) tensor(0., device='mps:0')\n",
      "(1, 0, 2) tensor(0., device='mps:0')\n",
      "(2, 0, 1) tensor(0., device='mps:0')\n",
      "batch_size 1\n"
     ]
    },
    {
     "name": "stderr",
     "output_type": "stream",
     "text": [
      "Processing rows:   9%|▉         | 90/1000 [00:07<01:14, 12.21it/s]"
     ]
    },
    {
     "name": "stdout",
     "output_type": "stream",
     "text": [
      "(0, 1, 2) tensor(0.0019, device='mps:0', grad_fn=<SumBackward0>)\n",
      "batch_size 1\n",
      "(0, 1, 2) tensor(0., device='mps:0')\n",
      "batch_size 1\n",
      "(1, 2, 0) tensor(-0.1727, device='mps:0', grad_fn=<SumBackward0>)\n",
      "(2, 1, 0) tensor(-0.1727, device='mps:0', grad_fn=<SumBackward0>)\n",
      "batch_size 1\n",
      "(1, 2, 0) tensor(0., device='mps:0')\n",
      "(2, 1, 0) tensor(0., device='mps:0')\n",
      "batch_size 1\n",
      "(0, 2, 1) tensor(-0.0158, device='mps:0', grad_fn=<SumBackward0>)\n",
      "(1, 0, 2) tensor(0.9842, device='mps:0', grad_fn=<SumBackward0>)\n",
      "batch_size 1\n",
      "(0, 2, 1) tensor(-0.5000, device='mps:0')\n",
      "(1, 0, 2) tensor(0.5000, device='mps:0')\n"
     ]
    },
    {
     "name": "stderr",
     "output_type": "stream",
     "text": [
      "Processing rows:   9%|▉         | 94/1000 [00:07<01:14, 12.22it/s]"
     ]
    },
    {
     "name": "stdout",
     "output_type": "stream",
     "text": [
      "batch_size 1\n",
      "(1, 0, 2) tensor(0.0008, device='mps:0', grad_fn=<SumBackward0>)\n",
      "(2, 0, 1) tensor(0.0008, device='mps:0', grad_fn=<SumBackward0>)\n",
      "batch_size 1\n",
      "(1, 0, 2) tensor(0., device='mps:0')\n",
      "(2, 0, 1) tensor(0., device='mps:0')\n",
      "batch_size 1\n",
      "(0, 2, 1) tensor(-0.9911, device='mps:0', grad_fn=<SumBackward0>)\n",
      "batch_size 1\n",
      "(0, 2, 1) tensor(0., device='mps:0')\n",
      "batch_size 1\n",
      "(0, 1, 2) tensor(0.8648, device='mps:0', grad_fn=<SumBackward0>)\n",
      "(1, 0, 2) tensor(-0.1352, device='mps:0', grad_fn=<SumBackward0>)\n",
      "batch_size 1\n"
     ]
    },
    {
     "name": "stderr",
     "output_type": "stream",
     "text": [
      "Processing rows:  10%|▉         | 96/1000 [00:07<01:10, 12.77it/s]"
     ]
    },
    {
     "name": "stdout",
     "output_type": "stream",
     "text": [
      "(0, 1, 2) tensor(0.5000, device='mps:0')\n",
      "(1, 0, 2) tensor(-0.5000, device='mps:0')\n",
      "batch_size 1\n",
      "(2, 1, 0) tensor(0.0934, device='mps:0', grad_fn=<SumBackward0>)\n",
      "batch_size 1\n",
      "(2, 1, 0) tensor(0., device='mps:0')\n",
      "batch_size 1\n",
      "(0, 1, 2) tensor(-0.0013, device='mps:0', grad_fn=<SumBackward0>)\n",
      "(1, 0, 2) tensor(-0.0013, device='mps:0', grad_fn=<SumBackward0>)\n",
      "batch_size 1\n",
      "(0, 1, 2) tensor(0., device='mps:0')\n",
      "(1, 0, 2) tensor(0., device='mps:0')\n"
     ]
    },
    {
     "name": "stderr",
     "output_type": "stream",
     "text": [
      "Processing rows:  10%|▉         | 98/1000 [00:08<01:24, 10.68it/s]"
     ]
    },
    {
     "name": "stdout",
     "output_type": "stream",
     "text": [
      "batch_size 1\n",
      "(0, 2, 1) tensor(-0.9945, device='mps:0', grad_fn=<SumBackward0>)\n",
      "(1, 0, 2) tensor(0.0055, device='mps:0', grad_fn=<SumBackward0>)\n",
      "(2, 0, 1) tensor(-0.9945, device='mps:0', grad_fn=<SumBackward0>)\n",
      "batch_size 1\n",
      "(0, 2, 1) tensor(-0.5000, device='mps:0')\n",
      "(1, 0, 2) tensor(0.5000, device='mps:0')\n",
      "(2, 0, 1) tensor(-0.5000, device='mps:0')\n",
      "batch_size 1\n",
      "(0, 1, 2) tensor(-0.0004, device='mps:0', grad_fn=<SumBackward0>)\n",
      "batch_size 1\n",
      "(0, 1, 2) tensor(0., device='mps:0')\n"
     ]
    },
    {
     "name": "stderr",
     "output_type": "stream",
     "text": [
      "Processing rows:  10%|█         | 100/1000 [00:08<01:16, 11.78it/s]"
     ]
    },
    {
     "name": "stdout",
     "output_type": "stream",
     "text": [
      "batch_size 1\n",
      "(1, 2, 0) tensor(0.0010, device='mps:0', grad_fn=<SumBackward0>)\n",
      "batch_size 1\n",
      "(1, 2, 0) tensor(0., device='mps:0')\n",
      "batch_size 1\n",
      "(0, 1, 2) tensor(0.0161, device='mps:0', grad_fn=<SumBackward0>)\n",
      "(2, 1, 0) tensor(0.0161, device='mps:0', grad_fn=<SumBackward0>)\n",
      "batch_size 1\n",
      "(0, 1, 2) tensor(0., device='mps:0')\n",
      "(2, 1, 0) tensor(0., device='mps:0')\n",
      "batch_size 1\n",
      "(2, 0, 1) tensor(1.0012, device='mps:0', grad_fn=<SumBackward0>)\n",
      "batch_size 1\n"
     ]
    },
    {
     "name": "stderr",
     "output_type": "stream",
     "text": [
      "Processing rows:  10%|█         | 102/1000 [00:08<01:14, 12.11it/s]"
     ]
    },
    {
     "name": "stdout",
     "output_type": "stream",
     "text": [
      "(2, 0, 1) tensor(0., device='mps:0')\n",
      "batch_size 1\n",
      "(1, 0, 2) tensor(-0.7350, device='mps:0', grad_fn=<SumBackward0>)\n",
      "(2, 0, 1) tensor(-0.7350, device='mps:0', grad_fn=<SumBackward0>)\n",
      "(2, 1, 0) tensor(0.2650, device='mps:0', grad_fn=<SumBackward0>)\n",
      "batch_size 1\n",
      "(1, 0, 2) tensor(-0.5000, device='mps:0')\n",
      "(2, 0, 1) tensor(-0.5000, device='mps:0')\n",
      "(2, 1, 0) tensor(0.5000, device='mps:0')\n",
      "batch_size 1\n",
      "(1, 0, 2) tensor(-1.9971, device='mps:0', grad_fn=<SumBackward0>)\n",
      "(2, 0, 1) tensor(-0.9971, device='mps:0', grad_fn=<SumBackward0>)\n",
      "(2, 1, 0) tensor(0.0029, device='mps:0', grad_fn=<SumBackward0>)\n",
      "batch_size 1\n"
     ]
    },
    {
     "name": "stderr",
     "output_type": "stream",
     "text": [
      "Processing rows:  11%|█         | 106/1000 [00:08<01:19, 11.21it/s]"
     ]
    },
    {
     "name": "stdout",
     "output_type": "stream",
     "text": [
      "(1, 0, 2) tensor(-1.2500, device='mps:0')\n",
      "(2, 0, 1) tensor(-0.2500, device='mps:0')\n",
      "(2, 1, 0) tensor(0.7500, device='mps:0')\n",
      "batch_size 1\n",
      "(0, 2, 1) tensor(-0.0074, device='mps:0', grad_fn=<SumBackward0>)\n",
      "(1, 2, 0) tensor(-0.0074, device='mps:0', grad_fn=<SumBackward0>)\n",
      "batch_size 1\n",
      "(0, 2, 1) tensor(0., device='mps:0')\n",
      "(1, 2, 0) tensor(0., device='mps:0')\n",
      "batch_size 1\n",
      "(2, 0, 1) tensor(0.2339, device='mps:0', grad_fn=<SumBackward0>)\n",
      "batch_size 1\n",
      "(2, 0, 1) tensor(0., device='mps:0')\n"
     ]
    },
    {
     "name": "stderr",
     "output_type": "stream",
     "text": [
      "Processing rows:  11%|█         | 108/1000 [00:08<01:20, 11.13it/s]"
     ]
    },
    {
     "name": "stdout",
     "output_type": "stream",
     "text": [
      "batch_size 1\n",
      "(1, 0, 2) tensor(0.0005, device='mps:0', grad_fn=<SumBackward0>)\n",
      "batch_size 1\n",
      "(1, 0, 2) tensor(0., device='mps:0')\n",
      "batch_size 1\n",
      "(0, 1, 2) tensor(0.0026, device='mps:0', grad_fn=<SumBackward0>)\n",
      "(1, 2, 0) tensor(-0.9974, device='mps:0', grad_fn=<SumBackward0>)\n",
      "(2, 1, 0) tensor(0.0026, device='mps:0', grad_fn=<SumBackward0>)\n",
      "batch_size 1\n",
      "(0, 1, 2) tensor(0.2500, device='mps:0')\n",
      "(1, 2, 0) tensor(-0.7500, device='mps:0')\n",
      "(2, 1, 0) tensor(0.2500, device='mps:0')\n",
      "batch_size 1\n"
     ]
    },
    {
     "name": "stderr",
     "output_type": "stream",
     "text": [
      "Processing rows:  11%|█         | 110/1000 [00:09<01:21, 10.87it/s]"
     ]
    },
    {
     "name": "stdout",
     "output_type": "stream",
     "text": [
      "(2, 1, 0) tensor(0.0797, device='mps:0', grad_fn=<SumBackward0>)\n",
      "batch_size 1\n",
      "(2, 1, 0) tensor(0., device='mps:0')\n",
      "batch_size 1\n",
      "(0, 2, 1) tensor(0.0132, device='mps:0', grad_fn=<SumBackward0>)\n",
      "(1, 2, 0) tensor(0.0132, device='mps:0', grad_fn=<SumBackward0>)\n",
      "(2, 1, 0) tensor(0.0132, device='mps:0', grad_fn=<SumBackward0>)\n",
      "batch_size 1\n",
      "(0, 2, 1) tensor(0., device='mps:0')\n",
      "(1, 2, 0) tensor(0., device='mps:0')\n",
      "(2, 1, 0) tensor(0., device='mps:0')\n",
      "batch_size 1\n",
      "(2, 0, 1) tensor(2.9216, device='mps:0', grad_fn=<SumBackward0>)\n",
      "batch_size 1\n"
     ]
    },
    {
     "name": "stderr",
     "output_type": "stream",
     "text": [
      "Processing rows:  11%|█         | 112/1000 [00:09<01:16, 11.54it/s]"
     ]
    },
    {
     "name": "stdout",
     "output_type": "stream",
     "text": [
      "(2, 0, 1) tensor(0., device='mps:0')\n",
      "batch_size 1\n",
      "(0, 2, 1) tensor(-1.9952, device='mps:0', grad_fn=<SumBackward0>)\n",
      "(2, 1, 0) tensor(0.0048, device='mps:0', grad_fn=<SumBackward0>)\n",
      "batch_size 1\n",
      "(0, 2, 1) tensor(-1., device='mps:0')\n",
      "(2, 1, 0) tensor(1., device='mps:0')\n",
      "batch_size 1\n",
      "(0, 1, 2) tensor(-1.0143, device='mps:0', grad_fn=<SumBackward0>)\n",
      "(0, 2, 1) tensor(-2.0143, device='mps:0', grad_fn=<SumBackward0>)\n",
      "(2, 1, 0) tensor(-0.0143, device='mps:0', grad_fn=<SumBackward0>)\n",
      "batch_size 1\n",
      "(0, 1, 2) tensor(-0.2500, device='mps:0')\n",
      "(0, 2, 1) tensor(-1.2500, device='mps:0')\n",
      "(2, 1, 0) "
     ]
    },
    {
     "name": "stderr",
     "output_type": "stream",
     "text": [
      "Processing rows:  11%|█▏        | 114/1000 [00:09<01:19, 11.09it/s]"
     ]
    },
    {
     "name": "stdout",
     "output_type": "stream",
     "text": [
      "tensor(0.7500, device='mps:0')\n",
      "batch_size 1\n",
      "(1, 0, 2) tensor(-0.0067, device='mps:0', grad_fn=<SumBackward0>)\n",
      "(1, 2, 0) tensor(0.9933, device='mps:0', grad_fn=<SumBackward0>)\n",
      "batch_size 1\n",
      "(1, 0, 2) tensor(-0.5000, device='mps:0')\n",
      "(1, 2, 0) tensor(0.5000, device='mps:0')\n",
      "batch_size 1\n",
      "(0, 2, 1) tensor(-0.0003, device='mps:0', grad_fn=<SumBackward0>)\n",
      "batch_size 1\n",
      "(0, 2, 1) tensor(0., device='mps:0')\n",
      "batch_size 1\n",
      "(2, 1, 0) tensor(0.0002, device='mps:0', grad_fn=<SumBackward0>)\n",
      "batch_size 1\n",
      "(2, 1, 0) "
     ]
    },
    {
     "name": "stderr",
     "output_type": "stream",
     "text": [
      "Processing rows:  12%|█▏        | 118/1000 [00:09<01:12, 12.16it/s]"
     ]
    },
    {
     "name": "stdout",
     "output_type": "stream",
     "text": [
      "tensor(0., device='mps:0')\n",
      "batch_size 1\n",
      "(0, 1, 2) tensor(0.0262, device='mps:0', grad_fn=<SumBackward0>)\n",
      "batch_size 1\n",
      "(0, 1, 2) tensor(0., device='mps:0')\n",
      "batch_size 1\n",
      "(0, 1, 2) tensor(-0.9928, device='mps:0', grad_fn=<SumBackward0>)\n",
      "(1, 2, 0) tensor(-1.9928, device='mps:0', grad_fn=<SumBackward0>)\n",
      "(2, 1, 0) tensor(-1.9928, device='mps:0', grad_fn=<SumBackward0>)\n",
      "batch_size 1\n",
      "(0, 1, 2) tensor(0.5000, device='mps:0')\n",
      "(1, 2, 0) tensor(-0.5000, device='mps:0')\n",
      "(2, 1, 0) tensor(-0.5000, device='mps:0')\n",
      "batch_size 1\n"
     ]
    },
    {
     "name": "stderr",
     "output_type": "stream",
     "text": [
      "Processing rows:  12%|█▏        | 120/1000 [00:09<01:16, 11.52it/s]"
     ]
    },
    {
     "name": "stdout",
     "output_type": "stream",
     "text": [
      "(1, 2, 0) tensor(-0.0747, device='mps:0', grad_fn=<SumBackward0>)\n",
      "(2, 1, 0) tensor(-0.0747, device='mps:0', grad_fn=<SumBackward0>)\n",
      "batch_size 1\n",
      "(1, 2, 0) tensor(0., device='mps:0')\n",
      "(2, 1, 0) tensor(0., device='mps:0')\n",
      "batch_size 1\n",
      "(1, 0, 2) tensor(0.0002, device='mps:0', grad_fn=<SumBackward0>)\n",
      "(1, 2, 0) tensor(0.0002, device='mps:0', grad_fn=<SumBackward0>)\n",
      "batch_size 1\n",
      "(1, 0, 2) tensor(0., device='mps:0')\n",
      "(1, 2, 0) tensor(0., device='mps:0')\n",
      "batch_size 1\n",
      "(1, 0, 2) tensor(-1.0016, device='mps:0', grad_fn=<SumBackward0>)\n",
      "(1, 2, 0) tensor(-0.0016, device='mps:0', grad_fn=<SumBackward0>)\n",
      "(2, 0, 1) tensor(-2.0016, device='mps:0', grad_fn=<SumBackward0>)\n",
      "batch_size 1\n",
      "(1, 0, 2) tensor(-0.2500, device='mps:0')\n",
      "(1, 2, 0) tensor(0.7500, device='mps:0')\n",
      "(2, 0, 1) tensor(-1.2500, device='mps:0')\n",
      "batch_size 1\n",
      "(0, 2, 1) tensor(0.0073, device='mps:0', grad_fn=<SumBackward0>)\n",
      "(1, 2, 0) tensor(0.0073, device='mps:0', grad_fn=<SumBackward0>)\n",
      "(2, 0, 1) tensor(0.0073, device='mps:0', grad_fn=<SumBackward0>)\n",
      "batch_size 1\n",
      "(0, 2, 1) tensor(0., device='mps:0')\n"
     ]
    },
    {
     "name": "stderr",
     "output_type": "stream",
     "text": [
      "Processing rows:  12%|█▏        | 124/1000 [00:10<01:18, 11.12it/s]"
     ]
    },
    {
     "name": "stdout",
     "output_type": "stream",
     "text": [
      "(1, 2, 0) tensor(0., device='mps:0')\n",
      "(2, 0, 1) tensor(0., device='mps:0')\n",
      "batch_size 1\n",
      "(1, 2, 0) tensor(8.0054e-05, device='mps:0', grad_fn=<SumBackward0>)\n",
      "batch_size 1\n",
      "(1, 2, 0) tensor(0., device='mps:0')\n",
      "batch_size 1\n",
      "(1, 0, 2) tensor(-0.0047, device='mps:0', grad_fn=<SumBackward0>)\n",
      "batch_size 1\n",
      "(1, 0, 2) tensor(0., device='mps:0')\n",
      "batch_size 1\n",
      "(2, 1, 0) tensor(0.0014, device='mps:0', grad_fn=<SumBackward0>)\n",
      "batch_size 1\n"
     ]
    },
    {
     "name": "stderr",
     "output_type": "stream",
     "text": [
      "Processing rows:  13%|█▎        | 126/1000 [00:10<01:13, 11.87it/s]"
     ]
    },
    {
     "name": "stdout",
     "output_type": "stream",
     "text": [
      "(2, 1, 0) tensor(0., device='mps:0')\n",
      "batch_size 1\n",
      "(0, 1, 2) tensor(0.2403, device='mps:0', grad_fn=<SumBackward0>)\n",
      "batch_size 1\n",
      "(0, 1, 2) tensor(0., device='mps:0')\n",
      "batch_size 1\n",
      "(1, 0, 2) tensor(0.0003, device='mps:0', grad_fn=<SumBackward0>)\n",
      "batch_size 1\n",
      "(1, 0, 2) tensor(0., device='mps:0')\n"
     ]
    },
    {
     "name": "stderr",
     "output_type": "stream",
     "text": [
      "Processing rows:  13%|█▎        | 128/1000 [00:10<01:27,  9.97it/s]"
     ]
    },
    {
     "name": "stdout",
     "output_type": "stream",
     "text": [
      "batch_size 1\n",
      "(1, 0, 2) tensor(-0.0050, device='mps:0', grad_fn=<SumBackward0>)\n",
      "(1, 2, 0) tensor(-1.0050, device='mps:0', grad_fn=<SumBackward0>)\n",
      "batch_size 1\n",
      "(1, 0, 2) tensor(0.5000, device='mps:0')\n",
      "(1, 2, 0) tensor(-0.5000, device='mps:0')\n",
      "batch_size 1\n",
      "(1, 0, 2) tensor(0.0012, device='mps:0', grad_fn=<SumBackward0>)\n",
      "batch_size 1\n",
      "(1, 0, 2) tensor(0., device='mps:0')\n",
      "batch_size 1\n",
      "(1, 0, 2) tensor(-0.0023, device='mps:0', grad_fn=<SumBackward0>)\n",
      "(2, 0, 1) tensor(-0.0023, device='mps:0', grad_fn=<SumBackward0>)\n",
      "(2, 1, 0) tensor(-0.0023, device='mps:0', grad_fn=<SumBackward0>)\n",
      "batch_size 1\n",
      "(1, 0, 2) tensor(0., device='mps:0')\n",
      "(2, 0, 1) tensor(0., device='mps:0')\n",
      "(2, 1, 0) "
     ]
    },
    {
     "name": "stderr",
     "output_type": "stream",
     "text": [
      "Processing rows:  13%|█▎        | 131/1000 [00:11<01:45,  8.23it/s]"
     ]
    },
    {
     "name": "stdout",
     "output_type": "stream",
     "text": [
      "tensor(0., device='mps:0')\n",
      "batch_size 1\n",
      "(0, 2, 1) tensor(-0.0101, device='mps:0', grad_fn=<SumBackward0>)\n",
      "(1, 0, 2) tensor(-0.0101, device='mps:0', grad_fn=<SumBackward0>)\n",
      "(1, 2, 0) tensor(-0.0101, device='mps:0', grad_fn=<SumBackward0>)\n",
      "batch_size 1\n",
      "(0, 2, 1) tensor(0., device='mps:0')\n",
      "(1, 0, 2) tensor(0., device='mps:0')\n",
      "(1, 2, 0) tensor(0., device='mps:0')\n",
      "batch_size 1\n",
      "(0, 2, 1) tensor(0.0204, device='mps:0', grad_fn=<SumBackward0>)\n"
     ]
    },
    {
     "name": "stderr",
     "output_type": "stream",
     "text": [
      "Processing rows:  13%|█▎        | 133/1000 [00:11<01:31,  9.50it/s]"
     ]
    },
    {
     "name": "stdout",
     "output_type": "stream",
     "text": [
      "(2, 1, 0) tensor(-0.9796, device='mps:0', grad_fn=<SumBackward0>)\n",
      "batch_size 1\n",
      "(0, 2, 1) tensor(0.5000, device='mps:0')\n",
      "(2, 1, 0) tensor(-0.5000, device='mps:0')\n",
      "batch_size 1\n",
      "(0, 1, 2) tensor(0.0083, device='mps:0', grad_fn=<SumBackward0>)\n",
      "batch_size 1\n",
      "(0, 1, 2) tensor(0., device='mps:0')\n",
      "batch_size 1\n",
      "(0, 1, 2) tensor(-0.0278, device='mps:0', grad_fn=<SumBackward0>)\n",
      "(0, 2, 1) tensor(0.9722, device='mps:0', grad_fn=<SumBackward0>)\n",
      "(1, 2, 0) tensor(0.9722, device='mps:0', grad_fn=<SumBackward0>)\n",
      "batch_size 1\n",
      "(0, 1, 2) tensor(-0.7500, device='mps:0')\n",
      "(0, 2, 1) tensor(0.2500, device='mps:0')\n"
     ]
    },
    {
     "name": "stderr",
     "output_type": "stream",
     "text": [
      "Processing rows:  14%|█▎        | 135/1000 [00:11<01:24, 10.30it/s]"
     ]
    },
    {
     "name": "stdout",
     "output_type": "stream",
     "text": [
      "(1, 2, 0) tensor(0.2500, device='mps:0')\n",
      "batch_size 1\n",
      "(2, 0, 1) tensor(0.0039, device='mps:0', grad_fn=<SumBackward0>)\n",
      "batch_size 1\n",
      "(2, 0, 1) tensor(0., device='mps:0')\n",
      "batch_size 1\n",
      "(2, 1, 0) tensor(0.0586, device='mps:0', grad_fn=<SumBackward0>)\n",
      "batch_size 1\n",
      "(2, 1, 0) tensor(0., device='mps:0')\n",
      "batch_size 1\n",
      "(0, 2, 1) tensor(0.0103, device='mps:0', grad_fn=<SumBackward0>)\n",
      "(2, 0, 1) tensor(-0.9897, device='mps:0', grad_fn=<SumBackward0>)\n",
      "(2, 1, 0) tensor(-1.9897, device='mps:0', grad_fn=<SumBackward0>)\n",
      "batch_size 1\n",
      "(0, 2, 1) tensor(0.7500, device='mps:0')\n",
      "(2, 0, 1) tensor(-0.2500, device='mps:0')\n"
     ]
    },
    {
     "name": "stderr",
     "output_type": "stream",
     "text": [
      "Processing rows:  14%|█▎        | 137/1000 [00:11<01:18, 10.94it/s]"
     ]
    },
    {
     "name": "stdout",
     "output_type": "stream",
     "text": [
      "(2, 1, 0) tensor(-1.2500, device='mps:0')\n",
      "batch_size 1\n",
      "(0, 1, 2) tensor(-0.9891, device='mps:0', grad_fn=<SumBackward0>)\n",
      "(1, 0, 2) tensor(0.0109, device='mps:0', grad_fn=<SumBackward0>)\n",
      "batch_size 1\n",
      "(0, 1, 2) tensor(-0.5000, device='mps:0')\n",
      "(1, 0, 2) tensor(0.5000, device='mps:0')\n",
      "batch_size 1\n",
      "(1, 0, 2) tensor(0.0004, device='mps:0', grad_fn=<SumBackward0>)\n",
      "batch_size 1\n"
     ]
    },
    {
     "name": "stderr",
     "output_type": "stream",
     "text": [
      "Processing rows:  14%|█▍        | 139/1000 [00:11<01:22, 10.48it/s]"
     ]
    },
    {
     "name": "stdout",
     "output_type": "stream",
     "text": [
      "(1, 0, 2) tensor(0., device='mps:0')\n",
      "batch_size 1\n",
      "(1, 2, 0) tensor(-0.0003, device='mps:0', grad_fn=<SumBackward0>)\n",
      "batch_size 1\n",
      "(1, 2, 0) tensor(0., device='mps:0')\n",
      "batch_size 1\n",
      "(1, 0, 2) tensor(-0.0170, device='mps:0', grad_fn=<SumBackward0>)\n",
      "batch_size 1\n"
     ]
    },
    {
     "name": "stderr",
     "output_type": "stream",
     "text": [
      "Processing rows:  14%|█▍        | 143/1000 [00:12<01:19, 10.72it/s]"
     ]
    },
    {
     "name": "stdout",
     "output_type": "stream",
     "text": [
      "(1, 0, 2) tensor(0., device='mps:0')\n",
      "batch_size 1\n",
      "(1, 0, 2) tensor(0.0115, device='mps:0', grad_fn=<SumBackward0>)\n",
      "batch_size 1\n",
      "(1, 0, 2) tensor(0., device='mps:0')\n",
      "batch_size 1\n",
      "(1, 2, 0) tensor(7.0592e-05, device='mps:0', grad_fn=<SumBackward0>)\n",
      "batch_size 1\n",
      "(1, 2, 0) tensor(0., device='mps:0')\n",
      "batch_size 1\n",
      "(0, 2, 1) "
     ]
    },
    {
     "name": "stderr",
     "output_type": "stream",
     "text": [
      "Processing rows:  14%|█▍        | 145/1000 [00:12<01:11, 11.99it/s]"
     ]
    },
    {
     "name": "stdout",
     "output_type": "stream",
     "text": [
      "tensor(0.0036, device='mps:0', grad_fn=<SumBackward0>)\n",
      "batch_size 1\n",
      "(0, 2, 1) tensor(0., device='mps:0')\n",
      "batch_size 1\n",
      "(1, 0, 2) tensor(-0.0073, device='mps:0', grad_fn=<SumBackward0>)\n",
      "batch_size 1\n",
      "(1, 0, 2) tensor(0., device='mps:0')\n",
      "batch_size 1\n",
      "(0, 2, 1) tensor(-0.9899, device='mps:0', grad_fn=<SumBackward0>)\n",
      "(1, 2, 0) tensor(0.0101, device='mps:0', grad_fn=<SumBackward0>)\n",
      "batch_size 1\n",
      "(0, 2, 1) tensor(-0.5000, device='mps:0')\n",
      "(1, 2, 0) tensor(0.5000, device='mps:0')\n",
      "batch_size 1\n"
     ]
    },
    {
     "name": "stderr",
     "output_type": "stream",
     "text": [
      "Processing rows:  15%|█▍        | 149/1000 [00:12<01:02, 13.72it/s]"
     ]
    },
    {
     "name": "stdout",
     "output_type": "stream",
     "text": [
      "(2, 0, 1) tensor(1.9968, device='mps:0', grad_fn=<SumBackward0>)\n",
      "batch_size 1\n",
      "(2, 0, 1) tensor(0., device='mps:0')\n",
      "batch_size 1\n",
      "(2, 1, 0) tensor(1.6051, device='mps:0', grad_fn=<SumBackward0>)\n",
      "batch_size 1\n",
      "(2, 1, 0) tensor(0., device='mps:0')\n",
      "batch_size 1\n",
      "(1, 0, 2) tensor(0.6616, device='mps:0', grad_fn=<SumBackward0>)\n",
      "batch_size 1\n",
      "(1, 0, 2) tensor(0., device='mps:0')\n",
      "batch_size 1\n",
      "(1, 0, 2) tensor(0.0127, device='mps:0', grad_fn=<SumBackward0>)\n",
      "batch_size 1\n",
      "(1, 0, 2) tensor(0., device='mps:0')\n"
     ]
    },
    {
     "name": "stderr",
     "output_type": "stream",
     "text": [
      "Processing rows:  15%|█▌        | 153/1000 [00:12<00:56, 14.95it/s]"
     ]
    },
    {
     "name": "stdout",
     "output_type": "stream",
     "text": [
      "batch_size 1\n",
      "(2, 1, 0) tensor(0.0054, device='mps:0', grad_fn=<SumBackward0>)\n",
      "batch_size 1\n",
      "(2, 1, 0) tensor(0., device='mps:0')\n",
      "batch_size 1\n",
      "(2, 0, 1) tensor(0.0007, device='mps:0', grad_fn=<SumBackward0>)\n",
      "(2, 1, 0) tensor(0.0007, device='mps:0', grad_fn=<SumBackward0>)\n",
      "batch_size 1\n",
      "(2, 0, 1) tensor(0., device='mps:0')\n",
      "(2, 1, 0) tensor(0., device='mps:0')\n",
      "batch_size 1\n",
      "(1, 0, 2) tensor(0.0159, device='mps:0', grad_fn=<SumBackward0>)\n",
      "batch_size 1\n",
      "(1, 0, 2) tensor(0., device='mps:0')\n",
      "batch_size 1\n"
     ]
    },
    {
     "name": "stderr",
     "output_type": "stream",
     "text": [
      "Processing rows:  16%|█▌        | 155/1000 [00:13<01:01, 13.66it/s]"
     ]
    },
    {
     "name": "stdout",
     "output_type": "stream",
     "text": [
      "(2, 1, 0) tensor(0.0015, device='mps:0', grad_fn=<SumBackward0>)\n",
      "batch_size 1\n",
      "(2, 1, 0) tensor(0., device='mps:0')\n",
      "batch_size 1\n",
      "(0, 1, 2) tensor(0.0108, device='mps:0', grad_fn=<SumBackward0>)\n",
      "batch_size 1\n",
      "(0, 1, 2) tensor(0., device='mps:0')\n",
      "batch_size 1\n",
      "(2, 0, 1) tensor(-0.9909, device='mps:0', grad_fn=<SumBackward0>)\n",
      "batch_size 1\n"
     ]
    },
    {
     "name": "stderr",
     "output_type": "stream",
     "text": [
      "Processing rows:  16%|█▌        | 157/1000 [00:13<01:02, 13.44it/s]"
     ]
    },
    {
     "name": "stdout",
     "output_type": "stream",
     "text": [
      "(2, 0, 1) tensor(0., device='mps:0')\n",
      "batch_size 1\n",
      "(0, 1, 2) tensor(-1.5208, device='mps:0', grad_fn=<SumBackward0>)\n",
      "(2, 0, 1) tensor(0.4792, device='mps:0', grad_fn=<SumBackward0>)\n",
      "batch_size 1\n",
      "(0, 1, 2) tensor(-1., device='mps:0')\n",
      "(2, 0, 1) tensor(1., device='mps:0')\n",
      "batch_size 1\n",
      "(0, 1, 2) tensor(-0.6561, device='mps:0', grad_fn=<SumBackward0>)\n",
      "(0, 2, 1) tensor(-0.6561, device='mps:0', grad_fn=<SumBackward0>)\n",
      "batch_size 1\n",
      "(0, 1, 2) tensor(0., device='mps:0')\n",
      "(0, 2, 1) tensor(0., device='mps:0')\n",
      "batch_size 1\n",
      "(2, 1, 0) "
     ]
    },
    {
     "name": "stderr",
     "output_type": "stream",
     "text": [
      "Processing rows:  16%|█▌        | 161/1000 [00:13<00:57, 14.65it/s]"
     ]
    },
    {
     "name": "stdout",
     "output_type": "stream",
     "text": [
      "tensor(0.1006, device='mps:0', grad_fn=<SumBackward0>)\n",
      "batch_size 1\n",
      "(2, 1, 0) tensor(0., device='mps:0')\n",
      "batch_size 1\n",
      "(0, 1, 2) tensor(0.0401, device='mps:0', grad_fn=<SumBackward0>)\n",
      "batch_size 1\n",
      "(0, 1, 2) tensor(0., device='mps:0')\n",
      "batch_size 1\n",
      "(2, 1, 0) tensor(-0.0028, device='mps:0', grad_fn=<SumBackward0>)\n",
      "batch_size 1\n",
      "(2, 1, 0) tensor(0., device='mps:0')\n",
      "batch_size 1\n",
      "(2, 1, 0) tensor(0.0049, device='mps:0', grad_fn=<SumBackward0>)\n",
      "batch_size 1\n",
      "(2, 1, 0) tensor(0., device='mps:0')\n"
     ]
    },
    {
     "name": "stderr",
     "output_type": "stream",
     "text": [
      "Processing rows:  16%|█▋        | 163/1000 [00:13<00:56, 14.79it/s]"
     ]
    },
    {
     "name": "stdout",
     "output_type": "stream",
     "text": [
      "batch_size 1\n",
      "(2, 0, 1) tensor(0.0235, device='mps:0', grad_fn=<SumBackward0>)\n",
      "batch_size 1\n",
      "(2, 0, 1) tensor(0., device='mps:0')\n",
      "batch_size 1\n",
      "(0, 2, 1) tensor(-1.9959, device='mps:0', grad_fn=<SumBackward0>)\n",
      "(1, 2, 0) tensor(-1.9959, device='mps:0', grad_fn=<SumBackward0>)\n",
      "batch_size 1\n",
      "(0, 2, 1) tensor(0., device='mps:0')\n",
      "(1, 2, 0) tensor(0., device='mps:0')\n",
      "batch_size 1\n",
      "(0, 2, 1) tensor(-0.9854, device='mps:0', grad_fn=<SumBackward0>)\n",
      "batch_size 1\n",
      "(0, 2, 1) tensor(0., device='mps:0')\n"
     ]
    },
    {
     "name": "stderr",
     "output_type": "stream",
     "text": [
      "Processing rows:  17%|█▋        | 167/1000 [00:13<00:52, 15.76it/s]"
     ]
    },
    {
     "name": "stdout",
     "output_type": "stream",
     "text": [
      "batch_size 1\n",
      "(2, 1, 0) tensor(0.0009, device='mps:0', grad_fn=<SumBackward0>)\n",
      "batch_size 1\n",
      "(2, 1, 0) tensor(0., device='mps:0')\n",
      "batch_size 1\n",
      "(2, 1, 0) tensor(0.1025, device='mps:0', grad_fn=<SumBackward0>)\n",
      "batch_size 1\n",
      "(2, 1, 0) tensor(0., device='mps:0')\n",
      "batch_size 1\n",
      "(1, 2, 0) tensor(-0.0219, device='mps:0', grad_fn=<SumBackward0>)\n",
      "batch_size 1\n",
      "(1, 2, 0) tensor(0., device='mps:0')\n",
      "batch_size 1\n",
      "(1, 0, 2) tensor(0.9361, device='mps:0', grad_fn=<SumBackward0>)\n",
      "(2, 0, 1) tensor(0.9361, device='mps:0', grad_fn=<SumBackward0>)\n"
     ]
    },
    {
     "name": "stderr",
     "output_type": "stream",
     "text": [
      "Processing rows:  17%|█▋        | 171/1000 [00:14<00:53, 15.49it/s]"
     ]
    },
    {
     "name": "stdout",
     "output_type": "stream",
     "text": [
      "(2, 1, 0) tensor(-0.0639, device='mps:0', grad_fn=<SumBackward0>)\n",
      "batch_size 1\n",
      "(1, 0, 2) tensor(0.2500, device='mps:0')\n",
      "(2, 0, 1) tensor(0.2500, device='mps:0')\n",
      "(2, 1, 0) tensor(-0.7500, device='mps:0')\n",
      "batch_size 1\n",
      "(2, 1, 0) tensor(0.0015, device='mps:0', grad_fn=<SumBackward0>)\n",
      "batch_size 1\n",
      "(2, 1, 0) tensor(0., device='mps:0')\n",
      "batch_size 1\n",
      "(2, 0, 1) tensor(-0.0005, device='mps:0', grad_fn=<SumBackward0>)\n",
      "batch_size 1\n",
      "(2, 0, 1) tensor(0., device='mps:0')\n",
      "batch_size 1\n",
      "(1, 2, 0) tensor(0.0074, device='mps:0', grad_fn=<SumBackward0>)\n"
     ]
    },
    {
     "name": "stderr",
     "output_type": "stream",
     "text": [
      "Processing rows:  17%|█▋        | 173/1000 [00:14<00:50, 16.35it/s]"
     ]
    },
    {
     "name": "stdout",
     "output_type": "stream",
     "text": [
      "batch_size 1\n",
      "(1, 2, 0) tensor(0., device='mps:0')\n",
      "batch_size 1\n",
      "(1, 0, 2) tensor(0.0264, device='mps:0', grad_fn=<SumBackward0>)\n",
      "batch_size 1\n",
      "(1, 0, 2) tensor(0., device='mps:0')\n",
      "batch_size 1\n",
      "(1, 0, 2) tensor(0.0003, device='mps:0', grad_fn=<SumBackward0>)\n",
      "(1, 2, 0) tensor(0.0003, device='mps:0', grad_fn=<SumBackward0>)\n",
      "batch_size 1\n",
      "(1, 0, 2) tensor(0., device='mps:0')\n",
      "(1, 2, 0) tensor(0., device='mps:0')\n",
      "batch_size 1\n",
      "(2, 1, 0) tensor(2.0067, device='mps:0', grad_fn=<SumBackward0>)\n",
      "batch_size 1\n"
     ]
    },
    {
     "name": "stderr",
     "output_type": "stream",
     "text": [
      "Processing rows:  18%|█▊        | 177/1000 [00:14<00:55, 14.74it/s]"
     ]
    },
    {
     "name": "stdout",
     "output_type": "stream",
     "text": [
      "(2, 1, 0) tensor(0., device='mps:0')\n",
      "batch_size 1\n",
      "(0, 1, 2) tensor(-0.9282, device='mps:0', grad_fn=<SumBackward0>)\n",
      "(1, 0, 2) tensor(-0.9282, device='mps:0', grad_fn=<SumBackward0>)\n",
      "(2, 1, 0) tensor(0.0718, device='mps:0', grad_fn=<SumBackward0>)\n",
      "batch_size 1\n",
      "(0, 1, 2) tensor(-0.5000, device='mps:0')\n",
      "(1, 0, 2) tensor(-0.5000, device='mps:0')\n",
      "(2, 1, 0) tensor(0.5000, device='mps:0')\n",
      "batch_size 1\n",
      "(2, 1, 0) tensor(0.0060, device='mps:0', grad_fn=<SumBackward0>)\n",
      "batch_size 1\n",
      "(2, 1, 0) tensor(0., device='mps:0')\n",
      "batch_size 1\n",
      "(2, 0, 1) tensor(0.2537, device='mps:0', grad_fn=<SumBackward0>)\n",
      "batch_size 1\n"
     ]
    },
    {
     "name": "stderr",
     "output_type": "stream",
     "text": [
      "Processing rows:  18%|█▊        | 181/1000 [00:14<00:52, 15.55it/s]"
     ]
    },
    {
     "name": "stdout",
     "output_type": "stream",
     "text": [
      "(2, 0, 1) tensor(0., device='mps:0')\n",
      "batch_size 1\n",
      "(0, 1, 2) tensor(0.0515, device='mps:0', grad_fn=<SumBackward0>)\n",
      "batch_size 1\n",
      "(0, 1, 2) tensor(0., device='mps:0')\n",
      "batch_size 1\n",
      "(1, 2, 0) tensor(-0.9999, device='mps:0', grad_fn=<SumBackward0>)\n",
      "(2, 0, 1) tensor(0.0001, device='mps:0', grad_fn=<SumBackward0>)\n",
      "batch_size 1\n",
      "(1, 2, 0) tensor(-0.5000, device='mps:0')\n",
      "(2, 0, 1) tensor(0.5000, device='mps:0')\n",
      "batch_size 1\n",
      "(0, 1, 2) tensor(0.0006, device='mps:0', grad_fn=<SumBackward0>)\n",
      "batch_size 1\n",
      "(0, 1, 2) tensor(0., device='mps:0')\n"
     ]
    },
    {
     "name": "stderr",
     "output_type": "stream",
     "text": [
      "Processing rows:  18%|█▊        | 183/1000 [00:14<00:52, 15.58it/s]"
     ]
    },
    {
     "name": "stdout",
     "output_type": "stream",
     "text": [
      "batch_size 1\n",
      "(1, 0, 2) tensor(-0.0469, device='mps:0', grad_fn=<SumBackward0>)\n",
      "(1, 2, 0) tensor(-0.0469, device='mps:0', grad_fn=<SumBackward0>)\n",
      "batch_size 1\n",
      "(1, 0, 2) tensor(0., device='mps:0')\n",
      "(1, 2, 0) tensor(0., device='mps:0')\n",
      "batch_size 1\n",
      "(2, 1, 0) tensor(0.0002, device='mps:0', grad_fn=<SumBackward0>)\n",
      "batch_size 1\n",
      "(2, 1, 0) tensor(0., device='mps:0')\n",
      "batch_size 1\n",
      "(2, 1, 0) tensor(0.1985, device='mps:0', grad_fn=<SumBackward0>)\n",
      "batch_size 1\n",
      "(2, 1, 0) tensor(0., device='mps:0')\n",
      "batch_size 1\n",
      "(1, 2, 0) "
     ]
    },
    {
     "name": "stderr",
     "output_type": "stream",
     "text": [
      "Processing rows:  19%|█▊        | 187/1000 [00:15<00:54, 14.91it/s]"
     ]
    },
    {
     "name": "stdout",
     "output_type": "stream",
     "text": [
      "tensor(-0.0003, device='mps:0', grad_fn=<SumBackward0>)\n",
      "batch_size 1\n",
      "(1, 2, 0) tensor(0., device='mps:0')\n",
      "batch_size 1\n",
      "(1, 0, 2) tensor(-0.0119, device='mps:0', grad_fn=<SumBackward0>)\n",
      "(1, 2, 0) tensor(-0.0119, device='mps:0', grad_fn=<SumBackward0>)\n",
      "batch_size 1\n",
      "(1, 0, 2) tensor(0., device='mps:0')\n",
      "(1, 2, 0) tensor(0., device='mps:0')\n",
      "batch_size 1\n",
      "(0, 1, 2) tensor(0.0677, device='mps:0', grad_fn=<SumBackward0>)\n",
      "(1, 2, 0) tensor(-0.9323, device='mps:0', grad_fn=<SumBackward0>)\n",
      "batch_size 1\n",
      "(0, 1, 2) tensor(0.5000, device='mps:0')\n",
      "(1, 2, 0) tensor(-0.5000, device='mps:0')\n",
      "batch_size 1\n"
     ]
    },
    {
     "name": "stderr",
     "output_type": "stream",
     "text": [
      "Processing rows:  19%|█▉        | 189/1000 [00:15<00:57, 14.05it/s]"
     ]
    },
    {
     "name": "stdout",
     "output_type": "stream",
     "text": [
      "(0, 1, 2) tensor(-0.0008, device='mps:0', grad_fn=<SumBackward0>)\n",
      "(0, 2, 1) tensor(-0.0008, device='mps:0', grad_fn=<SumBackward0>)\n",
      "(1, 2, 0) tensor(0.9992, device='mps:0', grad_fn=<SumBackward0>)\n",
      "batch_size 1\n",
      "(0, 1, 2) tensor(-0.5000, device='mps:0')\n",
      "(0, 2, 1) tensor(-0.5000, device='mps:0')\n",
      "(1, 2, 0) tensor(0.5000, device='mps:0')\n",
      "batch_size 1\n",
      "(1, 2, 0) tensor(0.0315, device='mps:0', grad_fn=<SumBackward0>)\n",
      "batch_size 1\n",
      "(1, 2, 0) tensor(0., device='mps:0')\n",
      "batch_size 1\n",
      "(0, 2, 1) tensor(-0.9973, device='mps:0', grad_fn=<SumBackward0>)\n",
      "(1, 2, 0) tensor(-0.9973, device='mps:0', grad_fn=<SumBackward0>)\n",
      "(2, 0, 1) tensor(0.0027, device='mps:0', grad_fn=<SumBackward0>)\n",
      "batch_size 1\n"
     ]
    },
    {
     "name": "stderr",
     "output_type": "stream",
     "text": [
      "Processing rows:  19%|█▉        | 191/1000 [00:15<00:58, 13.77it/s]"
     ]
    },
    {
     "name": "stdout",
     "output_type": "stream",
     "text": [
      "(0, 2, 1) tensor(-0.5000, device='mps:0')\n",
      "(1, 2, 0) tensor(-0.5000, device='mps:0')\n",
      "(2, 0, 1) tensor(0.5000, device='mps:0')\n",
      "batch_size 1\n",
      "(0, 1, 2) tensor(-0.9831, device='mps:0', grad_fn=<SumBackward0>)\n",
      "batch_size 1\n",
      "(0, 1, 2) tensor(0., device='mps:0')\n",
      "batch_size 1\n",
      "(1, 2, 0) tensor(0.0382, device='mps:0', grad_fn=<SumBackward0>)\n",
      "batch_size 1\n",
      "(1, 2, 0) tensor(0., device='mps:0')\n",
      "batch_size 1\n",
      "(1, 0, 2) tensor(-0.0355, device='mps:0', grad_fn=<SumBackward0>)\n",
      "(1, 2, 0) tensor(-0.0355, device='mps:0', grad_fn=<SumBackward0>)\n",
      "batch_size 1\n",
      "(1, 0, 2) tensor(0., device='mps:0')\n"
     ]
    },
    {
     "name": "stderr",
     "output_type": "stream",
     "text": [
      "Processing rows:  20%|█▉        | 195/1000 [00:15<00:58, 13.75it/s]"
     ]
    },
    {
     "name": "stdout",
     "output_type": "stream",
     "text": [
      "(1, 2, 0) tensor(0., device='mps:0')\n",
      "batch_size 1\n",
      "(2, 0, 1) tensor(0.0015, device='mps:0', grad_fn=<SumBackward0>)\n",
      "batch_size 1\n",
      "(2, 0, 1) tensor(0., device='mps:0')\n",
      "batch_size 1\n",
      "(0, 1, 2) tensor(-0.1631, device='mps:0', grad_fn=<SumBackward0>)\n",
      "(0, 2, 1) tensor(-1.1631, device='mps:0', grad_fn=<SumBackward0>)\n",
      "(1, 2, 0) tensor(-1.1631, device='mps:0', grad_fn=<SumBackward0>)\n",
      "batch_size 1\n",
      "(0, 1, 2) tensor(0.5000, device='mps:0')\n",
      "(0, 2, 1) tensor(-0.5000, device='mps:0')\n",
      "(1, 2, 0) tensor(-0.5000, device='mps:0')\n",
      "batch_size 1\n",
      "(2, 1, 0) tensor(0.0012, device='mps:0', grad_fn=<SumBackward0>)\n",
      "batch_size 1\n"
     ]
    },
    {
     "name": "stderr",
     "output_type": "stream",
     "text": [
      "Processing rows:  20%|█▉        | 197/1000 [00:15<00:57, 14.00it/s]"
     ]
    },
    {
     "name": "stdout",
     "output_type": "stream",
     "text": [
      "(2, 1, 0) tensor(0., device='mps:0')\n",
      "batch_size 1\n",
      "(1, 0, 2) tensor(-0.0276, device='mps:0', grad_fn=<SumBackward0>)\n",
      "(2, 1, 0) tensor(0.9724, device='mps:0', grad_fn=<SumBackward0>)\n",
      "batch_size 1\n",
      "(1, 0, 2) tensor(-0.5000, device='mps:0')\n",
      "(2, 1, 0) tensor(0.5000, device='mps:0')\n",
      "batch_size 1\n",
      "(0, 1, 2) tensor(0.9590, device='mps:0', grad_fn=<SumBackward0>)\n",
      "(1, 0, 2) tensor(-0.0410, device='mps:0', grad_fn=<SumBackward0>)\n",
      "batch_size 1\n",
      "(0, 1, 2) tensor(0.5000, device='mps:0')\n",
      "(1, 0, 2) tensor(-0.5000, device='mps:0')\n",
      "batch_size 1\n",
      "(1, 0, 2) tensor(1.5727, device='mps:0', grad_fn=<SumBackward0>)\n"
     ]
    },
    {
     "name": "stderr",
     "output_type": "stream",
     "text": [
      "Processing rows:  20%|██        | 201/1000 [00:16<00:52, 15.19it/s]"
     ]
    },
    {
     "name": "stdout",
     "output_type": "stream",
     "text": [
      "batch_size 1\n",
      "(1, 0, 2) tensor(0., device='mps:0')\n",
      "batch_size 1\n",
      "(2, 0, 1) tensor(0.0014, device='mps:0', grad_fn=<SumBackward0>)\n",
      "batch_size 1\n",
      "(2, 0, 1) tensor(0., device='mps:0')\n",
      "batch_size 1\n",
      "(1, 0, 2) tensor(0.1501, device='mps:0', grad_fn=<SumBackward0>)\n",
      "batch_size 1\n",
      "(1, 0, 2) tensor(0., device='mps:0')\n",
      "batch_size 1\n",
      "(1, 2, 0) tensor(0.0006, device='mps:0', grad_fn=<SumBackward0>)\n",
      "batch_size 1\n",
      "(1, 2, 0) tensor(0., device='mps:0')\n",
      "batch_size 1\n"
     ]
    },
    {
     "name": "stderr",
     "output_type": "stream",
     "text": [
      "Processing rows:  20%|██        | 205/1000 [00:16<00:50, 15.78it/s]"
     ]
    },
    {
     "name": "stdout",
     "output_type": "stream",
     "text": [
      "(1, 0, 2) tensor(0.0004, device='mps:0', grad_fn=<SumBackward0>)\n",
      "batch_size 1\n",
      "(1, 0, 2) tensor(0., device='mps:0')\n",
      "batch_size 1\n",
      "(1, 0, 2) tensor(-0.7886, device='mps:0', grad_fn=<SumBackward0>)\n",
      "(2, 0, 1) tensor(-0.7886, device='mps:0', grad_fn=<SumBackward0>)\n",
      "batch_size 1\n",
      "(1, 0, 2) tensor(0., device='mps:0')\n",
      "(2, 0, 1) tensor(0., device='mps:0')\n",
      "batch_size 1\n",
      "(1, 2, 0) tensor(1.9243, device='mps:0', grad_fn=<SumBackward0>)\n",
      "batch_size 1\n",
      "(1, 2, 0) tensor(0., device='mps:0')\n",
      "batch_size 1\n",
      "(0, 2, 1) tensor(0.0007, device='mps:0', grad_fn=<SumBackward0>)\n",
      "batch_size 1\n"
     ]
    },
    {
     "name": "stderr",
     "output_type": "stream",
     "text": [
      "Processing rows:  21%|██        | 207/1000 [00:16<00:49, 15.87it/s]"
     ]
    },
    {
     "name": "stdout",
     "output_type": "stream",
     "text": [
      "(0, 2, 1) tensor(0., device='mps:0')\n",
      "batch_size 1\n",
      "(1, 2, 0) tensor(0.0009, device='mps:0', grad_fn=<SumBackward0>)\n",
      "(2, 1, 0) tensor(0.0009, device='mps:0', grad_fn=<SumBackward0>)\n",
      "batch_size 1\n",
      "(1, 2, 0) tensor(0., device='mps:0')\n",
      "(2, 1, 0) tensor(0., device='mps:0')\n",
      "batch_size 1\n",
      "(2, 0, 1) tensor(-0.0080, device='mps:0', grad_fn=<SumBackward0>)\n",
      "(2, 1, 0) tensor(-0.0080, device='mps:0', grad_fn=<SumBackward0>)\n",
      "batch_size 1\n",
      "(2, 0, 1) tensor(0., device='mps:0')\n",
      "(2, 1, 0) tensor(0., device='mps:0')\n",
      "batch_size 1\n",
      "(0, 1, 2) tensor(0.0038, device='mps:0', grad_fn=<SumBackward0>)\n",
      "batch_size 1\n",
      "(0, 1, 2) "
     ]
    },
    {
     "name": "stderr",
     "output_type": "stream",
     "text": [
      "Processing rows:  21%|██        | 211/1000 [00:16<00:51, 15.37it/s]"
     ]
    },
    {
     "name": "stdout",
     "output_type": "stream",
     "text": [
      "tensor(0., device='mps:0')\n",
      "batch_size 1\n",
      "(1, 2, 0) tensor(0.0178, device='mps:0', grad_fn=<SumBackward0>)\n",
      "batch_size 1\n",
      "(1, 2, 0) tensor(0., device='mps:0')\n",
      "batch_size 1\n",
      "(1, 0, 2) tensor(-0.0010, device='mps:0', grad_fn=<SumBackward0>)\n",
      "(2, 0, 1) tensor(-1.0010, device='mps:0', grad_fn=<SumBackward0>)\n",
      "batch_size 1\n",
      "(1, 0, 2) tensor(0.5000, device='mps:0')\n",
      "(2, 0, 1) tensor(-0.5000, device='mps:0')\n",
      "batch_size 1\n",
      "(0, 1, 2) tensor(0.1396, device='mps:0', grad_fn=<SumBackward0>)\n",
      "batch_size 1\n",
      "(0, 1, 2) tensor(0., device='mps:0')\n"
     ]
    },
    {
     "name": "stderr",
     "output_type": "stream",
     "text": [
      "Processing rows:  22%|██▏       | 215/1000 [00:16<00:47, 16.65it/s]"
     ]
    },
    {
     "name": "stdout",
     "output_type": "stream",
     "text": [
      "batch_size 1\n",
      "(2, 0, 1) tensor(-0.3675, device='mps:0', grad_fn=<SumBackward0>)\n",
      "batch_size 1\n",
      "(2, 0, 1) tensor(0., device='mps:0')\n",
      "batch_size 1\n",
      "(1, 0, 2) tensor(1.8281, device='mps:0', grad_fn=<SumBackward0>)\n",
      "batch_size 1\n",
      "(1, 0, 2) tensor(0., device='mps:0')\n",
      "batch_size 1\n",
      "(0, 1, 2) tensor(0.0026, device='mps:0', grad_fn=<SumBackward0>)\n",
      "batch_size 1\n",
      "(0, 1, 2) tensor(0., device='mps:0')\n",
      "batch_size 1\n",
      "(2, 1, 0) tensor(0.0060, device='mps:0', grad_fn=<SumBackward0>)\n",
      "batch_size 1\n"
     ]
    },
    {
     "name": "stderr",
     "output_type": "stream",
     "text": [
      "Processing rows:  22%|██▏       | 217/1000 [00:17<00:51, 15.15it/s]"
     ]
    },
    {
     "name": "stdout",
     "output_type": "stream",
     "text": [
      "(2, 1, 0) tensor(0., device='mps:0')\n",
      "batch_size 1\n",
      "(0, 1, 2) tensor(-0.0650, device='mps:0', grad_fn=<SumBackward0>)\n",
      "(0, 2, 1) tensor(-0.0650, device='mps:0', grad_fn=<SumBackward0>)\n",
      "(1, 0, 2) tensor(-0.0650, device='mps:0', grad_fn=<SumBackward0>)\n",
      "batch_size 1\n",
      "(0, 1, 2) tensor(0., device='mps:0')\n",
      "(0, 2, 1) tensor(0., device='mps:0')\n",
      "(1, 0, 2) tensor(0., device='mps:0')\n",
      "batch_size 1\n",
      "(2, 1, 0) tensor(0.0052, device='mps:0', grad_fn=<SumBackward0>)\n",
      "batch_size 1\n",
      "(2, 1, 0) tensor(0., device='mps:0')\n",
      "batch_size 1\n",
      "(1, 0, 2) tensor(0.0123, device='mps:0', grad_fn=<SumBackward0>)\n",
      "batch_size 1\n"
     ]
    },
    {
     "name": "stderr",
     "output_type": "stream",
     "text": [
      "Processing rows:  22%|██▏       | 221/1000 [00:17<00:54, 14.33it/s]"
     ]
    },
    {
     "name": "stdout",
     "output_type": "stream",
     "text": [
      "(1, 0, 2) tensor(0., device='mps:0')\n",
      "batch_size 1\n",
      "(1, 0, 2) tensor(-0.0116, device='mps:0', grad_fn=<SumBackward0>)\n",
      "(1, 2, 0) tensor(-0.0116, device='mps:0', grad_fn=<SumBackward0>)\n",
      "(2, 1, 0) tensor(-0.0116, device='mps:0', grad_fn=<SumBackward0>)\n",
      "batch_size 1\n",
      "(1, 0, 2) tensor(0., device='mps:0')\n",
      "(1, 2, 0) tensor(0., device='mps:0')\n",
      "(2, 1, 0) tensor(0., device='mps:0')\n",
      "batch_size 1\n",
      "(0, 1, 2) tensor(0.0060, device='mps:0', grad_fn=<SumBackward0>)\n",
      "batch_size 1\n",
      "(0, 1, 2) tensor(0., device='mps:0')\n",
      "batch_size 1\n"
     ]
    },
    {
     "name": "stderr",
     "output_type": "stream",
     "text": [
      "Processing rows:  22%|██▏       | 223/1000 [00:17<00:54, 14.15it/s]"
     ]
    },
    {
     "name": "stdout",
     "output_type": "stream",
     "text": [
      "(0, 1, 2) tensor(0.0894, device='mps:0', grad_fn=<SumBackward0>)\n",
      "(2, 0, 1) tensor(-1.9106, device='mps:0', grad_fn=<SumBackward0>)\n",
      "batch_size 1\n",
      "(0, 1, 2) tensor(1., device='mps:0')\n",
      "(2, 0, 1) tensor(-1., device='mps:0')\n",
      "batch_size 1\n",
      "(1, 0, 2) tensor(0.0019, device='mps:0', grad_fn=<SumBackward0>)\n",
      "batch_size 1\n",
      "(1, 0, 2) tensor(0., device='mps:0')\n",
      "batch_size 1\n",
      "(2, 0, 1) tensor(0.0118, device='mps:0', grad_fn=<SumBackward0>)\n",
      "batch_size 1\n",
      "(2, 0, 1) tensor(0., device='mps:0')\n",
      "batch_size 1\n"
     ]
    },
    {
     "name": "stderr",
     "output_type": "stream",
     "text": [
      "Processing rows:  23%|██▎       | 227/1000 [00:17<00:50, 15.23it/s]"
     ]
    },
    {
     "name": "stdout",
     "output_type": "stream",
     "text": [
      "(0, 2, 1) tensor(1.8572, device='mps:0', grad_fn=<SumBackward0>)\n",
      "(2, 1, 0) tensor(-0.1428, device='mps:0', grad_fn=<SumBackward0>)\n",
      "batch_size 1\n",
      "(0, 2, 1) tensor(1., device='mps:0')\n",
      "(2, 1, 0) tensor(-1., device='mps:0')\n",
      "batch_size 1\n",
      "(0, 2, 1) tensor(9.9787e-05, device='mps:0', grad_fn=<SumBackward0>)\n",
      "batch_size 1\n",
      "(0, 2, 1) tensor(0., device='mps:0')\n",
      "batch_size 1\n",
      "(1, 2, 0) tensor(5.1831e-05, device='mps:0', grad_fn=<SumBackward0>)\n",
      "batch_size 1\n",
      "(1, 2, 0) tensor(0., device='mps:0')\n",
      "batch_size 1\n",
      "(1, 0, 2) tensor(-0.0003, device='mps:0', grad_fn=<SumBackward0>)\n",
      "batch_size 1\n"
     ]
    },
    {
     "name": "stderr",
     "output_type": "stream",
     "text": [
      "Processing rows:  23%|██▎       | 229/1000 [00:17<00:53, 14.30it/s]"
     ]
    },
    {
     "name": "stdout",
     "output_type": "stream",
     "text": [
      "(1, 0, 2) tensor(0., device='mps:0')\n",
      "batch_size 1\n",
      "(0, 1, 2) tensor(-1.0144, device='mps:0', grad_fn=<SumBackward0>)\n",
      "(0, 2, 1) tensor(-0.0144, device='mps:0', grad_fn=<SumBackward0>)\n",
      "(2, 0, 1) tensor(0.9856, device='mps:0', grad_fn=<SumBackward0>)\n",
      "batch_size 1\n",
      "(0, 1, 2) tensor(-1.2500, device='mps:0')\n",
      "(0, 2, 1) tensor(-0.2500, device='mps:0')\n",
      "(2, 0, 1) tensor(0.7500, device='mps:0')\n",
      "batch_size 1\n",
      "(2, 1, 0) tensor(0.5503, device='mps:0', grad_fn=<SumBackward0>)\n",
      "batch_size 1\n",
      "(2, 1, 0) tensor(0., device='mps:0')\n",
      "batch_size 1\n",
      "(0, 1, 2) tensor(-0.8624, device='mps:0', grad_fn=<SumBackward0>)\n"
     ]
    },
    {
     "name": "stderr",
     "output_type": "stream",
     "text": [
      "Processing rows:  23%|██▎       | 231/1000 [00:18<00:57, 13.45it/s]"
     ]
    },
    {
     "name": "stdout",
     "output_type": "stream",
     "text": [
      "(0, 2, 1) tensor(-0.8624, device='mps:0', grad_fn=<SumBackward0>)\n",
      "(1, 0, 2) tensor(0.1376, device='mps:0', grad_fn=<SumBackward0>)\n",
      "batch_size 1\n",
      "(0, 1, 2) tensor(-0.5000, device='mps:0')\n",
      "(0, 2, 1) tensor(-0.5000, device='mps:0')\n",
      "(1, 0, 2) tensor(0.5000, device='mps:0')\n",
      "batch_size 1\n",
      "(1, 0, 2) tensor(-0.9686, device='mps:0', grad_fn=<SumBackward0>)\n",
      "(2, 0, 1) tensor(-0.9686, device='mps:0', grad_fn=<SumBackward0>)\n",
      "batch_size 1\n",
      "(1, 0, 2) tensor(0., device='mps:0')\n",
      "(2, 0, 1) tensor(0., device='mps:0')\n",
      "batch_size 1\n",
      "(0, 2, 1) tensor(-0.5272, device='mps:0', grad_fn=<SumBackward0>)\n",
      "(1, 2, 0) tensor(-0.5272, device='mps:0', grad_fn=<SumBackward0>)\n",
      "batch_size 1\n"
     ]
    },
    {
     "name": "stderr",
     "output_type": "stream",
     "text": [
      "Processing rows:  23%|██▎       | 233/1000 [00:18<00:57, 13.26it/s]"
     ]
    },
    {
     "name": "stdout",
     "output_type": "stream",
     "text": [
      "(0, 2, 1) tensor(0., device='mps:0')\n",
      "(1, 2, 0) tensor(0., device='mps:0')\n",
      "batch_size 1\n",
      "(0, 1, 2) tensor(-1.0123, device='mps:0', grad_fn=<SumBackward0>)\n",
      "(1, 0, 2) tensor(-2.0123, device='mps:0', grad_fn=<SumBackward0>)\n",
      "(2, 0, 1) tensor(-2.0123, device='mps:0', grad_fn=<SumBackward0>)\n",
      "batch_size 1\n",
      "(0, 1, 2) tensor(0.5000, device='mps:0')\n",
      "(1, 0, 2) tensor(-0.5000, device='mps:0')\n",
      "(2, 0, 1) tensor(-0.5000, device='mps:0')\n",
      "batch_size 1\n",
      "(0, 1, 2) tensor(-1.0025, device='mps:0', grad_fn=<SumBackward0>)\n",
      "(0, 2, 1) tensor(-2.0025, device='mps:0', grad_fn=<SumBackward0>)\n",
      "(2, 0, 1) tensor(-2.0025, device='mps:0', grad_fn=<SumBackward0>)\n"
     ]
    },
    {
     "name": "stderr",
     "output_type": "stream",
     "text": [
      "Processing rows:  24%|██▎       | 235/1000 [00:18<01:11, 10.73it/s]"
     ]
    },
    {
     "name": "stdout",
     "output_type": "stream",
     "text": [
      "batch_size 1\n",
      "(0, 1, 2) tensor(0.5000, device='mps:0')\n",
      "(0, 2, 1) tensor(-0.5000, device='mps:0')\n",
      "(2, 0, 1) tensor(-0.5000, device='mps:0')\n",
      "batch_size 1\n",
      "(0, 1, 2) tensor(0.0894, device='mps:0', grad_fn=<SumBackward0>)\n",
      "(2, 0, 1) tensor(-1.9106, device='mps:0', grad_fn=<SumBackward0>)\n",
      "batch_size 1\n",
      "(0, 1, 2) tensor(1., device='mps:0')\n",
      "(2, 0, 1) tensor(-1., device='mps:0')\n",
      "batch_size 1\n",
      "(0, 1, 2) tensor(0.0029, device='mps:0', grad_fn=<SumBackward0>)\n"
     ]
    },
    {
     "name": "stderr",
     "output_type": "stream",
     "text": [
      "Processing rows:  24%|██▍       | 239/1000 [00:18<01:04, 11.78it/s]"
     ]
    },
    {
     "name": "stdout",
     "output_type": "stream",
     "text": [
      "(1, 0, 2) tensor(-0.9971, device='mps:0', grad_fn=<SumBackward0>)\n",
      "batch_size 1\n",
      "(0, 1, 2) tensor(0.5000, device='mps:0')\n",
      "(1, 0, 2) tensor(-0.5000, device='mps:0')\n",
      "batch_size 1\n",
      "(0, 1, 2) tensor(0.0718, device='mps:0', grad_fn=<SumBackward0>)\n",
      "batch_size 1\n",
      "(0, 1, 2) tensor(0., device='mps:0')\n",
      "batch_size 1\n",
      "(0, 1, 2) tensor(-1.0322, device='mps:0', grad_fn=<SumBackward0>)\n",
      "(2, 1, 0) tensor(-1.0322, device='mps:0', grad_fn=<SumBackward0>)\n",
      "batch_size 1\n",
      "(0, 1, 2) tensor(0., device='mps:0')\n",
      "(2, 1, 0) tensor(0., device='mps:0')\n",
      "batch_size 1\n"
     ]
    },
    {
     "name": "stderr",
     "output_type": "stream",
     "text": [
      "Processing rows:  24%|██▍       | 243/1000 [00:19<00:52, 14.44it/s]"
     ]
    },
    {
     "name": "stdout",
     "output_type": "stream",
     "text": [
      "(0, 1, 2) tensor(0.0009, device='mps:0', grad_fn=<SumBackward0>)\n",
      "batch_size 1\n",
      "(0, 1, 2) tensor(0., device='mps:0')\n",
      "batch_size 1\n",
      "(0, 2, 1) tensor(0.0002, device='mps:0', grad_fn=<SumBackward0>)\n",
      "batch_size 1\n",
      "(0, 2, 1) tensor(0., device='mps:0')\n",
      "batch_size 1\n",
      "(0, 2, 1) tensor(0.0001, device='mps:0', grad_fn=<SumBackward0>)\n",
      "batch_size 1\n",
      "(0, 2, 1) tensor(0., device='mps:0')\n",
      "batch_size 1\n",
      "(1, 0, 2) tensor(0.0233, device='mps:0', grad_fn=<SumBackward0>)\n",
      "batch_size 1\n",
      "(1, 0, 2) tensor(0., device='mps:0')\n",
      "batch_size 1\n"
     ]
    },
    {
     "name": "stderr",
     "output_type": "stream",
     "text": [
      "Processing rows:  25%|██▍       | 247/1000 [00:19<00:46, 16.28it/s]"
     ]
    },
    {
     "name": "stdout",
     "output_type": "stream",
     "text": [
      "(2, 0, 1) tensor(0.2822, device='mps:0', grad_fn=<SumBackward0>)\n",
      "batch_size 1\n",
      "(2, 0, 1) tensor(0., device='mps:0')\n",
      "batch_size 1\n",
      "(0, 2, 1) tensor(-0.7283, device='mps:0', grad_fn=<SumBackward0>)\n",
      "batch_size 1\n",
      "(0, 2, 1) tensor(0., device='mps:0')\n",
      "batch_size 1\n",
      "(0, 2, 1) tensor(0.0082, device='mps:0', grad_fn=<SumBackward0>)\n",
      "batch_size 1\n",
      "(0, 2, 1) tensor(0., device='mps:0')\n",
      "batch_size 1\n",
      "(0, 2, 1) tensor(8.2112e-05, device='mps:0', grad_fn=<SumBackward0>)\n",
      "batch_size 1\n",
      "(0, 2, 1) tensor(0., device='mps:0')\n",
      "batch_size 1\n"
     ]
    },
    {
     "name": "stderr",
     "output_type": "stream",
     "text": [
      "Processing rows:  25%|██▍       | 249/1000 [00:19<00:47, 15.71it/s]"
     ]
    },
    {
     "name": "stdout",
     "output_type": "stream",
     "text": [
      "(1, 2, 0) tensor(0.0044, device='mps:0', grad_fn=<SumBackward0>)\n",
      "(2, 1, 0) tensor(0.0044, device='mps:0', grad_fn=<SumBackward0>)\n",
      "batch_size 1\n",
      "(1, 2, 0) tensor(0., device='mps:0')\n",
      "(2, 1, 0) tensor(0., device='mps:0')\n",
      "batch_size 1\n",
      "(2, 0, 1) tensor(0.0347, device='mps:0', grad_fn=<SumBackward0>)\n",
      "batch_size 1\n",
      "(2, 0, 1) tensor(0., device='mps:0')\n",
      "batch_size 1\n",
      "(1, 2, 0) tensor(-0.9996, device='mps:0', grad_fn=<SumBackward0>)\n",
      "batch_size 1\n",
      "(1, 2, 0) tensor(0., device='mps:0')\n",
      "batch_size 1\n",
      "(0, 1, 2) tensor(-0.0447, device='mps:0', grad_fn=<SumBackward0>)\n"
     ]
    },
    {
     "name": "stderr",
     "output_type": "stream",
     "text": [
      "Processing rows:  25%|██▌       | 251/1000 [00:19<00:54, 13.72it/s]"
     ]
    },
    {
     "name": "stdout",
     "output_type": "stream",
     "text": [
      "(0, 2, 1) tensor(-0.0447, device='mps:0', grad_fn=<SumBackward0>)\n",
      "(1, 0, 2) tensor(0.9553, device='mps:0', grad_fn=<SumBackward0>)\n",
      "batch_size 1\n",
      "(0, 1, 2) tensor(-0.5000, device='mps:0')\n",
      "(0, 2, 1) tensor(-0.5000, device='mps:0')\n",
      "(1, 0, 2) tensor(0.5000, device='mps:0')\n",
      "batch_size 1\n",
      "(0, 1, 2) tensor(-0.0021, device='mps:0', grad_fn=<SumBackward0>)\n",
      "(0, 2, 1) tensor(-0.0021, device='mps:0', grad_fn=<SumBackward0>)\n",
      "batch_size 1\n",
      "(0, 1, 2) tensor(0., device='mps:0')\n",
      "(0, 2, 1) tensor(0., device='mps:0')\n",
      "batch_size 1\n"
     ]
    },
    {
     "name": "stderr",
     "output_type": "stream",
     "text": [
      "Processing rows:  26%|██▌       | 255/1000 [00:19<00:54, 13.71it/s]"
     ]
    },
    {
     "name": "stdout",
     "output_type": "stream",
     "text": [
      "(2, 0, 1) tensor(0.0350, device='mps:0', grad_fn=<SumBackward0>)\n",
      "batch_size 1\n",
      "(2, 0, 1) tensor(0., device='mps:0')\n",
      "batch_size 1\n",
      "(0, 1, 2) tensor(0.0171, device='mps:0', grad_fn=<SumBackward0>)\n",
      "(2, 1, 0) tensor(0.0171, device='mps:0', grad_fn=<SumBackward0>)\n",
      "batch_size 1\n",
      "(0, 1, 2) tensor(0., device='mps:0')\n",
      "(2, 1, 0) tensor(0., device='mps:0')\n",
      "batch_size 1\n",
      "(0, 1, 2) tensor(-0.0123, device='mps:0', grad_fn=<SumBackward0>)\n",
      "(2, 1, 0) tensor(-0.0123, device='mps:0', grad_fn=<SumBackward0>)\n",
      "batch_size 1\n",
      "(0, 1, 2) tensor(0., device='mps:0')\n",
      "(2, 1, 0) tensor(0., device='mps:0')\n",
      "batch_size 1\n"
     ]
    },
    {
     "name": "stderr",
     "output_type": "stream",
     "text": [
      "Processing rows:  26%|██▌       | 257/1000 [00:20<00:56, 13.19it/s]"
     ]
    },
    {
     "name": "stdout",
     "output_type": "stream",
     "text": [
      "(0, 1, 2) tensor(-0.0266, device='mps:0', grad_fn=<SumBackward0>)\n",
      "(0, 2, 1) tensor(-0.0266, device='mps:0', grad_fn=<SumBackward0>)\n",
      "(1, 0, 2) tensor(-1.0266, device='mps:0', grad_fn=<SumBackward0>)\n",
      "batch_size 1\n",
      "(0, 1, 2) tensor(0.2500, device='mps:0')\n",
      "(0, 2, 1) tensor(0.2500, device='mps:0')\n",
      "(1, 0, 2) tensor(-0.7500, device='mps:0')\n",
      "batch_size 1\n",
      "(1, 0, 2) tensor(-0.9896, device='mps:0', grad_fn=<SumBackward0>)\n",
      "batch_size 1\n",
      "(1, 0, 2) tensor(0., device='mps:0')\n",
      "batch_size 1\n",
      "(0, 2, 1) tensor(0.2721, device='mps:0', grad_fn=<SumBackward0>)\n",
      "batch_size 1\n",
      "(0, 2, 1) tensor(0., device='mps:0')\n"
     ]
    },
    {
     "name": "stderr",
     "output_type": "stream",
     "text": [
      "Processing rows:  26%|██▌       | 259/1000 [00:20<00:53, 13.74it/s]"
     ]
    },
    {
     "name": "stdout",
     "output_type": "stream",
     "text": [
      "batch_size 1\n",
      "(0, 2, 1) tensor(0.0515, device='mps:0', grad_fn=<SumBackward0>)\n",
      "(2, 0, 1) tensor(0.0515, device='mps:0', grad_fn=<SumBackward0>)\n",
      "batch_size 1\n",
      "(0, 2, 1) tensor(0., device='mps:0')\n",
      "(2, 0, 1) tensor(0., device='mps:0')\n",
      "batch_size 1\n",
      "(0, 2, 1) tensor(-0.0005, device='mps:0', grad_fn=<SumBackward0>)\n",
      "(1, 2, 0) tensor(-0.0005, device='mps:0', grad_fn=<SumBackward0>)\n",
      "batch_size 1\n",
      "(0, 2, 1) tensor(0., device='mps:0')\n",
      "(1, 2, 0) tensor(0., device='mps:0')\n",
      "batch_size 1\n",
      "(0, 1, 2) tensor(-0.0048, device='mps:0', grad_fn=<SumBackward0>)\n",
      "(2, 0, 1) tensor(-0.0048, device='mps:0', grad_fn=<SumBackward0>)\n",
      "(2, 1, 0) tensor(-0.0048, device='mps:0', grad_fn=<SumBackward0>)\n",
      "batch_size 1\n"
     ]
    },
    {
     "name": "stderr",
     "output_type": "stream",
     "text": [
      "Processing rows:  26%|██▋       | 263/1000 [00:20<00:57, 12.92it/s]"
     ]
    },
    {
     "name": "stdout",
     "output_type": "stream",
     "text": [
      "(0, 1, 2) tensor(0., device='mps:0')\n",
      "(2, 0, 1) tensor(0., device='mps:0')\n",
      "(2, 1, 0) tensor(0., device='mps:0')\n",
      "batch_size 1\n",
      "(1, 2, 0) tensor(-0.5024, device='mps:0', grad_fn=<SumBackward0>)\n",
      "(2, 1, 0) tensor(0.4976, device='mps:0', grad_fn=<SumBackward0>)\n",
      "batch_size 1\n",
      "(1, 2, 0) tensor(-0.5000, device='mps:0')\n",
      "(2, 1, 0) tensor(0.5000, device='mps:0')\n",
      "batch_size 1\n",
      "(1, 0, 2) tensor(-0.0395, device='mps:0', grad_fn=<SumBackward0>)\n",
      "(1, 2, 0) tensor(-0.0395, device='mps:0', grad_fn=<SumBackward0>)\n",
      "batch_size 1\n",
      "(1, 0, 2) tensor(0., device='mps:0')\n",
      "(1, 2, 0) tensor(0., device='mps:0')\n",
      "batch_size 1\n"
     ]
    },
    {
     "name": "stderr",
     "output_type": "stream",
     "text": [
      "Processing rows:  26%|██▋       | 265/1000 [00:20<00:53, 13.70it/s]"
     ]
    },
    {
     "name": "stdout",
     "output_type": "stream",
     "text": [
      "(1, 0, 2) tensor(0.0003, device='mps:0', grad_fn=<SumBackward0>)\n",
      "batch_size 1\n",
      "(1, 0, 2) tensor(0., device='mps:0')\n",
      "batch_size 1\n",
      "(1, 2, 0) tensor(0.0086, device='mps:0', grad_fn=<SumBackward0>)\n",
      "(2, 0, 1) tensor(-1.9914, device='mps:0', grad_fn=<SumBackward0>)\n",
      "batch_size 1\n",
      "(1, 2, 0) tensor(1., device='mps:0')\n",
      "(2, 0, 1) tensor(-1., device='mps:0')\n",
      "batch_size 1\n",
      "(1, 0, 2) tensor(0.0105, device='mps:0', grad_fn=<SumBackward0>)\n",
      "batch_size 1\n",
      "(1, 0, 2) tensor(0., device='mps:0')\n",
      "batch_size 1\n",
      "(0, 1, 2) tensor(-0.0081, device='mps:0', grad_fn=<SumBackward0>)\n",
      "(1, 0, 2) tensor(-0.0081, device='mps:0', grad_fn=<SumBackward0>)\n"
     ]
    },
    {
     "name": "stderr",
     "output_type": "stream",
     "text": [
      "Processing rows:  27%|██▋       | 269/1000 [00:20<00:49, 14.73it/s]"
     ]
    },
    {
     "name": "stdout",
     "output_type": "stream",
     "text": [
      "(2, 1, 0) tensor(-0.0081, device='mps:0', grad_fn=<SumBackward0>)\n",
      "batch_size 1\n",
      "(0, 1, 2) tensor(0., device='mps:0')\n",
      "(1, 0, 2) tensor(0., device='mps:0')\n",
      "(2, 1, 0) tensor(0., device='mps:0')\n",
      "batch_size 1\n",
      "(0, 2, 1) tensor(0.0382, device='mps:0', grad_fn=<SumBackward0>)\n",
      "batch_size 1\n",
      "(0, 2, 1) tensor(0., device='mps:0')\n",
      "batch_size 1\n",
      "(2, 1, 0) tensor(0.0386, device='mps:0', grad_fn=<SumBackward0>)\n",
      "batch_size 1\n",
      "(2, 1, 0) tensor(0., device='mps:0')\n",
      "batch_size 1\n",
      "(2, 0, 1) tensor(0.2822, device='mps:0', grad_fn=<SumBackward0>)\n",
      "batch_size 1\n"
     ]
    },
    {
     "name": "stderr",
     "output_type": "stream",
     "text": [
      "Processing rows:  27%|██▋       | 271/1000 [00:21<00:46, 15.74it/s]"
     ]
    },
    {
     "name": "stdout",
     "output_type": "stream",
     "text": [
      "(2, 0, 1) tensor(0., device='mps:0')\n",
      "batch_size 1\n",
      "(0, 2, 1) tensor(-0.8044, device='mps:0', grad_fn=<SumBackward0>)\n",
      "batch_size 1\n",
      "(0, 2, 1) tensor(0., device='mps:0')\n",
      "batch_size 1\n",
      "(0, 2, 1) tensor(-0.0041, device='mps:0', grad_fn=<SumBackward0>)\n",
      "(2, 0, 1) tensor(-0.0041, device='mps:0', grad_fn=<SumBackward0>)\n",
      "batch_size 1\n",
      "(0, 2, 1) tensor(0., device='mps:0')\n",
      "(2, 0, 1) tensor(0., device='mps:0')\n",
      "batch_size 1\n",
      "(1, 0, 2) tensor(-0.9957, device='mps:0', grad_fn=<SumBackward0>)\n",
      "(1, 2, 0) tensor(-0.9957, device='mps:0', grad_fn=<SumBackward0>)\n",
      "batch_size 1\n",
      "(1, 0, 2) tensor(0., device='mps:0')\n"
     ]
    },
    {
     "name": "stderr",
     "output_type": "stream",
     "text": [
      "Processing rows:  28%|██▊       | 275/1000 [00:21<00:45, 15.98it/s]"
     ]
    },
    {
     "name": "stdout",
     "output_type": "stream",
     "text": [
      "(1, 2, 0) tensor(0., device='mps:0')\n",
      "batch_size 1\n",
      "(2, 1, 0) tensor(0.0013, device='mps:0', grad_fn=<SumBackward0>)\n",
      "batch_size 1\n",
      "(2, 1, 0) tensor(0., device='mps:0')\n",
      "batch_size 1\n",
      "(2, 0, 1) tensor(0.0358, device='mps:0', grad_fn=<SumBackward0>)\n",
      "batch_size 1\n",
      "(2, 0, 1) tensor(0., device='mps:0')\n",
      "batch_size 1\n",
      "(2, 1, 0) tensor(0.0273, device='mps:0', grad_fn=<SumBackward0>)\n",
      "batch_size 1\n",
      "(2, 1, 0) tensor(0., device='mps:0')\n",
      "batch_size 1\n",
      "(2, 1, 0) tensor(0.0149, device='mps:0', grad_fn=<SumBackward0>)\n",
      "batch_size 1\n"
     ]
    },
    {
     "name": "stderr",
     "output_type": "stream",
     "text": [
      "Processing rows:  28%|██▊       | 279/1000 [00:21<00:44, 16.29it/s]"
     ]
    },
    {
     "name": "stdout",
     "output_type": "stream",
     "text": [
      "(2, 1, 0) tensor(0., device='mps:0')\n",
      "batch_size 1\n",
      "(1, 0, 2) tensor(-0.9946, device='mps:0', grad_fn=<SumBackward0>)\n",
      "(2, 0, 1) tensor(-0.9946, device='mps:0', grad_fn=<SumBackward0>)\n",
      "batch_size 1\n",
      "(1, 0, 2) tensor(0., device='mps:0')\n",
      "(2, 0, 1) tensor(0., device='mps:0')\n",
      "batch_size 1\n",
      "(0, 1, 2) tensor(0.0595, device='mps:0', grad_fn=<SumBackward0>)\n",
      "batch_size 1\n",
      "(0, 1, 2) tensor(0., device='mps:0')\n",
      "batch_size 1\n",
      "(2, 1, 0) tensor(0.0797, device='mps:0', grad_fn=<SumBackward0>)\n",
      "batch_size 1\n",
      "(2, 1, 0) tensor(0., device='mps:0')\n",
      "batch_size 1\n"
     ]
    },
    {
     "name": "stderr",
     "output_type": "stream",
     "text": [
      "Processing rows:  28%|██▊       | 283/1000 [00:21<00:44, 15.97it/s]"
     ]
    },
    {
     "name": "stdout",
     "output_type": "stream",
     "text": [
      "(0, 1, 2) tensor(0.0007, device='mps:0', grad_fn=<SumBackward0>)\n",
      "(0, 2, 1) tensor(0.0007, device='mps:0', grad_fn=<SumBackward0>)\n",
      "(2, 0, 1) tensor(1.0007, device='mps:0', grad_fn=<SumBackward0>)\n",
      "batch_size 1\n",
      "(0, 1, 2) tensor(-0.5000, device='mps:0')\n",
      "(0, 2, 1) tensor(-0.5000, device='mps:0')\n",
      "(2, 0, 1) tensor(0.5000, device='mps:0')\n",
      "batch_size 1\n",
      "(2, 0, 1) tensor(0.0091, device='mps:0', grad_fn=<SumBackward0>)\n",
      "batch_size 1\n",
      "(2, 0, 1) tensor(0., device='mps:0')\n",
      "batch_size 1\n",
      "(1, 2, 0) tensor(0.0315, device='mps:0', grad_fn=<SumBackward0>)\n",
      "batch_size 1\n",
      "(1, 2, 0) tensor(0., device='mps:0')\n",
      "batch_size 1\n"
     ]
    },
    {
     "name": "stderr",
     "output_type": "stream",
     "text": [
      "Processing rows:  28%|██▊       | 285/1000 [00:21<00:47, 14.90it/s]"
     ]
    },
    {
     "name": "stdout",
     "output_type": "stream",
     "text": [
      "(0, 1, 2) tensor(0.0013, device='mps:0', grad_fn=<SumBackward0>)\n",
      "batch_size 1\n",
      "(0, 1, 2) tensor(0., device='mps:0')\n",
      "batch_size 1\n",
      "(0, 2, 1) tensor(-1.0015, device='mps:0', grad_fn=<SumBackward0>)\n",
      "(1, 2, 0) tensor(-0.0015, device='mps:0', grad_fn=<SumBackward0>)\n",
      "(2, 0, 1) tensor(-1.0015, device='mps:0', grad_fn=<SumBackward0>)\n",
      "batch_size 1\n",
      "(0, 2, 1) tensor(-0.5000, device='mps:0')\n",
      "(1, 2, 0) tensor(0.5000, device='mps:0')\n",
      "(2, 0, 1) tensor(-0.5000, device='mps:0')\n",
      "batch_size 1\n",
      "(1, 2, 0) tensor(0.7139, device='mps:0', grad_fn=<SumBackward0>)\n",
      "batch_size 1\n",
      "(1, 2, 0) tensor(0., device='mps:0')\n",
      "batch_size 1\n"
     ]
    },
    {
     "name": "stderr",
     "output_type": "stream",
     "text": [
      "Processing rows:  29%|██▊       | 287/1000 [00:22<00:48, 14.67it/s]"
     ]
    },
    {
     "name": "stdout",
     "output_type": "stream",
     "text": [
      "(1, 2, 0) tensor(0.0068, device='mps:0', grad_fn=<SumBackward0>)\n",
      "(2, 1, 0) tensor(-0.9932, device='mps:0', grad_fn=<SumBackward0>)\n",
      "batch_size 1\n",
      "(1, 2, 0) tensor(0.5000, device='mps:0')\n",
      "(2, 1, 0) tensor(-0.5000, device='mps:0')\n",
      "batch_size 1\n",
      "(0, 1, 2) tensor(-1.0066, device='mps:0', grad_fn=<SumBackward0>)\n",
      "(2, 1, 0) tensor(-1.0066, device='mps:0', grad_fn=<SumBackward0>)\n",
      "batch_size 1\n",
      "(0, 1, 2) tensor(0., device='mps:0')\n",
      "(2, 1, 0) tensor(0., device='mps:0')\n",
      "batch_size 1\n",
      "(1, 0, 2) tensor(-0.1401, device='mps:0', grad_fn=<SumBackward0>)\n",
      "(1, 2, 0) tensor(-0.1401, device='mps:0', grad_fn=<SumBackward0>)\n",
      "batch_size 1\n",
      "(1, 0, 2) tensor(0., device='mps:0')\n"
     ]
    },
    {
     "name": "stderr",
     "output_type": "stream",
     "text": [
      "Processing rows:  29%|██▉       | 291/1000 [00:22<00:46, 15.29it/s]"
     ]
    },
    {
     "name": "stdout",
     "output_type": "stream",
     "text": [
      "(1, 2, 0) tensor(0., device='mps:0')\n",
      "batch_size 1\n",
      "(1, 0, 2) tensor(0.0012, device='mps:0', grad_fn=<SumBackward0>)\n",
      "batch_size 1\n",
      "(1, 0, 2) tensor(0., device='mps:0')\n",
      "batch_size 1\n",
      "(0, 1, 2) tensor(-0.0001, device='mps:0', grad_fn=<SumBackward0>)\n",
      "batch_size 1\n",
      "(0, 1, 2) tensor(0., device='mps:0')\n",
      "batch_size 1\n",
      "(0, 2, 1) tensor(0.0005, device='mps:0', grad_fn=<SumBackward0>)\n",
      "batch_size 1\n",
      "(0, 2, 1) tensor(0., device='mps:0')\n",
      "batch_size 1\n",
      "(0, 2, 1) tensor(-0.9976, device='mps:0', grad_fn=<SumBackward0>)\n",
      "(1, 2, 0) "
     ]
    },
    {
     "name": "stderr",
     "output_type": "stream",
     "text": [
      "Processing rows:  29%|██▉       | 293/1000 [00:22<00:48, 14.47it/s]"
     ]
    },
    {
     "name": "stdout",
     "output_type": "stream",
     "text": [
      "tensor(0.0024, device='mps:0', grad_fn=<SumBackward0>)\n",
      "(2, 1, 0) tensor(0.0024, device='mps:0', grad_fn=<SumBackward0>)\n",
      "batch_size 1\n",
      "(0, 2, 1) tensor(-0.7500, device='mps:0')\n",
      "(1, 2, 0) tensor(0.2500, device='mps:0')\n",
      "(2, 1, 0) tensor(0.2500, device='mps:0')\n",
      "batch_size 1\n",
      "(0, 2, 1) tensor(0.0382, device='mps:0', grad_fn=<SumBackward0>)\n",
      "batch_size 1\n",
      "(0, 2, 1) tensor(0., device='mps:0')\n",
      "batch_size 1\n",
      "(0, 1, 2) tensor(0.0035, device='mps:0', grad_fn=<SumBackward0>)\n",
      "(2, 1, 0) tensor(0.0035, device='mps:0', grad_fn=<SumBackward0>)\n",
      "batch_size 1\n",
      "(0, 1, 2) tensor(0., device='mps:0')\n",
      "(2, 1, 0) tensor(0., device='mps:0')\n"
     ]
    },
    {
     "name": "stderr",
     "output_type": "stream",
     "text": [
      "Processing rows:  30%|██▉       | 297/1000 [00:22<00:44, 15.71it/s]"
     ]
    },
    {
     "name": "stdout",
     "output_type": "stream",
     "text": [
      "batch_size 1\n",
      "(1, 0, 2) tensor(0.0022, device='mps:0', grad_fn=<SumBackward0>)\n",
      "batch_size 1\n",
      "(1, 0, 2) tensor(0., device='mps:0')\n",
      "batch_size 1\n",
      "(1, 2, 0) tensor(0.0052, device='mps:0', grad_fn=<SumBackward0>)\n",
      "batch_size 1\n",
      "(1, 2, 0) tensor(0., device='mps:0')\n",
      "batch_size 1\n",
      "(0, 1, 2) tensor(-0.0195, device='mps:0', grad_fn=<SumBackward0>)\n",
      "(0, 2, 1) tensor(-0.0195, device='mps:0', grad_fn=<SumBackward0>)\n",
      "(1, 2, 0) tensor(-0.0195, device='mps:0', grad_fn=<SumBackward0>)\n",
      "batch_size 1\n",
      "(0, 1, 2) tensor(0., device='mps:0')\n",
      "(0, 2, 1) tensor(0., device='mps:0')\n",
      "(1, 2, 0) tensor(0., device='mps:0')\n"
     ]
    },
    {
     "name": "stderr",
     "output_type": "stream",
     "text": [
      "Processing rows:  30%|██▉       | 299/1000 [00:22<00:47, 14.67it/s]"
     ]
    },
    {
     "name": "stdout",
     "output_type": "stream",
     "text": [
      "batch_size 1\n",
      "(1, 2, 0) tensor(0.0686, device='mps:0', grad_fn=<SumBackward0>)\n",
      "batch_size 1\n",
      "(1, 2, 0) tensor(0., device='mps:0')\n",
      "batch_size 1\n",
      "(0, 2, 1) tensor(-0.9954, device='mps:0', grad_fn=<SumBackward0>)\n",
      "(1, 0, 2) tensor(0.0046, device='mps:0', grad_fn=<SumBackward0>)\n",
      "(1, 2, 0) tensor(-0.9954, device='mps:0', grad_fn=<SumBackward0>)\n",
      "batch_size 1\n",
      "(0, 2, 1) tensor(-0.5000, device='mps:0')\n",
      "(1, 0, 2) tensor(0.5000, device='mps:0')\n",
      "(1, 2, 0) tensor(-0.5000, device='mps:0')\n",
      "batch_size 1\n",
      "(1, 2, 0) tensor(-0.1635, device='mps:0', grad_fn=<SumBackward0>)\n",
      "batch_size 1\n",
      "(1, 2, 0) tensor(0., device='mps:0')\n"
     ]
    },
    {
     "name": "stderr",
     "output_type": "stream",
     "text": [
      "Processing rows:  30%|███       | 303/1000 [00:23<00:51, 13.64it/s]"
     ]
    },
    {
     "name": "stdout",
     "output_type": "stream",
     "text": [
      "batch_size 1\n",
      "(0, 2, 1) tensor(-0.0099, device='mps:0', grad_fn=<SumBackward0>)\n",
      "(1, 2, 0) tensor(-0.0099, device='mps:0', grad_fn=<SumBackward0>)\n",
      "batch_size 1\n",
      "(0, 2, 1) tensor(0., device='mps:0')\n",
      "(1, 2, 0) tensor(0., device='mps:0')\n",
      "batch_size 1\n",
      "(1, 0, 2) tensor(0.0090, device='mps:0', grad_fn=<SumBackward0>)\n",
      "(1, 2, 0) tensor(-0.9910, device='mps:0', grad_fn=<SumBackward0>)\n",
      "batch_size 1\n",
      "(1, 0, 2) tensor(0.5000, device='mps:0')\n",
      "(1, 2, 0) tensor(-0.5000, device='mps:0')\n",
      "batch_size 1\n",
      "(0, 1, 2) tensor(-0.0002, device='mps:0', grad_fn=<SumBackward0>)\n",
      "(0, 2, 1) tensor(-0.0002, device='mps:0', grad_fn=<SumBackward0>)\n",
      "batch_size 1\n"
     ]
    },
    {
     "name": "stderr",
     "output_type": "stream",
     "text": [
      "Processing rows:  30%|███       | 305/1000 [00:23<00:49, 14.12it/s]"
     ]
    },
    {
     "name": "stdout",
     "output_type": "stream",
     "text": [
      "(0, 1, 2) tensor(0., device='mps:0')\n",
      "(0, 2, 1) tensor(0., device='mps:0')\n",
      "batch_size 1\n",
      "(0, 2, 1) tensor(0.0004, device='mps:0', grad_fn=<SumBackward0>)\n",
      "batch_size 1\n",
      "(0, 2, 1) tensor(0., device='mps:0')\n",
      "batch_size 1\n",
      "(0, 1, 2) tensor(0.0004, device='mps:0', grad_fn=<SumBackward0>)\n",
      "batch_size 1\n",
      "(0, 1, 2) tensor(0., device='mps:0')\n",
      "batch_size 1\n",
      "(0, 2, 1) tensor(-0.6428, device='mps:0', grad_fn=<SumBackward0>)\n",
      "(2, 0, 1) tensor(0.3572, device='mps:0', grad_fn=<SumBackward0>)\n",
      "batch_size 1\n"
     ]
    },
    {
     "name": "stderr",
     "output_type": "stream",
     "text": [
      "Processing rows:  31%|███       | 309/1000 [00:23<00:47, 14.50it/s]"
     ]
    },
    {
     "name": "stdout",
     "output_type": "stream",
     "text": [
      "(0, 2, 1) tensor(-0.5000, device='mps:0')\n",
      "(2, 0, 1) tensor(0.5000, device='mps:0')\n",
      "batch_size 1\n",
      "(0, 2, 1) tensor(0.0096, device='mps:0', grad_fn=<SumBackward0>)\n",
      "batch_size 1\n",
      "(0, 2, 1) tensor(0., device='mps:0')\n",
      "batch_size 1\n",
      "(1, 0, 2) tensor(0.2649, device='mps:0', grad_fn=<SumBackward0>)\n",
      "batch_size 1\n",
      "(1, 0, 2) tensor(0., device='mps:0')\n",
      "batch_size 1\n",
      "(0, 2, 1) tensor(0.0001, device='mps:0', grad_fn=<SumBackward0>)\n",
      "batch_size 1\n",
      "(0, 2, 1) tensor(0., device='mps:0')\n",
      "batch_size 1\n",
      "(1, 0, 2) tensor(-1.9847, device='mps:0', grad_fn=<SumBackward0>)\n",
      "(2, 0, 1) tensor(-1.9847, device='mps:0', grad_fn=<SumBackward0>)\n",
      "(2, 1, 0) tensor(-0.9847, device='mps:0', grad_fn=<SumBackward0>)\n",
      "batch_size 1\n",
      "(1, 0, 2) tensor(-0.5000, device='mps:0')\n",
      "(2, 0, 1) tensor(-0.5000, device='mps:0')\n",
      "(2, 1, 0) tensor(0.5000, device='mps:0')\n"
     ]
    },
    {
     "name": "stderr",
     "output_type": "stream",
     "text": [
      "Processing rows:  31%|███       | 311/1000 [00:23<01:03, 10.86it/s]"
     ]
    },
    {
     "name": "stdout",
     "output_type": "stream",
     "text": [
      "batch_size 1\n",
      "(0, 1, 2) tensor(-0.0043, device='mps:0', grad_fn=<SumBackward0>)\n",
      "(1, 0, 2) tensor(-0.0043, device='mps:0', grad_fn=<SumBackward0>)\n",
      "(2, 1, 0) tensor(-1.0043, device='mps:0', grad_fn=<SumBackward0>)\n",
      "batch_size 1\n",
      "(0, 1, 2) tensor(0.2500, device='mps:0')\n",
      "(1, 0, 2) tensor(0.2500, device='mps:0')\n",
      "(2, 1, 0) tensor(-0.7500, device='mps:0')\n",
      "batch_size 1\n",
      "(0, 1, 2) tensor(-0.5500, device='mps:0', grad_fn=<SumBackward0>)\n",
      "(1, 2, 0) tensor(0.4500, device='mps:0', grad_fn=<SumBackward0>)\n",
      "batch_size 1\n",
      "(0, 1, 2) tensor(-0.5000, device='mps:0')\n"
     ]
    },
    {
     "name": "stderr",
     "output_type": "stream",
     "text": [
      "Processing rows:  32%|███▏      | 315/1000 [00:24<00:58, 11.74it/s]"
     ]
    },
    {
     "name": "stdout",
     "output_type": "stream",
     "text": [
      "(1, 2, 0) tensor(0.5000, device='mps:0')\n",
      "batch_size 1\n",
      "(0, 2, 1) tensor(0.0531, device='mps:0', grad_fn=<SumBackward0>)\n",
      "batch_size 1\n",
      "(0, 2, 1) tensor(0., device='mps:0')\n",
      "batch_size 1\n",
      "(0, 1, 2) tensor(0.4143, device='mps:0', grad_fn=<SumBackward0>)\n",
      "batch_size 1\n",
      "(0, 1, 2) tensor(0., device='mps:0')\n",
      "batch_size 1\n",
      "(1, 0, 2) tensor(0.0002, device='mps:0', grad_fn=<SumBackward0>)\n",
      "batch_size 1\n",
      "(1, 0, 2) tensor(0., device='mps:0')\n",
      "batch_size 1\n"
     ]
    },
    {
     "name": "stderr",
     "output_type": "stream",
     "text": [
      "Processing rows:  32%|███▏      | 317/1000 [00:24<00:57, 11.85it/s]"
     ]
    },
    {
     "name": "stdout",
     "output_type": "stream",
     "text": [
      "(0, 1, 2) tensor(-0.9940, device='mps:0', grad_fn=<SumBackward0>)\n",
      "(1, 2, 0) tensor(-1.9940, device='mps:0', grad_fn=<SumBackward0>)\n",
      "(2, 1, 0) tensor(-1.9940, device='mps:0', grad_fn=<SumBackward0>)\n",
      "batch_size 1\n",
      "(0, 1, 2) tensor(0.5000, device='mps:0')\n",
      "(1, 2, 0) tensor(-0.5000, device='mps:0')\n",
      "(2, 1, 0) tensor(-0.5000, device='mps:0')\n",
      "batch_size 1\n",
      "(0, 1, 2) tensor(-0.0010, device='mps:0', grad_fn=<SumBackward0>)\n",
      "(1, 2, 0) tensor(-1.0010, device='mps:0', grad_fn=<SumBackward0>)\n",
      "(2, 1, 0) tensor(-0.0010, device='mps:0', grad_fn=<SumBackward0>)\n",
      "batch_size 1\n",
      "(0, 1, 2) tensor(0.2500, device='mps:0')\n",
      "(1, 2, 0) tensor(-0.7500, device='mps:0')\n",
      "(2, 1, 0) tensor(0.2500, device='mps:0')\n"
     ]
    },
    {
     "name": "stderr",
     "output_type": "stream",
     "text": [
      "Processing rows:  32%|███▏      | 321/1000 [00:24<00:54, 12.57it/s]"
     ]
    },
    {
     "name": "stdout",
     "output_type": "stream",
     "text": [
      "batch_size 1\n",
      "(0, 1, 2) tensor(0.0236, device='mps:0', grad_fn=<SumBackward0>)\n",
      "batch_size 1\n",
      "(0, 1, 2) tensor(0., device='mps:0')\n",
      "batch_size 1\n",
      "(2, 1, 0) tensor(1.6782, device='mps:0', grad_fn=<SumBackward0>)\n",
      "batch_size 1\n",
      "(2, 1, 0) tensor(0., device='mps:0')\n",
      "batch_size 1\n",
      "(1, 2, 0) tensor(0.0136, device='mps:0', grad_fn=<SumBackward0>)\n",
      "(2, 1, 0) tensor(0.0136, device='mps:0', grad_fn=<SumBackward0>)\n",
      "batch_size 1\n",
      "(1, 2, 0) tensor(0., device='mps:0')\n",
      "(2, 1, 0) tensor(0., device='mps:0')\n",
      "batch_size 1\n"
     ]
    },
    {
     "name": "stderr",
     "output_type": "stream",
     "text": [
      "Processing rows:  32%|███▏      | 323/1000 [00:24<00:50, 13.45it/s]"
     ]
    },
    {
     "name": "stdout",
     "output_type": "stream",
     "text": [
      "(1, 0, 2) tensor(-0.0104, device='mps:0', grad_fn=<SumBackward0>)\n",
      "batch_size 1\n",
      "(1, 0, 2) tensor(0., device='mps:0')\n",
      "batch_size 1\n",
      "(2, 1, 0) tensor(0.0495, device='mps:0', grad_fn=<SumBackward0>)\n",
      "batch_size 1\n",
      "(2, 1, 0) tensor(0., device='mps:0')\n",
      "batch_size 1\n",
      "(1, 2, 0) tensor(0.0014, device='mps:0', grad_fn=<SumBackward0>)\n",
      "batch_size 1\n",
      "(1, 2, 0) tensor(0., device='mps:0')\n",
      "batch_size 1\n",
      "(0, 1, 2) tensor(0.0045, device='mps:0', grad_fn=<SumBackward0>)\n",
      "(0, 2, 1) tensor(0.0045, device='mps:0', grad_fn=<SumBackward0>)\n"
     ]
    },
    {
     "name": "stderr",
     "output_type": "stream",
     "text": [
      "Processing rows:  32%|███▎      | 325/1000 [00:24<00:51, 13.00it/s]"
     ]
    },
    {
     "name": "stdout",
     "output_type": "stream",
     "text": [
      "(1, 0, 2) tensor(0.0045, device='mps:0', grad_fn=<SumBackward0>)\n",
      "batch_size 1\n",
      "(0, 1, 2) tensor(0., device='mps:0')\n",
      "(0, 2, 1) tensor(0., device='mps:0')\n",
      "(1, 0, 2) tensor(0., device='mps:0')\n",
      "batch_size 1\n",
      "(0, 2, 1) tensor(-0.9478, device='mps:0', grad_fn=<SumBackward0>)\n",
      "(1, 0, 2) tensor(0.0522, device='mps:0', grad_fn=<SumBackward0>)\n",
      "batch_size 1\n",
      "(0, 2, 1) tensor(-0.5000, device='mps:0')\n",
      "(1, 0, 2) tensor(0.5000, device='mps:0')\n",
      "batch_size 1\n",
      "(0, 1, 2) tensor(-0.0005, device='mps:0', grad_fn=<SumBackward0>)\n",
      "(0, 2, 1) tensor(-0.0005, device='mps:0', grad_fn=<SumBackward0>)\n",
      "batch_size 1\n",
      "(0, 1, 2) tensor(0., device='mps:0')\n"
     ]
    },
    {
     "name": "stderr",
     "output_type": "stream",
     "text": [
      "Processing rows:  33%|███▎      | 329/1000 [00:25<00:52, 12.76it/s]"
     ]
    },
    {
     "name": "stdout",
     "output_type": "stream",
     "text": [
      "(0, 2, 1) tensor(0., device='mps:0')\n",
      "batch_size 1\n",
      "(1, 2, 0) tensor(6.4768e-05, device='mps:0', grad_fn=<SumBackward0>)\n",
      "batch_size 1\n",
      "(1, 2, 0) tensor(0., device='mps:0')\n",
      "batch_size 1\n",
      "(1, 0, 2) tensor(-1.2493, device='mps:0', grad_fn=<SumBackward0>)\n",
      "(1, 2, 0) tensor(-0.2493, device='mps:0', grad_fn=<SumBackward0>)\n",
      "(2, 1, 0) tensor(0.7507, device='mps:0', grad_fn=<SumBackward0>)\n",
      "batch_size 1\n",
      "(1, 0, 2) tensor(-1.2500, device='mps:0')\n",
      "(1, 2, 0) tensor(-0.2500, device='mps:0')\n",
      "(2, 1, 0) tensor(0.7500, device='mps:0')\n",
      "batch_size 1\n",
      "(0, 1, 2) tensor(-0.9768, device='mps:0', grad_fn=<SumBackward0>)\n"
     ]
    },
    {
     "name": "stderr",
     "output_type": "stream",
     "text": [
      "Processing rows:  33%|███▎      | 331/1000 [00:25<00:54, 12.17it/s]"
     ]
    },
    {
     "name": "stdout",
     "output_type": "stream",
     "text": [
      "(1, 0, 2) tensor(-1.9768, device='mps:0', grad_fn=<SumBackward0>)\n",
      "(2, 1, 0) tensor(0.0232, device='mps:0', grad_fn=<SumBackward0>)\n",
      "batch_size 1\n",
      "(0, 1, 2) tensor(-0.2500, device='mps:0')\n",
      "(1, 0, 2) tensor(-1.2500, device='mps:0')\n",
      "(2, 1, 0) tensor(0.7500, device='mps:0')\n",
      "batch_size 1\n",
      "(1, 0, 2) tensor(0.0695, device='mps:0', grad_fn=<SumBackward0>)\n",
      "(1, 2, 0) tensor(0.0695, device='mps:0', grad_fn=<SumBackward0>)\n",
      "batch_size 1\n",
      "(1, 0, 2) tensor(0., device='mps:0')\n",
      "(1, 2, 0) tensor(0., device='mps:0')\n",
      "batch_size 1\n",
      "(0, 1, 2) tensor(0.0018, device='mps:0', grad_fn=<SumBackward0>)\n",
      "batch_size 1\n",
      "(0, 1, 2) tensor(0., device='mps:0')\n"
     ]
    },
    {
     "name": "stderr",
     "output_type": "stream",
     "text": [
      "Processing rows:  34%|███▎      | 335/1000 [00:25<00:46, 14.21it/s]"
     ]
    },
    {
     "name": "stdout",
     "output_type": "stream",
     "text": [
      "batch_size 1\n",
      "(1, 0, 2) tensor(0.0072, device='mps:0', grad_fn=<SumBackward0>)\n",
      "(2, 1, 0) tensor(-0.9928, device='mps:0', grad_fn=<SumBackward0>)\n",
      "batch_size 1\n",
      "(1, 0, 2) tensor(0.5000, device='mps:0')\n",
      "(2, 1, 0) tensor(-0.5000, device='mps:0')\n",
      "batch_size 1\n",
      "(2, 1, 0) tensor(0.0015, device='mps:0', grad_fn=<SumBackward0>)\n",
      "batch_size 1\n",
      "(2, 1, 0) tensor(0., device='mps:0')\n",
      "batch_size 1\n",
      "(1, 0, 2) tensor(0.0245, device='mps:0', grad_fn=<SumBackward0>)\n",
      "batch_size 1\n",
      "(1, 0, 2) tensor(0., device='mps:0')\n",
      "batch_size 1\n"
     ]
    },
    {
     "name": "stderr",
     "output_type": "stream",
     "text": [
      "Processing rows:  34%|███▎      | 337/1000 [00:25<00:45, 14.49it/s]"
     ]
    },
    {
     "name": "stdout",
     "output_type": "stream",
     "text": [
      "(2, 0, 1) tensor(0.5592, device='mps:0', grad_fn=<SumBackward0>)\n",
      "batch_size 1\n",
      "(2, 0, 1) tensor(0., device='mps:0')\n",
      "batch_size 1\n",
      "(0, 1, 2) tensor(-0.9891, device='mps:0', grad_fn=<SumBackward0>)\n",
      "(1, 0, 2) tensor(0.0109, device='mps:0', grad_fn=<SumBackward0>)\n",
      "batch_size 1\n",
      "(0, 1, 2) tensor(-0.5000, device='mps:0')\n",
      "(1, 0, 2) tensor(0.5000, device='mps:0')\n",
      "batch_size 1\n",
      "(0, 2, 1) tensor(-0.0058, device='mps:0', grad_fn=<SumBackward0>)\n",
      "batch_size 1\n",
      "(0, 2, 1) tensor(0., device='mps:0')\n",
      "batch_size 1\n",
      "(0, 1, 2) tensor(0.0028, device='mps:0', grad_fn=<SumBackward0>)\n",
      "(0, 2, 1) tensor(-0.9972, device='mps:0', grad_fn=<SumBackward0>)\n"
     ]
    },
    {
     "name": "stderr",
     "output_type": "stream",
     "text": [
      "Processing rows:  34%|███▍      | 339/1000 [00:26<00:47, 13.96it/s]"
     ]
    },
    {
     "name": "stdout",
     "output_type": "stream",
     "text": [
      "(2, 1, 0) tensor(0.0028, device='mps:0', grad_fn=<SumBackward0>)\n",
      "batch_size 1\n",
      "(0, 1, 2) tensor(0.2500, device='mps:0')\n",
      "(0, 2, 1) tensor(-0.7500, device='mps:0')\n",
      "(2, 1, 0) tensor(0.2500, device='mps:0')\n",
      "batch_size 1\n",
      "(0, 1, 2) tensor(0.0212, device='mps:0', grad_fn=<SumBackward0>)\n",
      "(1, 0, 2) tensor(0.0212, device='mps:0', grad_fn=<SumBackward0>)\n",
      "(2, 0, 1) tensor(0.0212, device='mps:0', grad_fn=<SumBackward0>)\n",
      "batch_size 1\n",
      "(0, 1, 2) tensor(0., device='mps:0')\n",
      "(1, 0, 2) tensor(0., device='mps:0')\n",
      "(2, 0, 1) tensor(0., device='mps:0')\n",
      "batch_size 1\n",
      "(2, 0, 1) tensor(0.0267, device='mps:0', grad_fn=<SumBackward0>)\n",
      "batch_size 1\n"
     ]
    },
    {
     "name": "stderr",
     "output_type": "stream",
     "text": [
      "Processing rows:  34%|███▍      | 343/1000 [00:26<00:49, 13.24it/s]"
     ]
    },
    {
     "name": "stdout",
     "output_type": "stream",
     "text": [
      "(2, 0, 1) tensor(0., device='mps:0')\n",
      "batch_size 1\n",
      "(0, 2, 1) tensor(-0.0050, device='mps:0', grad_fn=<SumBackward0>)\n",
      "batch_size 1\n",
      "(0, 2, 1) tensor(0., device='mps:0')\n",
      "batch_size 1\n",
      "(0, 2, 1) tensor(-0.0035, device='mps:0', grad_fn=<SumBackward0>)\n",
      "(1, 2, 0) tensor(-0.0035, device='mps:0', grad_fn=<SumBackward0>)\n",
      "(2, 1, 0) tensor(-0.0035, device='mps:0', grad_fn=<SumBackward0>)\n",
      "batch_size 1\n",
      "(0, 2, 1) tensor(0., device='mps:0')\n",
      "(1, 2, 0) tensor(0., device='mps:0')\n",
      "(2, 1, 0) tensor(0., device='mps:0')\n",
      "batch_size 1\n",
      "(1, 0, 2) tensor(-0.5751, device='mps:0', grad_fn=<SumBackward0>)\n",
      "(1, 2, 0) tensor(0.4249, device='mps:0', grad_fn=<SumBackward0>)\n"
     ]
    },
    {
     "name": "stderr",
     "output_type": "stream",
     "text": [
      "Processing rows:  34%|███▍      | 345/1000 [00:26<00:49, 13.21it/s]"
     ]
    },
    {
     "name": "stdout",
     "output_type": "stream",
     "text": [
      "batch_size 1\n",
      "(1, 0, 2) tensor(-0.5000, device='mps:0')\n",
      "(1, 2, 0) tensor(0.5000, device='mps:0')\n",
      "batch_size 1\n",
      "(1, 0, 2) tensor(-0.0534, device='mps:0', grad_fn=<SumBackward0>)\n",
      "batch_size 1\n",
      "(1, 0, 2) tensor(0., device='mps:0')\n",
      "batch_size 1\n",
      "(0, 1, 2) tensor(-0.4489, device='mps:0', grad_fn=<SumBackward0>)\n",
      "(1, 2, 0) tensor(1.5511, device='mps:0', grad_fn=<SumBackward0>)\n",
      "batch_size 1\n",
      "(0, 1, 2) tensor(-1., device='mps:0')\n",
      "(1, 2, 0) tensor(1., device='mps:0')\n",
      "batch_size 1\n"
     ]
    },
    {
     "name": "stderr",
     "output_type": "stream",
     "text": [
      "Processing rows:  35%|███▍      | 349/1000 [00:26<00:48, 13.43it/s]"
     ]
    },
    {
     "name": "stdout",
     "output_type": "stream",
     "text": [
      "(2, 0, 1) tensor(1.9519, device='mps:0', grad_fn=<SumBackward0>)\n",
      "batch_size 1\n",
      "(2, 0, 1) tensor(0., device='mps:0')\n",
      "batch_size 1\n",
      "(1, 2, 0) tensor(0.5467, device='mps:0', grad_fn=<SumBackward0>)\n",
      "(2, 1, 0) tensor(-0.4533, device='mps:0', grad_fn=<SumBackward0>)\n",
      "batch_size 1\n",
      "(1, 2, 0) tensor(0.5000, device='mps:0')\n",
      "(2, 1, 0) tensor(-0.5000, device='mps:0')\n",
      "batch_size 1\n",
      "(0, 2, 1) tensor(-0.0510, device='mps:0', grad_fn=<SumBackward0>)\n",
      "(1, 2, 0) tensor(-0.0510, device='mps:0', grad_fn=<SumBackward0>)\n",
      "batch_size 1\n",
      "(0, 2, 1) tensor(0., device='mps:0')\n",
      "(1, 2, 0) tensor(0., device='mps:0')\n",
      "batch_size 1\n"
     ]
    },
    {
     "name": "stderr",
     "output_type": "stream",
     "text": [
      "Processing rows:  35%|███▌      | 351/1000 [00:26<00:44, 14.56it/s]"
     ]
    },
    {
     "name": "stdout",
     "output_type": "stream",
     "text": [
      "(2, 1, 0) tensor(0.0367, device='mps:0', grad_fn=<SumBackward0>)\n",
      "batch_size 1\n",
      "(2, 1, 0) tensor(0., device='mps:0')\n",
      "batch_size 1\n",
      "(2, 1, 0) tensor(0.0046, device='mps:0', grad_fn=<SumBackward0>)\n",
      "batch_size 1\n",
      "(2, 1, 0) tensor(0., device='mps:0')\n",
      "batch_size 1\n",
      "(0, 2, 1) tensor(1.1487, device='mps:0', grad_fn=<SumBackward0>)\n",
      "batch_size 1\n",
      "(0, 2, 1) tensor(0., device='mps:0')\n",
      "batch_size 1\n",
      "(1, 2, 0) tensor(0.0113, device='mps:0', grad_fn=<SumBackward0>)\n",
      "(2, 1, 0) tensor(-0.9887, device='mps:0', grad_fn=<SumBackward0>)\n",
      "batch_size 1\n"
     ]
    },
    {
     "name": "stderr",
     "output_type": "stream",
     "text": [
      "Processing rows:  36%|███▌      | 355/1000 [00:27<00:46, 13.86it/s]"
     ]
    },
    {
     "name": "stdout",
     "output_type": "stream",
     "text": [
      "(1, 2, 0) tensor(0.5000, device='mps:0')\n",
      "(2, 1, 0) tensor(-0.5000, device='mps:0')\n",
      "batch_size 1\n",
      "(0, 1, 2) tensor(-0.0061, device='mps:0', grad_fn=<SumBackward0>)\n",
      "(0, 2, 1) tensor(-0.0061, device='mps:0', grad_fn=<SumBackward0>)\n",
      "(2, 1, 0) tensor(-1.0061, device='mps:0', grad_fn=<SumBackward0>)\n",
      "batch_size 1\n",
      "(0, 1, 2) tensor(0.2500, device='mps:0')\n",
      "(0, 2, 1) tensor(0.2500, device='mps:0')\n",
      "(2, 1, 0) tensor(-0.7500, device='mps:0')\n",
      "batch_size 1\n",
      "(1, 0, 2) tensor(1.3675, device='mps:0', grad_fn=<SumBackward0>)\n",
      "batch_size 1\n",
      "(1, 0, 2) tensor(0., device='mps:0')\n",
      "batch_size 1\n"
     ]
    },
    {
     "name": "stderr",
     "output_type": "stream",
     "text": [
      "Processing rows:  36%|███▌      | 357/1000 [00:27<00:48, 13.39it/s]"
     ]
    },
    {
     "name": "stdout",
     "output_type": "stream",
     "text": [
      "(0, 2, 1) tensor(0.0016, device='mps:0', grad_fn=<SumBackward0>)\n",
      "(2, 0, 1) tensor(-0.9984, device='mps:0', grad_fn=<SumBackward0>)\n",
      "(2, 1, 0) tensor(-1.9984, device='mps:0', grad_fn=<SumBackward0>)\n",
      "batch_size 1\n",
      "(0, 2, 1) tensor(0.7500, device='mps:0')\n",
      "(2, 0, 1) tensor(-0.2500, device='mps:0')\n",
      "(2, 1, 0) tensor(-1.2500, device='mps:0')\n",
      "batch_size 1\n",
      "(0, 2, 1) tensor(0.0053, device='mps:0', grad_fn=<SumBackward0>)\n",
      "batch_size 1\n",
      "(0, 2, 1) tensor(0., device='mps:0')\n",
      "batch_size 1\n",
      "(2, 0, 1) tensor(1.8741, device='mps:0', grad_fn=<SumBackward0>)\n",
      "batch_size 1\n",
      "(2, 0, 1) tensor(0., device='mps:0')\n",
      "batch_size 1\n"
     ]
    },
    {
     "name": "stderr",
     "output_type": "stream",
     "text": [
      "Processing rows:  36%|███▌      | 361/1000 [00:27<00:42, 14.94it/s]"
     ]
    },
    {
     "name": "stdout",
     "output_type": "stream",
     "text": [
      "(2, 0, 1) tensor(0.4054, device='mps:0', grad_fn=<SumBackward0>)\n",
      "batch_size 1\n",
      "(2, 0, 1) tensor(0., device='mps:0')\n",
      "batch_size 1\n",
      "(2, 0, 1) tensor(0.0026, device='mps:0', grad_fn=<SumBackward0>)\n",
      "batch_size 1\n",
      "(2, 0, 1) tensor(0., device='mps:0')\n",
      "batch_size 1\n",
      "(0, 2, 1) tensor(0.0140, device='mps:0', grad_fn=<SumBackward0>)\n",
      "(1, 2, 0) tensor(0.0140, device='mps:0', grad_fn=<SumBackward0>)\n",
      "batch_size 1\n",
      "(0, 2, 1) tensor(0., device='mps:0')\n",
      "(1, 2, 0) tensor(0., device='mps:0')\n",
      "batch_size 1\n",
      "(0, 2, 1) tensor(-0.9993, device='mps:0', grad_fn=<SumBackward0>)\n",
      "(2, 0, 1) tensor(-1.9993, device='mps:0', grad_fn=<SumBackward0>)\n"
     ]
    },
    {
     "name": "stderr",
     "output_type": "stream",
     "text": [
      "Processing rows:  36%|███▋      | 363/1000 [00:27<00:47, 13.52it/s]"
     ]
    },
    {
     "name": "stdout",
     "output_type": "stream",
     "text": [
      "(2, 1, 0) tensor(-1.9993, device='mps:0', grad_fn=<SumBackward0>)\n",
      "batch_size 1\n",
      "(0, 2, 1) tensor(0.5000, device='mps:0')\n",
      "(2, 0, 1) tensor(-0.5000, device='mps:0')\n",
      "(2, 1, 0) tensor(-0.5000, device='mps:0')\n",
      "batch_size 1\n",
      "(1, 0, 2) tensor(-0.0184, device='mps:0', grad_fn=<SumBackward0>)\n",
      "(1, 2, 0) tensor(-0.0184, device='mps:0', grad_fn=<SumBackward0>)\n",
      "batch_size 1\n",
      "(1, 0, 2) tensor(0., device='mps:0')\n",
      "(1, 2, 0) tensor(0., device='mps:0')\n",
      "batch_size 1\n",
      "(0, 2, 1) tensor(0.8073, device='mps:0', grad_fn=<SumBackward0>)\n",
      "batch_size 1\n",
      "(0, 2, 1) tensor(0., device='mps:0')\n",
      "batch_size 1\n"
     ]
    },
    {
     "name": "stderr",
     "output_type": "stream",
     "text": [
      "Processing rows:  37%|███▋      | 367/1000 [00:28<00:44, 14.38it/s]"
     ]
    },
    {
     "name": "stdout",
     "output_type": "stream",
     "text": [
      "(1, 2, 0) tensor(0.0076, device='mps:0', grad_fn=<SumBackward0>)\n",
      "(2, 1, 0) tensor(-0.9924, device='mps:0', grad_fn=<SumBackward0>)\n",
      "batch_size 1\n",
      "(1, 2, 0) tensor(0.5000, device='mps:0')\n",
      "(2, 1, 0) tensor(-0.5000, device='mps:0')\n",
      "batch_size 1\n",
      "(1, 2, 0) tensor(0.0462, device='mps:0', grad_fn=<SumBackward0>)\n",
      "batch_size 1\n",
      "(1, 2, 0) tensor(0., device='mps:0')\n",
      "batch_size 1\n",
      "(0, 2, 1) tensor(0.0132, device='mps:0', grad_fn=<SumBackward0>)\n",
      "(2, 0, 1) tensor(0.0132, device='mps:0', grad_fn=<SumBackward0>)\n",
      "batch_size 1\n",
      "(0, 2, 1) tensor(0., device='mps:0')\n",
      "(2, 0, 1) tensor(0., device='mps:0')\n",
      "batch_size 1\n"
     ]
    },
    {
     "name": "stderr",
     "output_type": "stream",
     "text": [
      "Processing rows:  37%|███▋      | 369/1000 [00:28<00:50, 12.41it/s]"
     ]
    },
    {
     "name": "stdout",
     "output_type": "stream",
     "text": [
      "(0, 1, 2) tensor(-0.9965, device='mps:0', grad_fn=<SumBackward0>)\n",
      "(0, 2, 1) tensor(0.0035, device='mps:0', grad_fn=<SumBackward0>)\n",
      "(1, 2, 0) tensor(0.0035, device='mps:0', grad_fn=<SumBackward0>)\n",
      "batch_size 1\n",
      "(0, 1, 2) tensor(-0.7500, device='mps:0')\n",
      "(0, 2, 1) tensor(0.2500, device='mps:0')\n",
      "(1, 2, 0) tensor(0.2500, device='mps:0')\n",
      "batch_size 1\n",
      "(0, 1, 2) tensor(-0.0201, device='mps:0', grad_fn=<SumBackward0>)\n",
      "(1, 2, 0) tensor(0.9799, device='mps:0', grad_fn=<SumBackward0>)\n",
      "(2, 1, 0) tensor(-0.0201, device='mps:0', grad_fn=<SumBackward0>)\n",
      "batch_size 1\n",
      "(0, 1, 2) tensor(-0.5000, device='mps:0')\n",
      "(1, 2, 0) tensor(0.5000, device='mps:0')\n",
      "(2, 1, 0) tensor(-0.5000, device='mps:0')\n",
      "batch_size 1\n"
     ]
    },
    {
     "name": "stderr",
     "output_type": "stream",
     "text": [
      "Processing rows:  37%|███▋      | 371/1000 [00:28<00:50, 12.51it/s]"
     ]
    },
    {
     "name": "stdout",
     "output_type": "stream",
     "text": [
      "(2, 0, 1) tensor(0.0004, device='mps:0', grad_fn=<SumBackward0>)\n",
      "batch_size 1\n",
      "(2, 0, 1) tensor(0., device='mps:0')\n",
      "batch_size 1\n",
      "(0, 2, 1) tensor(0.0009, device='mps:0', grad_fn=<SumBackward0>)\n",
      "(1, 0, 2) tensor(0.0009, device='mps:0', grad_fn=<SumBackward0>)\n",
      "(1, 2, 0) tensor(0.0009, device='mps:0', grad_fn=<SumBackward0>)\n",
      "batch_size 1\n",
      "(0, 2, 1) tensor(0., device='mps:0')\n",
      "(1, 0, 2) tensor(0., device='mps:0')\n",
      "(1, 2, 0) tensor(0., device='mps:0')\n",
      "batch_size 1\n",
      "(1, 2, 0) tensor(1.9489, device='mps:0', grad_fn=<SumBackward0>)\n",
      "batch_size 1\n",
      "(1, 2, 0) tensor(0., device='mps:0')\n",
      "batch_size 1\n"
     ]
    },
    {
     "name": "stderr",
     "output_type": "stream",
     "text": [
      "Processing rows:  37%|███▋      | 373/1000 [00:28<00:50, 12.53it/s]"
     ]
    },
    {
     "name": "stdout",
     "output_type": "stream",
     "text": [
      "(0, 1, 2) tensor(-1.0076, device='mps:0', grad_fn=<SumBackward0>)\n",
      "(1, 0, 2) tensor(-0.0076, device='mps:0', grad_fn=<SumBackward0>)\n",
      "(2, 1, 0) tensor(-1.0076, device='mps:0', grad_fn=<SumBackward0>)\n",
      "batch_size 1\n",
      "(0, 1, 2) tensor(-0.5000, device='mps:0')\n",
      "(1, 0, 2) tensor(0.5000, device='mps:0')\n",
      "(2, 1, 0) tensor(-0.5000, device='mps:0')\n",
      "batch_size 1\n",
      "(0, 1, 2) tensor(-0.9978, device='mps:0', grad_fn=<SumBackward0>)\n",
      "(0, 2, 1) tensor(0.0022, device='mps:0', grad_fn=<SumBackward0>)\n",
      "(2, 1, 0) tensor(-1.9978, device='mps:0', grad_fn=<SumBackward0>)\n",
      "batch_size 1\n",
      "(0, 1, 2) tensor(-0.2500, device='mps:0')\n",
      "(0, 2, 1) tensor(0.7500, device='mps:0')\n",
      "(2, 1, 0) tensor(-1.2500, device='mps:0')\n",
      "batch_size 1\n"
     ]
    },
    {
     "name": "stderr",
     "output_type": "stream",
     "text": [
      "Processing rows:  38%|███▊      | 377/1000 [00:28<00:44, 14.01it/s]"
     ]
    },
    {
     "name": "stdout",
     "output_type": "stream",
     "text": [
      "(2, 1, 0) tensor(0.4294, device='mps:0', grad_fn=<SumBackward0>)\n",
      "batch_size 1\n",
      "(2, 1, 0) tensor(0., device='mps:0')\n",
      "batch_size 1\n",
      "(0, 2, 1) tensor(0.0039, device='mps:0', grad_fn=<SumBackward0>)\n",
      "batch_size 1\n",
      "(0, 2, 1) tensor(0., device='mps:0')\n",
      "batch_size 1\n",
      "(2, 1, 0) tensor(-0.0065, device='mps:0', grad_fn=<SumBackward0>)\n",
      "batch_size 1\n",
      "(2, 1, 0) tensor(0., device='mps:0')\n",
      "batch_size 1\n",
      "(2, 0, 1) tensor(-0.9577, device='mps:0', grad_fn=<SumBackward0>)\n",
      "batch_size 1\n",
      "(2, 0, 1) tensor(0., device='mps:0')\n",
      "batch_size 1\n"
     ]
    },
    {
     "name": "stderr",
     "output_type": "stream",
     "text": [
      "Processing rows:  38%|███▊      | 381/1000 [00:29<00:41, 14.76it/s]"
     ]
    },
    {
     "name": "stdout",
     "output_type": "stream",
     "text": [
      "(2, 0, 1) tensor(0.0003, device='mps:0', grad_fn=<SumBackward0>)\n",
      "batch_size 1\n",
      "(2, 0, 1) tensor(0., device='mps:0')\n",
      "batch_size 1\n",
      "(2, 1, 0) tensor(0.0006, device='mps:0', grad_fn=<SumBackward0>)\n",
      "batch_size 1\n",
      "(2, 1, 0) tensor(0., device='mps:0')\n",
      "batch_size 1\n",
      "(0, 1, 2) tensor(-0.0229, device='mps:0', grad_fn=<SumBackward0>)\n",
      "(1, 2, 0) tensor(0.9771, device='mps:0', grad_fn=<SumBackward0>)\n",
      "batch_size 1\n",
      "(0, 1, 2) tensor(-0.5000, device='mps:0')\n",
      "(1, 2, 0) tensor(0.5000, device='mps:0')\n",
      "batch_size 1\n",
      "(0, 1, 2) "
     ]
    },
    {
     "name": "stderr",
     "output_type": "stream",
     "text": [
      "Processing rows:  38%|███▊      | 383/1000 [00:29<00:41, 14.71it/s]"
     ]
    },
    {
     "name": "stdout",
     "output_type": "stream",
     "text": [
      "tensor(-0.0336, device='mps:0', grad_fn=<SumBackward0>)\n",
      "(1, 0, 2) tensor(-0.0336, device='mps:0', grad_fn=<SumBackward0>)\n",
      "batch_size 1\n",
      "(0, 1, 2) tensor(0., device='mps:0')\n",
      "(1, 0, 2) tensor(0., device='mps:0')\n",
      "batch_size 1\n",
      "(2, 1, 0) tensor(-0.0022, device='mps:0', grad_fn=<SumBackward0>)\n",
      "batch_size 1\n",
      "(2, 1, 0) tensor(0., device='mps:0')\n",
      "batch_size 1\n",
      "(1, 0, 2) tensor(0.0276, device='mps:0', grad_fn=<SumBackward0>)\n",
      "(2, 0, 1) tensor(0.0276, device='mps:0', grad_fn=<SumBackward0>)\n",
      "batch_size 1\n",
      "(1, 0, 2) tensor(0., device='mps:0')\n",
      "(2, 0, 1) tensor(0., device='mps:0')\n",
      "batch_size 1\n"
     ]
    },
    {
     "name": "stderr",
     "output_type": "stream",
     "text": [
      "Processing rows:  39%|███▊      | 387/1000 [00:29<00:42, 14.49it/s]"
     ]
    },
    {
     "name": "stdout",
     "output_type": "stream",
     "text": [
      "(0, 2, 1) tensor(0.0144, device='mps:0', grad_fn=<SumBackward0>)\n",
      "(2, 0, 1) tensor(0.0144, device='mps:0', grad_fn=<SumBackward0>)\n",
      "batch_size 1\n",
      "(0, 2, 1) tensor(0., device='mps:0')\n",
      "(2, 0, 1) tensor(0., device='mps:0')\n",
      "batch_size 1\n",
      "(1, 2, 0) tensor(0.0004, device='mps:0', grad_fn=<SumBackward0>)\n",
      "(2, 1, 0) tensor(-0.9996, device='mps:0', grad_fn=<SumBackward0>)\n",
      "batch_size 1\n",
      "(1, 2, 0) tensor(0.5000, device='mps:0')\n",
      "(2, 1, 0) tensor(-0.5000, device='mps:0')\n",
      "batch_size 1\n",
      "(2, 1, 0) tensor(-0.0045, device='mps:0', grad_fn=<SumBackward0>)\n",
      "batch_size 1\n",
      "(2, 1, 0) tensor(0., device='mps:0')\n",
      "batch_size 1\n"
     ]
    },
    {
     "name": "stderr",
     "output_type": "stream",
     "text": [
      "Processing rows:  39%|███▉      | 389/1000 [00:29<00:41, 14.60it/s]"
     ]
    },
    {
     "name": "stdout",
     "output_type": "stream",
     "text": [
      "(0, 2, 1) tensor(0.0017, device='mps:0', grad_fn=<SumBackward0>)\n",
      "batch_size 1\n",
      "(0, 2, 1) tensor(0., device='mps:0')\n",
      "batch_size 1\n",
      "(0, 1, 2) tensor(0.0067, device='mps:0', grad_fn=<SumBackward0>)\n",
      "(2, 0, 1) tensor(-1.9933, device='mps:0', grad_fn=<SumBackward0>)\n",
      "batch_size 1\n",
      "(0, 1, 2) tensor(1., device='mps:0')\n",
      "(2, 0, 1) tensor(-1., device='mps:0')\n",
      "batch_size 1\n",
      "(0, 1, 2) tensor(0.0011, device='mps:0', grad_fn=<SumBackward0>)\n",
      "(1, 2, 0) tensor(-1.9989, device='mps:0', grad_fn=<SumBackward0>)\n",
      "(2, 1, 0) tensor(-0.9989, device='mps:0', grad_fn=<SumBackward0>)\n",
      "batch_size 1\n",
      "(0, 1, 2) tensor(0.7500, device='mps:0')\n",
      "(1, 2, 0) tensor(-1.2500, device='mps:0')\n"
     ]
    },
    {
     "name": "stderr",
     "output_type": "stream",
     "text": [
      "Processing rows:  39%|███▉      | 391/1000 [00:29<00:45, 13.39it/s]"
     ]
    },
    {
     "name": "stdout",
     "output_type": "stream",
     "text": [
      "(2, 1, 0) tensor(-0.2500, device='mps:0')\n",
      "batch_size 1\n",
      "(0, 1, 2) tensor(-0.0214, device='mps:0', grad_fn=<SumBackward0>)\n",
      "(2, 1, 0) tensor(-0.0214, device='mps:0', grad_fn=<SumBackward0>)\n",
      "batch_size 1\n",
      "(0, 1, 2) tensor(0., device='mps:0')\n",
      "(2, 1, 0) tensor(0., device='mps:0')\n",
      "batch_size 1\n",
      "(0, 2, 1) tensor(-0.2235, device='mps:0', grad_fn=<SumBackward0>)\n",
      "(1, 0, 2) tensor(-1.2235, device='mps:0', grad_fn=<SumBackward0>)\n",
      "(1, 2, 0) tensor(-1.2235, device='mps:0', grad_fn=<SumBackward0>)\n",
      "batch_size 1\n",
      "(0, 2, 1) tensor(0.5000, device='mps:0')\n",
      "(1, 0, 2) tensor(-0.5000, device='mps:0')\n",
      "(1, 2, 0) tensor(-0.5000, device='mps:0')\n",
      "batch_size 1\n"
     ]
    },
    {
     "name": "stderr",
     "output_type": "stream",
     "text": [
      "Processing rows:  39%|███▉      | 393/1000 [00:30<00:50, 12.00it/s]"
     ]
    },
    {
     "name": "stdout",
     "output_type": "stream",
     "text": [
      "(1, 0, 2) tensor(0.0084, device='mps:0', grad_fn=<SumBackward0>)\n",
      "(2, 0, 1) tensor(-0.9916, device='mps:0', grad_fn=<SumBackward0>)\n",
      "(2, 1, 0) tensor(-0.9916, device='mps:0', grad_fn=<SumBackward0>)\n",
      "batch_size 1\n",
      "(1, 0, 2) tensor(0.5000, device='mps:0')\n",
      "(2, 0, 1) tensor(-0.5000, device='mps:0')\n",
      "(2, 1, 0) tensor(-0.5000, device='mps:0')\n",
      "batch_size 1\n",
      "(0, 1, 2) tensor(0.0016, device='mps:0', grad_fn=<SumBackward0>)\n",
      "batch_size 1\n",
      "(0, 1, 2) tensor(0., device='mps:0')\n",
      "batch_size 1\n",
      "(1, 2, 0) tensor(-0.0106, device='mps:0', grad_fn=<SumBackward0>)\n",
      "(2, 1, 0) tensor(-0.0106, device='mps:0', grad_fn=<SumBackward0>)\n",
      "batch_size 1\n",
      "(1, 2, 0) tensor(0., device='mps:0')\n"
     ]
    },
    {
     "name": "stderr",
     "output_type": "stream",
     "text": [
      "Processing rows:  40%|███▉      | 397/1000 [00:30<00:48, 12.53it/s]"
     ]
    },
    {
     "name": "stdout",
     "output_type": "stream",
     "text": [
      "(2, 1, 0) tensor(0., device='mps:0')\n",
      "batch_size 1\n",
      "(0, 1, 2) tensor(-0.0212, device='mps:0', grad_fn=<SumBackward0>)\n",
      "(0, 2, 1) tensor(-0.0212, device='mps:0', grad_fn=<SumBackward0>)\n",
      "(1, 0, 2) tensor(0.9788, device='mps:0', grad_fn=<SumBackward0>)\n",
      "batch_size 1\n",
      "(0, 1, 2) tensor(-0.5000, device='mps:0')\n",
      "(0, 2, 1) tensor(-0.5000, device='mps:0')\n",
      "(1, 0, 2) tensor(0.5000, device='mps:0')\n",
      "batch_size 1\n",
      "(0, 1, 2) tensor(1.9355, device='mps:0', grad_fn=<SumBackward0>)\n",
      "batch_size 1\n",
      "(0, 1, 2) tensor(0., device='mps:0')\n",
      "batch_size 1\n",
      "(0, 2, 1) tensor(-0.0050, device='mps:0', grad_fn=<SumBackward0>)\n"
     ]
    },
    {
     "name": "stderr",
     "output_type": "stream",
     "text": [
      "Processing rows:  40%|████      | 401/1000 [00:30<00:40, 14.83it/s]"
     ]
    },
    {
     "name": "stdout",
     "output_type": "stream",
     "text": [
      "batch_size 1\n",
      "(0, 2, 1) tensor(0., device='mps:0')\n",
      "batch_size 1\n",
      "(0, 1, 2) tensor(0.0029, device='mps:0', grad_fn=<SumBackward0>)\n",
      "batch_size 1\n",
      "(0, 1, 2) tensor(0., device='mps:0')\n",
      "batch_size 1\n",
      "(1, 0, 2) tensor(0.2061, device='mps:0', grad_fn=<SumBackward0>)\n",
      "batch_size 1\n",
      "(1, 0, 2) tensor(0., device='mps:0')\n",
      "batch_size 1\n",
      "(1, 2, 0) tensor(0.0035, device='mps:0', grad_fn=<SumBackward0>)\n",
      "batch_size 1\n",
      "(1, 2, 0) tensor(0., device='mps:0')\n",
      "batch_size 1\n"
     ]
    },
    {
     "name": "stderr",
     "output_type": "stream",
     "text": [
      "Processing rows:  40%|████      | 403/1000 [00:30<00:44, 13.41it/s]"
     ]
    },
    {
     "name": "stdout",
     "output_type": "stream",
     "text": [
      "(0, 1, 2) tensor(-1.0062, device='mps:0', grad_fn=<SumBackward0>)\n",
      "(1, 0, 2) tensor(-0.0062, device='mps:0', grad_fn=<SumBackward0>)\n",
      "(2, 1, 0) tensor(-1.0062, device='mps:0', grad_fn=<SumBackward0>)\n",
      "batch_size 1\n",
      "(0, 1, 2) tensor(-0.5000, device='mps:0')\n",
      "(1, 0, 2) tensor(0.5000, device='mps:0')\n",
      "(2, 1, 0) tensor(-0.5000, device='mps:0')\n",
      "batch_size 1\n",
      "(1, 0, 2) tensor(0.0314, device='mps:0', grad_fn=<SumBackward0>)\n",
      "(1, 2, 0) tensor(0.0314, device='mps:0', grad_fn=<SumBackward0>)\n",
      "batch_size 1\n",
      "(1, 0, 2) tensor(0., device='mps:0')\n",
      "(1, 2, 0) tensor(0., device='mps:0')\n",
      "batch_size 1\n",
      "(2, 0, 1) tensor(1.6293, device='mps:0', grad_fn=<SumBackward0>)\n",
      "batch_size 1\n"
     ]
    },
    {
     "name": "stderr",
     "output_type": "stream",
     "text": [
      "Processing rows:  40%|████      | 405/1000 [00:30<00:43, 13.82it/s]"
     ]
    },
    {
     "name": "stdout",
     "output_type": "stream",
     "text": [
      "(2, 0, 1) tensor(0., device='mps:0')\n",
      "batch_size 1\n",
      "(0, 1, 2) tensor(0.1737, device='mps:0', grad_fn=<SumBackward0>)\n",
      "(2, 0, 1) tensor(-0.8263, device='mps:0', grad_fn=<SumBackward0>)\n",
      "batch_size 1\n",
      "(0, 1, 2) tensor(0.5000, device='mps:0')\n",
      "(2, 0, 1) tensor(-0.5000, device='mps:0')\n",
      "batch_size 1\n",
      "(2, 1, 0) tensor(-3.9903e-05, device='mps:0', grad_fn=<SumBackward0>)\n",
      "batch_size 1\n",
      "(2, 1, 0) tensor(0., device='mps:0')\n",
      "batch_size 1\n",
      "(0, 1, 2) tensor(0.0179, device='mps:0', grad_fn=<SumBackward0>)\n",
      "(2, 1, 0) tensor(-0.9821, device='mps:0', grad_fn=<SumBackward0>)\n"
     ]
    },
    {
     "name": "stderr",
     "output_type": "stream",
     "text": [
      "Processing rows:  41%|████      | 407/1000 [00:30<00:44, 13.46it/s]"
     ]
    },
    {
     "name": "stdout",
     "output_type": "stream",
     "text": [
      "batch_size 1\n",
      "(0, 1, 2) tensor(0.5000, device='mps:0')\n",
      "(2, 1, 0) tensor(-0.5000, device='mps:0')\n",
      "batch_size 1\n",
      "(1, 2, 0) tensor(0.0004, device='mps:0', grad_fn=<SumBackward0>)\n",
      "batch_size 1\n",
      "(1, 2, 0) tensor(0., device='mps:0')\n",
      "batch_size 1\n",
      "(0, 2, 1) tensor(-0.0037, device='mps:0', grad_fn=<SumBackward0>)\n",
      "(2, 0, 1) tensor(-0.0037, device='mps:0', grad_fn=<SumBackward0>)\n",
      "(2, 1, 0) tensor(-0.0037, device='mps:0', grad_fn=<SumBackward0>)\n",
      "batch_size 1\n",
      "(0, 2, 1) tensor(0., device='mps:0')\n",
      "(2, 0, 1) tensor(0., device='mps:0')\n",
      "(2, 1, 0) tensor(0., device='mps:0')\n"
     ]
    },
    {
     "name": "stderr",
     "output_type": "stream",
     "text": [
      "Processing rows:  41%|████      | 411/1000 [00:31<00:42, 13.83it/s]"
     ]
    },
    {
     "name": "stdout",
     "output_type": "stream",
     "text": [
      "batch_size 1\n",
      "(0, 1, 2) tensor(-0.0048, device='mps:0', grad_fn=<SumBackward0>)\n",
      "(0, 2, 1) tensor(-0.0048, device='mps:0', grad_fn=<SumBackward0>)\n",
      "batch_size 1\n",
      "(0, 1, 2) tensor(0., device='mps:0')\n",
      "(0, 2, 1) tensor(0., device='mps:0')\n",
      "batch_size 1\n",
      "(0, 1, 2) tensor(0.0004, device='mps:0', grad_fn=<SumBackward0>)\n",
      "batch_size 1\n",
      "(0, 1, 2) tensor(0., device='mps:0')\n",
      "batch_size 1\n",
      "(1, 2, 0) tensor(-1.9988, device='mps:0', grad_fn=<SumBackward0>)\n",
      "(2, 0, 1) tensor(0.0012, device='mps:0', grad_fn=<SumBackward0>)\n",
      "batch_size 1\n",
      "(1, 2, 0) tensor(-1., device='mps:0')\n",
      "(2, 0, 1) tensor(1., device='mps:0')\n"
     ]
    },
    {
     "name": "stderr",
     "output_type": "stream",
     "text": [
      "Processing rows:  42%|████▏     | 415/1000 [00:31<00:39, 14.71it/s]"
     ]
    },
    {
     "name": "stdout",
     "output_type": "stream",
     "text": [
      "batch_size 1\n",
      "(0, 2, 1) tensor(-0.0145, device='mps:0', grad_fn=<SumBackward0>)\n",
      "(2, 0, 1) tensor(0.9855, device='mps:0', grad_fn=<SumBackward0>)\n",
      "batch_size 1\n",
      "(0, 2, 1) tensor(-0.5000, device='mps:0')\n",
      "(2, 0, 1) tensor(0.5000, device='mps:0')\n",
      "batch_size 1\n",
      "(2, 0, 1) tensor(0.6107, device='mps:0', grad_fn=<SumBackward0>)\n",
      "batch_size 1\n",
      "(2, 0, 1) tensor(0., device='mps:0')\n",
      "batch_size 1\n",
      "(0, 1, 2) tensor(0.0053, device='mps:0', grad_fn=<SumBackward0>)\n",
      "batch_size 1\n",
      "(0, 1, 2) tensor(0., device='mps:0')\n",
      "batch_size 1\n"
     ]
    },
    {
     "name": "stderr",
     "output_type": "stream",
     "text": [
      "Processing rows:  42%|████▏     | 417/1000 [00:31<00:39, 14.87it/s]"
     ]
    },
    {
     "name": "stdout",
     "output_type": "stream",
     "text": [
      "(0, 2, 1) tensor(0.6542, device='mps:0', grad_fn=<SumBackward0>)\n",
      "(2, 0, 1) tensor(0.6542, device='mps:0', grad_fn=<SumBackward0>)\n",
      "batch_size 1\n",
      "(0, 2, 1) tensor(0., device='mps:0')\n",
      "(2, 0, 1) tensor(0., device='mps:0')\n",
      "batch_size 1\n",
      "(2, 0, 1) tensor(1.8387, device='mps:0', grad_fn=<SumBackward0>)\n",
      "batch_size 1\n",
      "(2, 0, 1) tensor(0., device='mps:0')\n",
      "batch_size 1\n",
      "(0, 1, 2) tensor(-0.4214, device='mps:0', grad_fn=<SumBackward0>)\n",
      "(0, 2, 1) tensor(-0.4214, device='mps:0', grad_fn=<SumBackward0>)\n",
      "(1, 2, 0) tensor(0.5786, device='mps:0', grad_fn=<SumBackward0>)\n",
      "batch_size 1\n",
      "(0, 1, 2) tensor(-0.5000, device='mps:0')\n",
      "(0, 2, 1) tensor(-0.5000, device='mps:0')\n"
     ]
    },
    {
     "name": "stderr",
     "output_type": "stream",
     "text": [
      "Processing rows:  42%|████▏     | 421/1000 [00:31<00:39, 14.58it/s]"
     ]
    },
    {
     "name": "stdout",
     "output_type": "stream",
     "text": [
      "(1, 2, 0) tensor(0.5000, device='mps:0')\n",
      "batch_size 1\n",
      "(1, 0, 2) tensor(-0.3796, device='mps:0', grad_fn=<SumBackward0>)\n",
      "(2, 0, 1) tensor(-0.3796, device='mps:0', grad_fn=<SumBackward0>)\n",
      "batch_size 1\n",
      "(1, 0, 2) tensor(0., device='mps:0')\n",
      "(2, 0, 1) tensor(0., device='mps:0')\n",
      "batch_size 1\n",
      "(2, 1, 0) tensor(0.0228, device='mps:0', grad_fn=<SumBackward0>)\n",
      "batch_size 1\n",
      "(2, 1, 0) tensor(0., device='mps:0')\n",
      "batch_size 1\n",
      "(0, 1, 2) tensor(0.0034, device='mps:0', grad_fn=<SumBackward0>)\n",
      "batch_size 1\n",
      "(0, 1, 2) tensor(0., device='mps:0')\n"
     ]
    },
    {
     "name": "stderr",
     "output_type": "stream",
     "text": [
      "Processing rows:  42%|████▏     | 423/1000 [00:32<00:37, 15.48it/s]"
     ]
    },
    {
     "name": "stdout",
     "output_type": "stream",
     "text": [
      "batch_size 1\n",
      "(0, 1, 2) tensor(0.0044, device='mps:0', grad_fn=<SumBackward0>)\n",
      "batch_size 1\n",
      "(0, 1, 2) tensor(0., device='mps:0')\n",
      "batch_size 1\n",
      "(0, 1, 2) tensor(0.0014, device='mps:0', grad_fn=<SumBackward0>)\n",
      "batch_size 1\n",
      "(0, 1, 2) tensor(0., device='mps:0')\n",
      "batch_size 1\n",
      "(0, 2, 1) tensor(-1.6993, device='mps:0', grad_fn=<SumBackward0>)\n",
      "(1, 0, 2) tensor(0.3007, device='mps:0', grad_fn=<SumBackward0>)\n",
      "batch_size 1\n",
      "(0, 2, 1) tensor(-1., device='mps:0')\n",
      "(1, 0, 2) tensor(1., device='mps:0')\n",
      "batch_size 1\n"
     ]
    },
    {
     "name": "stderr",
     "output_type": "stream",
     "text": [
      "Processing rows:  43%|████▎     | 427/1000 [00:32<00:36, 15.75it/s]"
     ]
    },
    {
     "name": "stdout",
     "output_type": "stream",
     "text": [
      "(0, 2, 1) tensor(0.0008, device='mps:0', grad_fn=<SumBackward0>)\n",
      "batch_size 1\n",
      "(0, 2, 1) tensor(0., device='mps:0')\n",
      "batch_size 1\n",
      "(0, 2, 1) tensor(0.0119, device='mps:0', grad_fn=<SumBackward0>)\n",
      "batch_size 1\n",
      "(0, 2, 1) tensor(0., device='mps:0')\n",
      "batch_size 1\n",
      "(2, 0, 1) tensor(0.0022, device='mps:0', grad_fn=<SumBackward0>)\n",
      "batch_size 1\n",
      "(2, 0, 1) tensor(0., device='mps:0')\n",
      "batch_size 1\n",
      "(1, 2, 0) tensor(-0.0330, device='mps:0', grad_fn=<SumBackward0>)\n",
      "batch_size 1\n",
      "(1, 2, 0) tensor(0., device='mps:0')\n"
     ]
    },
    {
     "name": "stderr",
     "output_type": "stream",
     "text": [
      "Processing rows:  43%|████▎     | 429/1000 [00:32<00:34, 16.39it/s]"
     ]
    },
    {
     "name": "stdout",
     "output_type": "stream",
     "text": [
      "batch_size 1\n",
      "(1, 0, 2) tensor(0.1006, device='mps:0', grad_fn=<SumBackward0>)\n",
      "batch_size 1\n",
      "(1, 0, 2) tensor(0., device='mps:0')\n",
      "batch_size 1\n",
      "(0, 1, 2) tensor(0.7746, device='mps:0', grad_fn=<SumBackward0>)\n",
      "(1, 0, 2) tensor(-0.2254, device='mps:0', grad_fn=<SumBackward0>)\n",
      "batch_size 1\n",
      "(0, 1, 2) tensor(0.5000, device='mps:0')\n",
      "(1, 0, 2) tensor(-0.5000, device='mps:0')\n",
      "batch_size 1\n",
      "(0, 1, 2) tensor(0.0025, device='mps:0', grad_fn=<SumBackward0>)\n",
      "(1, 2, 0) tensor(-0.9975, device='mps:0', grad_fn=<SumBackward0>)\n",
      "(2, 1, 0) tensor(-0.9975, device='mps:0', grad_fn=<SumBackward0>)\n",
      "batch_size 1\n",
      "(0, 1, 2) tensor(0.5000, device='mps:0')\n"
     ]
    },
    {
     "name": "stderr",
     "output_type": "stream",
     "text": [
      "Processing rows:  43%|████▎     | 433/1000 [00:32<00:36, 15.45it/s]"
     ]
    },
    {
     "name": "stdout",
     "output_type": "stream",
     "text": [
      "(1, 2, 0) tensor(-0.5000, device='mps:0')\n",
      "(2, 1, 0) tensor(-0.5000, device='mps:0')\n",
      "batch_size 1\n",
      "(1, 2, 0) tensor(0.0034, device='mps:0', grad_fn=<SumBackward0>)\n",
      "batch_size 1\n",
      "(1, 2, 0) tensor(0., device='mps:0')\n",
      "batch_size 1\n",
      "(2, 1, 0) tensor(-0.8504, device='mps:0', grad_fn=<SumBackward0>)\n",
      "batch_size 1\n",
      "(2, 1, 0) tensor(0., device='mps:0')\n",
      "batch_size 1\n",
      "(0, 2, 1) tensor(-0.0261, device='mps:0', grad_fn=<SumBackward0>)\n",
      "(1, 2, 0) tensor(-0.0261, device='mps:0', grad_fn=<SumBackward0>)\n",
      "batch_size 1\n",
      "(0, 2, 1) tensor(0., device='mps:0')\n",
      "(1, 2, 0) tensor(0., device='mps:0')\n"
     ]
    },
    {
     "name": "stderr",
     "output_type": "stream",
     "text": [
      "Processing rows:  44%|████▎     | 435/1000 [00:32<00:38, 14.59it/s]"
     ]
    },
    {
     "name": "stdout",
     "output_type": "stream",
     "text": [
      "batch_size 1\n",
      "(1, 0, 2) tensor(0.6864, device='mps:0', grad_fn=<SumBackward0>)\n",
      "(2, 1, 0) tensor(-1.3136, device='mps:0', grad_fn=<SumBackward0>)\n",
      "batch_size 1\n",
      "(1, 0, 2) tensor(1., device='mps:0')\n",
      "(2, 1, 0) tensor(-1., device='mps:0')\n",
      "batch_size 1\n",
      "(1, 2, 0) tensor(0.4894, device='mps:0', grad_fn=<SumBackward0>)\n",
      "batch_size 1\n",
      "(1, 2, 0) tensor(0., device='mps:0')\n",
      "batch_size 1\n",
      "(1, 0, 2) tensor(0.0262, device='mps:0', grad_fn=<SumBackward0>)\n",
      "(2, 0, 1) tensor(-0.9738, device='mps:0', grad_fn=<SumBackward0>)\n",
      "batch_size 1\n",
      "(1, 0, 2) tensor(0.5000, device='mps:0')\n",
      "(2, 0, 1) "
     ]
    },
    {
     "name": "stderr",
     "output_type": "stream",
     "text": [
      "Processing rows:  44%|████▍     | 439/1000 [00:33<00:39, 14.09it/s]"
     ]
    },
    {
     "name": "stdout",
     "output_type": "stream",
     "text": [
      "tensor(-0.5000, device='mps:0')\n",
      "batch_size 1\n",
      "(2, 1, 0) tensor(-0.3045, device='mps:0', grad_fn=<SumBackward0>)\n",
      "batch_size 1\n",
      "(2, 1, 0) tensor(0., device='mps:0')\n",
      "batch_size 1\n",
      "(1, 0, 2) tensor(-0.0055, device='mps:0', grad_fn=<SumBackward0>)\n",
      "(1, 2, 0) tensor(-0.0055, device='mps:0', grad_fn=<SumBackward0>)\n",
      "(2, 1, 0) tensor(0.9945, device='mps:0', grad_fn=<SumBackward0>)\n",
      "batch_size 1\n",
      "(1, 0, 2) tensor(-0.5000, device='mps:0')\n",
      "(1, 2, 0) tensor(-0.5000, device='mps:0')\n",
      "(2, 1, 0) tensor(0.5000, device='mps:0')\n",
      "batch_size 1\n",
      "(0, 1, 2) tensor(-1.0593, device='mps:0', grad_fn=<SumBackward0>)\n",
      "(0, 2, 1) tensor(-2.0593, device='mps:0', grad_fn=<SumBackward0>)\n"
     ]
    },
    {
     "name": "stderr",
     "output_type": "stream",
     "text": [
      "Processing rows:  44%|████▍     | 441/1000 [00:33<00:41, 13.63it/s]"
     ]
    },
    {
     "name": "stdout",
     "output_type": "stream",
     "text": [
      "(2, 1, 0) tensor(-0.0593, device='mps:0', grad_fn=<SumBackward0>)\n",
      "batch_size 1\n",
      "(0, 1, 2) tensor(-0.2500, device='mps:0')\n",
      "(0, 2, 1) tensor(-1.2500, device='mps:0')\n",
      "(2, 1, 0) tensor(0.7500, device='mps:0')\n",
      "batch_size 1\n",
      "(0, 1, 2) tensor(0.0007, device='mps:0', grad_fn=<SumBackward0>)\n",
      "batch_size 1\n",
      "(0, 1, 2) tensor(0., device='mps:0')\n",
      "batch_size 1\n",
      "(1, 2, 0) tensor(0.0015, device='mps:0', grad_fn=<SumBackward0>)\n",
      "batch_size 1\n",
      "(1, 2, 0) tensor(0., device='mps:0')\n",
      "batch_size 1\n",
      "(0, 1, 2) tensor(-0.0009, device='mps:0', grad_fn=<SumBackward0>)\n",
      "(1, 0, 2) tensor(-0.0009, device='mps:0', grad_fn=<SumBackward0>)\n"
     ]
    },
    {
     "name": "stderr",
     "output_type": "stream",
     "text": [
      "Processing rows:  44%|████▍     | 445/1000 [00:33<00:37, 14.67it/s]"
     ]
    },
    {
     "name": "stdout",
     "output_type": "stream",
     "text": [
      "batch_size 1\n",
      "(0, 1, 2) tensor(0., device='mps:0')\n",
      "(1, 0, 2) tensor(0., device='mps:0')\n",
      "batch_size 1\n",
      "(0, 2, 1) tensor(-0.0187, device='mps:0', grad_fn=<SumBackward0>)\n",
      "(1, 2, 0) tensor(-0.0187, device='mps:0', grad_fn=<SumBackward0>)\n",
      "batch_size 1\n",
      "(0, 2, 1) tensor(0., device='mps:0')\n",
      "(1, 2, 0) tensor(0., device='mps:0')\n",
      "batch_size 1\n",
      "(0, 2, 1) tensor(8.0551e-05, device='mps:0', grad_fn=<SumBackward0>)\n",
      "batch_size 1\n",
      "(0, 2, 1) tensor(0., device='mps:0')\n",
      "batch_size 1\n",
      "(0, 1, 2) tensor(0.0006, device='mps:0', grad_fn=<SumBackward0>)\n",
      "batch_size 1\n"
     ]
    },
    {
     "name": "stderr",
     "output_type": "stream",
     "text": [
      "Processing rows:  45%|████▍     | 447/1000 [00:33<00:37, 14.78it/s]"
     ]
    },
    {
     "name": "stdout",
     "output_type": "stream",
     "text": [
      "(0, 1, 2) tensor(0., device='mps:0')\n",
      "batch_size 1\n",
      "(0, 2, 1) tensor(0.2415, device='mps:0', grad_fn=<SumBackward0>)\n",
      "(2, 1, 0) tensor(-1.7585, device='mps:0', grad_fn=<SumBackward0>)\n",
      "batch_size 1\n",
      "(0, 2, 1) tensor(1., device='mps:0')\n",
      "(2, 1, 0) tensor(-1., device='mps:0')\n",
      "batch_size 1\n",
      "(1, 0, 2) tensor(0.0103, device='mps:0', grad_fn=<SumBackward0>)\n",
      "(1, 2, 0) tensor(0.0103, device='mps:0', grad_fn=<SumBackward0>)\n",
      "(2, 1, 0) tensor(0.0103, device='mps:0', grad_fn=<SumBackward0>)\n",
      "batch_size 1\n",
      "(1, 0, 2) tensor(0., device='mps:0')\n",
      "(1, 2, 0) tensor(0., device='mps:0')\n",
      "(2, 1, 0) tensor(0., device='mps:0')\n",
      "batch_size 1\n"
     ]
    },
    {
     "name": "stderr",
     "output_type": "stream",
     "text": [
      "Processing rows:  45%|████▌     | 451/1000 [00:34<00:40, 13.56it/s]"
     ]
    },
    {
     "name": "stdout",
     "output_type": "stream",
     "text": [
      "(2, 0, 1) tensor(0.0010, device='mps:0', grad_fn=<SumBackward0>)\n",
      "batch_size 1\n",
      "(2, 0, 1) tensor(0., device='mps:0')\n",
      "batch_size 1\n",
      "(1, 0, 2) tensor(0.0001, device='mps:0', grad_fn=<SumBackward0>)\n",
      "batch_size 1\n",
      "(1, 0, 2) tensor(0., device='mps:0')\n",
      "batch_size 1\n",
      "(1, 0, 2) tensor(-0.9773, device='mps:0', grad_fn=<SumBackward0>)\n",
      "(2, 0, 1) tensor(-0.9773, device='mps:0', grad_fn=<SumBackward0>)\n",
      "(2, 1, 0) tensor(0.0227, device='mps:0', grad_fn=<SumBackward0>)\n",
      "batch_size 1\n",
      "(1, 0, 2) tensor(-0.5000, device='mps:0')\n",
      "(2, 0, 1) tensor(-0.5000, device='mps:0')\n",
      "(2, 1, 0) tensor(0.5000, device='mps:0')\n"
     ]
    },
    {
     "name": "stderr",
     "output_type": "stream",
     "text": [
      "Processing rows:  45%|████▌     | 453/1000 [00:34<00:39, 13.97it/s]"
     ]
    },
    {
     "name": "stdout",
     "output_type": "stream",
     "text": [
      "batch_size 1\n",
      "(0, 1, 2) tensor(0.2274, device='mps:0', grad_fn=<SumBackward0>)\n",
      "(1, 0, 2) tensor(0.2274, device='mps:0', grad_fn=<SumBackward0>)\n",
      "batch_size 1\n",
      "(0, 1, 2) tensor(0., device='mps:0')\n",
      "(1, 0, 2) tensor(0., device='mps:0')\n",
      "batch_size 1\n",
      "(1, 0, 2) tensor(-0.8138, device='mps:0', grad_fn=<SumBackward0>)\n",
      "batch_size 1\n",
      "(1, 0, 2) tensor(0., device='mps:0')\n",
      "batch_size 1\n",
      "(0, 1, 2) tensor(0.0170, device='mps:0', grad_fn=<SumBackward0>)\n",
      "(0, 2, 1) tensor(-0.9830, device='mps:0', grad_fn=<SumBackward0>)\n",
      "(2, 1, 0) tensor(0.0170, device='mps:0', grad_fn=<SumBackward0>)\n",
      "batch_size 1\n"
     ]
    },
    {
     "name": "stderr",
     "output_type": "stream",
     "text": [
      "Processing rows:  46%|████▌     | 455/1000 [00:34<00:40, 13.32it/s]"
     ]
    },
    {
     "name": "stdout",
     "output_type": "stream",
     "text": [
      "(0, 1, 2) tensor(0.2500, device='mps:0')\n",
      "(0, 2, 1) tensor(-0.7500, device='mps:0')\n",
      "(2, 1, 0) tensor(0.2500, device='mps:0')\n",
      "batch_size 1\n",
      "(2, 1, 0) tensor(0.0785, device='mps:0', grad_fn=<SumBackward0>)\n",
      "batch_size 1\n",
      "(2, 1, 0) tensor(0., device='mps:0')\n",
      "batch_size 1\n",
      "(2, 0, 1) tensor(0.0529, device='mps:0', grad_fn=<SumBackward0>)\n",
      "batch_size 1\n",
      "(2, 0, 1) tensor(0., device='mps:0')\n",
      "batch_size 1\n",
      "(0, 2, 1) tensor(-1.0002, device='mps:0', grad_fn=<SumBackward0>)\n",
      "(2, 0, 1) tensor(-1.0002, device='mps:0', grad_fn=<SumBackward0>)\n",
      "batch_size 1\n"
     ]
    },
    {
     "name": "stderr",
     "output_type": "stream",
     "text": [
      "Processing rows:  46%|████▌     | 459/1000 [00:34<00:36, 14.95it/s]"
     ]
    },
    {
     "name": "stdout",
     "output_type": "stream",
     "text": [
      "(0, 2, 1) tensor(0., device='mps:0')\n",
      "(2, 0, 1) tensor(0., device='mps:0')\n",
      "batch_size 1\n",
      "(0, 2, 1) tensor(0.0003, device='mps:0', grad_fn=<SumBackward0>)\n",
      "batch_size 1\n",
      "(0, 2, 1) tensor(0., device='mps:0')\n",
      "batch_size 1\n",
      "(1, 2, 0) tensor(0.0003, device='mps:0', grad_fn=<SumBackward0>)\n",
      "batch_size 1\n",
      "(1, 2, 0) tensor(0., device='mps:0')\n",
      "batch_size 1\n",
      "(0, 1, 2) tensor(-0.9996, device='mps:0', grad_fn=<SumBackward0>)\n",
      "(1, 0, 2) tensor(0.0004, device='mps:0', grad_fn=<SumBackward0>)\n",
      "batch_size 1\n",
      "(0, 1, 2) tensor(-0.5000, device='mps:0')\n",
      "(1, 0, 2) tensor(0.5000, device='mps:0')\n"
     ]
    },
    {
     "name": "stderr",
     "output_type": "stream",
     "text": [
      "Processing rows:  46%|████▌     | 461/1000 [00:34<00:36, 14.94it/s]"
     ]
    },
    {
     "name": "stdout",
     "output_type": "stream",
     "text": [
      "batch_size 1\n",
      "(2, 0, 1) tensor(0.0004, device='mps:0', grad_fn=<SumBackward0>)\n",
      "batch_size 1\n",
      "(2, 0, 1) tensor(0., device='mps:0')\n",
      "batch_size 1\n",
      "(0, 2, 1) tensor(-0.9955, device='mps:0', grad_fn=<SumBackward0>)\n",
      "(1, 2, 0) tensor(-0.9955, device='mps:0', grad_fn=<SumBackward0>)\n",
      "(2, 0, 1) tensor(0.0045, device='mps:0', grad_fn=<SumBackward0>)\n",
      "batch_size 1\n",
      "(0, 2, 1) tensor(-0.5000, device='mps:0')\n",
      "(1, 2, 0) tensor(-0.5000, device='mps:0')\n",
      "(2, 0, 1) tensor(0.5000, device='mps:0')\n",
      "batch_size 1\n",
      "(1, 0, 2) tensor(0.0011, device='mps:0', grad_fn=<SumBackward0>)\n",
      "batch_size 1\n",
      "(1, 0, 2) tensor(0., device='mps:0')\n"
     ]
    },
    {
     "name": "stderr",
     "output_type": "stream",
     "text": [
      "Processing rows:  46%|████▋     | 463/1000 [00:34<00:37, 14.26it/s]"
     ]
    },
    {
     "name": "stdout",
     "output_type": "stream",
     "text": [
      "batch_size 1\n",
      "(0, 1, 2) tensor(-0.9876, device='mps:0', grad_fn=<SumBackward0>)\n",
      "(1, 0, 2) tensor(-1.9876, device='mps:0', grad_fn=<SumBackward0>)\n",
      "(2, 0, 1) tensor(-1.9876, device='mps:0', grad_fn=<SumBackward0>)\n",
      "batch_size 1\n",
      "(0, 1, 2) tensor(0.5000, device='mps:0')\n",
      "(1, 0, 2) tensor(-0.5000, device='mps:0')\n",
      "(2, 0, 1) tensor(-0.5000, device='mps:0')\n",
      "batch_size 1\n",
      "(0, 1, 2) tensor(-0.0293, device='mps:0', grad_fn=<SumBackward0>)\n",
      "(1, 0, 2) tensor(-0.0293, device='mps:0', grad_fn=<SumBackward0>)\n",
      "(2, 1, 0) tensor(-0.0293, device='mps:0', grad_fn=<SumBackward0>)\n",
      "batch_size 1\n",
      "(0, 1, 2) tensor(0., device='mps:0')\n",
      "(1, 0, 2) tensor(0., device='mps:0')\n",
      "(2, 1, 0) tensor(0., device='mps:0')\n"
     ]
    },
    {
     "name": "stderr",
     "output_type": "stream",
     "text": [
      "Processing rows:  47%|████▋     | 467/1000 [00:35<00:43, 12.13it/s]"
     ]
    },
    {
     "name": "stdout",
     "output_type": "stream",
     "text": [
      "batch_size 1\n",
      "(0, 1, 2) tensor(0.0020, device='mps:0', grad_fn=<SumBackward0>)\n",
      "(1, 0, 2) tensor(0.0020, device='mps:0', grad_fn=<SumBackward0>)\n",
      "batch_size 1\n",
      "(0, 1, 2) tensor(0., device='mps:0')\n",
      "(1, 0, 2) tensor(0., device='mps:0')\n",
      "batch_size 1\n",
      "(0, 2, 1) tensor(0.0029, device='mps:0', grad_fn=<SumBackward0>)\n",
      "(2, 0, 1) tensor(-0.9971, device='mps:0', grad_fn=<SumBackward0>)\n",
      "batch_size 1\n",
      "(0, 2, 1) tensor(0.5000, device='mps:0')\n",
      "(2, 0, 1) tensor(-0.5000, device='mps:0')\n",
      "batch_size 1\n",
      "(0, 2, 1) tensor(0.0096, device='mps:0', grad_fn=<SumBackward0>)\n"
     ]
    },
    {
     "name": "stderr",
     "output_type": "stream",
     "text": [
      "Processing rows:  47%|████▋     | 469/1000 [00:35<00:43, 12.34it/s]"
     ]
    },
    {
     "name": "stdout",
     "output_type": "stream",
     "text": [
      "batch_size 1\n",
      "(0, 2, 1) tensor(0., device='mps:0')\n",
      "batch_size 1\n",
      "(1, 0, 2) tensor(0.0085, device='mps:0', grad_fn=<SumBackward0>)\n",
      "(1, 2, 0) tensor(-0.9915, device='mps:0', grad_fn=<SumBackward0>)\n",
      "(2, 1, 0) tensor(-0.9915, device='mps:0', grad_fn=<SumBackward0>)\n",
      "batch_size 1\n",
      "(1, 0, 2) tensor(0.5000, device='mps:0')\n",
      "(1, 2, 0) tensor(-0.5000, device='mps:0')\n",
      "(2, 1, 0) tensor(-0.5000, device='mps:0')\n",
      "batch_size 1\n",
      "(1, 0, 2) tensor(0.0003, device='mps:0', grad_fn=<SumBackward0>)\n",
      "batch_size 1\n",
      "(1, 0, 2) tensor(0., device='mps:0')\n",
      "batch_size 1\n"
     ]
    },
    {
     "name": "stderr",
     "output_type": "stream",
     "text": [
      "Processing rows:  47%|████▋     | 473/1000 [00:35<00:37, 14.03it/s]"
     ]
    },
    {
     "name": "stdout",
     "output_type": "stream",
     "text": [
      "(2, 1, 0) tensor(2.0067, device='mps:0', grad_fn=<SumBackward0>)\n",
      "batch_size 1\n",
      "(2, 1, 0) tensor(0., device='mps:0')\n",
      "batch_size 1\n",
      "(0, 2, 1) tensor(0.0091, device='mps:0', grad_fn=<SumBackward0>)\n",
      "(2, 0, 1) tensor(-0.9909, device='mps:0', grad_fn=<SumBackward0>)\n",
      "batch_size 1\n",
      "(0, 2, 1) tensor(0.5000, device='mps:0')\n",
      "(2, 0, 1) tensor(-0.5000, device='mps:0')\n",
      "batch_size 1\n",
      "(2, 1, 0) tensor(0.0030, device='mps:0', grad_fn=<SumBackward0>)\n",
      "batch_size 1\n",
      "(2, 1, 0) tensor(0., device='mps:0')\n",
      "batch_size 1\n",
      "(0, 1, 2) tensor(0.0190, device='mps:0', grad_fn=<SumBackward0>)\n",
      "batch_size 1\n"
     ]
    },
    {
     "name": "stderr",
     "output_type": "stream",
     "text": [
      "Processing rows:  48%|████▊     | 477/1000 [00:35<00:34, 15.20it/s]"
     ]
    },
    {
     "name": "stdout",
     "output_type": "stream",
     "text": [
      "(0, 1, 2) tensor(0., device='mps:0')\n",
      "batch_size 1\n",
      "(0, 1, 2) tensor(0.0006, device='mps:0', grad_fn=<SumBackward0>)\n",
      "(1, 0, 2) tensor(-0.9994, device='mps:0', grad_fn=<SumBackward0>)\n",
      "batch_size 1\n",
      "(0, 1, 2) tensor(0.5000, device='mps:0')\n",
      "(1, 0, 2) tensor(-0.5000, device='mps:0')\n",
      "batch_size 1\n",
      "(0, 2, 1) tensor(0.0009, device='mps:0', grad_fn=<SumBackward0>)\n",
      "batch_size 1\n",
      "(0, 2, 1) tensor(0., device='mps:0')\n",
      "batch_size 1\n",
      "(1, 0, 2) tensor(0.0069, device='mps:0', grad_fn=<SumBackward0>)\n",
      "batch_size 1\n",
      "(1, 0, 2) tensor(0., device='mps:0')\n"
     ]
    },
    {
     "name": "stderr",
     "output_type": "stream",
     "text": [
      "Processing rows:  48%|████▊     | 479/1000 [00:36<00:34, 14.99it/s]"
     ]
    },
    {
     "name": "stdout",
     "output_type": "stream",
     "text": [
      "batch_size 1\n",
      "(2, 1, 0) tensor(0.0117, device='mps:0', grad_fn=<SumBackward0>)\n",
      "batch_size 1\n",
      "(2, 1, 0) tensor(0., device='mps:0')\n",
      "batch_size 1\n",
      "(1, 0, 2) tensor(-0.0001, device='mps:0', grad_fn=<SumBackward0>)\n",
      "(2, 0, 1) tensor(-0.0001, device='mps:0', grad_fn=<SumBackward0>)\n",
      "batch_size 1\n",
      "(1, 0, 2) tensor(0., device='mps:0')\n",
      "(2, 0, 1) tensor(0., device='mps:0')\n",
      "batch_size 1\n",
      "(0, 1, 2) tensor(-0.9972, device='mps:0', grad_fn=<SumBackward0>)\n",
      "batch_size 1\n",
      "(0, 1, 2) tensor(0., device='mps:0')\n",
      "batch_size 1\n"
     ]
    },
    {
     "name": "stderr",
     "output_type": "stream",
     "text": [
      "Processing rows:  48%|████▊     | 481/1000 [00:36<00:34, 15.08it/s]"
     ]
    },
    {
     "name": "stdout",
     "output_type": "stream",
     "text": [
      "(0, 1, 2) tensor(-0.0004, device='mps:0', grad_fn=<SumBackward0>)\n",
      "(1, 0, 2) tensor(-0.0004, device='mps:0', grad_fn=<SumBackward0>)\n",
      "batch_size 1\n",
      "(0, 1, 2) tensor(0., device='mps:0')\n",
      "(1, 0, 2) tensor(0., device='mps:0')\n",
      "batch_size 1\n",
      "(0, 2, 1) tensor(0.0003, device='mps:0', grad_fn=<SumBackward0>)\n",
      "batch_size 1\n",
      "(0, 2, 1) tensor(0., device='mps:0')\n",
      "batch_size 1\n",
      "(0, 1, 2) tensor(0.0607, device='mps:0', grad_fn=<SumBackward0>)\n",
      "(1, 2, 0) tensor(-1.9393, device='mps:0', grad_fn=<SumBackward0>)\n",
      "(2, 1, 0) tensor(-0.9393, device='mps:0', grad_fn=<SumBackward0>)\n",
      "batch_size 1\n",
      "(0, 1, 2) tensor(0.7500, device='mps:0')\n",
      "(1, 2, 0) tensor(-1.2500, device='mps:0')\n"
     ]
    },
    {
     "name": "stderr",
     "output_type": "stream",
     "text": [
      "Processing rows:  48%|████▊     | 485/1000 [00:36<00:37, 13.68it/s]"
     ]
    },
    {
     "name": "stdout",
     "output_type": "stream",
     "text": [
      "(2, 1, 0) tensor(-0.2500, device='mps:0')\n",
      "batch_size 1\n",
      "(0, 1, 2) tensor(-0.0010, device='mps:0', grad_fn=<SumBackward0>)\n",
      "batch_size 1\n",
      "(0, 1, 2) tensor(0., device='mps:0')\n",
      "batch_size 1\n",
      "(0, 1, 2) tensor(-0.5832, device='mps:0', grad_fn=<SumBackward0>)\n",
      "(0, 2, 1) tensor(0.4168, device='mps:0', grad_fn=<SumBackward0>)\n",
      "(2, 1, 0) tensor(-0.5832, device='mps:0', grad_fn=<SumBackward0>)\n",
      "batch_size 1\n",
      "(0, 1, 2) tensor(-0.5000, device='mps:0')\n",
      "(0, 2, 1) tensor(0.5000, device='mps:0')\n",
      "(2, 1, 0) tensor(-0.5000, device='mps:0')\n",
      "batch_size 1\n",
      "(2, 1, 0) tensor(0.0186, device='mps:0', grad_fn=<SumBackward0>)\n",
      "batch_size 1\n"
     ]
    },
    {
     "name": "stderr",
     "output_type": "stream",
     "text": [
      "Processing rows:  49%|████▉     | 489/1000 [00:36<00:34, 14.87it/s]"
     ]
    },
    {
     "name": "stdout",
     "output_type": "stream",
     "text": [
      "(2, 1, 0) tensor(0., device='mps:0')\n",
      "batch_size 1\n",
      "(1, 0, 2) tensor(1.3675, device='mps:0', grad_fn=<SumBackward0>)\n",
      "batch_size 1\n",
      "(1, 0, 2) tensor(0., device='mps:0')\n",
      "batch_size 1\n",
      "(1, 0, 2) tensor(-0.0303, device='mps:0', grad_fn=<SumBackward0>)\n",
      "(1, 2, 0) tensor(-0.0303, device='mps:0', grad_fn=<SumBackward0>)\n",
      "batch_size 1\n",
      "(1, 0, 2) tensor(0., device='mps:0')\n",
      "(1, 2, 0) tensor(0., device='mps:0')\n",
      "batch_size 1\n",
      "(1, 0, 2) tensor(0.0004, device='mps:0', grad_fn=<SumBackward0>)\n",
      "batch_size 1\n",
      "(1, 0, 2) tensor(0., device='mps:0')\n",
      "batch_size 1\n"
     ]
    },
    {
     "name": "stderr",
     "output_type": "stream",
     "text": [
      "Processing rows:  49%|████▉     | 491/1000 [00:36<00:34, 14.87it/s]"
     ]
    },
    {
     "name": "stdout",
     "output_type": "stream",
     "text": [
      "(1, 2, 0) tensor(-0.9966, device='mps:0', grad_fn=<SumBackward0>)\n",
      "(2, 0, 1) tensor(0.0034, device='mps:0', grad_fn=<SumBackward0>)\n",
      "batch_size 1\n",
      "(1, 2, 0) tensor(-0.5000, device='mps:0')\n",
      "(2, 0, 1) tensor(0.5000, device='mps:0')\n",
      "batch_size 1\n",
      "(2, 0, 1) tensor(0.1045, device='mps:0', grad_fn=<SumBackward0>)\n",
      "batch_size 1\n",
      "(2, 0, 1) tensor(0., device='mps:0')\n",
      "batch_size 1\n",
      "(1, 2, 0) tensor(-0.0052, device='mps:0', grad_fn=<SumBackward0>)\n",
      "batch_size 1\n",
      "(1, 2, 0) tensor(0., device='mps:0')\n",
      "batch_size 1\n",
      "(1, 0, 2) tensor(-0.0530, device='mps:0', grad_fn=<SumBackward0>)\n",
      "(2, 0, 1) tensor(-0.0530, device='mps:0', grad_fn=<SumBackward0>)\n"
     ]
    },
    {
     "name": "stderr",
     "output_type": "stream",
     "text": [
      "Processing rows:  50%|████▉     | 495/1000 [00:37<00:34, 14.64it/s]"
     ]
    },
    {
     "name": "stdout",
     "output_type": "stream",
     "text": [
      "(2, 1, 0) tensor(-0.0530, device='mps:0', grad_fn=<SumBackward0>)\n",
      "batch_size 1\n",
      "(1, 0, 2) tensor(0., device='mps:0')\n",
      "(2, 0, 1) tensor(0., device='mps:0')\n",
      "(2, 1, 0) tensor(0., device='mps:0')\n",
      "batch_size 1\n",
      "(1, 2, 0) tensor(1.1544, device='mps:0', grad_fn=<SumBackward0>)\n",
      "(2, 1, 0) tensor(1.1544, device='mps:0', grad_fn=<SumBackward0>)\n",
      "batch_size 1\n",
      "(1, 2, 0) tensor(0., device='mps:0')\n",
      "(2, 1, 0) tensor(0., device='mps:0')\n",
      "batch_size 1\n",
      "(2, 0, 1) tensor(0.0046, device='mps:0', grad_fn=<SumBackward0>)\n",
      "batch_size 1\n",
      "(2, 0, 1) tensor(0., device='mps:0')\n",
      "batch_size 1\n"
     ]
    },
    {
     "name": "stderr",
     "output_type": "stream",
     "text": [
      "Processing rows:  50%|████▉     | 497/1000 [00:37<00:37, 13.43it/s]"
     ]
    },
    {
     "name": "stdout",
     "output_type": "stream",
     "text": [
      "(1, 2, 0) tensor(0.0044, device='mps:0', grad_fn=<SumBackward0>)\n",
      "(2, 1, 0) tensor(0.0044, device='mps:0', grad_fn=<SumBackward0>)\n",
      "batch_size 1\n",
      "(1, 2, 0) tensor(0., device='mps:0')\n",
      "(2, 1, 0) tensor(0., device='mps:0')\n",
      "batch_size 1\n",
      "(0, 2, 1) tensor(-1.0006, device='mps:0', grad_fn=<SumBackward0>)\n",
      "(1, 2, 0) tensor(-0.0006, device='mps:0', grad_fn=<SumBackward0>)\n",
      "(2, 0, 1) tensor(-2.0006, device='mps:0', grad_fn=<SumBackward0>)\n",
      "batch_size 1\n",
      "(0, 2, 1) tensor(-0.2500, device='mps:0')\n",
      "(1, 2, 0) tensor(0.7500, device='mps:0')\n",
      "(2, 0, 1) tensor(-1.2500, device='mps:0')\n",
      "batch_size 1\n",
      "(1, 0, 2) tensor(0.0095, device='mps:0', grad_fn=<SumBackward0>)\n",
      "batch_size 1\n"
     ]
    },
    {
     "name": "stderr",
     "output_type": "stream",
     "text": [
      "Processing rows:  50%|█████     | 501/1000 [00:37<00:31, 15.71it/s]"
     ]
    },
    {
     "name": "stdout",
     "output_type": "stream",
     "text": [
      "(1, 0, 2) tensor(0., device='mps:0')\n",
      "batch_size 1\n",
      "(0, 2, 1) tensor(0.5701, device='mps:0', grad_fn=<SumBackward0>)\n",
      "batch_size 1\n",
      "(0, 2, 1) tensor(0., device='mps:0')\n",
      "batch_size 1\n",
      "(1, 0, 2) tensor(-0.0081, device='mps:0', grad_fn=<SumBackward0>)\n",
      "batch_size 1\n",
      "(1, 0, 2) tensor(0., device='mps:0')\n",
      "batch_size 1\n",
      "(0, 2, 1) tensor(0.0011, device='mps:0', grad_fn=<SumBackward0>)\n",
      "batch_size 1\n",
      "(0, 2, 1) tensor(0., device='mps:0')\n",
      "batch_size 1\n",
      "(0, 2, 1) tensor(-1.8954, device='mps:0', grad_fn=<SumBackward0>)\n"
     ]
    },
    {
     "name": "stderr",
     "output_type": "stream",
     "text": [
      "Processing rows:  50%|█████     | 503/1000 [00:37<00:35, 13.82it/s]"
     ]
    },
    {
     "name": "stdout",
     "output_type": "stream",
     "text": [
      "(1, 0, 2) tensor(0.1046, device='mps:0', grad_fn=<SumBackward0>)\n",
      "batch_size 1\n",
      "(0, 2, 1) tensor(-1., device='mps:0')\n",
      "(1, 0, 2) tensor(1., device='mps:0')\n",
      "batch_size 1\n",
      "(0, 1, 2) tensor(0.0921, device='mps:0', grad_fn=<SumBackward0>)\n",
      "(0, 2, 1) tensor(-0.9079, device='mps:0', grad_fn=<SumBackward0>)\n",
      "(2, 0, 1) tensor(-0.9079, device='mps:0', grad_fn=<SumBackward0>)\n",
      "batch_size 1\n",
      "(0, 1, 2) tensor(0.5000, device='mps:0')\n",
      "(0, 2, 1) tensor(-0.5000, device='mps:0')\n",
      "(2, 0, 1) tensor(-0.5000, device='mps:0')\n",
      "batch_size 1\n",
      "(0, 1, 2) tensor(-0.0523, device='mps:0', grad_fn=<SumBackward0>)\n",
      "(0, 2, 1) tensor(0.9477, device='mps:0', grad_fn=<SumBackward0>)\n",
      "batch_size 1\n"
     ]
    },
    {
     "name": "stderr",
     "output_type": "stream",
     "text": [
      "Processing rows:  50%|█████     | 505/1000 [00:37<00:38, 12.79it/s]"
     ]
    },
    {
     "name": "stdout",
     "output_type": "stream",
     "text": [
      "(0, 1, 2) tensor(-0.5000, device='mps:0')\n",
      "(0, 2, 1) tensor(0.5000, device='mps:0')\n",
      "batch_size 1\n",
      "(0, 2, 1) tensor(0.0353, device='mps:0', grad_fn=<SumBackward0>)\n",
      "(1, 2, 0) tensor(-0.9647, device='mps:0', grad_fn=<SumBackward0>)\n",
      "(2, 1, 0) tensor(-0.9647, device='mps:0', grad_fn=<SumBackward0>)\n",
      "batch_size 1\n",
      "(0, 2, 1) tensor(0.5000, device='mps:0')\n",
      "(1, 2, 0) tensor(-0.5000, device='mps:0')\n",
      "(2, 1, 0) tensor(-0.5000, device='mps:0')\n",
      "batch_size 1\n",
      "(0, 2, 1) tensor(-0.0114, device='mps:0', grad_fn=<SumBackward0>)\n",
      "(1, 2, 0) tensor(-0.0114, device='mps:0', grad_fn=<SumBackward0>)\n",
      "batch_size 1\n",
      "(0, 2, 1) tensor(0., device='mps:0')\n",
      "(1, 2, 0) tensor(0., device='mps:0')\n"
     ]
    },
    {
     "name": "stderr",
     "output_type": "stream",
     "text": [
      "Processing rows:  51%|█████     | 507/1000 [00:38<00:38, 12.92it/s]"
     ]
    },
    {
     "name": "stdout",
     "output_type": "stream",
     "text": [
      "batch_size 1\n",
      "(1, 2, 0) tensor(-0.0073, device='mps:0', grad_fn=<SumBackward0>)\n",
      "(2, 1, 0) tensor(-0.0073, device='mps:0', grad_fn=<SumBackward0>)\n",
      "batch_size 1\n",
      "(1, 2, 0) tensor(0., device='mps:0')\n",
      "(2, 1, 0) tensor(0., device='mps:0')\n",
      "batch_size 1\n",
      "(1, 2, 0) tensor(-0.0072, device='mps:0', grad_fn=<SumBackward0>)\n",
      "(2, 0, 1) tensor(-0.0072, device='mps:0', grad_fn=<SumBackward0>)\n",
      "(2, 1, 0) tensor(-0.0072, device='mps:0', grad_fn=<SumBackward0>)\n",
      "batch_size 1\n",
      "(1, 2, 0) tensor(0., device='mps:0')\n",
      "(2, 0, 1) tensor(0., device='mps:0')\n",
      "(2, 1, 0) tensor(0., device='mps:0')\n",
      "batch_size 1\n",
      "(0, 2, 1) tensor(0.0007, device='mps:0', grad_fn=<SumBackward0>)\n"
     ]
    },
    {
     "name": "stderr",
     "output_type": "stream",
     "text": [
      "Processing rows:  51%|█████     | 511/1000 [00:38<00:39, 12.53it/s]"
     ]
    },
    {
     "name": "stdout",
     "output_type": "stream",
     "text": [
      "batch_size 1\n",
      "(0, 2, 1) tensor(0., device='mps:0')\n",
      "batch_size 1\n",
      "(2, 1, 0) tensor(-0.9979, device='mps:0', grad_fn=<SumBackward0>)\n",
      "batch_size 1\n",
      "(2, 1, 0) tensor(0., device='mps:0')\n",
      "batch_size 1\n",
      "(1, 2, 0) tensor(-0.0099, device='mps:0', grad_fn=<SumBackward0>)\n",
      "(2, 0, 1) tensor(-1.0099, device='mps:0', grad_fn=<SumBackward0>)\n",
      "(2, 1, 0) tensor(-1.0099, device='mps:0', grad_fn=<SumBackward0>)\n",
      "batch_size 1\n",
      "(1, 2, 0) tensor(0.5000, device='mps:0')\n",
      "(2, 0, 1) tensor(-0.5000, device='mps:0')\n",
      "(2, 1, 0) tensor(-0.5000, device='mps:0')\n",
      "batch_size 1\n"
     ]
    },
    {
     "name": "stderr",
     "output_type": "stream",
     "text": [
      "Processing rows:  51%|█████▏    | 513/1000 [00:38<00:38, 12.56it/s]"
     ]
    },
    {
     "name": "stdout",
     "output_type": "stream",
     "text": [
      "(2, 1, 0) tensor(0.0092, device='mps:0', grad_fn=<SumBackward0>)\n",
      "batch_size 1\n",
      "(2, 1, 0) tensor(0., device='mps:0')\n",
      "batch_size 1\n",
      "(0, 2, 1) tensor(0.0093, device='mps:0', grad_fn=<SumBackward0>)\n",
      "(1, 0, 2) tensor(-0.9907, device='mps:0', grad_fn=<SumBackward0>)\n",
      "batch_size 1\n",
      "(0, 2, 1) tensor(0.5000, device='mps:0')\n",
      "(1, 0, 2) tensor(-0.5000, device='mps:0')\n",
      "batch_size 1\n",
      "(1, 2, 0) tensor(0.0088, device='mps:0', grad_fn=<SumBackward0>)\n",
      "batch_size 1\n",
      "(1, 2, 0) tensor(0., device='mps:0')\n",
      "batch_size 1\n",
      "(1, 0, 2) tensor(0.0095, device='mps:0', grad_fn=<SumBackward0>)\n"
     ]
    },
    {
     "name": "stderr",
     "output_type": "stream",
     "text": [
      "Processing rows:  52%|█████▏    | 517/1000 [00:38<00:34, 13.96it/s]"
     ]
    },
    {
     "name": "stdout",
     "output_type": "stream",
     "text": [
      "batch_size 1\n",
      "(1, 0, 2) tensor(0., device='mps:0')\n",
      "batch_size 1\n",
      "(0, 1, 2) tensor(-0.9990, device='mps:0', grad_fn=<SumBackward0>)\n",
      "(0, 2, 1) tensor(0.0010, device='mps:0', grad_fn=<SumBackward0>)\n",
      "batch_size 1\n",
      "(0, 1, 2) tensor(-0.5000, device='mps:0')\n",
      "(0, 2, 1) tensor(0.5000, device='mps:0')\n",
      "batch_size 1\n",
      "(2, 1, 0) tensor(1.5629, device='mps:0', grad_fn=<SumBackward0>)\n",
      "batch_size 1\n",
      "(2, 1, 0) tensor(0., device='mps:0')\n",
      "batch_size 1\n",
      "(1, 0, 2) tensor(-0.9136, device='mps:0', grad_fn=<SumBackward0>)\n",
      "(2, 0, 1) "
     ]
    },
    {
     "name": "stderr",
     "output_type": "stream",
     "text": [
      "Processing rows:  52%|█████▏    | 519/1000 [00:38<00:37, 12.76it/s]"
     ]
    },
    {
     "name": "stdout",
     "output_type": "stream",
     "text": [
      "tensor(-1.9136, device='mps:0', grad_fn=<SumBackward0>)\n",
      "(2, 1, 0) tensor(-1.9136, device='mps:0', grad_fn=<SumBackward0>)\n",
      "batch_size 1\n",
      "(1, 0, 2) tensor(0.5000, device='mps:0')\n",
      "(2, 0, 1) tensor(-0.5000, device='mps:0')\n",
      "(2, 1, 0) tensor(-0.5000, device='mps:0')\n",
      "batch_size 1\n",
      "(1, 0, 2) tensor(-0.0013, device='mps:0', grad_fn=<SumBackward0>)\n",
      "(1, 2, 0) tensor(-0.0013, device='mps:0', grad_fn=<SumBackward0>)\n",
      "batch_size 1\n",
      "(1, 0, 2) tensor(0., device='mps:0')\n",
      "(1, 2, 0) tensor(0., device='mps:0')\n",
      "batch_size 1\n",
      "(0, 2, 1) tensor(-0.9794, device='mps:0', grad_fn=<SumBackward0>)\n",
      "(1, 0, 2) tensor(0.0206, device='mps:0', grad_fn=<SumBackward0>)\n",
      "(2, 0, 1) tensor(-0.9794, device='mps:0', grad_fn=<SumBackward0>)\n"
     ]
    },
    {
     "name": "stderr",
     "output_type": "stream",
     "text": [
      "Processing rows:  52%|█████▏    | 521/1000 [00:39<00:39, 12.21it/s]"
     ]
    },
    {
     "name": "stdout",
     "output_type": "stream",
     "text": [
      "batch_size 1\n",
      "(0, 2, 1) tensor(-0.5000, device='mps:0')\n",
      "(1, 0, 2) tensor(0.5000, device='mps:0')\n",
      "(2, 0, 1) tensor(-0.5000, device='mps:0')\n",
      "batch_size 1\n",
      "(0, 1, 2) tensor(0.0002, device='mps:0', grad_fn=<SumBackward0>)\n",
      "(2, 1, 0) tensor(0.0002, device='mps:0', grad_fn=<SumBackward0>)\n",
      "batch_size 1\n",
      "(0, 1, 2) tensor(0., device='mps:0')\n",
      "(2, 1, 0) tensor(0., device='mps:0')\n",
      "batch_size 1\n",
      "(2, 0, 1) tensor(0.0120, device='mps:0', grad_fn=<SumBackward0>)\n",
      "batch_size 1\n",
      "(2, 0, 1) tensor(0., device='mps:0')\n",
      "batch_size 1\n"
     ]
    },
    {
     "name": "stderr",
     "output_type": "stream",
     "text": [
      "Processing rows:  52%|█████▏    | 523/1000 [00:39<00:34, 13.63it/s]"
     ]
    },
    {
     "name": "stdout",
     "output_type": "stream",
     "text": [
      "(2, 1, 0) tensor(0.0004, device='mps:0', grad_fn=<SumBackward0>)\n",
      "batch_size 1\n",
      "(2, 1, 0) tensor(0., device='mps:0')\n",
      "batch_size 1\n",
      "(1, 0, 2) tensor(-1.9988, device='mps:0', grad_fn=<SumBackward0>)\n",
      "(2, 0, 1) tensor(-0.9988, device='mps:0', grad_fn=<SumBackward0>)\n",
      "(2, 1, 0) tensor(0.0012, device='mps:0', grad_fn=<SumBackward0>)\n",
      "batch_size 1\n",
      "(1, 0, 2) tensor(-1.2500, device='mps:0')\n",
      "(2, 0, 1) tensor(-0.2500, device='mps:0')\n",
      "(2, 1, 0) tensor(0.7500, device='mps:0')\n",
      "batch_size 1\n",
      "(0, 1, 2) tensor(-1.7298, device='mps:0', grad_fn=<SumBackward0>)\n",
      "(0, 2, 1) tensor(-1.7298, device='mps:0', grad_fn=<SumBackward0>)\n",
      "(2, 1, 0) tensor(-0.7298, device='mps:0', grad_fn=<SumBackward0>)\n",
      "batch_size 1\n"
     ]
    },
    {
     "name": "stderr",
     "output_type": "stream",
     "text": [
      "Processing rows:  53%|█████▎    | 527/1000 [00:39<00:34, 13.63it/s]"
     ]
    },
    {
     "name": "stdout",
     "output_type": "stream",
     "text": [
      "(0, 1, 2) tensor(-0.5000, device='mps:0')\n",
      "(0, 2, 1) tensor(-0.5000, device='mps:0')\n",
      "(2, 1, 0) tensor(0.5000, device='mps:0')\n",
      "batch_size 1\n",
      "(0, 2, 1) tensor(-0.9385, device='mps:0', grad_fn=<SumBackward0>)\n",
      "batch_size 1\n",
      "(0, 2, 1) tensor(0., device='mps:0')\n",
      "batch_size 1\n",
      "(2, 0, 1) tensor(0.0018, device='mps:0', grad_fn=<SumBackward0>)\n",
      "batch_size 1\n",
      "(2, 0, 1) tensor(0., device='mps:0')\n",
      "batch_size 1\n",
      "(0, 2, 1) tensor(-0.4431, device='mps:0', grad_fn=<SumBackward0>)\n",
      "batch_size 1\n",
      "(0, 2, 1) tensor(0., device='mps:0')\n",
      "batch_size 1\n"
     ]
    },
    {
     "name": "stderr",
     "output_type": "stream",
     "text": [
      "Processing rows:  53%|█████▎    | 529/1000 [00:39<00:33, 14.15it/s]"
     ]
    },
    {
     "name": "stdout",
     "output_type": "stream",
     "text": [
      "(1, 0, 2) tensor(0.0598, device='mps:0', grad_fn=<SumBackward0>)\n",
      "(2, 0, 1) tensor(0.0598, device='mps:0', grad_fn=<SumBackward0>)\n",
      "batch_size 1\n",
      "(1, 0, 2) tensor(0., device='mps:0')\n",
      "(2, 0, 1) tensor(0., device='mps:0')\n",
      "batch_size 1\n",
      "(1, 2, 0) tensor(-0.5941, device='mps:0', grad_fn=<SumBackward0>)\n",
      "(2, 0, 1) tensor(0.4059, device='mps:0', grad_fn=<SumBackward0>)\n",
      "batch_size 1\n",
      "(1, 2, 0) tensor(-0.5000, device='mps:0')\n",
      "(2, 0, 1) tensor(0.5000, device='mps:0')\n",
      "batch_size 1\n",
      "(0, 1, 2) tensor(0.0012, device='mps:0', grad_fn=<SumBackward0>)\n",
      "(1, 0, 2) tensor(0.0012, device='mps:0', grad_fn=<SumBackward0>)\n",
      "batch_size 1\n",
      "(0, 1, 2) tensor(0., device='mps:0')\n",
      "(1, 0, 2) tensor(0., device='mps:0')\n"
     ]
    },
    {
     "name": "stderr",
     "output_type": "stream",
     "text": [
      "Processing rows:  53%|█████▎    | 533/1000 [00:39<00:32, 14.48it/s]"
     ]
    },
    {
     "name": "stdout",
     "output_type": "stream",
     "text": [
      "batch_size 1\n",
      "(0, 1, 2) tensor(-0.0009, device='mps:0', grad_fn=<SumBackward0>)\n",
      "(1, 0, 2) tensor(-0.0009, device='mps:0', grad_fn=<SumBackward0>)\n",
      "batch_size 1\n",
      "(0, 1, 2) tensor(0., device='mps:0')\n",
      "(1, 0, 2) tensor(0., device='mps:0')\n",
      "batch_size 1\n",
      "(1, 0, 2) tensor(0.0022, device='mps:0', grad_fn=<SumBackward0>)\n",
      "batch_size 1\n",
      "(1, 0, 2) tensor(0., device='mps:0')\n",
      "batch_size 1\n",
      "(1, 2, 0) tensor(0.7069, device='mps:0', grad_fn=<SumBackward0>)\n",
      "batch_size 1\n",
      "(1, 2, 0) tensor(0., device='mps:0')\n",
      "batch_size 1\n",
      "(0, 1, 2) tensor(0.0071, device='mps:0', grad_fn=<SumBackward0>)\n"
     ]
    },
    {
     "name": "stderr",
     "output_type": "stream",
     "text": [
      "Processing rows:  54%|█████▎    | 537/1000 [00:40<00:30, 15.06it/s]"
     ]
    },
    {
     "name": "stdout",
     "output_type": "stream",
     "text": [
      "(0, 2, 1) tensor(0.0071, device='mps:0', grad_fn=<SumBackward0>)\n",
      "(1, 2, 0) tensor(0.0071, device='mps:0', grad_fn=<SumBackward0>)\n",
      "batch_size 1\n",
      "(0, 1, 2) tensor(0., device='mps:0')\n",
      "(0, 2, 1) tensor(0., device='mps:0')\n",
      "(1, 2, 0) tensor(0., device='mps:0')\n",
      "batch_size 1\n",
      "(2, 0, 1) tensor(0.0006, device='mps:0', grad_fn=<SumBackward0>)\n",
      "batch_size 1\n",
      "(2, 0, 1) tensor(0., device='mps:0')\n",
      "batch_size 1\n",
      "(2, 0, 1) tensor(0.0056, device='mps:0', grad_fn=<SumBackward0>)\n",
      "batch_size 1\n",
      "(2, 0, 1) tensor(0., device='mps:0')\n",
      "batch_size 1\n",
      "(0, 2, 1) tensor(-0.1546, device='mps:0', grad_fn=<SumBackward0>)\n"
     ]
    },
    {
     "name": "stderr",
     "output_type": "stream",
     "text": [
      "Processing rows:  54%|█████▍    | 539/1000 [00:40<00:30, 14.91it/s]"
     ]
    },
    {
     "name": "stdout",
     "output_type": "stream",
     "text": [
      "(1, 2, 0) tensor(-0.1546, device='mps:0', grad_fn=<SumBackward0>)\n",
      "batch_size 1\n",
      "(0, 2, 1) tensor(0., device='mps:0')\n",
      "(1, 2, 0) tensor(0., device='mps:0')\n",
      "batch_size 1\n",
      "(2, 0, 1) tensor(0.0028, device='mps:0', grad_fn=<SumBackward0>)\n",
      "batch_size 1\n",
      "(2, 0, 1) tensor(0., device='mps:0')\n",
      "batch_size 1\n",
      "(2, 0, 1) tensor(0.0012, device='mps:0', grad_fn=<SumBackward0>)\n",
      "batch_size 1\n",
      "(2, 0, 1) tensor(0., device='mps:0')\n",
      "batch_size 1\n",
      "(1, 2, 0) tensor(-0.0328, device='mps:0', grad_fn=<SumBackward0>)\n",
      "(2, 1, 0) tensor(-0.0328, device='mps:0', grad_fn=<SumBackward0>)\n",
      "batch_size 1\n"
     ]
    },
    {
     "name": "stderr",
     "output_type": "stream",
     "text": [
      "Processing rows:  54%|█████▍    | 541/1000 [00:40<00:30, 15.16it/s]"
     ]
    },
    {
     "name": "stdout",
     "output_type": "stream",
     "text": [
      "(1, 2, 0) tensor(0., device='mps:0')\n",
      "(2, 1, 0) tensor(0., device='mps:0')\n",
      "batch_size 1\n",
      "(0, 2, 1) tensor(-0.0056, device='mps:0', grad_fn=<SumBackward0>)\n",
      "(1, 0, 2) tensor(-2.0056, device='mps:0', grad_fn=<SumBackward0>)\n",
      "(1, 2, 0) tensor(-1.0056, device='mps:0', grad_fn=<SumBackward0>)\n",
      "batch_size 1\n",
      "(0, 2, 1) tensor(0.7500, device='mps:0')\n",
      "(1, 0, 2) tensor(-1.2500, device='mps:0')\n",
      "(1, 2, 0) tensor(-0.2500, device='mps:0')\n",
      "batch_size 1\n",
      "(0, 1, 2) tensor(-0.0008, device='mps:0', grad_fn=<SumBackward0>)\n",
      "(0, 2, 1) tensor(-0.0008, device='mps:0', grad_fn=<SumBackward0>)\n",
      "(1, 2, 0) tensor(0.9992, device='mps:0', grad_fn=<SumBackward0>)\n",
      "batch_size 1\n",
      "(0, 1, 2) tensor(-0.5000, device='mps:0')\n"
     ]
    },
    {
     "name": "stderr",
     "output_type": "stream",
     "text": [
      "Processing rows:  55%|█████▍    | 545/1000 [00:40<00:35, 12.87it/s]"
     ]
    },
    {
     "name": "stdout",
     "output_type": "stream",
     "text": [
      "(0, 2, 1) tensor(-0.5000, device='mps:0')\n",
      "(1, 2, 0) tensor(0.5000, device='mps:0')\n",
      "batch_size 1\n",
      "(1, 0, 2) tensor(0.0047, device='mps:0', grad_fn=<SumBackward0>)\n",
      "(1, 2, 0) tensor(0.0047, device='mps:0', grad_fn=<SumBackward0>)\n",
      "(2, 1, 0) tensor(0.0047, device='mps:0', grad_fn=<SumBackward0>)\n",
      "batch_size 1\n",
      "(1, 0, 2) tensor(0., device='mps:0')\n",
      "(1, 2, 0) tensor(0., device='mps:0')\n",
      "(2, 1, 0) tensor(0., device='mps:0')\n",
      "batch_size 1\n",
      "(1, 2, 0) tensor(0.2217, device='mps:0', grad_fn=<SumBackward0>)\n",
      "batch_size 1\n",
      "(1, 2, 0) tensor(0., device='mps:0')\n",
      "batch_size 1\n",
      "(0, 2, 1) "
     ]
    },
    {
     "name": "stderr",
     "output_type": "stream",
     "text": [
      "Processing rows:  55%|█████▍    | 547/1000 [00:41<00:38, 11.67it/s]"
     ]
    },
    {
     "name": "stdout",
     "output_type": "stream",
     "text": [
      "tensor(-0.9256, device='mps:0', grad_fn=<SumBackward0>)\n",
      "(1, 2, 0) tensor(-1.9256, device='mps:0', grad_fn=<SumBackward0>)\n",
      "(2, 1, 0) tensor(-1.9256, device='mps:0', grad_fn=<SumBackward0>)\n",
      "batch_size 1\n",
      "(0, 2, 1) tensor(0.5000, device='mps:0')\n",
      "(1, 2, 0) tensor(-0.5000, device='mps:0')\n",
      "(2, 1, 0) tensor(-0.5000, device='mps:0')\n",
      "batch_size 1\n",
      "(0, 1, 2) tensor(-1.9213, device='mps:0', grad_fn=<SumBackward0>)\n",
      "(2, 0, 1) tensor(-0.9213, device='mps:0', grad_fn=<SumBackward0>)\n",
      "(2, 1, 0) tensor(-1.9213, device='mps:0', grad_fn=<SumBackward0>)\n",
      "batch_size 1\n",
      "(0, 1, 2) tensor(-0.5000, device='mps:0')\n",
      "(2, 0, 1) tensor(0.5000, device='mps:0')\n",
      "(2, 1, 0) tensor(-0.5000, device='mps:0')\n",
      "batch_size 1\n"
     ]
    },
    {
     "name": "stderr",
     "output_type": "stream",
     "text": [
      "Processing rows:  55%|█████▍    | 549/1000 [00:41<00:37, 12.00it/s]"
     ]
    },
    {
     "name": "stdout",
     "output_type": "stream",
     "text": [
      "(0, 2, 1) tensor(0.0013, device='mps:0', grad_fn=<SumBackward0>)\n",
      "(1, 2, 0) tensor(0.0013, device='mps:0', grad_fn=<SumBackward0>)\n",
      "batch_size 1\n",
      "(0, 2, 1) tensor(0., device='mps:0')\n",
      "(1, 2, 0) tensor(0., device='mps:0')\n",
      "batch_size 1\n",
      "(0, 2, 1) tensor(-0.0464, device='mps:0', grad_fn=<SumBackward0>)\n",
      "(1, 0, 2) tensor(0.9536, device='mps:0', grad_fn=<SumBackward0>)\n",
      "batch_size 1\n",
      "(0, 2, 1) tensor(-0.5000, device='mps:0')\n",
      "(1, 0, 2) tensor(0.5000, device='mps:0')\n",
      "batch_size 1\n",
      "(2, 0, 1) tensor(0.0219, device='mps:0', grad_fn=<SumBackward0>)\n",
      "(2, 1, 0) tensor(0.0219, device='mps:0', grad_fn=<SumBackward0>)\n",
      "batch_size 1\n",
      "(2, 0, 1) tensor(0., device='mps:0')\n"
     ]
    },
    {
     "name": "stderr",
     "output_type": "stream",
     "text": [
      "Processing rows:  55%|█████▌    | 551/1000 [00:41<00:36, 12.25it/s]"
     ]
    },
    {
     "name": "stdout",
     "output_type": "stream",
     "text": [
      "(2, 1, 0) tensor(0., device='mps:0')\n",
      "batch_size 1\n",
      "(0, 2, 1) tensor(0.0206, device='mps:0', grad_fn=<SumBackward0>)\n",
      "(1, 0, 2) tensor(-0.9794, device='mps:0', grad_fn=<SumBackward0>)\n",
      "batch_size 1\n",
      "(0, 2, 1) tensor(0.5000, device='mps:0')\n",
      "(1, 0, 2) tensor(-0.5000, device='mps:0')\n",
      "batch_size 1\n",
      "(0, 2, 1) tensor(0.0169, device='mps:0', grad_fn=<SumBackward0>)\n",
      "(2, 0, 1) tensor(0.0169, device='mps:0', grad_fn=<SumBackward0>)\n",
      "batch_size 1\n",
      "(0, 2, 1) tensor(0., device='mps:0')\n",
      "(2, 0, 1) tensor(0., device='mps:0')\n",
      "batch_size 1\n",
      "(0, 2, 1) tensor(-0.0945, device='mps:0', grad_fn=<SumBackward0>)\n",
      "(1, 2, 0) tensor(-0.0945, device='mps:0', grad_fn=<SumBackward0>)\n"
     ]
    },
    {
     "name": "stderr",
     "output_type": "stream",
     "text": [
      "Processing rows:  56%|█████▌    | 555/1000 [00:41<00:34, 12.75it/s]"
     ]
    },
    {
     "name": "stdout",
     "output_type": "stream",
     "text": [
      "(2, 1, 0) tensor(-1.0945, device='mps:0', grad_fn=<SumBackward0>)\n",
      "batch_size 1\n",
      "(0, 2, 1) tensor(0.2500, device='mps:0')\n",
      "(1, 2, 0) tensor(0.2500, device='mps:0')\n",
      "(2, 1, 0) tensor(-0.7500, device='mps:0')\n",
      "batch_size 1\n",
      "(1, 0, 2) tensor(0.0021, device='mps:0', grad_fn=<SumBackward0>)\n",
      "batch_size 1\n",
      "(1, 0, 2) tensor(0., device='mps:0')\n",
      "batch_size 1\n",
      "(2, 0, 1) tensor(0.3102, device='mps:0', grad_fn=<SumBackward0>)\n",
      "batch_size 1\n",
      "(2, 0, 1) tensor(0., device='mps:0')\n",
      "batch_size 1\n"
     ]
    },
    {
     "name": "stderr",
     "output_type": "stream",
     "text": [
      "Processing rows:  56%|█████▌    | 557/1000 [00:41<00:33, 13.36it/s]"
     ]
    },
    {
     "name": "stdout",
     "output_type": "stream",
     "text": [
      "(1, 0, 2) tensor(-0.0094, device='mps:0', grad_fn=<SumBackward0>)\n",
      "(2, 0, 1) tensor(-0.0094, device='mps:0', grad_fn=<SumBackward0>)\n",
      "batch_size 1\n",
      "(1, 0, 2) tensor(0., device='mps:0')\n",
      "(2, 0, 1) tensor(0., device='mps:0')\n",
      "batch_size 1\n",
      "(0, 1, 2) tensor(-0.9963, device='mps:0', grad_fn=<SumBackward0>)\n",
      "batch_size 1\n",
      "(0, 1, 2) tensor(0., device='mps:0')\n",
      "batch_size 1\n",
      "(1, 0, 2) tensor(0.0480, device='mps:0', grad_fn=<SumBackward0>)\n",
      "batch_size 1\n",
      "(1, 0, 2) tensor(0., device='mps:0')\n",
      "batch_size 1\n",
      "(0, 1, 2) tensor(0.6774, device='mps:0', grad_fn=<SumBackward0>)\n"
     ]
    },
    {
     "name": "stderr",
     "output_type": "stream",
     "text": [
      "Processing rows:  56%|█████▌    | 559/1000 [00:42<00:33, 13.03it/s]"
     ]
    },
    {
     "name": "stdout",
     "output_type": "stream",
     "text": [
      "(1, 0, 2) tensor(-0.3226, device='mps:0', grad_fn=<SumBackward0>)\n",
      "(2, 1, 0) tensor(0.6774, device='mps:0', grad_fn=<SumBackward0>)\n",
      "batch_size 1\n",
      "(0, 1, 2) tensor(0.2500, device='mps:0')\n",
      "(1, 0, 2) tensor(-0.7500, device='mps:0')\n",
      "(2, 1, 0) tensor(0.2500, device='mps:0')\n",
      "batch_size 1\n",
      "(0, 2, 1) tensor(-0.0233, device='mps:0', grad_fn=<SumBackward0>)\n",
      "(1, 2, 0) tensor(-1.0233, device='mps:0', grad_fn=<SumBackward0>)\n",
      "(2, 0, 1) tensor(-0.0233, device='mps:0', grad_fn=<SumBackward0>)\n",
      "batch_size 1\n",
      "(0, 2, 1) tensor(0.2500, device='mps:0')\n",
      "(1, 2, 0) tensor(-0.7500, device='mps:0')\n",
      "(2, 0, 1) tensor(0.2500, device='mps:0')\n",
      "batch_size 1\n",
      "(2, 1, 0) tensor(0.0054, device='mps:0', grad_fn=<SumBackward0>)\n"
     ]
    },
    {
     "name": "stderr",
     "output_type": "stream",
     "text": [
      "Processing rows:  56%|█████▋    | 563/1000 [00:42<00:34, 12.83it/s]"
     ]
    },
    {
     "name": "stdout",
     "output_type": "stream",
     "text": [
      "batch_size 1\n",
      "(2, 1, 0) tensor(0., device='mps:0')\n",
      "batch_size 1\n",
      "(0, 1, 2) tensor(-2.0000, device='mps:0', grad_fn=<SumBackward0>)\n",
      "(0, 2, 1) tensor(-2.0000, device='mps:0', grad_fn=<SumBackward0>)\n",
      "batch_size 1\n",
      "(0, 1, 2) tensor(0., device='mps:0')\n",
      "(0, 2, 1) tensor(0., device='mps:0')\n",
      "batch_size 1\n",
      "(0, 2, 1) tensor(0.1810, device='mps:0', grad_fn=<SumBackward0>)\n",
      "(1, 0, 2) tensor(-0.8190, device='mps:0', grad_fn=<SumBackward0>)\n",
      "batch_size 1\n",
      "(0, 2, 1) tensor(0.5000, device='mps:0')\n",
      "(1, 0, 2) tensor(-0.5000, device='mps:0')\n",
      "batch_size 1\n"
     ]
    },
    {
     "name": "stderr",
     "output_type": "stream",
     "text": [
      "Processing rows:  56%|█████▋    | 565/1000 [00:42<00:36, 12.03it/s]"
     ]
    },
    {
     "name": "stdout",
     "output_type": "stream",
     "text": [
      "(0, 1, 2) tensor(-1.5078, device='mps:0', grad_fn=<SumBackward0>)\n",
      "(0, 2, 1) tensor(-1.5078, device='mps:0', grad_fn=<SumBackward0>)\n",
      "(2, 1, 0) tensor(-0.5078, device='mps:0', grad_fn=<SumBackward0>)\n",
      "batch_size 1\n",
      "(0, 1, 2) tensor(-0.5000, device='mps:0')\n",
      "(0, 2, 1) tensor(-0.5000, device='mps:0')\n",
      "(2, 1, 0) tensor(0.5000, device='mps:0')\n",
      "batch_size 1\n",
      "(0, 1, 2) tensor(-0.0025, device='mps:0', grad_fn=<SumBackward0>)\n",
      "(1, 0, 2) tensor(-0.0025, device='mps:0', grad_fn=<SumBackward0>)\n",
      "batch_size 1\n",
      "(0, 1, 2) tensor(0., device='mps:0')\n",
      "(1, 0, 2) tensor(0., device='mps:0')\n",
      "batch_size 1\n",
      "(0, 1, 2) tensor(0.0834, device='mps:0', grad_fn=<SumBackward0>)\n"
     ]
    },
    {
     "name": "stderr",
     "output_type": "stream",
     "text": [
      "Processing rows:  57%|█████▋    | 567/1000 [00:42<00:33, 12.81it/s]"
     ]
    },
    {
     "name": "stdout",
     "output_type": "stream",
     "text": [
      "(2, 0, 1) tensor(-0.9166, device='mps:0', grad_fn=<SumBackward0>)\n",
      "batch_size 1\n",
      "(0, 1, 2) tensor(0.5000, device='mps:0')\n",
      "(2, 0, 1) tensor(-0.5000, device='mps:0')\n",
      "batch_size 1\n",
      "(2, 1, 0) tensor(0.0010, device='mps:0', grad_fn=<SumBackward0>)\n",
      "batch_size 1\n",
      "(2, 1, 0) tensor(0., device='mps:0')\n",
      "batch_size 1\n",
      "(0, 1, 2) tensor(0.0398, device='mps:0', grad_fn=<SumBackward0>)\n",
      "batch_size 1\n",
      "(0, 1, 2) tensor(0., device='mps:0')\n",
      "batch_size 1\n",
      "(2, 0, 1) tensor(0.0026, device='mps:0', grad_fn=<SumBackward0>)\n",
      "batch_size 1\n",
      "(2, 0, 1) tensor(0., device='mps:0')\n"
     ]
    },
    {
     "name": "stderr",
     "output_type": "stream",
     "text": [
      "Processing rows:  57%|█████▋    | 571/1000 [00:42<00:29, 14.40it/s]"
     ]
    },
    {
     "name": "stdout",
     "output_type": "stream",
     "text": [
      "batch_size 1\n",
      "(1, 2, 0) tensor(-0.9986, device='mps:0', grad_fn=<SumBackward0>)\n",
      "(2, 1, 0) tensor(0.0014, device='mps:0', grad_fn=<SumBackward0>)\n",
      "batch_size 1\n",
      "(1, 2, 0) tensor(-0.5000, device='mps:0')\n",
      "(2, 1, 0) tensor(0.5000, device='mps:0')\n",
      "batch_size 1\n",
      "(1, 0, 2) tensor(0.0154, device='mps:0', grad_fn=<SumBackward0>)\n",
      "batch_size 1\n",
      "(1, 0, 2) tensor(0., device='mps:0')\n",
      "batch_size 1\n",
      "(1, 0, 2) tensor(0.0091, device='mps:0', grad_fn=<SumBackward0>)\n",
      "batch_size 1\n",
      "(1, 0, 2) tensor(0., device='mps:0')\n",
      "batch_size 1\n"
     ]
    },
    {
     "name": "stderr",
     "output_type": "stream",
     "text": [
      "Processing rows:  57%|█████▋    | 573/1000 [00:42<00:27, 15.47it/s]"
     ]
    },
    {
     "name": "stdout",
     "output_type": "stream",
     "text": [
      "(2, 1, 0) tensor(1.2361, device='mps:0', grad_fn=<SumBackward0>)\n",
      "batch_size 1\n",
      "(2, 1, 0) tensor(0., device='mps:0')\n",
      "batch_size 1\n",
      "(1, 2, 0) tensor(0.0002, device='mps:0', grad_fn=<SumBackward0>)\n",
      "(2, 1, 0) tensor(0.0002, device='mps:0', grad_fn=<SumBackward0>)\n",
      "batch_size 1\n",
      "(1, 2, 0) tensor(0., device='mps:0')\n",
      "(2, 1, 0) tensor(0., device='mps:0')\n",
      "batch_size 1\n",
      "(0, 1, 2) tensor(-0.2648, device='mps:0', grad_fn=<SumBackward0>)\n",
      "(0, 2, 1) tensor(0.7352, device='mps:0', grad_fn=<SumBackward0>)\n",
      "(2, 0, 1) tensor(0.7352, device='mps:0', grad_fn=<SumBackward0>)\n",
      "batch_size 1\n",
      "(0, 1, 2) tensor(-0.7500, device='mps:0')\n",
      "(0, 2, 1) tensor(0.2500, device='mps:0')\n",
      "(2, 0, 1) "
     ]
    },
    {
     "name": "stderr",
     "output_type": "stream",
     "text": [
      "Processing rows:  58%|█████▊    | 577/1000 [00:43<00:31, 13.57it/s]"
     ]
    },
    {
     "name": "stdout",
     "output_type": "stream",
     "text": [
      "tensor(0.2500, device='mps:0')\n",
      "batch_size 1\n",
      "(1, 0, 2) tensor(0.0038, device='mps:0', grad_fn=<SumBackward0>)\n",
      "(2, 0, 1) tensor(-0.9962, device='mps:0', grad_fn=<SumBackward0>)\n",
      "(2, 1, 0) tensor(-0.9962, device='mps:0', grad_fn=<SumBackward0>)\n",
      "batch_size 1\n",
      "(1, 0, 2) tensor(0.5000, device='mps:0')\n",
      "(2, 0, 1) tensor(-0.5000, device='mps:0')\n",
      "(2, 1, 0) tensor(-0.5000, device='mps:0')\n",
      "batch_size 1\n",
      "(0, 2, 1) tensor(-0.0003, device='mps:0', grad_fn=<SumBackward0>)\n",
      "batch_size 1\n",
      "(0, 2, 1) tensor(0., device='mps:0')\n",
      "batch_size 1\n",
      "(2, 0, 1) tensor(1.0093, device='mps:0', grad_fn=<SumBackward0>)\n",
      "(2, 1, 0) tensor(0.0093, device='mps:0', grad_fn=<SumBackward0>)\n"
     ]
    },
    {
     "name": "stderr",
     "output_type": "stream",
     "text": [
      "Processing rows:  58%|█████▊    | 579/1000 [00:43<00:31, 13.35it/s]"
     ]
    },
    {
     "name": "stdout",
     "output_type": "stream",
     "text": [
      "batch_size 1\n",
      "(2, 0, 1) tensor(0.5000, device='mps:0')\n",
      "(2, 1, 0) tensor(-0.5000, device='mps:0')\n",
      "batch_size 1\n",
      "(1, 0, 2) tensor(0.0015, device='mps:0', grad_fn=<SumBackward0>)\n",
      "(2, 0, 1) tensor(-0.9985, device='mps:0', grad_fn=<SumBackward0>)\n",
      "batch_size 1\n",
      "(1, 0, 2) tensor(0.5000, device='mps:0')\n",
      "(2, 0, 1) tensor(-0.5000, device='mps:0')\n",
      "batch_size 1\n",
      "(1, 2, 0) tensor(-0.0506, device='mps:0', grad_fn=<SumBackward0>)\n",
      "(2, 1, 0) tensor(-0.0506, device='mps:0', grad_fn=<SumBackward0>)\n",
      "batch_size 1\n",
      "(1, 2, 0) tensor(0., device='mps:0')\n",
      "(2, 1, 0) tensor(0., device='mps:0')\n",
      "batch_size 1\n"
     ]
    },
    {
     "name": "stderr",
     "output_type": "stream",
     "text": [
      "Processing rows:  58%|█████▊    | 583/1000 [00:43<00:29, 14.09it/s]"
     ]
    },
    {
     "name": "stdout",
     "output_type": "stream",
     "text": [
      "(2, 1, 0) tensor(-0.0001, device='mps:0', grad_fn=<SumBackward0>)\n",
      "batch_size 1\n",
      "(2, 1, 0) tensor(0., device='mps:0')\n",
      "batch_size 1\n",
      "(2, 1, 0) tensor(-0.9996, device='mps:0', grad_fn=<SumBackward0>)\n",
      "batch_size 1\n",
      "(2, 1, 0) tensor(0., device='mps:0')\n",
      "batch_size 1\n",
      "(2, 0, 1) tensor(-0.9970, device='mps:0', grad_fn=<SumBackward0>)\n",
      "(2, 1, 0) tensor(0.0030, device='mps:0', grad_fn=<SumBackward0>)\n",
      "batch_size 1\n",
      "(2, 0, 1) tensor(-0.5000, device='mps:0')\n",
      "(2, 1, 0) tensor(0.5000, device='mps:0')\n",
      "batch_size 1\n",
      "(1, 0, 2) tensor(-1.0009, device='mps:0', grad_fn=<SumBackward0>)\n",
      "(2, 0, 1) "
     ]
    },
    {
     "name": "stderr",
     "output_type": "stream",
     "text": [
      "Processing rows:  58%|█████▊    | 585/1000 [00:43<00:31, 13.16it/s]"
     ]
    },
    {
     "name": "stdout",
     "output_type": "stream",
     "text": [
      "tensor(-1.0009, device='mps:0', grad_fn=<SumBackward0>)\n",
      "batch_size 1\n",
      "(1, 0, 2) tensor(0., device='mps:0')\n",
      "(2, 0, 1) tensor(0., device='mps:0')\n",
      "batch_size 1\n",
      "(0, 2, 1) tensor(0.0162, device='mps:0', grad_fn=<SumBackward0>)\n",
      "(1, 2, 0) tensor(0.0162, device='mps:0', grad_fn=<SumBackward0>)\n",
      "(2, 1, 0) tensor(0.0162, device='mps:0', grad_fn=<SumBackward0>)\n",
      "batch_size 1\n",
      "(0, 2, 1) tensor(0., device='mps:0')\n",
      "(1, 2, 0) tensor(0., device='mps:0')\n",
      "(2, 1, 0) tensor(0., device='mps:0')\n",
      "batch_size 1\n",
      "(0, 1, 2) tensor(0.0069, device='mps:0', grad_fn=<SumBackward0>)\n",
      "batch_size 1\n",
      "(0, 1, 2) tensor(0., device='mps:0')\n"
     ]
    },
    {
     "name": "stderr",
     "output_type": "stream",
     "text": [
      "Processing rows:  59%|█████▊    | 587/1000 [00:44<00:29, 14.20it/s]"
     ]
    },
    {
     "name": "stdout",
     "output_type": "stream",
     "text": [
      "batch_size 1\n",
      "(1, 2, 0) tensor(0.0001, device='mps:0', grad_fn=<SumBackward0>)\n",
      "batch_size 1\n",
      "(1, 2, 0) tensor(0., device='mps:0')\n",
      "batch_size 1\n",
      "(2, 1, 0) tensor(0.0149, device='mps:0', grad_fn=<SumBackward0>)\n",
      "batch_size 1\n",
      "(2, 1, 0) tensor(0., device='mps:0')\n",
      "batch_size 1\n",
      "(0, 1, 2) tensor(-0.9282, device='mps:0', grad_fn=<SumBackward0>)\n",
      "(1, 0, 2) tensor(-0.9282, device='mps:0', grad_fn=<SumBackward0>)\n",
      "(2, 1, 0) tensor(0.0718, device='mps:0', grad_fn=<SumBackward0>)\n",
      "batch_size 1\n",
      "(0, 1, 2) tensor(-0.5000, device='mps:0')\n",
      "(1, 0, 2) tensor(-0.5000, device='mps:0')\n"
     ]
    },
    {
     "name": "stderr",
     "output_type": "stream",
     "text": [
      "Processing rows:  59%|█████▉    | 591/1000 [00:44<00:30, 13.55it/s]"
     ]
    },
    {
     "name": "stdout",
     "output_type": "stream",
     "text": [
      "(2, 1, 0) tensor(0.5000, device='mps:0')\n",
      "batch_size 1\n",
      "(1, 2, 0) tensor(0.0281, device='mps:0', grad_fn=<SumBackward0>)\n",
      "(2, 0, 1) tensor(-0.9719, device='mps:0', grad_fn=<SumBackward0>)\n",
      "batch_size 1\n",
      "(1, 2, 0) tensor(0.5000, device='mps:0')\n",
      "(2, 0, 1) tensor(-0.5000, device='mps:0')\n",
      "batch_size 1\n",
      "(2, 0, 1) tensor(-0.1160, device='mps:0', grad_fn=<SumBackward0>)\n",
      "(2, 1, 0) tensor(-0.1160, device='mps:0', grad_fn=<SumBackward0>)\n",
      "batch_size 1\n",
      "(2, 0, 1) tensor(0., device='mps:0')\n",
      "(2, 1, 0) tensor(0., device='mps:0')\n",
      "batch_size 1\n",
      "(1, 0, 2) tensor(0.0019, device='mps:0', grad_fn=<SumBackward0>)\n",
      "batch_size 1\n"
     ]
    },
    {
     "name": "stderr",
     "output_type": "stream",
     "text": [
      "Processing rows:  59%|█████▉    | 593/1000 [00:44<00:27, 14.55it/s]"
     ]
    },
    {
     "name": "stdout",
     "output_type": "stream",
     "text": [
      "(1, 0, 2) tensor(0., device='mps:0')\n",
      "batch_size 1\n",
      "(2, 1, 0) tensor(0.0007, device='mps:0', grad_fn=<SumBackward0>)\n",
      "batch_size 1\n",
      "(2, 1, 0) tensor(0., device='mps:0')\n",
      "batch_size 1\n",
      "(1, 2, 0) tensor(0.0224, device='mps:0', grad_fn=<SumBackward0>)\n",
      "(2, 1, 0) tensor(-0.9776, device='mps:0', grad_fn=<SumBackward0>)\n",
      "batch_size 1\n",
      "(1, 2, 0) tensor(0.5000, device='mps:0')\n",
      "(2, 1, 0) tensor(-0.5000, device='mps:0')\n",
      "batch_size 1\n",
      "(0, 1, 2) tensor(0.3539, device='mps:0', grad_fn=<SumBackward0>)\n",
      "(2, 0, 1) tensor(-0.6461, device='mps:0', grad_fn=<SumBackward0>)\n",
      "batch_size 1\n"
     ]
    },
    {
     "name": "stderr",
     "output_type": "stream",
     "text": [
      "Processing rows:  60%|█████▉    | 597/1000 [00:44<00:27, 14.47it/s]"
     ]
    },
    {
     "name": "stdout",
     "output_type": "stream",
     "text": [
      "(0, 1, 2) tensor(0.5000, device='mps:0')\n",
      "(2, 0, 1) tensor(-0.5000, device='mps:0')\n",
      "batch_size 1\n",
      "(2, 1, 0) tensor(0.4193, device='mps:0', grad_fn=<SumBackward0>)\n",
      "batch_size 1\n",
      "(2, 1, 0) tensor(0., device='mps:0')\n",
      "batch_size 1\n",
      "(2, 1, 0) tensor(0.0052, device='mps:0', grad_fn=<SumBackward0>)\n",
      "batch_size 1\n",
      "(2, 1, 0) tensor(0., device='mps:0')\n",
      "batch_size 1\n",
      "(1, 2, 0) tensor(-0.9791, device='mps:0', grad_fn=<SumBackward0>)\n",
      "batch_size 1\n",
      "(1, 2, 0) tensor(0., device='mps:0')\n"
     ]
    },
    {
     "name": "stderr",
     "output_type": "stream",
     "text": [
      "Processing rows:  60%|█████▉    | 599/1000 [00:44<00:28, 13.94it/s]"
     ]
    },
    {
     "name": "stdout",
     "output_type": "stream",
     "text": [
      "batch_size 1\n",
      "(0, 1, 2) tensor(0.0080, device='mps:0', grad_fn=<SumBackward0>)\n",
      "(0, 2, 1) tensor(-0.9920, device='mps:0', grad_fn=<SumBackward0>)\n",
      "(1, 0, 2) tensor(1.0080, device='mps:0', grad_fn=<SumBackward0>)\n",
      "batch_size 1\n",
      "(0, 1, 2) tensor(-0.2500, device='mps:0')\n",
      "(0, 2, 1) tensor(-1.2500, device='mps:0')\n",
      "(1, 0, 2) tensor(0.7500, device='mps:0')\n",
      "batch_size 1\n",
      "(1, 0, 2) tensor(0.0757, device='mps:0', grad_fn=<SumBackward0>)\n",
      "(2, 0, 1) tensor(-0.9243, device='mps:0', grad_fn=<SumBackward0>)\n",
      "(2, 1, 0) tensor(-1.9243, device='mps:0', grad_fn=<SumBackward0>)\n",
      "batch_size 1\n",
      "(1, 0, 2) tensor(0.7500, device='mps:0')\n",
      "(2, 0, 1) tensor(-0.2500, device='mps:0')\n",
      "(2, 1, 0) tensor(-1.2500, device='mps:0')\n"
     ]
    },
    {
     "name": "stderr",
     "output_type": "stream",
     "text": [
      "Processing rows:  60%|██████    | 601/1000 [00:45<00:32, 12.31it/s]"
     ]
    },
    {
     "name": "stdout",
     "output_type": "stream",
     "text": [
      "batch_size 1\n",
      "(0, 1, 2) tensor(-0.1149, device='mps:0', grad_fn=<SumBackward0>)\n",
      "(0, 2, 1) tensor(-1.1149, device='mps:0', grad_fn=<SumBackward0>)\n",
      "(2, 1, 0) tensor(0.8851, device='mps:0', grad_fn=<SumBackward0>)\n",
      "batch_size 1\n",
      "(0, 1, 2) tensor(-0.2500, device='mps:0')\n",
      "(0, 2, 1) tensor(-1.2500, device='mps:0')\n",
      "(2, 1, 0) tensor(0.7500, device='mps:0')\n",
      "batch_size 1\n",
      "(0, 2, 1) tensor(0.0007, device='mps:0', grad_fn=<SumBackward0>)\n",
      "(2, 0, 1) tensor(-0.9993, device='mps:0', grad_fn=<SumBackward0>)\n",
      "batch_size 1\n",
      "(0, 2, 1) tensor(0.5000, device='mps:0')\n",
      "(2, 0, 1) tensor(-0.5000, device='mps:0')\n",
      "batch_size 1\n"
     ]
    },
    {
     "name": "stderr",
     "output_type": "stream",
     "text": [
      "Processing rows:  60%|██████    | 605/1000 [00:45<00:28, 13.99it/s]"
     ]
    },
    {
     "name": "stdout",
     "output_type": "stream",
     "text": [
      "(2, 1, 0) tensor(0.0367, device='mps:0', grad_fn=<SumBackward0>)\n",
      "batch_size 1\n",
      "(2, 1, 0) tensor(0., device='mps:0')\n",
      "batch_size 1\n",
      "(1, 2, 0) tensor(0.0014, device='mps:0', grad_fn=<SumBackward0>)\n",
      "batch_size 1\n",
      "(1, 2, 0) tensor(0., device='mps:0')\n",
      "batch_size 1\n",
      "(0, 2, 1) tensor(0.1356, device='mps:0', grad_fn=<SumBackward0>)\n",
      "batch_size 1\n",
      "(0, 2, 1) tensor(0., device='mps:0')\n",
      "batch_size 1\n",
      "(0, 1, 2) tensor(-1.0144, device='mps:0', grad_fn=<SumBackward0>)\n",
      "(0, 2, 1) tensor(-0.0144, device='mps:0', grad_fn=<SumBackward0>)\n",
      "(2, 0, 1) tensor(0.9856, device='mps:0', grad_fn=<SumBackward0>)\n"
     ]
    },
    {
     "name": "stderr",
     "output_type": "stream",
     "text": [
      "Processing rows:  61%|██████    | 607/1000 [00:45<00:28, 13.56it/s]"
     ]
    },
    {
     "name": "stdout",
     "output_type": "stream",
     "text": [
      "batch_size 1\n",
      "(0, 1, 2) tensor(-1.2500, device='mps:0')\n",
      "(0, 2, 1) tensor(-0.2500, device='mps:0')\n",
      "(2, 0, 1) tensor(0.7500, device='mps:0')\n",
      "batch_size 1\n",
      "(0, 2, 1) tensor(0.5701, device='mps:0', grad_fn=<SumBackward0>)\n",
      "batch_size 1\n",
      "(0, 2, 1) tensor(0., device='mps:0')\n",
      "batch_size 1\n",
      "(0, 1, 2) tensor(0.0062, device='mps:0', grad_fn=<SumBackward0>)\n",
      "(2, 1, 0) tensor(0.0062, device='mps:0', grad_fn=<SumBackward0>)\n",
      "batch_size 1\n",
      "(0, 1, 2) tensor(0., device='mps:0')\n",
      "(2, 1, 0) tensor(0., device='mps:0')\n",
      "batch_size 1\n",
      "(1, 2, 0) tensor(0.9928, device='mps:0', grad_fn=<SumBackward0>)\n"
     ]
    },
    {
     "name": "stderr",
     "output_type": "stream",
     "text": [
      "Processing rows:  61%|██████    | 611/1000 [00:45<00:25, 15.02it/s]"
     ]
    },
    {
     "name": "stdout",
     "output_type": "stream",
     "text": [
      "batch_size 1\n",
      "(1, 2, 0) tensor(0., device='mps:0')\n",
      "batch_size 1\n",
      "(1, 2, 0) tensor(-0.4640, device='mps:0', grad_fn=<SumBackward0>)\n",
      "batch_size 1\n",
      "(1, 2, 0) tensor(0., device='mps:0')\n",
      "batch_size 1\n",
      "(1, 0, 2) tensor(0.0014, device='mps:0', grad_fn=<SumBackward0>)\n",
      "batch_size 1\n",
      "(1, 0, 2) tensor(0., device='mps:0')\n",
      "batch_size 1\n",
      "(2, 0, 1) tensor(0.0045, device='mps:0', grad_fn=<SumBackward0>)\n",
      "(2, 1, 0) tensor(0.0045, device='mps:0', grad_fn=<SumBackward0>)\n",
      "batch_size 1\n"
     ]
    },
    {
     "name": "stderr",
     "output_type": "stream",
     "text": [
      "Processing rows:  61%|██████▏   | 613/1000 [00:45<00:28, 13.44it/s]"
     ]
    },
    {
     "name": "stdout",
     "output_type": "stream",
     "text": [
      "(2, 0, 1) tensor(0., device='mps:0')\n",
      "(2, 1, 0) tensor(0., device='mps:0')\n",
      "batch_size 1\n",
      "(0, 2, 1) tensor(0.0012, device='mps:0', grad_fn=<SumBackward0>)\n",
      "(2, 0, 1) tensor(-0.9988, device='mps:0', grad_fn=<SumBackward0>)\n",
      "(2, 1, 0) tensor(-0.9988, device='mps:0', grad_fn=<SumBackward0>)\n",
      "batch_size 1\n",
      "(0, 2, 1) tensor(0.5000, device='mps:0')\n",
      "(2, 0, 1) tensor(-0.5000, device='mps:0')\n",
      "(2, 1, 0) tensor(-0.5000, device='mps:0')\n",
      "batch_size 1\n",
      "(0, 1, 2) tensor(-0.9988, device='mps:0', grad_fn=<SumBackward0>)\n",
      "(1, 0, 2) tensor(0.0012, device='mps:0', grad_fn=<SumBackward0>)\n",
      "(2, 1, 0) tensor(-0.9988, device='mps:0', grad_fn=<SumBackward0>)\n",
      "batch_size 1\n",
      "(0, 1, 2) tensor(-0.5000, device='mps:0')\n"
     ]
    },
    {
     "name": "stderr",
     "output_type": "stream",
     "text": [
      "Processing rows:  62%|██████▏   | 615/1000 [00:46<00:30, 12.76it/s]"
     ]
    },
    {
     "name": "stdout",
     "output_type": "stream",
     "text": [
      "(1, 0, 2) tensor(0.5000, device='mps:0')\n",
      "(2, 1, 0) tensor(-0.5000, device='mps:0')\n",
      "batch_size 1\n",
      "(0, 1, 2) tensor(0.0120, device='mps:0', grad_fn=<SumBackward0>)\n",
      "(1, 0, 2) tensor(0.0120, device='mps:0', grad_fn=<SumBackward0>)\n",
      "batch_size 1\n",
      "(0, 1, 2) tensor(0., device='mps:0')\n",
      "(1, 0, 2) tensor(0., device='mps:0')\n",
      "batch_size 1\n",
      "(0, 2, 1) tensor(0.0004, device='mps:0', grad_fn=<SumBackward0>)\n",
      "(2, 0, 1) tensor(-0.9996, device='mps:0', grad_fn=<SumBackward0>)\n",
      "batch_size 1\n",
      "(0, 2, 1) tensor(0.5000, device='mps:0')\n",
      "(2, 0, 1) tensor(-0.5000, device='mps:0')\n",
      "batch_size 1\n",
      "(0, 1, 2) tensor(-0.8434, device='mps:0', grad_fn=<SumBackward0>)\n"
     ]
    },
    {
     "name": "stderr",
     "output_type": "stream",
     "text": [
      "Processing rows:  62%|██████▏   | 617/1000 [00:46<00:30, 12.62it/s]"
     ]
    },
    {
     "name": "stdout",
     "output_type": "stream",
     "text": [
      "(1, 2, 0) tensor(0.1566, device='mps:0', grad_fn=<SumBackward0>)\n",
      "batch_size 1\n",
      "(0, 1, 2) tensor(-0.5000, device='mps:0')\n",
      "(1, 2, 0) tensor(0.5000, device='mps:0')\n",
      "batch_size 1\n",
      "(0, 1, 2) tensor(-0.0155, device='mps:0', grad_fn=<SumBackward0>)\n",
      "(0, 2, 1) tensor(-0.0155, device='mps:0', grad_fn=<SumBackward0>)\n",
      "batch_size 1\n",
      "(0, 1, 2) tensor(0., device='mps:0')\n",
      "(0, 2, 1) tensor(0., device='mps:0')\n",
      "batch_size 1\n",
      "(1, 2, 0) tensor(-1.8689, device='mps:0', grad_fn=<SumBackward0>)\n",
      "(2, 0, 1) tensor(0.1311, device='mps:0', grad_fn=<SumBackward0>)\n",
      "(2, 1, 0) tensor(-0.8689, device='mps:0', grad_fn=<SumBackward0>)\n",
      "batch_size 1\n",
      "(1, 2, 0) tensor(-1.2500, device='mps:0')\n"
     ]
    },
    {
     "name": "stderr",
     "output_type": "stream",
     "text": [
      "Processing rows:  62%|██████▏   | 621/1000 [00:46<00:28, 13.49it/s]"
     ]
    },
    {
     "name": "stdout",
     "output_type": "stream",
     "text": [
      "(2, 0, 1) tensor(0.7500, device='mps:0')\n",
      "(2, 1, 0) tensor(-0.2500, device='mps:0')\n",
      "batch_size 1\n",
      "(2, 1, 0) tensor(0.0054, device='mps:0', grad_fn=<SumBackward0>)\n",
      "batch_size 1\n",
      "(2, 1, 0) tensor(0., device='mps:0')\n",
      "batch_size 1\n",
      "(0, 2, 1) tensor(0.0297, device='mps:0', grad_fn=<SumBackward0>)\n",
      "batch_size 1\n",
      "(0, 2, 1) tensor(0., device='mps:0')\n",
      "batch_size 1\n",
      "(1, 2, 0) tensor(0.0004, device='mps:0', grad_fn=<SumBackward0>)\n",
      "batch_size 1\n",
      "(1, 2, 0) tensor(0., device='mps:0')\n",
      "batch_size 1\n"
     ]
    },
    {
     "name": "stderr",
     "output_type": "stream",
     "text": [
      "Processing rows:  62%|██████▏   | 623/1000 [00:46<00:28, 13.33it/s]"
     ]
    },
    {
     "name": "stdout",
     "output_type": "stream",
     "text": [
      "(1, 0, 2) tensor(-0.0188, device='mps:0', grad_fn=<SumBackward0>)\n",
      "(2, 0, 1) tensor(-0.0188, device='mps:0', grad_fn=<SumBackward0>)\n",
      "(2, 1, 0) tensor(-0.0188, device='mps:0', grad_fn=<SumBackward0>)\n",
      "batch_size 1\n",
      "(1, 0, 2) tensor(0., device='mps:0')\n",
      "(2, 0, 1) tensor(0., device='mps:0')\n",
      "(2, 1, 0) tensor(0., device='mps:0')\n",
      "batch_size 1\n",
      "(2, 0, 1) tensor(-0.0609, device='mps:0', grad_fn=<SumBackward0>)\n",
      "(2, 1, 0) tensor(-0.0609, device='mps:0', grad_fn=<SumBackward0>)\n",
      "batch_size 1\n",
      "(2, 0, 1) tensor(0., device='mps:0')\n",
      "(2, 1, 0) tensor(0., device='mps:0')\n",
      "batch_size 1\n",
      "(2, 1, 0) tensor(-0.0009, device='mps:0', grad_fn=<SumBackward0>)\n",
      "batch_size 1\n",
      "(2, 1, 0) tensor(0., device='mps:0')\n"
     ]
    },
    {
     "name": "stderr",
     "output_type": "stream",
     "text": [
      "Processing rows:  63%|██████▎   | 627/1000 [00:47<00:27, 13.52it/s]"
     ]
    },
    {
     "name": "stdout",
     "output_type": "stream",
     "text": [
      "batch_size 1\n",
      "(0, 1, 2) tensor(-0.3721, device='mps:0', grad_fn=<SumBackward0>)\n",
      "(0, 2, 1) tensor(-0.3721, device='mps:0', grad_fn=<SumBackward0>)\n",
      "batch_size 1\n",
      "(0, 1, 2) tensor(0., device='mps:0')\n",
      "(0, 2, 1) tensor(0., device='mps:0')\n",
      "batch_size 1\n",
      "(0, 2, 1) tensor(0.0004, device='mps:0', grad_fn=<SumBackward0>)\n",
      "(1, 2, 0) tensor(0.0004, device='mps:0', grad_fn=<SumBackward0>)\n",
      "batch_size 1\n",
      "(0, 2, 1) tensor(0., device='mps:0')\n",
      "(1, 2, 0) tensor(0., device='mps:0')\n",
      "batch_size 1\n",
      "(2, 0, 1) tensor(0.0004, device='mps:0', grad_fn=<SumBackward0>)\n",
      "batch_size 1\n"
     ]
    },
    {
     "name": "stderr",
     "output_type": "stream",
     "text": [
      "Processing rows:  63%|██████▎   | 629/1000 [00:47<00:28, 13.13it/s]"
     ]
    },
    {
     "name": "stdout",
     "output_type": "stream",
     "text": [
      "(2, 0, 1) tensor(0., device='mps:0')\n",
      "batch_size 1\n",
      "(1, 2, 0) tensor(-1.0816, device='mps:0', grad_fn=<SumBackward0>)\n",
      "(2, 0, 1) tensor(-0.0816, device='mps:0', grad_fn=<SumBackward0>)\n",
      "(2, 1, 0) tensor(-1.0816, device='mps:0', grad_fn=<SumBackward0>)\n",
      "batch_size 1\n",
      "(1, 2, 0) tensor(-0.5000, device='mps:0')\n",
      "(2, 0, 1) tensor(0.5000, device='mps:0')\n",
      "(2, 1, 0) tensor(-0.5000, device='mps:0')\n",
      "batch_size 1\n",
      "(0, 1, 2) tensor(-0.9928, device='mps:0', grad_fn=<SumBackward0>)\n",
      "(1, 2, 0) tensor(-1.9928, device='mps:0', grad_fn=<SumBackward0>)\n",
      "(2, 1, 0) tensor(-1.9928, device='mps:0', grad_fn=<SumBackward0>)\n",
      "batch_size 1\n",
      "(0, 1, 2) tensor(0.5000, device='mps:0')\n",
      "(1, 2, 0) tensor(-0.5000, device='mps:0')\n"
     ]
    },
    {
     "name": "stderr",
     "output_type": "stream",
     "text": [
      "Processing rows:  63%|██████▎   | 631/1000 [00:47<00:29, 12.43it/s]"
     ]
    },
    {
     "name": "stdout",
     "output_type": "stream",
     "text": [
      "(2, 1, 0) tensor(-0.5000, device='mps:0')\n",
      "batch_size 1\n",
      "(1, 0, 2) tensor(0.0194, device='mps:0', grad_fn=<SumBackward0>)\n",
      "(2, 0, 1) tensor(-0.9806, device='mps:0', grad_fn=<SumBackward0>)\n",
      "batch_size 1\n",
      "(1, 0, 2) tensor(0.5000, device='mps:0')\n",
      "(2, 0, 1) tensor(-0.5000, device='mps:0')\n",
      "batch_size 1\n",
      "(0, 2, 1) tensor(-0.0002, device='mps:0', grad_fn=<SumBackward0>)\n",
      "batch_size 1\n",
      "(0, 2, 1) tensor(0., device='mps:0')\n",
      "batch_size 1\n",
      "(0, 1, 2) tensor(0.0103, device='mps:0', grad_fn=<SumBackward0>)\n",
      "batch_size 1\n",
      "(0, 1, 2) tensor(0., device='mps:0')\n"
     ]
    },
    {
     "name": "stderr",
     "output_type": "stream",
     "text": [
      "Processing rows:  64%|██████▎   | 635/1000 [00:47<00:24, 14.72it/s]"
     ]
    },
    {
     "name": "stdout",
     "output_type": "stream",
     "text": [
      "batch_size 1\n",
      "(1, 2, 0) tensor(-0.9680, device='mps:0', grad_fn=<SumBackward0>)\n",
      "batch_size 1\n",
      "(1, 2, 0) tensor(0., device='mps:0')\n",
      "batch_size 1\n",
      "(2, 0, 1) tensor(2.5748, device='mps:0', grad_fn=<SumBackward0>)\n",
      "batch_size 1\n",
      "(2, 0, 1) tensor(0., device='mps:0')\n",
      "batch_size 1\n",
      "(2, 1, 0) tensor(0.0048, device='mps:0', grad_fn=<SumBackward0>)\n",
      "batch_size 1\n",
      "(2, 1, 0) tensor(0., device='mps:0')\n",
      "batch_size 1\n",
      "(0, 1, 2) tensor(-1.0036, device='mps:0', grad_fn=<SumBackward0>)\n",
      "(0, 2, 1) tensor(-1.0036, device='mps:0', grad_fn=<SumBackward0>)\n"
     ]
    },
    {
     "name": "stderr",
     "output_type": "stream",
     "text": [
      "Processing rows:  64%|██████▎   | 637/1000 [00:47<00:25, 14.23it/s]"
     ]
    },
    {
     "name": "stdout",
     "output_type": "stream",
     "text": [
      "(2, 1, 0) tensor(-0.0036, device='mps:0', grad_fn=<SumBackward0>)\n",
      "batch_size 1\n",
      "(0, 1, 2) tensor(-0.5000, device='mps:0')\n",
      "(0, 2, 1) tensor(-0.5000, device='mps:0')\n",
      "(2, 1, 0) tensor(0.5000, device='mps:0')\n",
      "batch_size 1\n",
      "(1, 0, 2) tensor(-0.0501, device='mps:0', grad_fn=<SumBackward0>)\n",
      "(1, 2, 0) tensor(-0.0501, device='mps:0', grad_fn=<SumBackward0>)\n",
      "(2, 0, 1) tensor(0.9499, device='mps:0', grad_fn=<SumBackward0>)\n",
      "batch_size 1\n",
      "(1, 0, 2) tensor(-0.5000, device='mps:0')\n",
      "(1, 2, 0) tensor(-0.5000, device='mps:0')\n",
      "(2, 0, 1) tensor(0.5000, device='mps:0')\n",
      "batch_size 1\n",
      "(2, 0, 1) tensor(0.4270, device='mps:0', grad_fn=<SumBackward0>)\n",
      "batch_size 1\n"
     ]
    },
    {
     "name": "stderr",
     "output_type": "stream",
     "text": [
      "Processing rows:  64%|██████▍   | 641/1000 [00:47<00:24, 14.82it/s]"
     ]
    },
    {
     "name": "stdout",
     "output_type": "stream",
     "text": [
      "(2, 0, 1) tensor(0., device='mps:0')\n",
      "batch_size 1\n",
      "(1, 2, 0) tensor(4.5218e-05, device='mps:0', grad_fn=<SumBackward0>)\n",
      "batch_size 1\n",
      "(1, 2, 0) tensor(0., device='mps:0')\n",
      "batch_size 1\n",
      "(0, 1, 2) tensor(-0.0081, device='mps:0', grad_fn=<SumBackward0>)\n",
      "batch_size 1\n",
      "(0, 1, 2) tensor(0., device='mps:0')\n",
      "batch_size 1\n",
      "(0, 2, 1) tensor(-0.0015, device='mps:0', grad_fn=<SumBackward0>)\n",
      "batch_size 1\n",
      "(0, 2, 1) tensor(0., device='mps:0')\n",
      "batch_size 1\n",
      "(0, 2, 1) tensor(0.0063, device='mps:0', grad_fn=<SumBackward0>)\n"
     ]
    },
    {
     "name": "stderr",
     "output_type": "stream",
     "text": [
      "Processing rows:  64%|██████▍   | 645/1000 [00:48<00:22, 16.03it/s]"
     ]
    },
    {
     "name": "stdout",
     "output_type": "stream",
     "text": [
      "(1, 0, 2) tensor(-1.9937, device='mps:0', grad_fn=<SumBackward0>)\n",
      "batch_size 1\n",
      "(0, 2, 1) tensor(1., device='mps:0')\n",
      "(1, 0, 2) tensor(-1., device='mps:0')\n",
      "batch_size 1\n",
      "(1, 0, 2) tensor(0.0013, device='mps:0', grad_fn=<SumBackward0>)\n",
      "batch_size 1\n",
      "(1, 0, 2) tensor(0., device='mps:0')\n",
      "batch_size 1\n",
      "(2, 0, 1) tensor(0.0012, device='mps:0', grad_fn=<SumBackward0>)\n",
      "batch_size 1\n",
      "(2, 0, 1) tensor(0., device='mps:0')\n",
      "batch_size 1\n",
      "(1, 0, 2) tensor(0.0320, device='mps:0', grad_fn=<SumBackward0>)\n",
      "(2, 0, 1) tensor(-0.9680, device='mps:0', grad_fn=<SumBackward0>)\n",
      "(2, 1, 0) tensor(-0.9680, device='mps:0', grad_fn=<SumBackward0>)\n"
     ]
    },
    {
     "name": "stderr",
     "output_type": "stream",
     "text": [
      "Processing rows:  65%|██████▍   | 647/1000 [00:48<00:23, 14.85it/s]"
     ]
    },
    {
     "name": "stdout",
     "output_type": "stream",
     "text": [
      "batch_size 1\n",
      "(1, 0, 2) tensor(0.5000, device='mps:0')\n",
      "(2, 0, 1) tensor(-0.5000, device='mps:0')\n",
      "(2, 1, 0) tensor(-0.5000, device='mps:0')\n",
      "batch_size 1\n",
      "(0, 2, 1) tensor(0.0012, device='mps:0', grad_fn=<SumBackward0>)\n",
      "batch_size 1\n",
      "(0, 2, 1) tensor(0., device='mps:0')\n",
      "batch_size 1\n",
      "(1, 0, 2) tensor(0.0016, device='mps:0', grad_fn=<SumBackward0>)\n",
      "batch_size 1\n",
      "(1, 0, 2) tensor(0., device='mps:0')\n",
      "batch_size 1\n",
      "(0, 1, 2) tensor(-1.0669, device='mps:0', grad_fn=<SumBackward0>)\n",
      "(1, 0, 2) tensor(-1.0669, device='mps:0', grad_fn=<SumBackward0>)\n",
      "(2, 1, 0) tensor(-0.0669, device='mps:0', grad_fn=<SumBackward0>)\n"
     ]
    },
    {
     "name": "stderr",
     "output_type": "stream",
     "text": [
      "Processing rows:  65%|██████▍   | 649/1000 [00:48<00:24, 14.07it/s]"
     ]
    },
    {
     "name": "stdout",
     "output_type": "stream",
     "text": [
      "batch_size 1\n",
      "(0, 1, 2) tensor(-0.5000, device='mps:0')\n",
      "(1, 0, 2) tensor(-0.5000, device='mps:0')\n",
      "(2, 1, 0) tensor(0.5000, device='mps:0')\n",
      "batch_size 1\n",
      "(1, 2, 0) tensor(0.0090, device='mps:0', grad_fn=<SumBackward0>)\n",
      "batch_size 1\n",
      "(1, 2, 0) tensor(0., device='mps:0')\n",
      "batch_size 1\n",
      "(0, 2, 1) tensor(-1.1929, device='mps:0', grad_fn=<SumBackward0>)\n",
      "(1, 0, 2) tensor(-0.1929, device='mps:0', grad_fn=<SumBackward0>)\n",
      "(2, 0, 1) tensor(-1.1929, device='mps:0', grad_fn=<SumBackward0>)\n",
      "batch_size 1\n",
      "(0, 2, 1) tensor(-0.5000, device='mps:0')\n",
      "(1, 0, 2) tensor(0.5000, device='mps:0')\n",
      "(2, 0, 1) "
     ]
    },
    {
     "name": "stderr",
     "output_type": "stream",
     "text": [
      "Processing rows:  65%|██████▌   | 653/1000 [00:48<00:23, 14.90it/s]"
     ]
    },
    {
     "name": "stdout",
     "output_type": "stream",
     "text": [
      "tensor(-0.5000, device='mps:0')\n",
      "batch_size 1\n",
      "(1, 0, 2) tensor(0.0057, device='mps:0', grad_fn=<SumBackward0>)\n",
      "batch_size 1\n",
      "(1, 0, 2) tensor(0., device='mps:0')\n",
      "batch_size 1\n",
      "(2, 0, 1) tensor(0.0089, device='mps:0', grad_fn=<SumBackward0>)\n",
      "batch_size 1\n",
      "(2, 0, 1) tensor(0., device='mps:0')\n",
      "batch_size 1\n",
      "(1, 0, 2) tensor(-0.0150, device='mps:0', grad_fn=<SumBackward0>)\n",
      "batch_size 1\n",
      "(1, 0, 2) tensor(0., device='mps:0')\n",
      "batch_size 1\n"
     ]
    },
    {
     "name": "stderr",
     "output_type": "stream",
     "text": [
      "Processing rows:  66%|██████▌   | 657/1000 [00:49<00:23, 14.47it/s]"
     ]
    },
    {
     "name": "stdout",
     "output_type": "stream",
     "text": [
      "(0, 1, 2) tensor(-0.0061, device='mps:0', grad_fn=<SumBackward0>)\n",
      "(2, 1, 0) tensor(-0.0061, device='mps:0', grad_fn=<SumBackward0>)\n",
      "batch_size 1\n",
      "(0, 1, 2) tensor(0., device='mps:0')\n",
      "(2, 1, 0) tensor(0., device='mps:0')\n",
      "batch_size 1\n",
      "(1, 2, 0) tensor(0.1207, device='mps:0', grad_fn=<SumBackward0>)\n",
      "(2, 0, 1) tensor(-0.8793, device='mps:0', grad_fn=<SumBackward0>)\n",
      "batch_size 1\n",
      "(1, 2, 0) tensor(0.5000, device='mps:0')\n",
      "(2, 0, 1) tensor(-0.5000, device='mps:0')\n",
      "batch_size 1\n",
      "(2, 0, 1) tensor(0.5158, device='mps:0', grad_fn=<SumBackward0>)\n",
      "batch_size 1\n",
      "(2, 0, 1) tensor(0., device='mps:0')\n",
      "batch_size 1\n"
     ]
    },
    {
     "name": "stderr",
     "output_type": "stream",
     "text": [
      "Processing rows:  66%|██████▌   | 659/1000 [00:49<00:23, 14.67it/s]"
     ]
    },
    {
     "name": "stdout",
     "output_type": "stream",
     "text": [
      "(2, 1, 0) tensor(-0.0228, device='mps:0', grad_fn=<SumBackward0>)\n",
      "batch_size 1\n",
      "(2, 1, 0) tensor(0., device='mps:0')\n",
      "batch_size 1\n",
      "(0, 2, 1) tensor(-0.3120, device='mps:0', grad_fn=<SumBackward0>)\n",
      "(1, 2, 0) tensor(0.6880, device='mps:0', grad_fn=<SumBackward0>)\n",
      "batch_size 1\n",
      "(0, 2, 1) tensor(-0.5000, device='mps:0')\n",
      "(1, 2, 0) tensor(0.5000, device='mps:0')\n",
      "batch_size 1\n",
      "(2, 1, 0) tensor(-0.0167, device='mps:0', grad_fn=<SumBackward0>)\n",
      "batch_size 1\n",
      "(2, 1, 0) tensor(0., device='mps:0')\n",
      "batch_size 1\n",
      "(2, 1, 0) tensor(0.0041, device='mps:0', grad_fn=<SumBackward0>)\n",
      "batch_size 1\n"
     ]
    },
    {
     "name": "stderr",
     "output_type": "stream",
     "text": [
      "Processing rows:  66%|██████▋   | 663/1000 [00:49<00:20, 16.39it/s]"
     ]
    },
    {
     "name": "stdout",
     "output_type": "stream",
     "text": [
      "(2, 1, 0) tensor(0., device='mps:0')\n",
      "batch_size 1\n",
      "(1, 0, 2) tensor(0.0005, device='mps:0', grad_fn=<SumBackward0>)\n",
      "batch_size 1\n",
      "(1, 0, 2) tensor(0., device='mps:0')\n",
      "batch_size 1\n",
      "(0, 1, 2) tensor(0.0047, device='mps:0', grad_fn=<SumBackward0>)\n",
      "batch_size 1\n",
      "(0, 1, 2) tensor(0., device='mps:0')\n",
      "batch_size 1\n",
      "(0, 2, 1) tensor(0.1356, device='mps:0', grad_fn=<SumBackward0>)\n",
      "batch_size 1\n",
      "(0, 2, 1) tensor(0., device='mps:0')\n",
      "batch_size 1\n",
      "(1, 2, 0) tensor(-0.0163, device='mps:0', grad_fn=<SumBackward0>)\n"
     ]
    },
    {
     "name": "stderr",
     "output_type": "stream",
     "text": [
      "Processing rows:  67%|██████▋   | 667/1000 [00:49<00:20, 15.92it/s]"
     ]
    },
    {
     "name": "stdout",
     "output_type": "stream",
     "text": [
      "(2, 0, 1) tensor(-0.0163, device='mps:0', grad_fn=<SumBackward0>)\n",
      "(2, 1, 0) tensor(-0.0163, device='mps:0', grad_fn=<SumBackward0>)\n",
      "batch_size 1\n",
      "(1, 2, 0) tensor(0., device='mps:0')\n",
      "(2, 0, 1) tensor(0., device='mps:0')\n",
      "(2, 1, 0) tensor(0., device='mps:0')\n",
      "batch_size 1\n",
      "(2, 0, 1) tensor(0.9484, device='mps:0', grad_fn=<SumBackward0>)\n",
      "batch_size 1\n",
      "(2, 0, 1) tensor(0., device='mps:0')\n",
      "batch_size 1\n",
      "(2, 1, 0) tensor(-0.0048, device='mps:0', grad_fn=<SumBackward0>)\n",
      "batch_size 1\n",
      "(2, 1, 0) tensor(0., device='mps:0')\n",
      "batch_size 1\n",
      "(1, 2, 0) "
     ]
    },
    {
     "name": "stderr",
     "output_type": "stream",
     "text": [
      "Processing rows:  67%|██████▋   | 669/1000 [00:49<00:20, 16.38it/s]"
     ]
    },
    {
     "name": "stdout",
     "output_type": "stream",
     "text": [
      "tensor(0.0019, device='mps:0', grad_fn=<SumBackward0>)\n",
      "batch_size 1\n",
      "(1, 2, 0) tensor(0., device='mps:0')\n",
      "batch_size 1\n",
      "(2, 0, 1) tensor(0.0084, device='mps:0', grad_fn=<SumBackward0>)\n",
      "batch_size 1\n",
      "(2, 0, 1) tensor(0., device='mps:0')\n",
      "batch_size 1\n",
      "(1, 2, 0) tensor(-0.3116, device='mps:0', grad_fn=<SumBackward0>)\n",
      "(2, 1, 0) tensor(-0.3116, device='mps:0', grad_fn=<SumBackward0>)\n",
      "batch_size 1\n",
      "(1, 2, 0) tensor(0., device='mps:0')\n",
      "(2, 1, 0) tensor(0., device='mps:0')\n",
      "batch_size 1\n",
      "(1, 0, 2) tensor(-0.0009, device='mps:0', grad_fn=<SumBackward0>)\n",
      "(1, 2, 0) "
     ]
    },
    {
     "name": "stderr",
     "output_type": "stream",
     "text": [
      "Processing rows:  67%|██████▋   | 673/1000 [00:50<00:21, 15.28it/s]"
     ]
    },
    {
     "name": "stdout",
     "output_type": "stream",
     "text": [
      "tensor(-0.0009, device='mps:0', grad_fn=<SumBackward0>)\n",
      "batch_size 1\n",
      "(1, 0, 2) tensor(0., device='mps:0')\n",
      "(1, 2, 0) tensor(0., device='mps:0')\n",
      "batch_size 1\n",
      "(0, 2, 1) tensor(0.0002, device='mps:0', grad_fn=<SumBackward0>)\n",
      "batch_size 1\n",
      "(0, 2, 1) tensor(0., device='mps:0')\n",
      "batch_size 1\n",
      "(0, 2, 1) tensor(-0.9917, device='mps:0', grad_fn=<SumBackward0>)\n",
      "(2, 1, 0) tensor(0.0083, device='mps:0', grad_fn=<SumBackward0>)\n",
      "batch_size 1\n",
      "(0, 2, 1) tensor(-0.5000, device='mps:0')\n",
      "(2, 1, 0) tensor(0.5000, device='mps:0')\n",
      "batch_size 1\n",
      "(0, 1, 2) tensor(0.0077, device='mps:0', grad_fn=<SumBackward0>)\n"
     ]
    },
    {
     "name": "stderr",
     "output_type": "stream",
     "text": [
      "Processing rows:  68%|██████▊   | 675/1000 [00:50<00:23, 13.76it/s]"
     ]
    },
    {
     "name": "stdout",
     "output_type": "stream",
     "text": [
      "(1, 0, 2) tensor(0.0077, device='mps:0', grad_fn=<SumBackward0>)\n",
      "batch_size 1\n",
      "(0, 1, 2) tensor(0., device='mps:0')\n",
      "(1, 0, 2) tensor(0., device='mps:0')\n",
      "batch_size 1\n",
      "(0, 1, 2) tensor(-1.7580, device='mps:0', grad_fn=<SumBackward0>)\n",
      "(1, 2, 0) tensor(0.2420, device='mps:0', grad_fn=<SumBackward0>)\n",
      "(2, 1, 0) tensor(-0.7580, device='mps:0', grad_fn=<SumBackward0>)\n",
      "batch_size 1\n",
      "(0, 1, 2) tensor(-1.2500, device='mps:0')\n",
      "(1, 2, 0) tensor(0.7500, device='mps:0')\n",
      "(2, 1, 0) tensor(-0.2500, device='mps:0')\n",
      "batch_size 1\n",
      "(2, 0, 1) tensor(0.0123, device='mps:0', grad_fn=<SumBackward0>)\n",
      "batch_size 1\n",
      "(2, 0, 1) tensor(0., device='mps:0')\n"
     ]
    },
    {
     "name": "stderr",
     "output_type": "stream",
     "text": [
      "Processing rows:  68%|██████▊   | 679/1000 [00:50<00:20, 15.82it/s]"
     ]
    },
    {
     "name": "stdout",
     "output_type": "stream",
     "text": [
      "batch_size 1\n",
      "(2, 1, 0) tensor(-0.0535, device='mps:0', grad_fn=<SumBackward0>)\n",
      "batch_size 1\n",
      "(2, 1, 0) tensor(0., device='mps:0')\n",
      "batch_size 1\n",
      "(2, 1, 0) tensor(-0.0048, device='mps:0', grad_fn=<SumBackward0>)\n",
      "batch_size 1\n",
      "(2, 1, 0) tensor(0., device='mps:0')\n",
      "batch_size 1\n",
      "(1, 2, 0) tensor(0.0013, device='mps:0', grad_fn=<SumBackward0>)\n",
      "batch_size 1\n",
      "(1, 2, 0) tensor(0., device='mps:0')\n",
      "batch_size 1\n",
      "(1, 0, 2) tensor(-0.0270, device='mps:0', grad_fn=<SumBackward0>)\n",
      "(1, 2, 0) tensor(-0.0270, device='mps:0', grad_fn=<SumBackward0>)\n"
     ]
    },
    {
     "name": "stderr",
     "output_type": "stream",
     "text": [
      "Processing rows:  68%|██████▊   | 681/1000 [00:50<00:21, 14.59it/s]"
     ]
    },
    {
     "name": "stdout",
     "output_type": "stream",
     "text": [
      "(2, 0, 1) tensor(-0.0270, device='mps:0', grad_fn=<SumBackward0>)\n",
      "batch_size 1\n",
      "(1, 0, 2) tensor(0., device='mps:0')\n",
      "(1, 2, 0) tensor(0., device='mps:0')\n",
      "(2, 0, 1) tensor(0., device='mps:0')\n",
      "batch_size 1\n",
      "(0, 1, 2) tensor(-0.9122, device='mps:0', grad_fn=<SumBackward0>)\n",
      "batch_size 1\n",
      "(0, 1, 2) tensor(0., device='mps:0')\n",
      "batch_size 1\n",
      "(0, 1, 2) tensor(-1.0371, device='mps:0', grad_fn=<SumBackward0>)\n",
      "(0, 2, 1) tensor(-0.0371, device='mps:0', grad_fn=<SumBackward0>)\n",
      "(2, 0, 1) tensor(0.9629, device='mps:0', grad_fn=<SumBackward0>)\n",
      "batch_size 1\n",
      "(0, 1, 2) tensor(-1.2500, device='mps:0')\n",
      "(0, 2, 1) tensor(-0.2500, device='mps:0')\n"
     ]
    },
    {
     "name": "stderr",
     "output_type": "stream",
     "text": [
      "Processing rows:  68%|██████▊   | 683/1000 [00:50<00:22, 14.01it/s]"
     ]
    },
    {
     "name": "stdout",
     "output_type": "stream",
     "text": [
      "(2, 0, 1) tensor(0.7500, device='mps:0')\n",
      "batch_size 1\n",
      "(1, 0, 2) tensor(0.0062, device='mps:0', grad_fn=<SumBackward0>)\n",
      "batch_size 1\n",
      "(1, 0, 2) tensor(0., device='mps:0')\n",
      "batch_size 1\n",
      "(1, 0, 2) tensor(-0.3557, device='mps:0', grad_fn=<SumBackward0>)\n",
      "(1, 2, 0) tensor(0.6443, device='mps:0', grad_fn=<SumBackward0>)\n",
      "batch_size 1\n",
      "(1, 0, 2) tensor(-0.5000, device='mps:0')\n",
      "(1, 2, 0) tensor(0.5000, device='mps:0')\n",
      "batch_size 1\n",
      "(0, 1, 2) tensor(-0.0031, device='mps:0', grad_fn=<SumBackward0>)\n",
      "(0, 2, 1) tensor(-0.0031, device='mps:0', grad_fn=<SumBackward0>)\n",
      "(2, 0, 1) tensor(-0.0031, device='mps:0', grad_fn=<SumBackward0>)\n",
      "batch_size 1\n"
     ]
    },
    {
     "name": "stderr",
     "output_type": "stream",
     "text": [
      "Processing rows:  69%|██████▊   | 687/1000 [00:51<00:24, 12.93it/s]"
     ]
    },
    {
     "name": "stdout",
     "output_type": "stream",
     "text": [
      "(0, 1, 2) tensor(0., device='mps:0')\n",
      "(0, 2, 1) tensor(0., device='mps:0')\n",
      "(2, 0, 1) tensor(0., device='mps:0')\n",
      "batch_size 1\n",
      "(0, 1, 2) tensor(-0.9966, device='mps:0', grad_fn=<SumBackward0>)\n",
      "(0, 2, 1) tensor(0.0034, device='mps:0', grad_fn=<SumBackward0>)\n",
      "(2, 1, 0) tensor(-1.9966, device='mps:0', grad_fn=<SumBackward0>)\n",
      "batch_size 1\n",
      "(0, 1, 2) tensor(-0.2500, device='mps:0')\n",
      "(0, 2, 1) tensor(0.7500, device='mps:0')\n",
      "(2, 1, 0) tensor(-1.2500, device='mps:0')\n",
      "batch_size 1\n",
      "(2, 1, 0) tensor(0.0001, device='mps:0', grad_fn=<SumBackward0>)\n",
      "batch_size 1\n",
      "(2, 1, 0) tensor(0., device='mps:0')\n",
      "batch_size 1\n"
     ]
    },
    {
     "name": "stderr",
     "output_type": "stream",
     "text": [
      "Processing rows:  69%|██████▉   | 689/1000 [00:51<00:25, 12.23it/s]"
     ]
    },
    {
     "name": "stdout",
     "output_type": "stream",
     "text": [
      "(1, 0, 2) tensor(0.0017, device='mps:0', grad_fn=<SumBackward0>)\n",
      "(1, 2, 0) tensor(-0.9983, device='mps:0', grad_fn=<SumBackward0>)\n",
      "(2, 1, 0) tensor(-1.9983, device='mps:0', grad_fn=<SumBackward0>)\n",
      "batch_size 1\n",
      "(1, 0, 2) tensor(0.7500, device='mps:0')\n",
      "(1, 2, 0) tensor(-0.2500, device='mps:0')\n",
      "(2, 1, 0) tensor(-1.2500, device='mps:0')\n",
      "batch_size 1\n",
      "(2, 0, 1) tensor(0.0112, device='mps:0', grad_fn=<SumBackward0>)\n",
      "(2, 1, 0) tensor(0.0112, device='mps:0', grad_fn=<SumBackward0>)\n",
      "batch_size 1\n",
      "(2, 0, 1) tensor(0., device='mps:0')\n",
      "(2, 1, 0) tensor(0., device='mps:0')\n",
      "batch_size 1\n",
      "(2, 0, 1) tensor(0.0367, device='mps:0', grad_fn=<SumBackward0>)\n"
     ]
    },
    {
     "name": "stderr",
     "output_type": "stream",
     "text": [
      "Processing rows:  69%|██████▉   | 691/1000 [00:51<00:24, 12.38it/s]"
     ]
    },
    {
     "name": "stdout",
     "output_type": "stream",
     "text": [
      "batch_size 1\n",
      "(2, 0, 1) tensor(0., device='mps:0')\n",
      "batch_size 1\n",
      "(0, 1, 2) tensor(-1.9227, device='mps:0', grad_fn=<SumBackward0>)\n",
      "(1, 2, 0) tensor(0.0773, device='mps:0', grad_fn=<SumBackward0>)\n",
      "batch_size 1\n",
      "(0, 1, 2) tensor(-1., device='mps:0')\n",
      "(1, 2, 0) tensor(1., device='mps:0')\n",
      "batch_size 1\n",
      "(1, 0, 2) tensor(-0.8254, device='mps:0', grad_fn=<SumBackward0>)\n",
      "(2, 1, 0) tensor(0.1746, device='mps:0', grad_fn=<SumBackward0>)\n",
      "batch_size 1\n",
      "(1, 0, 2) tensor(-0.5000, device='mps:0')\n",
      "(2, 1, 0) tensor(0.5000, device='mps:0')\n",
      "batch_size 1\n"
     ]
    },
    {
     "name": "stderr",
     "output_type": "stream",
     "text": [
      "Processing rows:  69%|██████▉   | 693/1000 [00:51<00:24, 12.50it/s]"
     ]
    },
    {
     "name": "stdout",
     "output_type": "stream",
     "text": [
      "(0, 1, 2) tensor(-0.0046, device='mps:0', grad_fn=<SumBackward0>)\n",
      "(1, 0, 2) tensor(-0.0046, device='mps:0', grad_fn=<SumBackward0>)\n",
      "batch_size 1\n",
      "(0, 1, 2) tensor(0., device='mps:0')\n",
      "(1, 0, 2) tensor(0., device='mps:0')\n",
      "batch_size 1\n",
      "(0, 1, 2) tensor(0.0102, device='mps:0', grad_fn=<SumBackward0>)\n",
      "batch_size 1\n",
      "(0, 1, 2) tensor(0., device='mps:0')\n",
      "batch_size 1\n",
      "(0, 1, 2) tensor(-0.0047, device='mps:0', grad_fn=<SumBackward0>)\n",
      "(1, 0, 2) tensor(-1.0047, device='mps:0', grad_fn=<SumBackward0>)\n",
      "(2, 0, 1) tensor(-1.0047, device='mps:0', grad_fn=<SumBackward0>)\n",
      "batch_size 1\n",
      "(0, 1, 2) tensor(0.5000, device='mps:0')\n",
      "(1, 0, 2) tensor(-0.5000, device='mps:0')\n"
     ]
    },
    {
     "name": "stderr",
     "output_type": "stream",
     "text": [
      "Processing rows:  70%|██████▉   | 697/1000 [00:51<00:24, 12.51it/s]"
     ]
    },
    {
     "name": "stdout",
     "output_type": "stream",
     "text": [
      "(2, 0, 1) tensor(-0.5000, device='mps:0')\n",
      "batch_size 1\n",
      "(2, 0, 1) tensor(0.0004, device='mps:0', grad_fn=<SumBackward0>)\n",
      "batch_size 1\n",
      "(2, 0, 1) tensor(0., device='mps:0')\n",
      "batch_size 1\n",
      "(0, 1, 2) tensor(-1.9586, device='mps:0', grad_fn=<SumBackward0>)\n",
      "(0, 2, 1) tensor(-1.9586, device='mps:0', grad_fn=<SumBackward0>)\n",
      "(1, 2, 0) tensor(-0.9586, device='mps:0', grad_fn=<SumBackward0>)\n",
      "batch_size 1\n",
      "(0, 1, 2) tensor(-0.5000, device='mps:0')\n",
      "(0, 2, 1) tensor(-0.5000, device='mps:0')\n",
      "(1, 2, 0) tensor(0.5000, device='mps:0')\n",
      "batch_size 1\n",
      "(0, 1, 2) tensor(-0.0788, device='mps:0', grad_fn=<SumBackward0>)\n"
     ]
    },
    {
     "name": "stderr",
     "output_type": "stream",
     "text": [
      "Processing rows:  70%|██████▉   | 699/1000 [00:52<00:24, 12.51it/s]"
     ]
    },
    {
     "name": "stdout",
     "output_type": "stream",
     "text": [
      "(1, 0, 2) tensor(-0.0788, device='mps:0', grad_fn=<SumBackward0>)\n",
      "(1, 2, 0) tensor(-0.0788, device='mps:0', grad_fn=<SumBackward0>)\n",
      "batch_size 1\n",
      "(0, 1, 2) tensor(0., device='mps:0')\n",
      "(1, 0, 2) tensor(0., device='mps:0')\n",
      "(1, 2, 0) tensor(0., device='mps:0')\n",
      "batch_size 1\n",
      "(2, 0, 1) tensor(0.0068, device='mps:0', grad_fn=<SumBackward0>)\n",
      "batch_size 1\n",
      "(2, 0, 1) tensor(0., device='mps:0')\n",
      "batch_size 1\n",
      "(0, 2, 1) tensor(0.0111, device='mps:0', grad_fn=<SumBackward0>)\n",
      "batch_size 1\n",
      "(0, 2, 1) tensor(0., device='mps:0')\n",
      "batch_size 1\n"
     ]
    },
    {
     "name": "stderr",
     "output_type": "stream",
     "text": [
      "Processing rows:  70%|███████   | 703/1000 [00:52<00:20, 14.36it/s]"
     ]
    },
    {
     "name": "stdout",
     "output_type": "stream",
     "text": [
      "(0, 1, 2) tensor(-0.1566, device='mps:0', grad_fn=<SumBackward0>)\n",
      "(0, 2, 1) tensor(0.8434, device='mps:0', grad_fn=<SumBackward0>)\n",
      "batch_size 1\n",
      "(0, 1, 2) tensor(-0.5000, device='mps:0')\n",
      "(0, 2, 1) tensor(0.5000, device='mps:0')\n",
      "batch_size 1\n",
      "(2, 0, 1) tensor(0.0389, device='mps:0', grad_fn=<SumBackward0>)\n",
      "batch_size 1\n",
      "(2, 0, 1) tensor(0., device='mps:0')\n",
      "batch_size 1\n",
      "(0, 1, 2) tensor(1.1629, device='mps:0', grad_fn=<SumBackward0>)\n",
      "batch_size 1\n",
      "(0, 1, 2) tensor(0., device='mps:0')\n",
      "batch_size 1\n",
      "(0, 1, 2) tensor(0.0043, device='mps:0', grad_fn=<SumBackward0>)\n",
      "(0, 2, 1) tensor(0.0043, device='mps:0', grad_fn=<SumBackward0>)\n"
     ]
    },
    {
     "name": "stderr",
     "output_type": "stream",
     "text": [
      "Processing rows:  70%|███████   | 705/1000 [00:52<00:20, 14.74it/s]"
     ]
    },
    {
     "name": "stdout",
     "output_type": "stream",
     "text": [
      "batch_size 1\n",
      "(0, 1, 2) tensor(0., device='mps:0')\n",
      "(0, 2, 1) tensor(0., device='mps:0')\n",
      "batch_size 1\n",
      "(0, 1, 2) tensor(0.0014, device='mps:0', grad_fn=<SumBackward0>)\n",
      "batch_size 1\n",
      "(0, 1, 2) tensor(0., device='mps:0')\n",
      "batch_size 1\n",
      "(0, 1, 2) tensor(-0.0077, device='mps:0', grad_fn=<SumBackward0>)\n",
      "(0, 2, 1) tensor(-0.0077, device='mps:0', grad_fn=<SumBackward0>)\n",
      "(1, 2, 0) tensor(-1.0077, device='mps:0', grad_fn=<SumBackward0>)\n",
      "batch_size 1\n",
      "(0, 1, 2) tensor(0.2500, device='mps:0')\n",
      "(0, 2, 1) tensor(0.2500, device='mps:0')\n",
      "(1, 2, 0) tensor(-0.7500, device='mps:0')\n"
     ]
    },
    {
     "name": "stderr",
     "output_type": "stream",
     "text": [
      "Processing rows:  71%|███████   | 709/1000 [00:52<00:20, 14.35it/s]"
     ]
    },
    {
     "name": "stdout",
     "output_type": "stream",
     "text": [
      "batch_size 1\n",
      "(0, 1, 2) tensor(-0.0010, device='mps:0', grad_fn=<SumBackward0>)\n",
      "batch_size 1\n",
      "(0, 1, 2) tensor(0., device='mps:0')\n",
      "batch_size 1\n",
      "(1, 0, 2) tensor(0.0056, device='mps:0', grad_fn=<SumBackward0>)\n",
      "batch_size 1\n",
      "(1, 0, 2) tensor(0., device='mps:0')\n",
      "batch_size 1\n",
      "(0, 2, 1) tensor(-0.1954, device='mps:0', grad_fn=<SumBackward0>)\n",
      "(1, 2, 0) tensor(-0.1954, device='mps:0', grad_fn=<SumBackward0>)\n",
      "batch_size 1\n",
      "(0, 2, 1) tensor(0., device='mps:0')\n",
      "(1, 2, 0) tensor(0., device='mps:0')\n",
      "batch_size 1\n",
      "(0, 1, 2) "
     ]
    },
    {
     "name": "stderr",
     "output_type": "stream",
     "text": [
      "Processing rows:  71%|███████   | 711/1000 [00:52<00:20, 13.82it/s]"
     ]
    },
    {
     "name": "stdout",
     "output_type": "stream",
     "text": [
      "tensor(0.0063, device='mps:0', grad_fn=<SumBackward0>)\n",
      "(0, 2, 1) tensor(-0.9937, device='mps:0', grad_fn=<SumBackward0>)\n",
      "(1, 0, 2) tensor(0.0063, device='mps:0', grad_fn=<SumBackward0>)\n",
      "batch_size 1\n",
      "(0, 1, 2) tensor(0.2500, device='mps:0')\n",
      "(0, 2, 1) tensor(-0.7500, device='mps:0')\n",
      "(1, 0, 2) tensor(0.2500, device='mps:0')\n",
      "batch_size 1\n",
      "(2, 1, 0) tensor(0.0022, device='mps:0', grad_fn=<SumBackward0>)\n",
      "batch_size 1\n",
      "(2, 1, 0) tensor(0., device='mps:0')\n",
      "batch_size 1\n",
      "(0, 2, 1) tensor(-0.5272, device='mps:0', grad_fn=<SumBackward0>)\n",
      "(1, 2, 0) tensor(-0.5272, device='mps:0', grad_fn=<SumBackward0>)\n",
      "batch_size 1\n",
      "(0, 2, 1) tensor(0., device='mps:0')\n"
     ]
    },
    {
     "name": "stderr",
     "output_type": "stream",
     "text": [
      "Processing rows:  71%|███████▏  | 713/1000 [00:53<00:22, 12.83it/s]"
     ]
    },
    {
     "name": "stdout",
     "output_type": "stream",
     "text": [
      "(1, 2, 0) tensor(0., device='mps:0')\n",
      "batch_size 1\n",
      "(0, 1, 2) tensor(0.0018, device='mps:0', grad_fn=<SumBackward0>)\n",
      "(2, 0, 1) tensor(-0.9982, device='mps:0', grad_fn=<SumBackward0>)\n",
      "(2, 1, 0) tensor(-0.9982, device='mps:0', grad_fn=<SumBackward0>)\n",
      "batch_size 1\n",
      "(0, 1, 2) tensor(0.5000, device='mps:0')\n",
      "(2, 0, 1) tensor(-0.5000, device='mps:0')\n",
      "(2, 1, 0) tensor(-0.5000, device='mps:0')\n",
      "batch_size 1\n",
      "(0, 2, 1) tensor(0.0100, device='mps:0', grad_fn=<SumBackward0>)\n",
      "(1, 2, 0) tensor(0.0100, device='mps:0', grad_fn=<SumBackward0>)\n",
      "(2, 1, 0) tensor(0.0100, device='mps:0', grad_fn=<SumBackward0>)\n",
      "batch_size 1\n",
      "(0, 2, 1) tensor(0., device='mps:0')\n",
      "(1, 2, 0) tensor(0., device='mps:0')\n"
     ]
    },
    {
     "name": "stderr",
     "output_type": "stream",
     "text": [
      "Processing rows:  72%|███████▏  | 717/1000 [00:53<00:20, 13.94it/s]"
     ]
    },
    {
     "name": "stdout",
     "output_type": "stream",
     "text": [
      "(2, 1, 0) tensor(0., device='mps:0')\n",
      "batch_size 1\n",
      "(0, 1, 2) tensor(-0.0014, device='mps:0', grad_fn=<SumBackward0>)\n",
      "batch_size 1\n",
      "(0, 1, 2) tensor(0., device='mps:0')\n",
      "batch_size 1\n",
      "(0, 1, 2) tensor(0.0040, device='mps:0', grad_fn=<SumBackward0>)\n",
      "batch_size 1\n",
      "(0, 1, 2) tensor(0., device='mps:0')\n",
      "batch_size 1\n",
      "(0, 2, 1) tensor(-0.0020, device='mps:0', grad_fn=<SumBackward0>)\n",
      "batch_size 1\n",
      "(0, 2, 1) tensor(0., device='mps:0')\n",
      "batch_size 1\n",
      "(0, 2, 1) tensor(0.0491, device='mps:0', grad_fn=<SumBackward0>)\n"
     ]
    },
    {
     "name": "stderr",
     "output_type": "stream",
     "text": [
      "Processing rows:  72%|███████▏  | 719/1000 [00:53<00:19, 14.22it/s]"
     ]
    },
    {
     "name": "stdout",
     "output_type": "stream",
     "text": [
      "(1, 2, 0) tensor(-0.9509, device='mps:0', grad_fn=<SumBackward0>)\n",
      "batch_size 1\n",
      "(0, 2, 1) tensor(0.5000, device='mps:0')\n",
      "(1, 2, 0) tensor(-0.5000, device='mps:0')\n",
      "batch_size 1\n",
      "(1, 2, 0) tensor(0.0014, device='mps:0', grad_fn=<SumBackward0>)\n",
      "batch_size 1\n",
      "(1, 2, 0) tensor(0., device='mps:0')\n",
      "batch_size 1\n",
      "(1, 2, 0) tensor(0.0009, device='mps:0', grad_fn=<SumBackward0>)\n",
      "(2, 0, 1) tensor(-0.9991, device='mps:0', grad_fn=<SumBackward0>)\n",
      "batch_size 1\n",
      "(1, 2, 0) tensor(0.5000, device='mps:0')\n",
      "(2, 0, 1) tensor(-0.5000, device='mps:0')\n",
      "batch_size 1\n",
      "(1, 0, 2) tensor(0.0017, device='mps:0', grad_fn=<SumBackward0>)\n"
     ]
    },
    {
     "name": "stderr",
     "output_type": "stream",
     "text": [
      "Processing rows:  72%|███████▏  | 723/1000 [00:53<00:17, 15.56it/s]"
     ]
    },
    {
     "name": "stdout",
     "output_type": "stream",
     "text": [
      "batch_size 1\n",
      "(1, 0, 2) tensor(0., device='mps:0')\n",
      "batch_size 1\n",
      "(2, 1, 0) tensor(0.0231, device='mps:0', grad_fn=<SumBackward0>)\n",
      "batch_size 1\n",
      "(2, 1, 0) tensor(0., device='mps:0')\n",
      "batch_size 1\n",
      "(0, 1, 2) tensor(0.0018, device='mps:0', grad_fn=<SumBackward0>)\n",
      "batch_size 1\n",
      "(0, 1, 2) tensor(0., device='mps:0')\n",
      "batch_size 1\n",
      "(0, 2, 1) tensor(-0.7232, device='mps:0', grad_fn=<SumBackward0>)\n",
      "(2, 0, 1) tensor(-1.7232, device='mps:0', grad_fn=<SumBackward0>)\n",
      "(2, 1, 0) tensor(-1.7232, device='mps:0', grad_fn=<SumBackward0>)\n"
     ]
    },
    {
     "name": "stderr",
     "output_type": "stream",
     "text": [
      "Processing rows:  72%|███████▎  | 725/1000 [00:53<00:19, 13.79it/s]"
     ]
    },
    {
     "name": "stdout",
     "output_type": "stream",
     "text": [
      "batch_size 1\n",
      "(0, 2, 1) tensor(0.5000, device='mps:0')\n",
      "(2, 0, 1) tensor(-0.5000, device='mps:0')\n",
      "(2, 1, 0) tensor(-0.5000, device='mps:0')\n",
      "batch_size 1\n",
      "(0, 1, 2) tensor(0.0270, device='mps:0', grad_fn=<SumBackward0>)\n",
      "batch_size 1\n",
      "(0, 1, 2) tensor(0., device='mps:0')\n",
      "batch_size 1\n",
      "(0, 2, 1) tensor(0.0002, device='mps:0', grad_fn=<SumBackward0>)\n",
      "batch_size 1\n",
      "(0, 2, 1) tensor(0., device='mps:0')\n",
      "batch_size 1\n",
      "(1, 2, 0) tensor(-0.9976, device='mps:0', grad_fn=<SumBackward0>)\n",
      "batch_size 1\n"
     ]
    },
    {
     "name": "stderr",
     "output_type": "stream",
     "text": [
      "Processing rows:  73%|███████▎  | 729/1000 [00:54<00:17, 15.22it/s]"
     ]
    },
    {
     "name": "stdout",
     "output_type": "stream",
     "text": [
      "(1, 2, 0) tensor(0., device='mps:0')\n",
      "batch_size 1\n",
      "(1, 0, 2) tensor(0.0008, device='mps:0', grad_fn=<SumBackward0>)\n",
      "batch_size 1\n",
      "(1, 0, 2) tensor(0., device='mps:0')\n",
      "batch_size 1\n",
      "(0, 1, 2) tensor(-0.0096, device='mps:0', grad_fn=<SumBackward0>)\n",
      "(2, 1, 0) tensor(-0.0096, device='mps:0', grad_fn=<SumBackward0>)\n",
      "batch_size 1\n",
      "(0, 1, 2) tensor(0., device='mps:0')\n",
      "(2, 1, 0) tensor(0., device='mps:0')\n",
      "batch_size 1\n",
      "(0, 1, 2) tensor(-0.0010, device='mps:0', grad_fn=<SumBackward0>)\n",
      "(1, 2, 0) tensor(-1.0010, device='mps:0', grad_fn=<SumBackward0>)\n",
      "(2, 1, 0) tensor(-0.0010, device='mps:0', grad_fn=<SumBackward0>)\n",
      "batch_size 1\n"
     ]
    },
    {
     "name": "stderr",
     "output_type": "stream",
     "text": [
      "Processing rows:  73%|███████▎  | 733/1000 [00:54<00:17, 15.45it/s]"
     ]
    },
    {
     "name": "stdout",
     "output_type": "stream",
     "text": [
      "(0, 1, 2) tensor(0.2500, device='mps:0')\n",
      "(1, 2, 0) tensor(-0.7500, device='mps:0')\n",
      "(2, 1, 0) tensor(0.2500, device='mps:0')\n",
      "batch_size 1\n",
      "(0, 2, 1) tensor(0.0011, device='mps:0', grad_fn=<SumBackward0>)\n",
      "batch_size 1\n",
      "(0, 2, 1) tensor(0., device='mps:0')\n",
      "batch_size 1\n",
      "(2, 1, 0) tensor(0.0012, device='mps:0', grad_fn=<SumBackward0>)\n",
      "batch_size 1\n",
      "(2, 1, 0) tensor(0., device='mps:0')\n",
      "batch_size 1\n",
      "(0, 1, 2) tensor(0.0216, device='mps:0', grad_fn=<SumBackward0>)\n",
      "batch_size 1\n",
      "(0, 1, 2) tensor(0., device='mps:0')\n",
      "batch_size 1\n"
     ]
    },
    {
     "name": "stderr",
     "output_type": "stream",
     "text": [
      "Processing rows:  74%|███████▎  | 735/1000 [00:54<00:17, 15.31it/s]"
     ]
    },
    {
     "name": "stdout",
     "output_type": "stream",
     "text": [
      "(0, 2, 1) tensor(-1.6672, device='mps:0', grad_fn=<SumBackward0>)\n",
      "(2, 0, 1) tensor(-1.6672, device='mps:0', grad_fn=<SumBackward0>)\n",
      "batch_size 1\n",
      "(0, 2, 1) tensor(0., device='mps:0')\n",
      "(2, 0, 1) tensor(0., device='mps:0')\n",
      "batch_size 1\n",
      "(0, 1, 2) tensor(0.0183, device='mps:0', grad_fn=<SumBackward0>)\n",
      "batch_size 1\n",
      "(0, 1, 2) tensor(0., device='mps:0')\n",
      "batch_size 1\n",
      "(0, 1, 2) tensor(0.0038, device='mps:0', grad_fn=<SumBackward0>)\n",
      "(1, 0, 2) tensor(0.0038, device='mps:0', grad_fn=<SumBackward0>)\n",
      "(2, 0, 1) tensor(0.0038, device='mps:0', grad_fn=<SumBackward0>)\n",
      "batch_size 1\n",
      "(0, 1, 2) tensor(0., device='mps:0')\n",
      "(1, 0, 2) tensor(0., device='mps:0')\n"
     ]
    },
    {
     "name": "stderr",
     "output_type": "stream",
     "text": [
      "Processing rows:  74%|███████▎  | 737/1000 [00:54<00:18, 14.36it/s]"
     ]
    },
    {
     "name": "stdout",
     "output_type": "stream",
     "text": [
      "(2, 0, 1) tensor(0., device='mps:0')\n",
      "batch_size 1\n",
      "(2, 0, 1) tensor(0.0034, device='mps:0', grad_fn=<SumBackward0>)\n",
      "batch_size 1\n",
      "(2, 0, 1) tensor(0., device='mps:0')\n",
      "batch_size 1\n",
      "(0, 1, 2) tensor(-0.0865, device='mps:0', grad_fn=<SumBackward0>)\n",
      "(1, 0, 2) tensor(-0.0865, device='mps:0', grad_fn=<SumBackward0>)\n",
      "batch_size 1\n",
      "(0, 1, 2) tensor(0., device='mps:0')\n",
      "(1, 0, 2) tensor(0., device='mps:0')\n",
      "batch_size 1\n",
      "(2, 1, 0) tensor(0.2040, device='mps:0', grad_fn=<SumBackward0>)\n",
      "batch_size 1\n",
      "(2, 1, 0) tensor(0., device='mps:0')\n"
     ]
    },
    {
     "name": "stderr",
     "output_type": "stream",
     "text": [
      "Processing rows:  74%|███████▍  | 741/1000 [00:54<00:16, 15.69it/s]"
     ]
    },
    {
     "name": "stdout",
     "output_type": "stream",
     "text": [
      "batch_size 1\n",
      "(1, 2, 0) tensor(0.0015, device='mps:0', grad_fn=<SumBackward0>)\n",
      "batch_size 1\n",
      "(1, 2, 0) tensor(0., device='mps:0')\n",
      "batch_size 1\n",
      "(1, 2, 0) tensor(0.0006, device='mps:0', grad_fn=<SumBackward0>)\n",
      "batch_size 1\n",
      "(1, 2, 0) tensor(0., device='mps:0')\n",
      "batch_size 1\n",
      "(0, 1, 2) tensor(-0.9972, device='mps:0', grad_fn=<SumBackward0>)\n",
      "batch_size 1\n",
      "(0, 1, 2) tensor(0., device='mps:0')\n",
      "batch_size 1\n",
      "(1, 0, 2) tensor(-1.3675, device='mps:0', grad_fn=<SumBackward0>)\n",
      "(1, 2, 0) tensor(-1.3675, device='mps:0', grad_fn=<SumBackward0>)\n",
      "batch_size 1\n"
     ]
    },
    {
     "name": "stderr",
     "output_type": "stream",
     "text": [
      "Processing rows:  74%|███████▍  | 743/1000 [00:55<00:16, 15.43it/s]"
     ]
    },
    {
     "name": "stdout",
     "output_type": "stream",
     "text": [
      "(1, 0, 2) tensor(0., device='mps:0')\n",
      "(1, 2, 0) tensor(0., device='mps:0')\n",
      "batch_size 1\n",
      "(0, 1, 2) tensor(-1.0926, device='mps:0', grad_fn=<SumBackward0>)\n",
      "(1, 0, 2) tensor(-0.0926, device='mps:0', grad_fn=<SumBackward0>)\n",
      "(1, 2, 0) tensor(0.9074, device='mps:0', grad_fn=<SumBackward0>)\n",
      "batch_size 1\n",
      "(0, 1, 2) tensor(-1.2500, device='mps:0')\n",
      "(1, 0, 2) tensor(-0.2500, device='mps:0')\n",
      "(1, 2, 0) tensor(0.7500, device='mps:0')\n",
      "batch_size 1\n",
      "(0, 2, 1) tensor(-0.0508, device='mps:0', grad_fn=<SumBackward0>)\n",
      "(1, 2, 0) tensor(-0.0508, device='mps:0', grad_fn=<SumBackward0>)\n",
      "batch_size 1\n",
      "(0, 2, 1) tensor(0., device='mps:0')\n",
      "(1, 2, 0) tensor(0., device='mps:0')\n"
     ]
    },
    {
     "name": "stderr",
     "output_type": "stream",
     "text": [
      "Processing rows:  75%|███████▍  | 747/1000 [00:55<00:17, 14.11it/s]"
     ]
    },
    {
     "name": "stdout",
     "output_type": "stream",
     "text": [
      "batch_size 1\n",
      "(0, 2, 1) tensor(0.0091, device='mps:0', grad_fn=<SumBackward0>)\n",
      "batch_size 1\n",
      "(0, 2, 1) tensor(0., device='mps:0')\n",
      "batch_size 1\n",
      "(1, 0, 2) tensor(0.0003, device='mps:0', grad_fn=<SumBackward0>)\n",
      "(1, 2, 0) tensor(-0.9997, device='mps:0', grad_fn=<SumBackward0>)\n",
      "batch_size 1\n",
      "(1, 0, 2) tensor(0.5000, device='mps:0')\n",
      "(1, 2, 0) tensor(-0.5000, device='mps:0')\n",
      "batch_size 1\n",
      "(0, 1, 2) tensor(0.4036, device='mps:0', grad_fn=<SumBackward0>)\n",
      "batch_size 1\n",
      "(0, 1, 2) tensor(0., device='mps:0')\n",
      "batch_size 1\n"
     ]
    },
    {
     "name": "stderr",
     "output_type": "stream",
     "text": [
      "Processing rows:  75%|███████▌  | 751/1000 [00:55<00:15, 15.79it/s]"
     ]
    },
    {
     "name": "stdout",
     "output_type": "stream",
     "text": [
      "(1, 2, 0) tensor(4.6609e-05, device='mps:0', grad_fn=<SumBackward0>)\n",
      "batch_size 1\n",
      "(1, 2, 0) tensor(0., device='mps:0')\n",
      "batch_size 1\n",
      "(1, 0, 2) tensor(0.0015, device='mps:0', grad_fn=<SumBackward0>)\n",
      "batch_size 1\n",
      "(1, 0, 2) tensor(0., device='mps:0')\n",
      "batch_size 1\n",
      "(1, 0, 2) tensor(0.0003, device='mps:0', grad_fn=<SumBackward0>)\n",
      "batch_size 1\n",
      "(1, 0, 2) tensor(0., device='mps:0')\n",
      "batch_size 1\n",
      "(0, 1, 2) tensor(0.0451, device='mps:0', grad_fn=<SumBackward0>)\n",
      "(1, 0, 2) tensor(-0.9549, device='mps:0', grad_fn=<SumBackward0>)\n",
      "(2, 0, 1) tensor(-0.9549, device='mps:0', grad_fn=<SumBackward0>)\n",
      "batch_size 1\n"
     ]
    },
    {
     "name": "stderr",
     "output_type": "stream",
     "text": [
      "Processing rows:  75%|███████▌  | 753/1000 [00:55<00:16, 14.84it/s]"
     ]
    },
    {
     "name": "stdout",
     "output_type": "stream",
     "text": [
      "(0, 1, 2) tensor(0.5000, device='mps:0')\n",
      "(1, 0, 2) tensor(-0.5000, device='mps:0')\n",
      "(2, 0, 1) tensor(-0.5000, device='mps:0')\n",
      "batch_size 1\n",
      "(0, 1, 2) tensor(0.0026, device='mps:0', grad_fn=<SumBackward0>)\n",
      "batch_size 1\n",
      "(0, 1, 2) tensor(0., device='mps:0')\n",
      "batch_size 1\n",
      "(0, 1, 2) tensor(-0.9961, device='mps:0', grad_fn=<SumBackward0>)\n",
      "(1, 0, 2) tensor(0.0039, device='mps:0', grad_fn=<SumBackward0>)\n",
      "batch_size 1\n",
      "(0, 1, 2) tensor(-0.5000, device='mps:0')\n",
      "(1, 0, 2) tensor(0.5000, device='mps:0')\n",
      "batch_size 1\n",
      "(0, 1, 2) tensor(-0.0048, device='mps:0', grad_fn=<SumBackward0>)\n",
      "(2, 0, 1) tensor(-0.0048, device='mps:0', grad_fn=<SumBackward0>)\n"
     ]
    },
    {
     "name": "stderr",
     "output_type": "stream",
     "text": [
      "Processing rows:  76%|███████▌  | 757/1000 [00:56<00:16, 14.83it/s]"
     ]
    },
    {
     "name": "stdout",
     "output_type": "stream",
     "text": [
      "(2, 1, 0) tensor(-0.0048, device='mps:0', grad_fn=<SumBackward0>)\n",
      "batch_size 1\n",
      "(0, 1, 2) tensor(0., device='mps:0')\n",
      "(2, 0, 1) tensor(0., device='mps:0')\n",
      "(2, 1, 0) tensor(0., device='mps:0')\n",
      "batch_size 1\n",
      "(2, 0, 1) tensor(0.0011, device='mps:0', grad_fn=<SumBackward0>)\n",
      "batch_size 1\n",
      "(2, 0, 1) tensor(0., device='mps:0')\n",
      "batch_size 1\n",
      "(2, 0, 1) tensor(0.9977, device='mps:0', grad_fn=<SumBackward0>)\n",
      "batch_size 1\n",
      "(2, 0, 1) tensor(0., device='mps:0')\n",
      "batch_size 1\n",
      "(1, 2, 0) tensor(0.0223, device='mps:0', grad_fn=<SumBackward0>)\n",
      "(2, 0, 1) tensor(-0.9777, device='mps:0', grad_fn=<SumBackward0>)\n"
     ]
    },
    {
     "name": "stderr",
     "output_type": "stream",
     "text": [
      "Processing rows:  76%|███████▌  | 759/1000 [00:56<00:16, 14.95it/s]"
     ]
    },
    {
     "name": "stdout",
     "output_type": "stream",
     "text": [
      "batch_size 1\n",
      "(1, 2, 0) tensor(0.5000, device='mps:0')\n",
      "(2, 0, 1) tensor(-0.5000, device='mps:0')\n",
      "batch_size 1\n",
      "(0, 1, 2) tensor(0.0872, device='mps:0', grad_fn=<SumBackward0>)\n",
      "batch_size 1\n",
      "(0, 1, 2) tensor(0., device='mps:0')\n",
      "batch_size 1\n",
      "(1, 2, 0) tensor(0.4473, device='mps:0', grad_fn=<SumBackward0>)\n",
      "batch_size 1\n",
      "(1, 2, 0) tensor(0., device='mps:0')\n",
      "batch_size 1\n",
      "(0, 2, 1) tensor(0.0006, device='mps:0', grad_fn=<SumBackward0>)\n",
      "batch_size 1\n",
      "(0, 2, 1) tensor(0., device='mps:0')\n"
     ]
    },
    {
     "name": "stderr",
     "output_type": "stream",
     "text": [
      "Processing rows:  76%|███████▋  | 763/1000 [00:56<00:16, 14.75it/s]"
     ]
    },
    {
     "name": "stdout",
     "output_type": "stream",
     "text": [
      "batch_size 1\n",
      "(0, 1, 2) tensor(-1.8954, device='mps:0', grad_fn=<SumBackward0>)\n",
      "(2, 1, 0) tensor(-1.8954, device='mps:0', grad_fn=<SumBackward0>)\n",
      "batch_size 1\n",
      "(0, 1, 2) tensor(0., device='mps:0')\n",
      "(2, 1, 0) tensor(0., device='mps:0')\n",
      "batch_size 1\n",
      "(0, 2, 1) tensor(-0.7705, device='mps:0', grad_fn=<SumBackward0>)\n",
      "(1, 2, 0) tensor(0.2295, device='mps:0', grad_fn=<SumBackward0>)\n",
      "batch_size 1\n",
      "(0, 2, 1) tensor(-0.5000, device='mps:0')\n",
      "(1, 2, 0) tensor(0.5000, device='mps:0')\n",
      "batch_size 1\n",
      "(2, 1, 0) tensor(0.1544, device='mps:0', grad_fn=<SumBackward0>)\n",
      "batch_size 1\n",
      "(2, 1, 0) tensor(0., device='mps:0')\n"
     ]
    },
    {
     "name": "stderr",
     "output_type": "stream",
     "text": [
      "Processing rows:  76%|███████▋  | 765/1000 [00:56<00:15, 15.07it/s]"
     ]
    },
    {
     "name": "stdout",
     "output_type": "stream",
     "text": [
      "batch_size 1\n",
      "(2, 0, 1) tensor(0.0277, device='mps:0', grad_fn=<SumBackward0>)\n",
      "batch_size 1\n",
      "(2, 0, 1) tensor(0., device='mps:0')\n",
      "batch_size 1\n",
      "(0, 1, 2) tensor(0.0273, device='mps:0', grad_fn=<SumBackward0>)\n",
      "(2, 0, 1) tensor(0.0273, device='mps:0', grad_fn=<SumBackward0>)\n",
      "(2, 1, 0) tensor(0.0273, device='mps:0', grad_fn=<SumBackward0>)\n",
      "batch_size 1\n",
      "(0, 1, 2) tensor(0., device='mps:0')\n",
      "(2, 0, 1) tensor(0., device='mps:0')\n",
      "(2, 1, 0) tensor(0., device='mps:0')\n",
      "batch_size 1\n",
      "(0, 2, 1) tensor(0.0002, device='mps:0', grad_fn=<SumBackward0>)\n"
     ]
    },
    {
     "name": "stderr",
     "output_type": "stream",
     "text": [
      "Processing rows:  77%|███████▋  | 767/1000 [00:56<00:16, 14.14it/s]"
     ]
    },
    {
     "name": "stdout",
     "output_type": "stream",
     "text": [
      "batch_size 1\n",
      "(0, 2, 1) tensor(0., device='mps:0')\n",
      "batch_size 1\n",
      "(0, 1, 2) tensor(0.2053, device='mps:0', grad_fn=<SumBackward0>)\n",
      "(0, 2, 1) tensor(0.2053, device='mps:0', grad_fn=<SumBackward0>)\n",
      "batch_size 1\n",
      "(0, 1, 2) tensor(0., device='mps:0')\n",
      "(0, 2, 1) tensor(0., device='mps:0')\n",
      "batch_size 1\n",
      "(0, 1, 2) tensor(-1.0006, device='mps:0', grad_fn=<SumBackward0>)\n",
      "(1, 0, 2) tensor(-0.0006, device='mps:0', grad_fn=<SumBackward0>)\n",
      "(2, 1, 0) tensor(-1.0006, device='mps:0', grad_fn=<SumBackward0>)\n",
      "batch_size 1\n",
      "(0, 1, 2) tensor(-0.5000, device='mps:0')\n",
      "(1, 0, 2) tensor(0.5000, device='mps:0')\n",
      "(2, 1, 0) tensor(-0.5000, device='mps:0')\n"
     ]
    },
    {
     "name": "stderr",
     "output_type": "stream",
     "text": [
      "Processing rows:  77%|███████▋  | 771/1000 [00:57<00:17, 13.46it/s]"
     ]
    },
    {
     "name": "stdout",
     "output_type": "stream",
     "text": [
      "batch_size 1\n",
      "(2, 0, 1) tensor(0.1018, device='mps:0', grad_fn=<SumBackward0>)\n",
      "batch_size 1\n",
      "(2, 0, 1) tensor(0., device='mps:0')\n",
      "batch_size 1\n",
      "(0, 2, 1) tensor(0.0401, device='mps:0', grad_fn=<SumBackward0>)\n",
      "(2, 0, 1) tensor(-0.9599, device='mps:0', grad_fn=<SumBackward0>)\n",
      "batch_size 1\n",
      "(0, 2, 1) tensor(0.5000, device='mps:0')\n",
      "(2, 0, 1) tensor(-0.5000, device='mps:0')\n",
      "batch_size 1\n",
      "(2, 0, 1) tensor(-0.0042, device='mps:0', grad_fn=<SumBackward0>)\n",
      "(2, 1, 0) tensor(-0.0042, device='mps:0', grad_fn=<SumBackward0>)\n",
      "batch_size 1\n",
      "(2, 0, 1) tensor(0., device='mps:0')\n",
      "(2, 1, 0) tensor(0., device='mps:0')\n"
     ]
    },
    {
     "name": "stderr",
     "output_type": "stream",
     "text": [
      "Processing rows:  77%|███████▋  | 773/1000 [00:57<00:17, 12.66it/s]"
     ]
    },
    {
     "name": "stdout",
     "output_type": "stream",
     "text": [
      "batch_size 1\n",
      "(0, 2, 1) tensor(-0.9892, device='mps:0', grad_fn=<SumBackward0>)\n",
      "(1, 2, 0) tensor(-0.9892, device='mps:0', grad_fn=<SumBackward0>)\n",
      "(2, 1, 0) tensor(0.0108, device='mps:0', grad_fn=<SumBackward0>)\n",
      "batch_size 1\n",
      "(0, 2, 1) tensor(-0.5000, device='mps:0')\n",
      "(1, 2, 0) tensor(-0.5000, device='mps:0')\n",
      "(2, 1, 0) tensor(0.5000, device='mps:0')\n",
      "batch_size 1\n",
      "(0, 2, 1) tensor(-0.0228, device='mps:0', grad_fn=<SumBackward0>)\n",
      "(2, 0, 1) tensor(0.9772, device='mps:0', grad_fn=<SumBackward0>)\n",
      "batch_size 1\n",
      "(0, 2, 1) tensor(-0.5000, device='mps:0')\n",
      "(2, 0, 1) tensor(0.5000, device='mps:0')\n",
      "batch_size 1\n",
      "(1, 0, 2) "
     ]
    },
    {
     "name": "stderr",
     "output_type": "stream",
     "text": [
      "Processing rows:  78%|███████▊  | 777/1000 [00:57<00:16, 13.25it/s]"
     ]
    },
    {
     "name": "stdout",
     "output_type": "stream",
     "text": [
      "tensor(0.0031, device='mps:0', grad_fn=<SumBackward0>)\n",
      "batch_size 1\n",
      "(1, 0, 2) tensor(0., device='mps:0')\n",
      "batch_size 1\n",
      "(2, 0, 1) tensor(0.0032, device='mps:0', grad_fn=<SumBackward0>)\n",
      "batch_size 1\n",
      "(2, 0, 1) tensor(0., device='mps:0')\n",
      "batch_size 1\n",
      "(0, 2, 1) tensor(-1.0057, device='mps:0', grad_fn=<SumBackward0>)\n",
      "(1, 2, 0) tensor(-1.0057, device='mps:0', grad_fn=<SumBackward0>)\n",
      "(2, 0, 1) tensor(-0.0057, device='mps:0', grad_fn=<SumBackward0>)\n",
      "batch_size 1\n",
      "(0, 2, 1) tensor(-0.5000, device='mps:0')\n",
      "(1, 2, 0) tensor(-0.5000, device='mps:0')\n",
      "(2, 0, 1) tensor(0.5000, device='mps:0')\n",
      "batch_size 1\n"
     ]
    },
    {
     "name": "stderr",
     "output_type": "stream",
     "text": [
      "Processing rows:  78%|███████▊  | 779/1000 [00:57<00:15, 13.86it/s]"
     ]
    },
    {
     "name": "stdout",
     "output_type": "stream",
     "text": [
      "(0, 1, 2) tensor(-0.9955, device='mps:0', grad_fn=<SumBackward0>)\n",
      "(0, 2, 1) tensor(0.0045, device='mps:0', grad_fn=<SumBackward0>)\n",
      "batch_size 1\n",
      "(0, 1, 2) tensor(-0.5000, device='mps:0')\n",
      "(0, 2, 1) tensor(0.5000, device='mps:0')\n",
      "batch_size 1\n",
      "(1, 2, 0) tensor(0.0139, device='mps:0', grad_fn=<SumBackward0>)\n",
      "batch_size 1\n",
      "(1, 2, 0) tensor(0., device='mps:0')\n",
      "batch_size 1\n",
      "(0, 2, 1) tensor(-1.0000, device='mps:0', grad_fn=<SumBackward0>)\n",
      "(2, 0, 1) tensor(-2.0000, device='mps:0', grad_fn=<SumBackward0>)\n",
      "(2, 1, 0) tensor(-2.0000, device='mps:0', grad_fn=<SumBackward0>)\n",
      "batch_size 1\n",
      "(0, 2, 1) tensor(0.5000, device='mps:0')\n",
      "(2, 0, 1) tensor(-0.5000, device='mps:0')\n"
     ]
    },
    {
     "name": "stderr",
     "output_type": "stream",
     "text": [
      "Processing rows:  78%|███████▊  | 781/1000 [00:57<00:16, 13.28it/s]"
     ]
    },
    {
     "name": "stdout",
     "output_type": "stream",
     "text": [
      "(2, 1, 0) tensor(-0.5000, device='mps:0')\n",
      "batch_size 1\n",
      "(0, 2, 1) tensor(0.0497, device='mps:0', grad_fn=<SumBackward0>)\n",
      "batch_size 1\n",
      "(0, 2, 1) tensor(0., device='mps:0')\n",
      "batch_size 1\n",
      "(0, 2, 1) tensor(0.0009, device='mps:0', grad_fn=<SumBackward0>)\n",
      "(1, 0, 2) tensor(0.0009, device='mps:0', grad_fn=<SumBackward0>)\n",
      "(1, 2, 0) tensor(0.0009, device='mps:0', grad_fn=<SumBackward0>)\n",
      "batch_size 1\n",
      "(0, 2, 1) tensor(0., device='mps:0')\n",
      "(1, 0, 2) tensor(0., device='mps:0')\n",
      "(1, 2, 0) tensor(0., device='mps:0')\n",
      "batch_size 1\n",
      "(0, 1, 2) tensor(-0.0304, device='mps:0', grad_fn=<SumBackward0>)\n"
     ]
    },
    {
     "name": "stderr",
     "output_type": "stream",
     "text": [
      "Processing rows:  78%|███████▊  | 783/1000 [00:58<00:17, 12.08it/s]"
     ]
    },
    {
     "name": "stdout",
     "output_type": "stream",
     "text": [
      "(1, 0, 2) tensor(-0.0304, device='mps:0', grad_fn=<SumBackward0>)\n",
      "(1, 2, 0) tensor(-0.0304, device='mps:0', grad_fn=<SumBackward0>)\n",
      "batch_size 1\n",
      "(0, 1, 2) tensor(0., device='mps:0')\n",
      "(1, 0, 2) tensor(0., device='mps:0')\n",
      "(1, 2, 0) tensor(0., device='mps:0')\n",
      "batch_size 1\n",
      "(0, 2, 1) tensor(-0.1360, device='mps:0', grad_fn=<SumBackward0>)\n",
      "(1, 0, 2) tensor(1.8640, device='mps:0', grad_fn=<SumBackward0>)\n",
      "batch_size 1\n",
      "(0, 2, 1) tensor(-1., device='mps:0')\n",
      "(1, 0, 2) tensor(1., device='mps:0')\n",
      "batch_size 1\n",
      "(0, 1, 2) tensor(-0.9996, device='mps:0', grad_fn=<SumBackward0>)\n",
      "(0, 2, 1) tensor(0.0004, device='mps:0', grad_fn=<SumBackward0>)\n",
      "batch_size 1\n"
     ]
    },
    {
     "name": "stderr",
     "output_type": "stream",
     "text": [
      "Processing rows:  79%|███████▊  | 787/1000 [00:58<00:15, 13.64it/s]"
     ]
    },
    {
     "name": "stdout",
     "output_type": "stream",
     "text": [
      "(0, 1, 2) tensor(-0.5000, device='mps:0')\n",
      "(0, 2, 1) tensor(0.5000, device='mps:0')\n",
      "batch_size 1\n",
      "(2, 0, 1) tensor(0.0062, device='mps:0', grad_fn=<SumBackward0>)\n",
      "batch_size 1\n",
      "(2, 0, 1) tensor(0., device='mps:0')\n",
      "batch_size 1\n",
      "(0, 2, 1) tensor(0.0002, device='mps:0', grad_fn=<SumBackward0>)\n",
      "batch_size 1\n",
      "(0, 2, 1) tensor(0., device='mps:0')\n",
      "batch_size 1\n",
      "(2, 0, 1) tensor(-0.0041, device='mps:0', grad_fn=<SumBackward0>)\n",
      "batch_size 1\n",
      "(2, 0, 1) tensor(0., device='mps:0')\n",
      "batch_size 1\n"
     ]
    },
    {
     "name": "stderr",
     "output_type": "stream",
     "text": [
      "Processing rows:  79%|███████▉  | 791/1000 [00:58<00:14, 14.20it/s]"
     ]
    },
    {
     "name": "stdout",
     "output_type": "stream",
     "text": [
      "(2, 1, 0) tensor(0.0004, device='mps:0', grad_fn=<SumBackward0>)\n",
      "batch_size 1\n",
      "(2, 1, 0) tensor(0., device='mps:0')\n",
      "batch_size 1\n",
      "(0, 1, 2) tensor(0.0045, device='mps:0', grad_fn=<SumBackward0>)\n",
      "batch_size 1\n",
      "(0, 1, 2) tensor(0., device='mps:0')\n",
      "batch_size 1\n",
      "(0, 2, 1) tensor(-1.0006, device='mps:0', grad_fn=<SumBackward0>)\n",
      "(1, 2, 0) tensor(-0.0006, device='mps:0', grad_fn=<SumBackward0>)\n",
      "(2, 0, 1) tensor(-2.0006, device='mps:0', grad_fn=<SumBackward0>)\n",
      "batch_size 1\n",
      "(0, 2, 1) tensor(-0.2500, device='mps:0')\n",
      "(1, 2, 0) tensor(0.7500, device='mps:0')\n",
      "(2, 0, 1) tensor(-1.2500, device='mps:0')\n",
      "batch_size 1\n"
     ]
    },
    {
     "name": "stderr",
     "output_type": "stream",
     "text": [
      "Processing rows:  79%|███████▉  | 793/1000 [00:58<00:14, 14.21it/s]"
     ]
    },
    {
     "name": "stdout",
     "output_type": "stream",
     "text": [
      "(2, 0, 1) tensor(0.0105, device='mps:0', grad_fn=<SumBackward0>)\n",
      "batch_size 1\n",
      "(2, 0, 1) tensor(0., device='mps:0')\n",
      "batch_size 1\n",
      "(0, 2, 1) tensor(-0.3632, device='mps:0', grad_fn=<SumBackward0>)\n",
      "(1, 2, 0) tensor(-0.3632, device='mps:0', grad_fn=<SumBackward0>)\n",
      "batch_size 1\n",
      "(0, 2, 1) tensor(0., device='mps:0')\n",
      "(1, 2, 0) tensor(0., device='mps:0')\n",
      "batch_size 1\n",
      "(0, 2, 1) tensor(-1.0121, device='mps:0', grad_fn=<SumBackward0>)\n",
      "(1, 0, 2) tensor(-0.0121, device='mps:0', grad_fn=<SumBackward0>)\n",
      "(1, 2, 0) tensor(-1.0121, device='mps:0', grad_fn=<SumBackward0>)\n",
      "batch_size 1\n"
     ]
    },
    {
     "name": "stderr",
     "output_type": "stream",
     "text": [
      "Processing rows:  80%|███████▉  | 795/1000 [00:58<00:15, 13.11it/s]"
     ]
    },
    {
     "name": "stdout",
     "output_type": "stream",
     "text": [
      "(0, 2, 1) tensor(-0.5000, device='mps:0')\n",
      "(1, 0, 2) tensor(0.5000, device='mps:0')\n",
      "(1, 2, 0) tensor(-0.5000, device='mps:0')\n",
      "batch_size 1\n",
      "(0, 1, 2) tensor(0.0089, device='mps:0', grad_fn=<SumBackward0>)\n",
      "batch_size 1\n",
      "(0, 1, 2) tensor(0., device='mps:0')\n",
      "batch_size 1\n",
      "(2, 0, 1) tensor(0.0163, device='mps:0', grad_fn=<SumBackward0>)\n",
      "(2, 1, 0) tensor(-0.9837, device='mps:0', grad_fn=<SumBackward0>)\n",
      "batch_size 1\n",
      "(2, 0, 1) tensor(0.5000, device='mps:0')\n",
      "(2, 1, 0) tensor(-0.5000, device='mps:0')\n",
      "batch_size 1\n",
      "(0, 1, 2) tensor(-0.0166, device='mps:0', grad_fn=<SumBackward0>)\n",
      "(1, 0, 2) tensor(-0.0166, device='mps:0', grad_fn=<SumBackward0>)\n"
     ]
    },
    {
     "name": "stderr",
     "output_type": "stream",
     "text": [
      "Processing rows:  80%|███████▉  | 797/1000 [00:59<00:15, 13.09it/s]"
     ]
    },
    {
     "name": "stdout",
     "output_type": "stream",
     "text": [
      "batch_size 1\n",
      "(0, 1, 2) tensor(0., device='mps:0')\n",
      "(1, 0, 2) tensor(0., device='mps:0')\n",
      "batch_size 1\n",
      "(1, 0, 2) tensor(0.0039, device='mps:0', grad_fn=<SumBackward0>)\n",
      "(1, 2, 0) tensor(0.0039, device='mps:0', grad_fn=<SumBackward0>)\n",
      "(2, 1, 0) tensor(0.0039, device='mps:0', grad_fn=<SumBackward0>)\n",
      "batch_size 1\n",
      "(1, 0, 2) tensor(0., device='mps:0')\n",
      "(1, 2, 0) tensor(0., device='mps:0')\n",
      "(2, 1, 0) tensor(0., device='mps:0')\n",
      "batch_size 1\n",
      "(1, 0, 2) tensor(0.0017, device='mps:0', grad_fn=<SumBackward0>)\n",
      "(2, 0, 1) tensor(0.0017, device='mps:0', grad_fn=<SumBackward0>)\n",
      "batch_size 1\n",
      "(1, 0, 2) tensor(0., device='mps:0')\n",
      "(2, 0, 1) "
     ]
    },
    {
     "name": "stderr",
     "output_type": "stream",
     "text": [
      "Processing rows:  80%|████████  | 801/1000 [00:59<00:15, 13.25it/s]"
     ]
    },
    {
     "name": "stdout",
     "output_type": "stream",
     "text": [
      "tensor(0., device='mps:0')\n",
      "batch_size 1\n",
      "(1, 0, 2) tensor(-0.9686, device='mps:0', grad_fn=<SumBackward0>)\n",
      "(1, 2, 0) tensor(-0.9686, device='mps:0', grad_fn=<SumBackward0>)\n",
      "batch_size 1\n",
      "(1, 0, 2) tensor(0., device='mps:0')\n",
      "(1, 2, 0) tensor(0., device='mps:0')\n",
      "batch_size 1\n",
      "(1, 2, 0) tensor(6.2942e-05, device='mps:0', grad_fn=<SumBackward0>)\n",
      "batch_size 1\n",
      "(1, 2, 0) tensor(0., device='mps:0')\n",
      "batch_size 1\n",
      "(0, 2, 1) tensor(0.0121, device='mps:0', grad_fn=<SumBackward0>)\n",
      "(1, 0, 2) tensor(0.0121, device='mps:0', grad_fn=<SumBackward0>)\n",
      "(2, 0, 1) tensor(0.0121, device='mps:0', grad_fn=<SumBackward0>)\n",
      "batch_size 1\n"
     ]
    },
    {
     "name": "stderr",
     "output_type": "stream",
     "text": [
      "Processing rows:  80%|████████  | 803/1000 [00:59<00:16, 12.01it/s]"
     ]
    },
    {
     "name": "stdout",
     "output_type": "stream",
     "text": [
      "(0, 2, 1) tensor(0., device='mps:0')\n",
      "(1, 0, 2) tensor(0., device='mps:0')\n",
      "(2, 0, 1) tensor(0., device='mps:0')\n",
      "batch_size 1\n",
      "(0, 2, 1) tensor(-0.9972, device='mps:0', grad_fn=<SumBackward0>)\n",
      "(1, 2, 0) tensor(-0.9972, device='mps:0', grad_fn=<SumBackward0>)\n",
      "(2, 1, 0) tensor(0.0028, device='mps:0', grad_fn=<SumBackward0>)\n",
      "batch_size 1\n",
      "(0, 2, 1) tensor(-0.5000, device='mps:0')\n",
      "(1, 2, 0) tensor(-0.5000, device='mps:0')\n",
      "(2, 1, 0) tensor(0.5000, device='mps:0')\n",
      "batch_size 1\n",
      "(1, 2, 0) tensor(-0.9023, device='mps:0', grad_fn=<SumBackward0>)\n",
      "(2, 1, 0) tensor(-0.9023, device='mps:0', grad_fn=<SumBackward0>)\n",
      "batch_size 1\n",
      "(1, 2, 0) tensor(0., device='mps:0')\n",
      "(2, 1, 0) tensor(0., device='mps:0')\n"
     ]
    },
    {
     "name": "stderr",
     "output_type": "stream",
     "text": [
      "Processing rows:  80%|████████  | 805/1000 [00:59<00:16, 11.75it/s]"
     ]
    },
    {
     "name": "stdout",
     "output_type": "stream",
     "text": [
      "batch_size 1\n",
      "(0, 1, 2) tensor(-0.8565, device='mps:0', grad_fn=<SumBackward0>)\n",
      "(1, 0, 2) tensor(-0.8565, device='mps:0', grad_fn=<SumBackward0>)\n",
      "(2, 0, 1) tensor(0.1435, device='mps:0', grad_fn=<SumBackward0>)\n",
      "batch_size 1\n",
      "(0, 1, 2) tensor(-0.5000, device='mps:0')\n",
      "(1, 0, 2) tensor(-0.5000, device='mps:0')\n",
      "(2, 0, 1) tensor(0.5000, device='mps:0')\n",
      "batch_size 1\n",
      "(1, 2, 0) tensor(0.2367, device='mps:0', grad_fn=<SumBackward0>)\n",
      "batch_size 1\n",
      "(1, 2, 0) tensor(0., device='mps:0')\n",
      "batch_size 1\n",
      "(0, 1, 2) tensor(0.0438, device='mps:0', grad_fn=<SumBackward0>)\n",
      "batch_size 1\n",
      "(0, 1, 2) tensor(0., device='mps:0')\n"
     ]
    },
    {
     "name": "stderr",
     "output_type": "stream",
     "text": [
      "Processing rows:  81%|████████  | 809/1000 [01:00<00:15, 12.62it/s]"
     ]
    },
    {
     "name": "stdout",
     "output_type": "stream",
     "text": [
      "batch_size 1\n",
      "(0, 2, 1) tensor(-0.0431, device='mps:0', grad_fn=<SumBackward0>)\n",
      "(2, 0, 1) tensor(-0.0431, device='mps:0', grad_fn=<SumBackward0>)\n",
      "batch_size 1\n",
      "(0, 2, 1) tensor(0., device='mps:0')\n",
      "(2, 0, 1) tensor(0., device='mps:0')\n",
      "batch_size 1\n",
      "(0, 2, 1) tensor(-0.0498, device='mps:0', grad_fn=<SumBackward0>)\n",
      "(1, 0, 2) tensor(-0.0498, device='mps:0', grad_fn=<SumBackward0>)\n",
      "(1, 2, 0) tensor(-0.0498, device='mps:0', grad_fn=<SumBackward0>)\n",
      "batch_size 1\n",
      "(0, 2, 1) tensor(0., device='mps:0')\n",
      "(1, 0, 2) tensor(0., device='mps:0')\n",
      "(1, 2, 0) tensor(0., device='mps:0')\n",
      "batch_size 1\n",
      "(0, 2, 1) tensor(0.0011, device='mps:0', grad_fn=<SumBackward0>)\n"
     ]
    },
    {
     "name": "stderr",
     "output_type": "stream",
     "text": [
      "Processing rows:  81%|████████  | 811/1000 [01:00<00:14, 12.71it/s]"
     ]
    },
    {
     "name": "stdout",
     "output_type": "stream",
     "text": [
      "(2, 0, 1) tensor(-0.9989, device='mps:0', grad_fn=<SumBackward0>)\n",
      "batch_size 1\n",
      "(0, 2, 1) tensor(0.5000, device='mps:0')\n",
      "(2, 0, 1) tensor(-0.5000, device='mps:0')\n",
      "batch_size 1\n",
      "(0, 1, 2) tensor(0.2816, device='mps:0', grad_fn=<SumBackward0>)\n",
      "(0, 2, 1) tensor(-0.7184, device='mps:0', grad_fn=<SumBackward0>)\n",
      "batch_size 1\n",
      "(0, 1, 2) tensor(0.5000, device='mps:0')\n",
      "(0, 2, 1) tensor(-0.5000, device='mps:0')\n",
      "batch_size 1\n",
      "(0, 1, 2) tensor(0.0003, device='mps:0', grad_fn=<SumBackward0>)\n",
      "batch_size 1\n",
      "(0, 1, 2) tensor(0., device='mps:0')\n",
      "batch_size 1\n",
      "(1, 0, 2) tensor(0.0286, device='mps:0', grad_fn=<SumBackward0>)\n"
     ]
    },
    {
     "name": "stderr",
     "output_type": "stream",
     "text": [
      "Processing rows:  82%|████████▏ | 815/1000 [01:00<00:13, 13.64it/s]"
     ]
    },
    {
     "name": "stdout",
     "output_type": "stream",
     "text": [
      "batch_size 1\n",
      "(1, 0, 2) tensor(0., device='mps:0')\n",
      "batch_size 1\n",
      "(0, 2, 1) tensor(-0.0215, device='mps:0', grad_fn=<SumBackward0>)\n",
      "(1, 2, 0) tensor(-0.0215, device='mps:0', grad_fn=<SumBackward0>)\n",
      "batch_size 1\n",
      "(0, 2, 1) tensor(0., device='mps:0')\n",
      "(1, 2, 0) tensor(0., device='mps:0')\n",
      "batch_size 1\n",
      "(2, 0, 1) tensor(1.8301, device='mps:0', grad_fn=<SumBackward0>)\n",
      "(2, 1, 0) tensor(1.8301, device='mps:0', grad_fn=<SumBackward0>)\n",
      "batch_size 1\n",
      "(2, 0, 1) tensor(0., device='mps:0')\n",
      "(2, 1, 0) tensor(0., device='mps:0')\n",
      "batch_size 1\n"
     ]
    },
    {
     "name": "stderr",
     "output_type": "stream",
     "text": [
      "Processing rows:  82%|████████▏ | 817/1000 [01:00<00:12, 14.86it/s]"
     ]
    },
    {
     "name": "stdout",
     "output_type": "stream",
     "text": [
      "(0, 2, 1) tensor(0.0004, device='mps:0', grad_fn=<SumBackward0>)\n",
      "batch_size 1\n",
      "(0, 2, 1) tensor(0., device='mps:0')\n",
      "batch_size 1\n",
      "(2, 0, 1) tensor(0.0097, device='mps:0', grad_fn=<SumBackward0>)\n",
      "batch_size 1\n",
      "(2, 0, 1) tensor(0., device='mps:0')\n",
      "batch_size 1\n",
      "(0, 1, 2) tensor(-1.9981, device='mps:0', grad_fn=<SumBackward0>)\n",
      "(2, 0, 1) tensor(-0.9981, device='mps:0', grad_fn=<SumBackward0>)\n",
      "(2, 1, 0) tensor(-1.9981, device='mps:0', grad_fn=<SumBackward0>)\n",
      "batch_size 1\n",
      "(0, 1, 2) tensor(-0.5000, device='mps:0')\n",
      "(2, 0, 1) tensor(0.5000, device='mps:0')\n",
      "(2, 1, 0) tensor(-0.5000, device='mps:0')\n",
      "batch_size 1\n"
     ]
    },
    {
     "name": "stderr",
     "output_type": "stream",
     "text": [
      "Processing rows:  82%|████████▏ | 821/1000 [01:00<00:13, 13.63it/s]"
     ]
    },
    {
     "name": "stdout",
     "output_type": "stream",
     "text": [
      "(2, 0, 1) tensor(2.0759, device='mps:0', grad_fn=<SumBackward0>)\n",
      "batch_size 1\n",
      "(2, 0, 1) tensor(0., device='mps:0')\n",
      "batch_size 1\n",
      "(0, 1, 2) tensor(-1.5251, device='mps:0', grad_fn=<SumBackward0>)\n",
      "(0, 2, 1) tensor(-1.5251, device='mps:0', grad_fn=<SumBackward0>)\n",
      "(2, 0, 1) tensor(-0.5251, device='mps:0', grad_fn=<SumBackward0>)\n",
      "batch_size 1\n",
      "(0, 1, 2) tensor(-0.5000, device='mps:0')\n",
      "(0, 2, 1) tensor(-0.5000, device='mps:0')\n",
      "(2, 0, 1) tensor(0.5000, device='mps:0')\n",
      "batch_size 1\n",
      "(2, 0, 1) tensor(2.0759, device='mps:0', grad_fn=<SumBackward0>)\n",
      "batch_size 1\n",
      "(2, 0, 1) tensor(0., device='mps:0')\n",
      "batch_size 1\n"
     ]
    },
    {
     "name": "stderr",
     "output_type": "stream",
     "text": [
      "Processing rows:  82%|████████▏ | 823/1000 [01:00<00:12, 14.71it/s]"
     ]
    },
    {
     "name": "stdout",
     "output_type": "stream",
     "text": [
      "(0, 1, 2) tensor(0.1054, device='mps:0', grad_fn=<SumBackward0>)\n",
      "batch_size 1\n",
      "(0, 1, 2) tensor(0., device='mps:0')\n",
      "batch_size 1\n",
      "(0, 2, 1) tensor(0.0003, device='mps:0', grad_fn=<SumBackward0>)\n",
      "batch_size 1\n",
      "(0, 2, 1) tensor(0., device='mps:0')\n",
      "batch_size 1\n",
      "(0, 2, 1) tensor(0.0043, device='mps:0', grad_fn=<SumBackward0>)\n",
      "(2, 0, 1) tensor(0.0043, device='mps:0', grad_fn=<SumBackward0>)\n",
      "batch_size 1\n",
      "(0, 2, 1) tensor(0., device='mps:0')\n",
      "(2, 0, 1) tensor(0., device='mps:0')\n",
      "batch_size 1\n",
      "(0, 1, 2) tensor(-1.9997, device='mps:0', grad_fn=<SumBackward0>)\n"
     ]
    },
    {
     "name": "stderr",
     "output_type": "stream",
     "text": [
      "Processing rows:  82%|████████▎ | 825/1000 [01:01<00:12, 13.93it/s]"
     ]
    },
    {
     "name": "stdout",
     "output_type": "stream",
     "text": [
      "(1, 2, 0) tensor(0.0003, device='mps:0', grad_fn=<SumBackward0>)\n",
      "batch_size 1\n",
      "(0, 1, 2) tensor(-1., device='mps:0')\n",
      "(1, 2, 0) tensor(1., device='mps:0')\n",
      "batch_size 1\n",
      "(1, 2, 0) tensor(-0.9130, device='mps:0', grad_fn=<SumBackward0>)\n",
      "(2, 0, 1) tensor(0.0870, device='mps:0', grad_fn=<SumBackward0>)\n",
      "(2, 1, 0) tensor(-0.9130, device='mps:0', grad_fn=<SumBackward0>)\n",
      "batch_size 1\n",
      "(1, 2, 0) tensor(-0.5000, device='mps:0')\n",
      "(2, 0, 1) tensor(0.5000, device='mps:0')\n",
      "(2, 1, 0) tensor(-0.5000, device='mps:0')\n",
      "batch_size 1\n",
      "(1, 2, 0) tensor(0.0357, device='mps:0', grad_fn=<SumBackward0>)\n",
      "(2, 0, 1) tensor(-0.9643, device='mps:0', grad_fn=<SumBackward0>)\n",
      "(2, 1, 0) tensor(-0.9643, device='mps:0', grad_fn=<SumBackward0>)\n"
     ]
    },
    {
     "name": "stderr",
     "output_type": "stream",
     "text": [
      "Processing rows:  83%|████████▎ | 827/1000 [01:01<00:14, 12.23it/s]"
     ]
    },
    {
     "name": "stdout",
     "output_type": "stream",
     "text": [
      "batch_size 1\n",
      "(1, 2, 0) tensor(0.5000, device='mps:0')\n",
      "(2, 0, 1) tensor(-0.5000, device='mps:0')\n",
      "(2, 1, 0) tensor(-0.5000, device='mps:0')\n",
      "batch_size 1\n",
      "(0, 2, 1) tensor(0.0066, device='mps:0', grad_fn=<SumBackward0>)\n",
      "(2, 0, 1) tensor(0.0066, device='mps:0', grad_fn=<SumBackward0>)\n",
      "batch_size 1\n",
      "(0, 2, 1) tensor(0., device='mps:0')\n",
      "(2, 0, 1) tensor(0., device='mps:0')\n",
      "batch_size 1\n",
      "(2, 0, 1) tensor(-0.1114, device='mps:0', grad_fn=<SumBackward0>)\n",
      "(2, 1, 0) tensor(-0.1114, device='mps:0', grad_fn=<SumBackward0>)\n",
      "batch_size 1\n",
      "(2, 0, 1) tensor(0., device='mps:0')\n",
      "(2, 1, 0) tensor(0., device='mps:0')\n"
     ]
    },
    {
     "name": "stderr",
     "output_type": "stream",
     "text": [
      "Processing rows:  83%|████████▎ | 831/1000 [01:01<00:14, 11.58it/s]"
     ]
    },
    {
     "name": "stdout",
     "output_type": "stream",
     "text": [
      "batch_size 1\n",
      "(1, 0, 2) tensor(-0.0075, device='mps:0', grad_fn=<SumBackward0>)\n",
      "(2, 0, 1) tensor(-0.0075, device='mps:0', grad_fn=<SumBackward0>)\n",
      "batch_size 1\n",
      "(1, 0, 2) tensor(0., device='mps:0')\n",
      "(2, 0, 1) tensor(0., device='mps:0')\n",
      "batch_size 1\n",
      "(0, 2, 1) tensor(-0.0005, device='mps:0', grad_fn=<SumBackward0>)\n",
      "(1, 2, 0) tensor(-0.0005, device='mps:0', grad_fn=<SumBackward0>)\n",
      "(2, 1, 0) tensor(-0.0005, device='mps:0', grad_fn=<SumBackward0>)\n",
      "batch_size 1\n",
      "(0, 2, 1) tensor(0., device='mps:0')\n",
      "(1, 2, 0) tensor(0., device='mps:0')\n",
      "(2, 1, 0) tensor(0., device='mps:0')\n",
      "batch_size 1\n"
     ]
    },
    {
     "name": "stderr",
     "output_type": "stream",
     "text": [
      "Processing rows:  83%|████████▎ | 833/1000 [01:01<00:12, 13.14it/s]"
     ]
    },
    {
     "name": "stdout",
     "output_type": "stream",
     "text": [
      "(2, 1, 0) tensor(0.0007, device='mps:0', grad_fn=<SumBackward0>)\n",
      "batch_size 1\n",
      "(2, 1, 0) tensor(0., device='mps:0')\n",
      "batch_size 1\n",
      "(1, 0, 2) tensor(-0.0080, device='mps:0', grad_fn=<SumBackward0>)\n",
      "batch_size 1\n",
      "(1, 0, 2) tensor(0., device='mps:0')\n",
      "batch_size 1\n",
      "(0, 1, 2) tensor(0.0834, device='mps:0', grad_fn=<SumBackward0>)\n",
      "(2, 0, 1) tensor(-0.9166, device='mps:0', grad_fn=<SumBackward0>)\n",
      "batch_size 1\n",
      "(0, 1, 2) tensor(0.5000, device='mps:0')\n",
      "(2, 0, 1) tensor(-0.5000, device='mps:0')\n",
      "batch_size 1\n",
      "(2, 0, 1) tensor(-0.0018, device='mps:0', grad_fn=<SumBackward0>)\n",
      "batch_size 1\n"
     ]
    },
    {
     "name": "stderr",
     "output_type": "stream",
     "text": [
      "Processing rows:  84%|████████▎ | 837/1000 [01:02<00:12, 13.35it/s]"
     ]
    },
    {
     "name": "stdout",
     "output_type": "stream",
     "text": [
      "(2, 0, 1) tensor(0., device='mps:0')\n",
      "batch_size 1\n",
      "(0, 2, 1) tensor(-0.9921, device='mps:0', grad_fn=<SumBackward0>)\n",
      "(1, 0, 2) tensor(0.0079, device='mps:0', grad_fn=<SumBackward0>)\n",
      "batch_size 1\n",
      "(0, 2, 1) tensor(-0.5000, device='mps:0')\n",
      "(1, 0, 2) tensor(0.5000, device='mps:0')\n",
      "batch_size 1\n",
      "(0, 1, 2) tensor(0.0023, device='mps:0', grad_fn=<SumBackward0>)\n",
      "(2, 1, 0) tensor(-0.9977, device='mps:0', grad_fn=<SumBackward0>)\n",
      "batch_size 1\n",
      "(0, 1, 2) tensor(0.5000, device='mps:0')\n",
      "(2, 1, 0) tensor(-0.5000, device='mps:0')\n",
      "batch_size 1\n",
      "(1, 0, 2) tensor(0.0196, device='mps:0', grad_fn=<SumBackward0>)\n",
      "batch_size 1\n"
     ]
    },
    {
     "name": "stderr",
     "output_type": "stream",
     "text": [
      "Processing rows:  84%|████████▍ | 839/1000 [01:02<00:11, 13.96it/s]"
     ]
    },
    {
     "name": "stdout",
     "output_type": "stream",
     "text": [
      "(1, 0, 2) tensor(0., device='mps:0')\n",
      "batch_size 1\n",
      "(0, 1, 2) tensor(-0.8741, device='mps:0', grad_fn=<SumBackward0>)\n",
      "(0, 2, 1) tensor(-0.8741, device='mps:0', grad_fn=<SumBackward0>)\n",
      "batch_size 1\n",
      "(0, 1, 2) tensor(0., device='mps:0')\n",
      "(0, 2, 1) tensor(0., device='mps:0')\n",
      "batch_size 1\n",
      "(1, 0, 2) tensor(0.0037, device='mps:0', grad_fn=<SumBackward0>)\n",
      "(2, 0, 1) tensor(0.0037, device='mps:0', grad_fn=<SumBackward0>)\n",
      "batch_size 1\n",
      "(1, 0, 2) tensor(0., device='mps:0')\n",
      "(2, 0, 1) tensor(0., device='mps:0')\n",
      "batch_size 1\n",
      "(1, 0, 2) tensor(0.0002, device='mps:0', grad_fn=<SumBackward0>)\n",
      "batch_size 1\n"
     ]
    },
    {
     "name": "stderr",
     "output_type": "stream",
     "text": [
      "Processing rows:  84%|████████▍ | 843/1000 [01:02<00:10, 14.64it/s]"
     ]
    },
    {
     "name": "stdout",
     "output_type": "stream",
     "text": [
      "(1, 0, 2) tensor(0., device='mps:0')\n",
      "batch_size 1\n",
      "(1, 0, 2) tensor(0.6233, device='mps:0', grad_fn=<SumBackward0>)\n",
      "batch_size 1\n",
      "(1, 0, 2) tensor(0., device='mps:0')\n",
      "batch_size 1\n",
      "(1, 0, 2) tensor(-0.6656, device='mps:0', grad_fn=<SumBackward0>)\n",
      "(2, 0, 1) tensor(-0.6656, device='mps:0', grad_fn=<SumBackward0>)\n",
      "batch_size 1\n",
      "(1, 0, 2) tensor(0., device='mps:0')\n",
      "(2, 0, 1) tensor(0., device='mps:0')\n",
      "batch_size 1\n",
      "(0, 1, 2) tensor(0.0005, device='mps:0', grad_fn=<SumBackward0>)\n",
      "batch_size 1\n",
      "(0, 1, 2) tensor(0., device='mps:0')\n",
      "batch_size 1\n"
     ]
    },
    {
     "name": "stderr",
     "output_type": "stream",
     "text": [
      "Processing rows:  85%|████████▍ | 847/1000 [01:02<00:10, 14.92it/s]"
     ]
    },
    {
     "name": "stdout",
     "output_type": "stream",
     "text": [
      "(1, 2, 0) tensor(-1.0071, device='mps:0', grad_fn=<SumBackward0>)\n",
      "(2, 0, 1) tensor(0.9929, device='mps:0', grad_fn=<SumBackward0>)\n",
      "(2, 1, 0) tensor(-0.0071, device='mps:0', grad_fn=<SumBackward0>)\n",
      "batch_size 1\n",
      "(1, 2, 0) tensor(-1.2500, device='mps:0')\n",
      "(2, 0, 1) tensor(0.7500, device='mps:0')\n",
      "(2, 1, 0) tensor(-0.2500, device='mps:0')\n",
      "batch_size 1\n",
      "(1, 2, 0) tensor(1.0703, device='mps:0', grad_fn=<SumBackward0>)\n",
      "batch_size 1\n",
      "(1, 2, 0) tensor(0., device='mps:0')\n",
      "batch_size 1\n",
      "(2, 1, 0) tensor(0.0009, device='mps:0', grad_fn=<SumBackward0>)\n",
      "batch_size 1\n",
      "(2, 1, 0) tensor(0., device='mps:0')\n",
      "batch_size 1\n"
     ]
    },
    {
     "name": "stderr",
     "output_type": "stream",
     "text": [
      "Processing rows:  85%|████████▍ | 849/1000 [01:02<00:10, 14.18it/s]"
     ]
    },
    {
     "name": "stdout",
     "output_type": "stream",
     "text": [
      "(0, 1, 2) tensor(0.0059, device='mps:0', grad_fn=<SumBackward0>)\n",
      "batch_size 1\n",
      "(0, 1, 2) tensor(0., device='mps:0')\n",
      "batch_size 1\n",
      "(0, 1, 2) tensor(-1.9963, device='mps:0', grad_fn=<SumBackward0>)\n",
      "(1, 0, 2) tensor(-1.9963, device='mps:0', grad_fn=<SumBackward0>)\n",
      "(2, 0, 1) tensor(-0.9963, device='mps:0', grad_fn=<SumBackward0>)\n",
      "batch_size 1\n",
      "(0, 1, 2) tensor(-0.5000, device='mps:0')\n",
      "(1, 0, 2) tensor(-0.5000, device='mps:0')\n",
      "(2, 0, 1) tensor(0.5000, device='mps:0')\n",
      "batch_size 1\n",
      "(2, 0, 1) tensor(-0.9995, device='mps:0', grad_fn=<SumBackward0>)\n",
      "(2, 1, 0) tensor(0.0005, device='mps:0', grad_fn=<SumBackward0>)\n",
      "batch_size 1\n",
      "(2, 0, 1) tensor(-0.5000, device='mps:0')\n"
     ]
    },
    {
     "name": "stderr",
     "output_type": "stream",
     "text": [
      "Processing rows:  85%|████████▌ | 853/1000 [01:03<00:09, 15.52it/s]"
     ]
    },
    {
     "name": "stdout",
     "output_type": "stream",
     "text": [
      "(2, 1, 0) tensor(0.5000, device='mps:0')\n",
      "batch_size 1\n",
      "(0, 2, 1) tensor(-0.0015, device='mps:0', grad_fn=<SumBackward0>)\n",
      "batch_size 1\n",
      "(0, 2, 1) tensor(0., device='mps:0')\n",
      "batch_size 1\n",
      "(1, 0, 2) tensor(0.0293, device='mps:0', grad_fn=<SumBackward0>)\n",
      "batch_size 1\n",
      "(1, 0, 2) tensor(0., device='mps:0')\n",
      "batch_size 1\n",
      "(1, 2, 0) tensor(4.5938e-05, device='mps:0', grad_fn=<SumBackward0>)\n",
      "batch_size 1\n",
      "(1, 2, 0) tensor(0., device='mps:0')\n",
      "batch_size 1\n",
      "(0, 2, 1) tensor(0.0004, device='mps:0', grad_fn=<SumBackward0>)\n",
      "batch_size 1\n"
     ]
    },
    {
     "name": "stderr",
     "output_type": "stream",
     "text": [
      "Processing rows:  86%|████████▌ | 855/1000 [01:03<00:08, 16.23it/s]"
     ]
    },
    {
     "name": "stdout",
     "output_type": "stream",
     "text": [
      "(0, 2, 1) tensor(0., device='mps:0')\n",
      "batch_size 1\n",
      "(2, 0, 1) tensor(0.9424, device='mps:0', grad_fn=<SumBackward0>)\n",
      "batch_size 1\n",
      "(2, 0, 1) tensor(0., device='mps:0')\n",
      "batch_size 1\n",
      "(1, 0, 2) tensor(0.0020, device='mps:0', grad_fn=<SumBackward0>)\n",
      "batch_size 1\n",
      "(1, 0, 2) tensor(0., device='mps:0')\n",
      "batch_size 1\n",
      "(1, 2, 0) tensor(-0.9105, device='mps:0', grad_fn=<SumBackward0>)\n",
      "(2, 0, 1) tensor(0.0895, device='mps:0', grad_fn=<SumBackward0>)\n",
      "(2, 1, 0) tensor(-0.9105, device='mps:0', grad_fn=<SumBackward0>)\n",
      "batch_size 1\n",
      "(1, 2, 0) tensor(-0.5000, device='mps:0')\n",
      "(2, 0, 1) tensor(0.5000, device='mps:0')\n"
     ]
    },
    {
     "name": "stderr",
     "output_type": "stream",
     "text": [
      "Processing rows:  86%|████████▌ | 859/1000 [01:03<00:08, 16.11it/s]"
     ]
    },
    {
     "name": "stdout",
     "output_type": "stream",
     "text": [
      "(2, 1, 0) tensor(-0.5000, device='mps:0')\n",
      "batch_size 1\n",
      "(1, 2, 0) tensor(0.1725, device='mps:0', grad_fn=<SumBackward0>)\n",
      "batch_size 1\n",
      "(1, 2, 0) tensor(0., device='mps:0')\n",
      "batch_size 1\n",
      "(1, 0, 2) tensor(0.1271, device='mps:0', grad_fn=<SumBackward0>)\n",
      "batch_size 1\n",
      "(1, 0, 2) tensor(0., device='mps:0')\n",
      "batch_size 1\n",
      "(1, 0, 2) tensor(-0.0179, device='mps:0', grad_fn=<SumBackward0>)\n",
      "(2, 0, 1) tensor(-0.0179, device='mps:0', grad_fn=<SumBackward0>)\n",
      "(2, 1, 0) tensor(-0.0179, device='mps:0', grad_fn=<SumBackward0>)\n",
      "batch_size 1\n",
      "(1, 0, 2) tensor(0., device='mps:0')\n",
      "(2, 0, 1) tensor(0., device='mps:0')\n"
     ]
    },
    {
     "name": "stderr",
     "output_type": "stream",
     "text": [
      "Processing rows:  86%|████████▋ | 863/1000 [01:03<00:08, 15.25it/s]"
     ]
    },
    {
     "name": "stdout",
     "output_type": "stream",
     "text": [
      "(2, 1, 0) tensor(0., device='mps:0')\n",
      "batch_size 1\n",
      "(1, 2, 0) tensor(0.0944, device='mps:0', grad_fn=<SumBackward0>)\n",
      "batch_size 1\n",
      "(1, 2, 0) tensor(0., device='mps:0')\n",
      "batch_size 1\n",
      "(2, 0, 1) tensor(-0.0002, device='mps:0', grad_fn=<SumBackward0>)\n",
      "(2, 1, 0) tensor(-0.0002, device='mps:0', grad_fn=<SumBackward0>)\n",
      "batch_size 1\n",
      "(2, 0, 1) tensor(0., device='mps:0')\n",
      "(2, 1, 0) tensor(0., device='mps:0')\n",
      "batch_size 1\n",
      "(2, 0, 1) tensor(0.6597, device='mps:0', grad_fn=<SumBackward0>)\n",
      "batch_size 1\n",
      "(2, 0, 1) tensor(0., device='mps:0')\n",
      "batch_size 1\n"
     ]
    },
    {
     "name": "stderr",
     "output_type": "stream",
     "text": [
      "Processing rows:  86%|████████▋ | 865/1000 [01:03<00:09, 13.88it/s]"
     ]
    },
    {
     "name": "stdout",
     "output_type": "stream",
     "text": [
      "(0, 1, 2) tensor(0.0250, device='mps:0', grad_fn=<SumBackward0>)\n",
      "(0, 2, 1) tensor(0.0250, device='mps:0', grad_fn=<SumBackward0>)\n",
      "(2, 1, 0) tensor(0.0250, device='mps:0', grad_fn=<SumBackward0>)\n",
      "batch_size 1\n",
      "(0, 1, 2) tensor(0., device='mps:0')\n",
      "(0, 2, 1) tensor(0., device='mps:0')\n",
      "(2, 1, 0) tensor(0., device='mps:0')\n",
      "batch_size 1\n",
      "(2, 1, 0) tensor(0.0012, device='mps:0', grad_fn=<SumBackward0>)\n",
      "batch_size 1\n",
      "(2, 1, 0) tensor(0., device='mps:0')\n",
      "batch_size 1\n",
      "(0, 1, 2) tensor(-1.9791, device='mps:0', grad_fn=<SumBackward0>)\n",
      "(2, 0, 1) tensor(-0.9791, device='mps:0', grad_fn=<SumBackward0>)\n",
      "(2, 1, 0) tensor(-1.9791, device='mps:0', grad_fn=<SumBackward0>)\n",
      "batch_size 1\n"
     ]
    },
    {
     "name": "stderr",
     "output_type": "stream",
     "text": [
      "Processing rows:  87%|████████▋ | 867/1000 [01:04<00:09, 13.35it/s]"
     ]
    },
    {
     "name": "stdout",
     "output_type": "stream",
     "text": [
      "(0, 1, 2) tensor(-0.5000, device='mps:0')\n",
      "(2, 0, 1) tensor(0.5000, device='mps:0')\n",
      "(2, 1, 0) tensor(-0.5000, device='mps:0')\n",
      "batch_size 1\n",
      "(0, 2, 1) tensor(-0.0014, device='mps:0', grad_fn=<SumBackward0>)\n",
      "batch_size 1\n",
      "(0, 2, 1) tensor(0., device='mps:0')\n",
      "batch_size 1\n",
      "(0, 1, 2) tensor(1.9854, device='mps:0', grad_fn=<SumBackward0>)\n",
      "batch_size 1\n",
      "(0, 1, 2) tensor(0., device='mps:0')\n",
      "batch_size 1\n",
      "(2, 0, 1) tensor(1.6690, device='mps:0', grad_fn=<SumBackward0>)\n",
      "(2, 1, 0) tensor(1.6690, device='mps:0', grad_fn=<SumBackward0>)\n",
      "batch_size 1\n",
      "(2, 0, 1) tensor(0., device='mps:0')\n"
     ]
    },
    {
     "name": "stderr",
     "output_type": "stream",
     "text": [
      "Processing rows:  87%|████████▋ | 871/1000 [01:04<00:08, 14.35it/s]"
     ]
    },
    {
     "name": "stdout",
     "output_type": "stream",
     "text": [
      "(2, 1, 0) tensor(0., device='mps:0')\n",
      "batch_size 1\n",
      "(1, 2, 0) tensor(-0.4091, device='mps:0', grad_fn=<SumBackward0>)\n",
      "(2, 0, 1) tensor(0.5909, device='mps:0', grad_fn=<SumBackward0>)\n",
      "batch_size 1\n",
      "(1, 2, 0) tensor(-0.5000, device='mps:0')\n",
      "(2, 0, 1) tensor(0.5000, device='mps:0')\n",
      "batch_size 1\n",
      "(2, 1, 0) tensor(0.0540, device='mps:0', grad_fn=<SumBackward0>)\n",
      "batch_size 1\n",
      "(2, 1, 0) tensor(0., device='mps:0')\n",
      "batch_size 1\n",
      "(1, 0, 2) tensor(-0.9969, device='mps:0', grad_fn=<SumBackward0>)\n",
      "(2, 0, 1) tensor(-0.9969, device='mps:0', grad_fn=<SumBackward0>)\n",
      "(2, 1, 0) tensor(0.0031, device='mps:0', grad_fn=<SumBackward0>)\n",
      "batch_size 1\n"
     ]
    },
    {
     "name": "stderr",
     "output_type": "stream",
     "text": [
      "Processing rows:  87%|████████▋ | 873/1000 [01:04<00:09, 13.78it/s]"
     ]
    },
    {
     "name": "stdout",
     "output_type": "stream",
     "text": [
      "(1, 0, 2) tensor(-0.5000, device='mps:0')\n",
      "(2, 0, 1) tensor(-0.5000, device='mps:0')\n",
      "(2, 1, 0) tensor(0.5000, device='mps:0')\n",
      "batch_size 1\n",
      "(0, 1, 2) tensor(0.0054, device='mps:0', grad_fn=<SumBackward0>)\n",
      "batch_size 1\n",
      "(0, 1, 2) tensor(0., device='mps:0')\n",
      "batch_size 1\n",
      "(0, 2, 1) tensor(-0.9850, device='mps:0', grad_fn=<SumBackward0>)\n",
      "batch_size 1\n",
      "(0, 2, 1) tensor(0., device='mps:0')\n",
      "batch_size 1\n"
     ]
    },
    {
     "name": "stderr",
     "output_type": "stream",
     "text": [
      "Processing rows:  88%|████████▊ | 875/1000 [01:04<00:10, 12.19it/s]"
     ]
    },
    {
     "name": "stdout",
     "output_type": "stream",
     "text": [
      "(0, 1, 2) tensor(-0.0140, device='mps:0', grad_fn=<SumBackward0>)\n",
      "(1, 0, 2) tensor(-0.0140, device='mps:0', grad_fn=<SumBackward0>)\n",
      "(2, 1, 0) tensor(-0.0140, device='mps:0', grad_fn=<SumBackward0>)\n",
      "batch_size 1\n",
      "(0, 1, 2) tensor(0., device='mps:0')\n",
      "(1, 0, 2) tensor(0., device='mps:0')\n",
      "(2, 1, 0) tensor(0., device='mps:0')\n",
      "batch_size 1\n",
      "(2, 0, 1) tensor(0.0006, device='mps:0', grad_fn=<SumBackward0>)\n",
      "batch_size 1\n",
      "(2, 0, 1) tensor(0., device='mps:0')\n",
      "batch_size 1\n",
      "(0, 2, 1) tensor(-0.0187, device='mps:0', grad_fn=<SumBackward0>)\n",
      "(1, 2, 0) tensor(-0.0187, device='mps:0', grad_fn=<SumBackward0>)\n",
      "batch_size 1\n",
      "(0, 2, 1) tensor(0., device='mps:0')\n"
     ]
    },
    {
     "name": "stderr",
     "output_type": "stream",
     "text": [
      "Processing rows:  88%|████████▊ | 879/1000 [01:05<00:09, 13.43it/s]"
     ]
    },
    {
     "name": "stdout",
     "output_type": "stream",
     "text": [
      "(1, 2, 0) tensor(0., device='mps:0')\n",
      "batch_size 1\n",
      "(0, 2, 1) tensor(0.8665, device='mps:0', grad_fn=<SumBackward0>)\n",
      "(2, 1, 0) tensor(-0.1335, device='mps:0', grad_fn=<SumBackward0>)\n",
      "batch_size 1\n",
      "(0, 2, 1) tensor(0.5000, device='mps:0')\n",
      "(2, 1, 0) tensor(-0.5000, device='mps:0')\n",
      "batch_size 1\n",
      "(1, 0, 2) tensor(0.0002, device='mps:0', grad_fn=<SumBackward0>)\n",
      "batch_size 1\n",
      "(1, 0, 2) tensor(0., device='mps:0')\n",
      "batch_size 1\n",
      "(1, 0, 2) tensor(-0.9200, device='mps:0', grad_fn=<SumBackward0>)\n",
      "(1, 2, 0) tensor(0.0800, device='mps:0', grad_fn=<SumBackward0>)\n",
      "batch_size 1\n"
     ]
    },
    {
     "name": "stderr",
     "output_type": "stream",
     "text": [
      "Processing rows:  88%|████████▊ | 881/1000 [01:05<00:09, 12.56it/s]"
     ]
    },
    {
     "name": "stdout",
     "output_type": "stream",
     "text": [
      "(1, 0, 2) tensor(-0.5000, device='mps:0')\n",
      "(1, 2, 0) tensor(0.5000, device='mps:0')\n",
      "batch_size 1\n",
      "(1, 0, 2) tensor(-0.0074, device='mps:0', grad_fn=<SumBackward0>)\n",
      "(1, 2, 0) tensor(-0.0074, device='mps:0', grad_fn=<SumBackward0>)\n",
      "(2, 1, 0) tensor(-0.0074, device='mps:0', grad_fn=<SumBackward0>)\n",
      "batch_size 1\n",
      "(1, 0, 2) tensor(0., device='mps:0')\n",
      "(1, 2, 0) tensor(0., device='mps:0')\n",
      "(2, 1, 0) tensor(0., device='mps:0')\n",
      "batch_size 1\n",
      "(1, 0, 2) tensor(-0.0025, device='mps:0', grad_fn=<SumBackward0>)\n",
      "(2, 0, 1) tensor(-0.0025, device='mps:0', grad_fn=<SumBackward0>)\n",
      "(2, 1, 0) tensor(-0.0025, device='mps:0', grad_fn=<SumBackward0>)\n",
      "batch_size 1\n",
      "(1, 0, 2) tensor(0., device='mps:0')\n"
     ]
    },
    {
     "name": "stderr",
     "output_type": "stream",
     "text": [
      "Processing rows:  88%|████████▊ | 883/1000 [01:05<00:09, 12.63it/s]"
     ]
    },
    {
     "name": "stdout",
     "output_type": "stream",
     "text": [
      "(2, 0, 1) tensor(0., device='mps:0')\n",
      "(2, 1, 0) tensor(0., device='mps:0')\n",
      "batch_size 1\n",
      "(1, 2, 0) tensor(0.0015, device='mps:0', grad_fn=<SumBackward0>)\n",
      "batch_size 1\n",
      "(1, 2, 0) tensor(0., device='mps:0')\n",
      "batch_size 1\n",
      "(1, 0, 2) tensor(0.0005, device='mps:0', grad_fn=<SumBackward0>)\n",
      "(1, 2, 0) tensor(-0.9995, device='mps:0', grad_fn=<SumBackward0>)\n",
      "(2, 1, 0) tensor(-0.9995, device='mps:0', grad_fn=<SumBackward0>)\n",
      "batch_size 1\n",
      "(1, 0, 2) tensor(0.5000, device='mps:0')\n",
      "(1, 2, 0) tensor(-0.5000, device='mps:0')\n",
      "(2, 1, 0) tensor(-0.5000, device='mps:0')\n",
      "batch_size 1\n",
      "(0, 2, 1) "
     ]
    },
    {
     "name": "stderr",
     "output_type": "stream",
     "text": [
      "Processing rows:  88%|████████▊ | 885/1000 [01:05<00:09, 11.57it/s]"
     ]
    },
    {
     "name": "stdout",
     "output_type": "stream",
     "text": [
      "tensor(-1.0184, device='mps:0', grad_fn=<SumBackward0>)\n",
      "(1, 0, 2) tensor(-0.0184, device='mps:0', grad_fn=<SumBackward0>)\n",
      "(1, 2, 0) tensor(-0.0184, device='mps:0', grad_fn=<SumBackward0>)\n",
      "batch_size 1\n",
      "(0, 2, 1) tensor(-0.7500, device='mps:0')\n",
      "(1, 0, 2) tensor(0.2500, device='mps:0')\n",
      "(1, 2, 0) tensor(0.2500, device='mps:0')\n",
      "batch_size 1\n",
      "(0, 1, 2) tensor(0.0041, device='mps:0', grad_fn=<SumBackward0>)\n",
      "(0, 2, 1) tensor(-0.9959, device='mps:0', grad_fn=<SumBackward0>)\n",
      "(2, 0, 1) tensor(-0.9959, device='mps:0', grad_fn=<SumBackward0>)\n",
      "batch_size 1\n",
      "(0, 1, 2) tensor(0.5000, device='mps:0')\n",
      "(0, 2, 1) tensor(-0.5000, device='mps:0')\n",
      "(2, 0, 1) tensor(-0.5000, device='mps:0')\n",
      "batch_size 1\n"
     ]
    },
    {
     "name": "stderr",
     "output_type": "stream",
     "text": [
      "Processing rows:  89%|████████▊ | 887/1000 [01:05<00:10, 10.92it/s]"
     ]
    },
    {
     "name": "stdout",
     "output_type": "stream",
     "text": [
      "(0, 1, 2) tensor(0.1945, device='mps:0', grad_fn=<SumBackward0>)\n",
      "(2, 0, 1) tensor(-0.8055, device='mps:0', grad_fn=<SumBackward0>)\n",
      "(2, 1, 0) tensor(0.1945, device='mps:0', grad_fn=<SumBackward0>)\n",
      "batch_size 1\n",
      "(0, 1, 2) tensor(0.2500, device='mps:0')\n",
      "(2, 0, 1) tensor(-0.7500, device='mps:0')\n",
      "(2, 1, 0) tensor(0.2500, device='mps:0')\n",
      "batch_size 1\n",
      "(0, 2, 1) tensor(0.0004, device='mps:0', grad_fn=<SumBackward0>)\n",
      "(1, 0, 2) tensor(-0.9996, device='mps:0', grad_fn=<SumBackward0>)\n",
      "(2, 0, 1) tensor(-0.9996, device='mps:0', grad_fn=<SumBackward0>)\n",
      "batch_size 1\n",
      "(0, 2, 1) tensor(0.5000, device='mps:0')\n",
      "(1, 0, 2) tensor(-0.5000, device='mps:0')\n",
      "(2, 0, 1) tensor(-0.5000, device='mps:0')\n",
      "batch_size 1\n"
     ]
    },
    {
     "name": "stderr",
     "output_type": "stream",
     "text": [
      "Processing rows:  89%|████████▉ | 889/1000 [01:06<00:10, 10.54it/s]"
     ]
    },
    {
     "name": "stdout",
     "output_type": "stream",
     "text": [
      "(0, 2, 1) tensor(-0.6640, device='mps:0', grad_fn=<SumBackward0>)\n",
      "(1, 0, 2) tensor(0.3360, device='mps:0', grad_fn=<SumBackward0>)\n",
      "(2, 0, 1) tensor(-0.6640, device='mps:0', grad_fn=<SumBackward0>)\n",
      "batch_size 1\n",
      "(0, 2, 1) tensor(-0.5000, device='mps:0')\n",
      "(1, 0, 2) tensor(0.5000, device='mps:0')\n",
      "(2, 0, 1) tensor(-0.5000, device='mps:0')\n",
      "batch_size 1\n",
      "(0, 1, 2) tensor(0.0020, device='mps:0', grad_fn=<SumBackward0>)\n",
      "batch_size 1\n",
      "(0, 1, 2) tensor(0., device='mps:0')\n",
      "batch_size 1\n",
      "(1, 0, 2) tensor(-0.5265, device='mps:0', grad_fn=<SumBackward0>)\n",
      "(1, 2, 0) tensor(0.4735, device='mps:0', grad_fn=<SumBackward0>)\n",
      "(2, 1, 0) tensor(1.4735, device='mps:0', grad_fn=<SumBackward0>)\n",
      "batch_size 1\n"
     ]
    },
    {
     "name": "stderr",
     "output_type": "stream",
     "text": [
      "Processing rows:  89%|████████▉ | 893/1000 [01:06<00:09, 11.65it/s]"
     ]
    },
    {
     "name": "stdout",
     "output_type": "stream",
     "text": [
      "(1, 0, 2) tensor(-1.2500, device='mps:0')\n",
      "(1, 2, 0) tensor(-0.2500, device='mps:0')\n",
      "(2, 1, 0) tensor(0.7500, device='mps:0')\n",
      "batch_size 1\n",
      "(0, 1, 2) tensor(-0.0019, device='mps:0', grad_fn=<SumBackward0>)\n",
      "(1, 0, 2) tensor(-0.0019, device='mps:0', grad_fn=<SumBackward0>)\n",
      "batch_size 1\n",
      "(0, 1, 2) tensor(0., device='mps:0')\n",
      "(1, 0, 2) tensor(0., device='mps:0')\n",
      "batch_size 1\n",
      "(2, 0, 1) tensor(0.0520, device='mps:0', grad_fn=<SumBackward0>)\n",
      "batch_size 1\n",
      "(2, 0, 1) tensor(0., device='mps:0')\n",
      "batch_size 1\n"
     ]
    },
    {
     "name": "stderr",
     "output_type": "stream",
     "text": [
      "Processing rows:  90%|████████▉ | 895/1000 [01:06<00:08, 12.03it/s]"
     ]
    },
    {
     "name": "stdout",
     "output_type": "stream",
     "text": [
      "(0, 1, 2) tensor(-0.6302, device='mps:0', grad_fn=<SumBackward0>)\n",
      "(0, 2, 1) tensor(-0.6302, device='mps:0', grad_fn=<SumBackward0>)\n",
      "batch_size 1\n",
      "(0, 1, 2) tensor(0., device='mps:0')\n",
      "(0, 2, 1) tensor(0., device='mps:0')\n",
      "batch_size 1\n",
      "(0, 1, 2) tensor(-0.0007, device='mps:0', grad_fn=<SumBackward0>)\n",
      "(0, 2, 1) tensor(-0.0007, device='mps:0', grad_fn=<SumBackward0>)\n",
      "batch_size 1\n",
      "(0, 1, 2) tensor(0., device='mps:0')\n",
      "(0, 2, 1) tensor(0., device='mps:0')\n",
      "batch_size 1\n",
      "(1, 0, 2) tensor(0.0008, device='mps:0', grad_fn=<SumBackward0>)\n",
      "batch_size 1\n",
      "(1, 0, 2) tensor(0., device='mps:0')\n",
      "batch_size 1\n"
     ]
    },
    {
     "name": "stderr",
     "output_type": "stream",
     "text": [
      "Processing rows:  90%|████████▉ | 897/1000 [01:06<00:08, 12.78it/s]"
     ]
    },
    {
     "name": "stdout",
     "output_type": "stream",
     "text": [
      "(0, 1, 2) tensor(-0.9399, device='mps:0', grad_fn=<SumBackward0>)\n",
      "(1, 0, 2) tensor(0.0601, device='mps:0', grad_fn=<SumBackward0>)\n",
      "batch_size 1\n",
      "(0, 1, 2) tensor(-0.5000, device='mps:0')\n",
      "(1, 0, 2) tensor(0.5000, device='mps:0')\n",
      "batch_size 1\n",
      "(0, 1, 2) tensor(0.0016, device='mps:0', grad_fn=<SumBackward0>)\n",
      "batch_size 1\n",
      "(0, 1, 2) tensor(0., device='mps:0')\n",
      "batch_size 1\n",
      "(0, 2, 1) tensor(0.1474, device='mps:0', grad_fn=<SumBackward0>)\n",
      "(1, 2, 0) tensor(-0.8526, device='mps:0', grad_fn=<SumBackward0>)\n",
      "(2, 1, 0) tensor(-1.8526, device='mps:0', grad_fn=<SumBackward0>)\n",
      "batch_size 1\n",
      "(0, 2, 1) tensor(0.7500, device='mps:0')\n",
      "(1, 2, 0) tensor(-0.2500, device='mps:0')\n"
     ]
    },
    {
     "name": "stderr",
     "output_type": "stream",
     "text": [
      "Processing rows:  90%|█████████ | 901/1000 [01:06<00:07, 13.12it/s]"
     ]
    },
    {
     "name": "stdout",
     "output_type": "stream",
     "text": [
      "(2, 1, 0) tensor(-1.2500, device='mps:0')\n",
      "batch_size 1\n",
      "(2, 1, 0) tensor(-0.0173, device='mps:0', grad_fn=<SumBackward0>)\n",
      "batch_size 1\n",
      "(2, 1, 0) tensor(0., device='mps:0')\n",
      "batch_size 1\n",
      "(1, 2, 0) tensor(-0.0023, device='mps:0', grad_fn=<SumBackward0>)\n",
      "(2, 1, 0) tensor(-0.0023, device='mps:0', grad_fn=<SumBackward0>)\n",
      "batch_size 1\n",
      "(1, 2, 0) tensor(0., device='mps:0')\n",
      "(2, 1, 0) tensor(0., device='mps:0')\n",
      "batch_size 1\n",
      "(0, 2, 1) tensor(-0.0289, device='mps:0', grad_fn=<SumBackward0>)\n",
      "batch_size 1\n",
      "(0, 2, 1) tensor(0., device='mps:0')\n"
     ]
    },
    {
     "name": "stderr",
     "output_type": "stream",
     "text": [
      "Processing rows:  90%|█████████ | 905/1000 [01:07<00:06, 15.40it/s]"
     ]
    },
    {
     "name": "stdout",
     "output_type": "stream",
     "text": [
      "batch_size 1\n",
      "(0, 1, 2) tensor(0.2460, device='mps:0', grad_fn=<SumBackward0>)\n",
      "batch_size 1\n",
      "(0, 1, 2) tensor(0., device='mps:0')\n",
      "batch_size 1\n",
      "(0, 2, 1) tensor(0.0001, device='mps:0', grad_fn=<SumBackward0>)\n",
      "batch_size 1\n",
      "(0, 2, 1) tensor(0., device='mps:0')\n",
      "batch_size 1\n",
      "(1, 2, 0) tensor(0.0008, device='mps:0', grad_fn=<SumBackward0>)\n",
      "batch_size 1\n",
      "(1, 2, 0) tensor(0., device='mps:0')\n",
      "batch_size 1\n",
      "(0, 2, 1) tensor(-0.6428, device='mps:0', grad_fn=<SumBackward0>)\n",
      "(2, 0, 1) tensor(0.3572, device='mps:0', grad_fn=<SumBackward0>)\n",
      "batch_size 1\n"
     ]
    },
    {
     "name": "stderr",
     "output_type": "stream",
     "text": [
      "Processing rows:  91%|█████████ | 907/1000 [01:07<00:06, 13.66it/s]"
     ]
    },
    {
     "name": "stdout",
     "output_type": "stream",
     "text": [
      "(0, 2, 1) tensor(-0.5000, device='mps:0')\n",
      "(2, 0, 1) tensor(0.5000, device='mps:0')\n",
      "batch_size 1\n",
      "(0, 2, 1) tensor(-2.0616, device='mps:0', grad_fn=<SumBackward0>)\n",
      "(1, 0, 2) tensor(-0.0616, device='mps:0', grad_fn=<SumBackward0>)\n",
      "(2, 0, 1) tensor(-1.0616, device='mps:0', grad_fn=<SumBackward0>)\n",
      "batch_size 1\n",
      "(0, 2, 1) tensor(-1.2500, device='mps:0')\n",
      "(1, 0, 2) tensor(0.7500, device='mps:0')\n",
      "(2, 0, 1) tensor(-0.2500, device='mps:0')\n",
      "batch_size 1\n",
      "(0, 2, 1) tensor(0.6616, device='mps:0', grad_fn=<SumBackward0>)\n",
      "batch_size 1\n",
      "(0, 2, 1) tensor(0., device='mps:0')\n",
      "batch_size 1\n"
     ]
    },
    {
     "name": "stderr",
     "output_type": "stream",
     "text": [
      "Processing rows:  91%|█████████ | 911/1000 [01:07<00:06, 14.51it/s]"
     ]
    },
    {
     "name": "stdout",
     "output_type": "stream",
     "text": [
      "(1, 2, 0) tensor(0.2916, device='mps:0', grad_fn=<SumBackward0>)\n",
      "batch_size 1\n",
      "(1, 2, 0) tensor(0., device='mps:0')\n",
      "batch_size 1\n",
      "(2, 1, 0) tensor(0.0012, device='mps:0', grad_fn=<SumBackward0>)\n",
      "batch_size 1\n",
      "(2, 1, 0) tensor(0., device='mps:0')\n",
      "batch_size 1\n",
      "(0, 2, 1) tensor(0.8665, device='mps:0', grad_fn=<SumBackward0>)\n",
      "(2, 1, 0) tensor(-0.1335, device='mps:0', grad_fn=<SumBackward0>)\n",
      "batch_size 1\n",
      "(0, 2, 1) tensor(0.5000, device='mps:0')\n",
      "(2, 1, 0) tensor(-0.5000, device='mps:0')\n",
      "batch_size 1\n",
      "(0, 1, 2) tensor(0.2895, device='mps:0', grad_fn=<SumBackward0>)\n"
     ]
    },
    {
     "name": "stderr",
     "output_type": "stream",
     "text": [
      "Processing rows:  91%|█████████▏| 913/1000 [01:07<00:05, 15.58it/s]"
     ]
    },
    {
     "name": "stdout",
     "output_type": "stream",
     "text": [
      "batch_size 1\n",
      "(0, 1, 2) tensor(0., device='mps:0')\n",
      "batch_size 1\n",
      "(2, 0, 1) tensor(1.9174, device='mps:0', grad_fn=<SumBackward0>)\n",
      "batch_size 1\n",
      "(2, 0, 1) tensor(0., device='mps:0')\n",
      "batch_size 1\n",
      "(2, 0, 1) tensor(0.1458, device='mps:0', grad_fn=<SumBackward0>)\n",
      "(2, 1, 0) tensor(-0.8542, device='mps:0', grad_fn=<SumBackward0>)\n",
      "batch_size 1\n",
      "(2, 0, 1) tensor(0.5000, device='mps:0')\n",
      "(2, 1, 0) tensor(-0.5000, device='mps:0')\n",
      "batch_size 1\n",
      "(0, 2, 1) tensor(0.0010, device='mps:0', grad_fn=<SumBackward0>)\n",
      "batch_size 1\n",
      "(0, 2, 1) tensor(0., device='mps:0')\n"
     ]
    },
    {
     "name": "stderr",
     "output_type": "stream",
     "text": [
      "Processing rows:  92%|█████████▏| 917/1000 [01:07<00:05, 14.62it/s]"
     ]
    },
    {
     "name": "stdout",
     "output_type": "stream",
     "text": [
      "batch_size 1\n",
      "(2, 1, 0) tensor(0.0111, device='mps:0', grad_fn=<SumBackward0>)\n",
      "batch_size 1\n",
      "(2, 1, 0) tensor(0., device='mps:0')\n",
      "batch_size 1\n",
      "(0, 1, 2) tensor(0.0143, device='mps:0', grad_fn=<SumBackward0>)\n",
      "(1, 0, 2) tensor(0.0143, device='mps:0', grad_fn=<SumBackward0>)\n",
      "(2, 0, 1) tensor(0.0143, device='mps:0', grad_fn=<SumBackward0>)\n",
      "batch_size 1\n",
      "(0, 1, 2) tensor(0., device='mps:0')\n",
      "(1, 0, 2) tensor(0., device='mps:0')\n",
      "(2, 0, 1) tensor(0., device='mps:0')\n",
      "batch_size 1\n",
      "(2, 1, 0) tensor(2.0067, device='mps:0', grad_fn=<SumBackward0>)\n",
      "batch_size 1\n"
     ]
    },
    {
     "name": "stderr",
     "output_type": "stream",
     "text": [
      "Processing rows:  92%|█████████▏| 919/1000 [01:08<00:05, 13.80it/s]"
     ]
    },
    {
     "name": "stdout",
     "output_type": "stream",
     "text": [
      "(2, 1, 0) tensor(0., device='mps:0')\n",
      "batch_size 1\n",
      "(0, 1, 2) tensor(-0.9879, device='mps:0', grad_fn=<SumBackward0>)\n",
      "(2, 0, 1) tensor(-1.9879, device='mps:0', grad_fn=<SumBackward0>)\n",
      "(2, 1, 0) tensor(-1.9879, device='mps:0', grad_fn=<SumBackward0>)\n",
      "batch_size 1\n",
      "(0, 1, 2) tensor(0.5000, device='mps:0')\n",
      "(2, 0, 1) tensor(-0.5000, device='mps:0')\n",
      "(2, 1, 0) tensor(-0.5000, device='mps:0')\n",
      "batch_size 1\n",
      "(2, 1, 0) tensor(0.0029, device='mps:0', grad_fn=<SumBackward0>)\n",
      "batch_size 1\n",
      "(2, 1, 0) tensor(0., device='mps:0')\n",
      "batch_size 1\n",
      "(1, 0, 2) tensor(0.0047, device='mps:0', grad_fn=<SumBackward0>)\n",
      "batch_size 1\n"
     ]
    },
    {
     "name": "stderr",
     "output_type": "stream",
     "text": [
      "Processing rows:  92%|█████████▏| 923/1000 [01:08<00:05, 14.42it/s]"
     ]
    },
    {
     "name": "stdout",
     "output_type": "stream",
     "text": [
      "(1, 0, 2) tensor(0., device='mps:0')\n",
      "batch_size 1\n",
      "(0, 2, 1) tensor(-0.0300, device='mps:0', grad_fn=<SumBackward0>)\n",
      "(1, 2, 0) tensor(-0.0300, device='mps:0', grad_fn=<SumBackward0>)\n",
      "(2, 0, 1) tensor(-0.0300, device='mps:0', grad_fn=<SumBackward0>)\n",
      "batch_size 1\n",
      "(0, 2, 1) tensor(0., device='mps:0')\n",
      "(1, 2, 0) tensor(0., device='mps:0')\n",
      "(2, 0, 1) tensor(0., device='mps:0')\n",
      "batch_size 1\n",
      "(1, 2, 0) tensor(-0.0212, device='mps:0', grad_fn=<SumBackward0>)\n",
      "batch_size 1\n",
      "(1, 2, 0) tensor(0., device='mps:0')\n",
      "batch_size 1\n",
      "(0, 1, 2) tensor(-0.8920, device='mps:0', grad_fn=<SumBackward0>)\n"
     ]
    },
    {
     "name": "stderr",
     "output_type": "stream",
     "text": [
      "Processing rows:  92%|█████████▎| 925/1000 [01:08<00:05, 13.90it/s]"
     ]
    },
    {
     "name": "stdout",
     "output_type": "stream",
     "text": [
      "(2, 0, 1) tensor(0.1080, device='mps:0', grad_fn=<SumBackward0>)\n",
      "batch_size 1\n",
      "(0, 1, 2) tensor(-0.5000, device='mps:0')\n",
      "(2, 0, 1) tensor(0.5000, device='mps:0')\n",
      "batch_size 1\n",
      "(0, 2, 1) tensor(0.0294, device='mps:0', grad_fn=<SumBackward0>)\n",
      "batch_size 1\n",
      "(0, 2, 1) tensor(0., device='mps:0')\n",
      "batch_size 1\n",
      "(0, 1, 2) tensor(0.0002, device='mps:0', grad_fn=<SumBackward0>)\n",
      "batch_size 1\n",
      "(0, 1, 2) tensor(0., device='mps:0')\n",
      "batch_size 1\n",
      "(0, 2, 1) tensor(-0.0564, device='mps:0', grad_fn=<SumBackward0>)\n",
      "(2, 0, 1) tensor(-1.0564, device='mps:0', grad_fn=<SumBackward0>)\n"
     ]
    },
    {
     "name": "stderr",
     "output_type": "stream",
     "text": [
      "Processing rows:  93%|█████████▎| 927/1000 [01:08<00:05, 13.52it/s]"
     ]
    },
    {
     "name": "stdout",
     "output_type": "stream",
     "text": [
      "(2, 1, 0) tensor(-1.0564, device='mps:0', grad_fn=<SumBackward0>)\n",
      "batch_size 1\n",
      "(0, 2, 1) tensor(0.5000, device='mps:0')\n",
      "(2, 0, 1) tensor(-0.5000, device='mps:0')\n",
      "(2, 1, 0) tensor(-0.5000, device='mps:0')\n",
      "batch_size 1\n",
      "(0, 2, 1) tensor(-0.0363, device='mps:0', grad_fn=<SumBackward0>)\n",
      "(2, 0, 1) tensor(0.9637, device='mps:0', grad_fn=<SumBackward0>)\n",
      "batch_size 1\n",
      "(0, 2, 1) tensor(-0.5000, device='mps:0')\n",
      "(2, 0, 1) tensor(0.5000, device='mps:0')\n",
      "batch_size 1\n",
      "(1, 0, 2) tensor(0.0007, device='mps:0', grad_fn=<SumBackward0>)\n",
      "(2, 0, 1) tensor(0.0007, device='mps:0', grad_fn=<SumBackward0>)\n",
      "batch_size 1\n",
      "(1, 0, 2) tensor(0., device='mps:0')\n"
     ]
    },
    {
     "name": "stderr",
     "output_type": "stream",
     "text": [
      "Processing rows:  93%|█████████▎| 931/1000 [01:09<00:05, 13.02it/s]"
     ]
    },
    {
     "name": "stdout",
     "output_type": "stream",
     "text": [
      "(2, 0, 1) tensor(0., device='mps:0')\n",
      "batch_size 1\n",
      "(0, 2, 1) tensor(-0.0498, device='mps:0', grad_fn=<SumBackward0>)\n",
      "(1, 0, 2) tensor(-0.0498, device='mps:0', grad_fn=<SumBackward0>)\n",
      "(1, 2, 0) tensor(-0.0498, device='mps:0', grad_fn=<SumBackward0>)\n",
      "batch_size 1\n",
      "(0, 2, 1) tensor(0., device='mps:0')\n",
      "(1, 0, 2) tensor(0., device='mps:0')\n",
      "(1, 2, 0) tensor(0., device='mps:0')\n",
      "batch_size 1\n",
      "(2, 1, 0) tensor(0.0222, device='mps:0', grad_fn=<SumBackward0>)\n",
      "batch_size 1\n",
      "(2, 1, 0) tensor(0., device='mps:0')\n",
      "batch_size 1\n",
      "(1, 2, 0) tensor(-0.0322, device='mps:0', grad_fn=<SumBackward0>)\n",
      "batch_size 1\n"
     ]
    },
    {
     "name": "stderr",
     "output_type": "stream",
     "text": [
      "Processing rows:  93%|█████████▎| 933/1000 [01:09<00:04, 13.58it/s]"
     ]
    },
    {
     "name": "stdout",
     "output_type": "stream",
     "text": [
      "(1, 2, 0) tensor(0., device='mps:0')\n",
      "batch_size 1\n",
      "(1, 0, 2) tensor(-1.7051, device='mps:0', grad_fn=<SumBackward0>)\n",
      "(2, 0, 1) tensor(-1.7051, device='mps:0', grad_fn=<SumBackward0>)\n",
      "batch_size 1\n",
      "(1, 0, 2) tensor(0., device='mps:0')\n",
      "(2, 0, 1) tensor(0., device='mps:0')\n",
      "batch_size 1\n",
      "(0, 2, 1) tensor(-0.1973, device='mps:0', grad_fn=<SumBackward0>)\n",
      "(1, 2, 0) tensor(-0.1973, device='mps:0', grad_fn=<SumBackward0>)\n",
      "batch_size 1\n",
      "(0, 2, 1) tensor(0., device='mps:0')\n",
      "(1, 2, 0) tensor(0., device='mps:0')\n",
      "batch_size 1\n",
      "(1, 0, 2) tensor(0.0056, device='mps:0', grad_fn=<SumBackward0>)\n",
      "batch_size 1\n"
     ]
    },
    {
     "name": "stderr",
     "output_type": "stream",
     "text": [
      "Processing rows:  94%|█████████▎| 937/1000 [01:09<00:04, 13.48it/s]"
     ]
    },
    {
     "name": "stdout",
     "output_type": "stream",
     "text": [
      "(1, 0, 2) tensor(0., device='mps:0')\n",
      "batch_size 1\n",
      "(0, 2, 1) tensor(-0.0016, device='mps:0', grad_fn=<SumBackward0>)\n",
      "batch_size 1\n",
      "(0, 2, 1) tensor(0., device='mps:0')\n",
      "batch_size 1\n",
      "(1, 2, 0) tensor(-0.0399, device='mps:0', grad_fn=<SumBackward0>)\n",
      "(2, 0, 1) tensor(-1.0399, device='mps:0', grad_fn=<SumBackward0>)\n",
      "(2, 1, 0) tensor(-1.0399, device='mps:0', grad_fn=<SumBackward0>)\n",
      "batch_size 1\n",
      "(1, 2, 0) tensor(0.5000, device='mps:0')\n",
      "(2, 0, 1) tensor(-0.5000, device='mps:0')\n",
      "(2, 1, 0) tensor(-0.5000, device='mps:0')\n",
      "batch_size 1\n",
      "(0, 1, 2) tensor(-1.0006, device='mps:0', grad_fn=<SumBackward0>)\n",
      "batch_size 1\n"
     ]
    },
    {
     "name": "stderr",
     "output_type": "stream",
     "text": [
      "Processing rows:  94%|█████████▍| 939/1000 [01:09<00:04, 13.23it/s]"
     ]
    },
    {
     "name": "stdout",
     "output_type": "stream",
     "text": [
      "(0, 1, 2) tensor(0., device='mps:0')\n",
      "batch_size 1\n",
      "(0, 2, 1) tensor(0.0587, device='mps:0', grad_fn=<SumBackward0>)\n",
      "(1, 0, 2) tensor(-0.9413, device='mps:0', grad_fn=<SumBackward0>)\n",
      "(1, 2, 0) tensor(-0.9413, device='mps:0', grad_fn=<SumBackward0>)\n",
      "batch_size 1\n",
      "(0, 2, 1) tensor(0.5000, device='mps:0')\n",
      "(1, 0, 2) tensor(-0.5000, device='mps:0')\n",
      "(1, 2, 0) tensor(-0.5000, device='mps:0')\n",
      "batch_size 1\n",
      "(1, 0, 2) tensor(-0.0013, device='mps:0', grad_fn=<SumBackward0>)\n",
      "(1, 2, 0) tensor(-0.0013, device='mps:0', grad_fn=<SumBackward0>)\n",
      "batch_size 1\n",
      "(1, 0, 2) tensor(0., device='mps:0')\n",
      "(1, 2, 0) tensor(0., device='mps:0')\n",
      "batch_size 1\n"
     ]
    },
    {
     "name": "stderr",
     "output_type": "stream",
     "text": [
      "Processing rows:  94%|█████████▍| 941/1000 [01:09<00:04, 12.43it/s]"
     ]
    },
    {
     "name": "stdout",
     "output_type": "stream",
     "text": [
      "(0, 1, 2) tensor(0.0097, device='mps:0', grad_fn=<SumBackward0>)\n",
      "(0, 2, 1) tensor(0.0097, device='mps:0', grad_fn=<SumBackward0>)\n",
      "(2, 0, 1) tensor(0.0097, device='mps:0', grad_fn=<SumBackward0>)\n",
      "batch_size 1\n",
      "(0, 1, 2) tensor(0., device='mps:0')\n",
      "(0, 2, 1) tensor(0., device='mps:0')\n",
      "(2, 0, 1) tensor(0., device='mps:0')\n",
      "batch_size 1\n",
      "(0, 2, 1) tensor(-1.0569, device='mps:0', grad_fn=<SumBackward0>)\n",
      "(2, 0, 1) tensor(-1.0569, device='mps:0', grad_fn=<SumBackward0>)\n",
      "(2, 1, 0) tensor(-0.0569, device='mps:0', grad_fn=<SumBackward0>)\n",
      "batch_size 1\n",
      "(0, 2, 1) tensor(-0.5000, device='mps:0')\n",
      "(2, 0, 1) tensor(-0.5000, device='mps:0')\n",
      "(2, 1, 0) tensor(0.5000, device='mps:0')\n",
      "batch_size 1\n"
     ]
    },
    {
     "name": "stderr",
     "output_type": "stream",
     "text": [
      "Processing rows:  94%|█████████▍| 945/1000 [01:10<00:04, 13.29it/s]"
     ]
    },
    {
     "name": "stdout",
     "output_type": "stream",
     "text": [
      "(0, 2, 1) tensor(0.0027, device='mps:0', grad_fn=<SumBackward0>)\n",
      "batch_size 1\n",
      "(0, 2, 1) tensor(0., device='mps:0')\n",
      "batch_size 1\n",
      "(1, 0, 2) tensor(-0.0079, device='mps:0', grad_fn=<SumBackward0>)\n",
      "(1, 2, 0) tensor(-0.0079, device='mps:0', grad_fn=<SumBackward0>)\n",
      "batch_size 1\n",
      "(1, 0, 2) tensor(0., device='mps:0')\n",
      "(1, 2, 0) tensor(0., device='mps:0')\n",
      "batch_size 1\n",
      "(0, 1, 2) tensor(0.0024, device='mps:0', grad_fn=<SumBackward0>)\n",
      "batch_size 1\n",
      "(0, 1, 2) tensor(0., device='mps:0')\n",
      "batch_size 1\n",
      "(0, 1, 2) tensor(0.7907, device='mps:0', grad_fn=<SumBackward0>)\n",
      "(0, 2, 1) tensor(0.7907, device='mps:0', grad_fn=<SumBackward0>)\n"
     ]
    },
    {
     "name": "stderr",
     "output_type": "stream",
     "text": [
      "Processing rows:  95%|█████████▍| 947/1000 [01:10<00:03, 13.61it/s]"
     ]
    },
    {
     "name": "stdout",
     "output_type": "stream",
     "text": [
      "batch_size 1\n",
      "(0, 1, 2) tensor(0., device='mps:0')\n",
      "(0, 2, 1) tensor(0., device='mps:0')\n",
      "batch_size 1\n",
      "(2, 1, 0) tensor(0.2373, device='mps:0', grad_fn=<SumBackward0>)\n",
      "batch_size 1\n",
      "(2, 1, 0) tensor(0., device='mps:0')\n",
      "batch_size 1\n",
      "(2, 0, 1) tensor(0.0453, device='mps:0', grad_fn=<SumBackward0>)\n",
      "batch_size 1\n",
      "(2, 0, 1) tensor(0., device='mps:0')\n",
      "batch_size 1\n",
      "(1, 0, 2) tensor(0.0334, device='mps:0', grad_fn=<SumBackward0>)\n",
      "batch_size 1\n",
      "(1, 0, 2) tensor(0., device='mps:0')\n"
     ]
    },
    {
     "name": "stderr",
     "output_type": "stream",
     "text": [
      "Processing rows:  95%|█████████▌| 951/1000 [01:10<00:03, 14.20it/s]"
     ]
    },
    {
     "name": "stdout",
     "output_type": "stream",
     "text": [
      "batch_size 1\n",
      "(1, 0, 2) tensor(-0.0074, device='mps:0', grad_fn=<SumBackward0>)\n",
      "(1, 2, 0) tensor(-0.0074, device='mps:0', grad_fn=<SumBackward0>)\n",
      "(2, 1, 0) tensor(-0.0074, device='mps:0', grad_fn=<SumBackward0>)\n",
      "batch_size 1\n",
      "(1, 0, 2) tensor(0., device='mps:0')\n",
      "(1, 2, 0) tensor(0., device='mps:0')\n",
      "(2, 1, 0) tensor(0., device='mps:0')\n",
      "batch_size 1\n",
      "(1, 2, 0) tensor(0.0007, device='mps:0', grad_fn=<SumBackward0>)\n",
      "batch_size 1\n",
      "(1, 2, 0) tensor(0., device='mps:0')\n",
      "batch_size 1\n",
      "(0, 1, 2) tensor(0.0032, device='mps:0', grad_fn=<SumBackward0>)\n",
      "batch_size 1\n",
      "(0, 1, 2) tensor(0., device='mps:0')\n"
     ]
    },
    {
     "name": "stderr",
     "output_type": "stream",
     "text": [
      "Processing rows:  95%|█████████▌| 953/1000 [01:10<00:03, 13.82it/s]"
     ]
    },
    {
     "name": "stdout",
     "output_type": "stream",
     "text": [
      "batch_size 1\n",
      "(0, 1, 2) tensor(-0.0040, device='mps:0', grad_fn=<SumBackward0>)\n",
      "(1, 0, 2) tensor(-0.0040, device='mps:0', grad_fn=<SumBackward0>)\n",
      "(2, 0, 1) tensor(-0.0040, device='mps:0', grad_fn=<SumBackward0>)\n",
      "batch_size 1\n",
      "(0, 1, 2) tensor(0., device='mps:0')\n",
      "(1, 0, 2) tensor(0., device='mps:0')\n",
      "(2, 0, 1) tensor(0., device='mps:0')\n",
      "batch_size 1\n",
      "(2, 0, 1) tensor(1.1897, device='mps:0', grad_fn=<SumBackward0>)\n",
      "batch_size 1\n",
      "(2, 0, 1) tensor(0., device='mps:0')\n",
      "batch_size 1\n",
      "(2, 1, 0) tensor(0.0004, device='mps:0', grad_fn=<SumBackward0>)\n",
      "batch_size 1\n",
      "(2, 1, 0) tensor(0., device='mps:0')\n"
     ]
    },
    {
     "name": "stderr",
     "output_type": "stream",
     "text": [
      "Processing rows:  96%|█████████▌| 957/1000 [01:10<00:03, 13.40it/s]"
     ]
    },
    {
     "name": "stdout",
     "output_type": "stream",
     "text": [
      "batch_size 1\n",
      "(0, 1, 2) tensor(0.0250, device='mps:0', grad_fn=<SumBackward0>)\n",
      "(0, 2, 1) tensor(0.0250, device='mps:0', grad_fn=<SumBackward0>)\n",
      "(2, 1, 0) tensor(0.0250, device='mps:0', grad_fn=<SumBackward0>)\n",
      "batch_size 1\n",
      "(0, 1, 2) tensor(0., device='mps:0')\n",
      "(0, 2, 1) tensor(0., device='mps:0')\n",
      "(2, 1, 0) tensor(0., device='mps:0')\n",
      "batch_size 1\n",
      "(0, 2, 1) tensor(0.0001, device='mps:0', grad_fn=<SumBackward0>)\n",
      "(2, 0, 1) tensor(0.0001, device='mps:0', grad_fn=<SumBackward0>)\n",
      "batch_size 1\n",
      "(0, 2, 1) tensor(0., device='mps:0')\n",
      "(2, 0, 1) tensor(0., device='mps:0')\n",
      "batch_size 1\n"
     ]
    },
    {
     "name": "stderr",
     "output_type": "stream",
     "text": [
      "Processing rows:  96%|█████████▌| 959/1000 [01:11<00:02, 13.78it/s]"
     ]
    },
    {
     "name": "stdout",
     "output_type": "stream",
     "text": [
      "(2, 0, 1) tensor(0.0008, device='mps:0', grad_fn=<SumBackward0>)\n",
      "batch_size 1\n",
      "(2, 0, 1) tensor(0., device='mps:0')\n",
      "batch_size 1\n",
      "(1, 0, 2) tensor(-0.0121, device='mps:0', grad_fn=<SumBackward0>)\n",
      "(1, 2, 0) tensor(-0.0121, device='mps:0', grad_fn=<SumBackward0>)\n",
      "batch_size 1\n",
      "(1, 0, 2) tensor(0., device='mps:0')\n",
      "(1, 2, 0) tensor(0., device='mps:0')\n",
      "batch_size 1\n",
      "(2, 0, 1) tensor(0.0572, device='mps:0', grad_fn=<SumBackward0>)\n",
      "batch_size 1\n",
      "(2, 0, 1) tensor(0., device='mps:0')\n",
      "batch_size 1\n",
      "(0, 1, 2) tensor(0.0009, device='mps:0', grad_fn=<SumBackward0>)\n",
      "batch_size 1\n"
     ]
    },
    {
     "name": "stderr",
     "output_type": "stream",
     "text": [
      "Processing rows:  96%|█████████▋| 963/1000 [01:11<00:02, 15.01it/s]"
     ]
    },
    {
     "name": "stdout",
     "output_type": "stream",
     "text": [
      "(0, 1, 2) tensor(0., device='mps:0')\n",
      "batch_size 1\n",
      "(1, 0, 2) tensor(0.0302, device='mps:0', grad_fn=<SumBackward0>)\n",
      "batch_size 1\n",
      "(1, 0, 2) tensor(0., device='mps:0')\n",
      "batch_size 1\n",
      "(0, 1, 2) tensor(0.0401, device='mps:0', grad_fn=<SumBackward0>)\n",
      "batch_size 1\n",
      "(0, 1, 2) tensor(0., device='mps:0')\n",
      "batch_size 1\n",
      "(0, 2, 1) tensor(0.0006, device='mps:0', grad_fn=<SumBackward0>)\n",
      "batch_size 1\n",
      "(0, 2, 1) tensor(0., device='mps:0')\n"
     ]
    },
    {
     "name": "stderr",
     "output_type": "stream",
     "text": [
      "Processing rows:  96%|█████████▋| 965/1000 [01:11<00:02, 14.97it/s]"
     ]
    },
    {
     "name": "stdout",
     "output_type": "stream",
     "text": [
      "batch_size 1\n",
      "(0, 2, 1) tensor(0.0191, device='mps:0', grad_fn=<SumBackward0>)\n",
      "(1, 0, 2) tensor(-0.9809, device='mps:0', grad_fn=<SumBackward0>)\n",
      "batch_size 1\n",
      "(0, 2, 1) tensor(0.5000, device='mps:0')\n",
      "(1, 0, 2) tensor(-0.5000, device='mps:0')\n",
      "batch_size 1\n",
      "(1, 2, 0) tensor(0.0014, device='mps:0', grad_fn=<SumBackward0>)\n",
      "batch_size 1\n",
      "(1, 2, 0) tensor(0., device='mps:0')\n",
      "batch_size 1\n",
      "(0, 2, 1) tensor(0.0004, device='mps:0', grad_fn=<SumBackward0>)\n",
      "(1, 2, 0) tensor(0.0004, device='mps:0', grad_fn=<SumBackward0>)\n",
      "batch_size 1\n",
      "(0, 2, 1) tensor(0., device='mps:0')\n",
      "(1, 2, 0) tensor(0., device='mps:0')\n"
     ]
    },
    {
     "name": "stderr",
     "output_type": "stream",
     "text": [
      "Processing rows:  97%|█████████▋| 969/1000 [01:11<00:02, 15.34it/s]"
     ]
    },
    {
     "name": "stdout",
     "output_type": "stream",
     "text": [
      "batch_size 1\n",
      "(2, 0, 1) tensor(-1.9997, device='mps:0', grad_fn=<SumBackward0>)\n",
      "(2, 1, 0) tensor(-1.9997, device='mps:0', grad_fn=<SumBackward0>)\n",
      "batch_size 1\n",
      "(2, 0, 1) tensor(0., device='mps:0')\n",
      "(2, 1, 0) tensor(0., device='mps:0')\n",
      "batch_size 1\n",
      "(0, 1, 2) tensor(-0.0010, device='mps:0', grad_fn=<SumBackward0>)\n",
      "batch_size 1\n",
      "(0, 1, 2) tensor(0., device='mps:0')\n",
      "batch_size 1\n",
      "(1, 2, 0) tensor(-0.0166, device='mps:0', grad_fn=<SumBackward0>)\n",
      "batch_size 1\n",
      "(1, 2, 0) tensor(0., device='mps:0')\n",
      "batch_size 1\n"
     ]
    },
    {
     "name": "stderr",
     "output_type": "stream",
     "text": [
      "Processing rows:  97%|█████████▋| 973/1000 [01:11<00:01, 15.76it/s]"
     ]
    },
    {
     "name": "stdout",
     "output_type": "stream",
     "text": [
      "(2, 1, 0) tensor(-0.0043, device='mps:0', grad_fn=<SumBackward0>)\n",
      "batch_size 1\n",
      "(2, 1, 0) tensor(0., device='mps:0')\n",
      "batch_size 1\n",
      "(0, 2, 1) tensor(-0.7903, device='mps:0', grad_fn=<SumBackward0>)\n",
      "(2, 0, 1) tensor(-0.7903, device='mps:0', grad_fn=<SumBackward0>)\n",
      "batch_size 1\n",
      "(0, 2, 1) tensor(0., device='mps:0')\n",
      "(2, 0, 1) tensor(0., device='mps:0')\n",
      "batch_size 1\n",
      "(1, 2, 0) tensor(4.4133e-05, device='mps:0', grad_fn=<SumBackward0>)\n",
      "batch_size 1\n",
      "(1, 2, 0) tensor(0., device='mps:0')\n",
      "batch_size 1\n",
      "(2, 1, 0) tensor(2.9267, device='mps:0', grad_fn=<SumBackward0>)\n",
      "batch_size 1\n"
     ]
    },
    {
     "name": "stderr",
     "output_type": "stream",
     "text": [
      "Processing rows:  98%|█████████▊| 975/1000 [01:12<00:01, 16.29it/s]"
     ]
    },
    {
     "name": "stdout",
     "output_type": "stream",
     "text": [
      "(2, 1, 0) tensor(0., device='mps:0')\n",
      "batch_size 1\n",
      "(0, 2, 1) tensor(1.5657, device='mps:0', grad_fn=<SumBackward0>)\n",
      "batch_size 1\n",
      "(0, 2, 1) tensor(0., device='mps:0')\n",
      "batch_size 1\n",
      "(0, 1, 2) tensor(-0.9774, device='mps:0', grad_fn=<SumBackward0>)\n",
      "(1, 0, 2) tensor(0.0226, device='mps:0', grad_fn=<SumBackward0>)\n",
      "batch_size 1\n",
      "(0, 1, 2) tensor(-0.5000, device='mps:0')\n",
      "(1, 0, 2) tensor(0.5000, device='mps:0')\n",
      "batch_size 1\n",
      "(1, 0, 2) tensor(0.0123, device='mps:0', grad_fn=<SumBackward0>)\n",
      "batch_size 1\n",
      "(1, 0, 2) tensor(0., device='mps:0')\n"
     ]
    },
    {
     "name": "stderr",
     "output_type": "stream",
     "text": [
      "Processing rows:  98%|█████████▊| 979/1000 [01:12<00:01, 16.50it/s]"
     ]
    },
    {
     "name": "stdout",
     "output_type": "stream",
     "text": [
      "batch_size 1\n",
      "(2, 1, 0) tensor(-0.0003, device='mps:0', grad_fn=<SumBackward0>)\n",
      "batch_size 1\n",
      "(2, 1, 0) tensor(0., device='mps:0')\n",
      "batch_size 1\n",
      "(0, 2, 1) tensor(0.0001, device='mps:0', grad_fn=<SumBackward0>)\n",
      "batch_size 1\n",
      "(0, 2, 1) tensor(0., device='mps:0')\n",
      "batch_size 1\n",
      "(1, 0, 2) tensor(0.1271, device='mps:0', grad_fn=<SumBackward0>)\n",
      "batch_size 1\n",
      "(1, 0, 2) tensor(0., device='mps:0')\n",
      "batch_size 1\n",
      "(1, 2, 0) tensor(-0.3858, device='mps:0', grad_fn=<SumBackward0>)\n",
      "(2, 0, 1) tensor(0.6142, device='mps:0', grad_fn=<SumBackward0>)\n",
      "batch_size 1\n"
     ]
    },
    {
     "name": "stderr",
     "output_type": "stream",
     "text": [
      "Processing rows:  98%|█████████▊| 983/1000 [01:12<00:01, 14.98it/s]"
     ]
    },
    {
     "name": "stdout",
     "output_type": "stream",
     "text": [
      "(1, 2, 0) tensor(-0.5000, device='mps:0')\n",
      "(2, 0, 1) tensor(0.5000, device='mps:0')\n",
      "batch_size 1\n",
      "(1, 0, 2) tensor(-0.0117, device='mps:0', grad_fn=<SumBackward0>)\n",
      "(2, 1, 0) tensor(0.9883, device='mps:0', grad_fn=<SumBackward0>)\n",
      "batch_size 1\n",
      "(1, 0, 2) tensor(-0.5000, device='mps:0')\n",
      "(2, 1, 0) tensor(0.5000, device='mps:0')\n",
      "batch_size 1\n",
      "(1, 0, 2) tensor(0.9580, device='mps:0', grad_fn=<SumBackward0>)\n",
      "(2, 1, 0) tensor(-0.0420, device='mps:0', grad_fn=<SumBackward0>)\n",
      "batch_size 1\n",
      "(1, 0, 2) tensor(0.5000, device='mps:0')\n",
      "(2, 1, 0) tensor(-0.5000, device='mps:0')\n",
      "batch_size 1\n",
      "(0, 2, 1) tensor(9.0459e-05, device='mps:0', grad_fn=<SumBackward0>)\n"
     ]
    },
    {
     "name": "stderr",
     "output_type": "stream",
     "text": [
      "Processing rows:  99%|█████████▊| 987/1000 [01:12<00:00, 16.53it/s]"
     ]
    },
    {
     "name": "stdout",
     "output_type": "stream",
     "text": [
      "batch_size 1\n",
      "(0, 2, 1) tensor(0., device='mps:0')\n",
      "batch_size 1\n",
      "(2, 1, 0) tensor(0.8122, device='mps:0', grad_fn=<SumBackward0>)\n",
      "batch_size 1\n",
      "(2, 1, 0) tensor(0., device='mps:0')\n",
      "batch_size 1\n",
      "(2, 1, 0) tensor(0.0026, device='mps:0', grad_fn=<SumBackward0>)\n",
      "batch_size 1\n",
      "(2, 1, 0) tensor(0., device='mps:0')\n",
      "batch_size 1\n",
      "(2, 1, 0) tensor(0.0004, device='mps:0', grad_fn=<SumBackward0>)\n",
      "batch_size 1\n",
      "(2, 1, 0) tensor(0., device='mps:0')\n",
      "batch_size 1\n"
     ]
    },
    {
     "name": "stderr",
     "output_type": "stream",
     "text": [
      "Processing rows:  99%|█████████▉| 989/1000 [01:12<00:00, 16.22it/s]"
     ]
    },
    {
     "name": "stdout",
     "output_type": "stream",
     "text": [
      "(1, 2, 0) tensor(-0.0003, device='mps:0', grad_fn=<SumBackward0>)\n",
      "batch_size 1\n",
      "(1, 2, 0) tensor(0., device='mps:0')\n",
      "batch_size 1\n",
      "(0, 1, 2) tensor(-0.1335, device='mps:0', grad_fn=<SumBackward0>)\n",
      "(1, 0, 2) tensor(-0.1335, device='mps:0', grad_fn=<SumBackward0>)\n",
      "batch_size 1\n",
      "(0, 1, 2) tensor(0., device='mps:0')\n",
      "(1, 0, 2) tensor(0., device='mps:0')\n",
      "batch_size 1\n",
      "(1, 2, 0) tensor(0.0236, device='mps:0', grad_fn=<SumBackward0>)\n",
      "batch_size 1\n",
      "(1, 2, 0) tensor(0., device='mps:0')\n",
      "batch_size 1\n",
      "(0, 2, 1) tensor(-0.0002, device='mps:0', grad_fn=<SumBackward0>)\n",
      "batch_size 1\n"
     ]
    },
    {
     "name": "stderr",
     "output_type": "stream",
     "text": [
      "Processing rows:  99%|█████████▉| 993/1000 [01:13<00:00, 15.14it/s]"
     ]
    },
    {
     "name": "stdout",
     "output_type": "stream",
     "text": [
      "(0, 2, 1) tensor(0., device='mps:0')\n",
      "batch_size 1\n",
      "(1, 0, 2) tensor(-0.9957, device='mps:0', grad_fn=<SumBackward0>)\n",
      "(1, 2, 0) tensor(-0.9957, device='mps:0', grad_fn=<SumBackward0>)\n",
      "batch_size 1\n",
      "(1, 0, 2) tensor(0., device='mps:0')\n",
      "(1, 2, 0) tensor(0., device='mps:0')\n",
      "batch_size 1\n",
      "(1, 2, 0) tensor(-0.9776, device='mps:0', grad_fn=<SumBackward0>)\n",
      "(2, 1, 0) tensor(0.0224, device='mps:0', grad_fn=<SumBackward0>)\n",
      "batch_size 1\n",
      "(1, 2, 0) tensor(-0.5000, device='mps:0')\n",
      "(2, 1, 0) tensor(0.5000, device='mps:0')\n",
      "batch_size 1\n",
      "(2, 1, 0) tensor(0.0006, device='mps:0', grad_fn=<SumBackward0>)\n",
      "batch_size 1\n"
     ]
    },
    {
     "name": "stderr",
     "output_type": "stream",
     "text": [
      "Processing rows: 100%|█████████▉| 995/1000 [01:13<00:00, 15.13it/s]"
     ]
    },
    {
     "name": "stdout",
     "output_type": "stream",
     "text": [
      "(2, 1, 0) tensor(0., device='mps:0')\n",
      "batch_size 1\n",
      "(0, 2, 1) tensor(-0.0031, device='mps:0', grad_fn=<SumBackward0>)\n",
      "(1, 2, 0) tensor(-1.0031, device='mps:0', grad_fn=<SumBackward0>)\n",
      "batch_size 1\n",
      "(0, 2, 1) tensor(0.5000, device='mps:0')\n",
      "(1, 2, 0) tensor(-0.5000, device='mps:0')\n",
      "batch_size 1\n",
      "(1, 0, 2) tensor(0.0023, device='mps:0', grad_fn=<SumBackward0>)\n",
      "batch_size 1\n",
      "(1, 0, 2) tensor(0., device='mps:0')\n",
      "batch_size 1\n",
      "(1, 0, 2) tensor(0.0039, device='mps:0', grad_fn=<SumBackward0>)\n",
      "batch_size 1\n"
     ]
    },
    {
     "name": "stderr",
     "output_type": "stream",
     "text": [
      "Processing rows: 100%|██████████| 1000/1000 [01:13<00:00, 13.59it/s]"
     ]
    },
    {
     "name": "stdout",
     "output_type": "stream",
     "text": [
      "(1, 0, 2) tensor(0., device='mps:0')\n",
      "batch_size 1\n",
      "(1, 0, 2) tensor(0.0222, device='mps:0', grad_fn=<SumBackward0>)\n",
      "batch_size 1\n",
      "(1, 0, 2) tensor(0., device='mps:0')\n",
      "batch_size 1\n",
      "(2, 0, 1) tensor(0.0001, device='mps:0', grad_fn=<SumBackward0>)\n",
      "batch_size 1\n",
      "(2, 0, 1) tensor(0., device='mps:0')\n",
      "batch_size 1\n",
      "(1, 2, 0) tensor(0.0088, device='mps:0', grad_fn=<SumBackward0>)\n",
      "batch_size 1\n",
      "(1, 2, 0) tensor(0., device='mps:0')\n"
     ]
    },
    {
     "name": "stderr",
     "output_type": "stream",
     "text": [
      "\n"
     ]
    }
   ],
   "source": [
    "df_1 = apply_features(cfg, model, df_1)"
   ]
  },
  {
   "cell_type": "code",
   "execution_count": 142,
   "metadata": {},
   "outputs": [
    {
     "name": "stderr",
     "output_type": "stream",
     "text": [
      "/Users/meina/Github/meina-t/matching_with_dl/utils.py:162: FutureWarning: DataFrame.applymap has been deprecated. Use DataFrame.map instead.\n",
      "  return df.applymap(try_convert)\n"
     ]
    }
   ],
   "source": [
    "df_1 = convert_to_float(df_1)"
   ]
  },
  {
   "cell_type": "code",
   "execution_count": 143,
   "metadata": {},
   "outputs": [
    {
     "data": {
      "text/html": [
       "<div>\n",
       "<style scoped>\n",
       "    .dataframe tbody tr th:only-of-type {\n",
       "        vertical-align: middle;\n",
       "    }\n",
       "\n",
       "    .dataframe tbody tr th {\n",
       "        vertical-align: top;\n",
       "    }\n",
       "\n",
       "    .dataframe thead th {\n",
       "        text-align: right;\n",
       "    }\n",
       "</style>\n",
       "<table border=\"1\" class=\"dataframe\">\n",
       "  <thead>\n",
       "    <tr style=\"text-align: right;\">\n",
       "      <th></th>\n",
       "      <th>model_efficiency_loss</th>\n",
       "      <th>model_stability_loss</th>\n",
       "      <th>model_sp_loss</th>\n",
       "      <th>da_efficiency_loss</th>\n",
       "      <th>da_stability_loss</th>\n",
       "      <th>da_sp_loss</th>\n",
       "    </tr>\n",
       "  </thead>\n",
       "  <tbody>\n",
       "    <tr>\n",
       "      <th>count</th>\n",
       "      <td>1000.000000</td>\n",
       "      <td>1000.000000</td>\n",
       "      <td>1.000000e+03</td>\n",
       "      <td>1000.000000</td>\n",
       "      <td>1000.000000</td>\n",
       "      <td>1000.0</td>\n",
       "    </tr>\n",
       "    <tr>\n",
       "      <th>mean</th>\n",
       "      <td>-0.239024</td>\n",
       "      <td>0.150120</td>\n",
       "      <td>2.889324e-02</td>\n",
       "      <td>-0.176250</td>\n",
       "      <td>0.170672</td>\n",
       "      <td>0.0</td>\n",
       "    </tr>\n",
       "    <tr>\n",
       "      <th>std</th>\n",
       "      <td>0.739535</td>\n",
       "      <td>0.084341</td>\n",
       "      <td>5.687820e-02</td>\n",
       "      <td>0.321484</td>\n",
       "      <td>0.101627</td>\n",
       "      <td>0.0</td>\n",
       "    </tr>\n",
       "    <tr>\n",
       "      <th>min</th>\n",
       "      <td>-2.061551</td>\n",
       "      <td>0.000004</td>\n",
       "      <td>3.144831e-10</td>\n",
       "      <td>-1.250000</td>\n",
       "      <td>0.000000</td>\n",
       "      <td>0.0</td>\n",
       "    </tr>\n",
       "    <tr>\n",
       "      <th>25%</th>\n",
       "      <td>-0.815943</td>\n",
       "      <td>0.089006</td>\n",
       "      <td>1.291068e-04</td>\n",
       "      <td>-0.500000</td>\n",
       "      <td>0.088889</td>\n",
       "      <td>0.0</td>\n",
       "    </tr>\n",
       "    <tr>\n",
       "      <th>50%</th>\n",
       "      <td>0.000057</td>\n",
       "      <td>0.140315</td>\n",
       "      <td>2.615907e-03</td>\n",
       "      <td>0.000000</td>\n",
       "      <td>0.177778</td>\n",
       "      <td>0.0</td>\n",
       "    </tr>\n",
       "    <tr>\n",
       "      <th>75%</th>\n",
       "      <td>0.007098</td>\n",
       "      <td>0.202257</td>\n",
       "      <td>3.310140e-02</td>\n",
       "      <td>0.000000</td>\n",
       "      <td>0.244444</td>\n",
       "      <td>0.0</td>\n",
       "    </tr>\n",
       "    <tr>\n",
       "      <th>max</th>\n",
       "      <td>2.926688</td>\n",
       "      <td>0.377654</td>\n",
       "      <td>4.392601e-01</td>\n",
       "      <td>0.000000</td>\n",
       "      <td>0.450000</td>\n",
       "      <td>0.0</td>\n",
       "    </tr>\n",
       "  </tbody>\n",
       "</table>\n",
       "</div>"
      ],
      "text/plain": [
       "       model_efficiency_loss  model_stability_loss  model_sp_loss  \\\n",
       "count            1000.000000           1000.000000   1.000000e+03   \n",
       "mean               -0.239024              0.150120   2.889324e-02   \n",
       "std                 0.739535              0.084341   5.687820e-02   \n",
       "min                -2.061551              0.000004   3.144831e-10   \n",
       "25%                -0.815943              0.089006   1.291068e-04   \n",
       "50%                 0.000057              0.140315   2.615907e-03   \n",
       "75%                 0.007098              0.202257   3.310140e-02   \n",
       "max                 2.926688              0.377654   4.392601e-01   \n",
       "\n",
       "       da_efficiency_loss  da_stability_loss  da_sp_loss  \n",
       "count         1000.000000        1000.000000      1000.0  \n",
       "mean            -0.176250           0.170672         0.0  \n",
       "std              0.321484           0.101627         0.0  \n",
       "min             -1.250000           0.000000         0.0  \n",
       "25%             -0.500000           0.088889         0.0  \n",
       "50%              0.000000           0.177778         0.0  \n",
       "75%              0.000000           0.244444         0.0  \n",
       "max              0.000000           0.450000         0.0  "
      ]
     },
     "execution_count": 143,
     "metadata": {},
     "output_type": "execute_result"
    }
   ],
   "source": [
    "df_1.describe()"
   ]
  },
  {
   "cell_type": "code",
   "execution_count": 119,
   "metadata": {},
   "outputs": [
    {
     "data": {
      "text/html": [
       "<div>\n",
       "<style scoped>\n",
       "    .dataframe tbody tr th:only-of-type {\n",
       "        vertical-align: middle;\n",
       "    }\n",
       "\n",
       "    .dataframe tbody tr th {\n",
       "        vertical-align: top;\n",
       "    }\n",
       "\n",
       "    .dataframe thead th {\n",
       "        text-align: right;\n",
       "    }\n",
       "</style>\n",
       "<table border=\"1\" class=\"dataframe\">\n",
       "  <thead>\n",
       "    <tr style=\"text-align: right;\">\n",
       "      <th></th>\n",
       "      <th>p</th>\n",
       "      <th>q</th>\n",
       "      <th>model_efficiency_loss</th>\n",
       "      <th>model_stability_loss</th>\n",
       "      <th>model_sp_loss</th>\n",
       "      <th>da_efficiency_loss</th>\n",
       "      <th>da_stability_loss</th>\n",
       "      <th>da_sp_loss</th>\n",
       "    </tr>\n",
       "  </thead>\n",
       "  <tbody>\n",
       "  </tbody>\n",
       "</table>\n",
       "</div>"
      ],
      "text/plain": [
       "Empty DataFrame\n",
       "Columns: [p, q, model_efficiency_loss, model_stability_loss, model_sp_loss, da_efficiency_loss, da_stability_loss, da_sp_loss]\n",
       "Index: []"
      ]
     },
     "execution_count": 119,
     "metadata": {},
     "output_type": "execute_result"
    }
   ],
   "source": [
    "df_1[df_1[\"da_efficiency_loss\"] > 0]"
   ]
  },
  {
   "cell_type": "code",
   "execution_count": 144,
   "metadata": {},
   "outputs": [
    {
     "data": {
      "text/html": [
       "<div>\n",
       "<style scoped>\n",
       "    .dataframe tbody tr th:only-of-type {\n",
       "        vertical-align: middle;\n",
       "    }\n",
       "\n",
       "    .dataframe tbody tr th {\n",
       "        vertical-align: top;\n",
       "    }\n",
       "\n",
       "    .dataframe thead th {\n",
       "        text-align: right;\n",
       "    }\n",
       "</style>\n",
       "<table border=\"1\" class=\"dataframe\">\n",
       "  <thead>\n",
       "    <tr style=\"text-align: right;\">\n",
       "      <th></th>\n",
       "      <th>p</th>\n",
       "      <th>q</th>\n",
       "      <th>model_efficiency_loss</th>\n",
       "      <th>model_stability_loss</th>\n",
       "      <th>model_sp_loss</th>\n",
       "      <th>da_efficiency_loss</th>\n",
       "      <th>da_stability_loss</th>\n",
       "      <th>da_sp_loss</th>\n",
       "    </tr>\n",
       "  </thead>\n",
       "  <tbody>\n",
       "    <tr>\n",
       "      <th>0</th>\n",
       "      <td>((0.5, 0.16666666666666666, 0.3333333333333333...</td>\n",
       "      <td>((0.4, 0.2, 0.4), (0.4, 0.2, 0.4), (0.4, 0.4, ...</td>\n",
       "      <td>-0.006725</td>\n",
       "      <td>0.199311</td>\n",
       "      <td>0.055227</td>\n",
       "      <td>0.0</td>\n",
       "      <td>0.200000</td>\n",
       "      <td>0.0</td>\n",
       "    </tr>\n",
       "    <tr>\n",
       "      <th>1</th>\n",
       "      <td>((0.5000000000000001, 0.33333333333333337, 0.1...</td>\n",
       "      <td>((0.2, 0.4, 0.4), (0.4, 0.2, 0.4), (0.4, 0.4, ...</td>\n",
       "      <td>0.007693</td>\n",
       "      <td>0.133961</td>\n",
       "      <td>0.000740</td>\n",
       "      <td>0.0</td>\n",
       "      <td>0.133333</td>\n",
       "      <td>0.0</td>\n",
       "    </tr>\n",
       "    <tr>\n",
       "      <th>2</th>\n",
       "      <td>((0.5000000000000001, 0.33333333333333337, 0.1...</td>\n",
       "      <td>((0.4, 0.4, 0.2), (0.2, 0.4, 0.4), (0.4, 0.4, ...</td>\n",
       "      <td>-0.105759</td>\n",
       "      <td>0.302394</td>\n",
       "      <td>0.043650</td>\n",
       "      <td>0.0</td>\n",
       "      <td>0.361111</td>\n",
       "      <td>0.0</td>\n",
       "    </tr>\n",
       "    <tr>\n",
       "      <th>3</th>\n",
       "      <td>((0.16666666666666666, 0.5, 0.3333333333333333...</td>\n",
       "      <td>((0.4, 0.2, 0.4), (0.2, 0.4, 0.4), (0.2, 0.4, ...</td>\n",
       "      <td>-0.814909</td>\n",
       "      <td>0.237601</td>\n",
       "      <td>0.020103</td>\n",
       "      <td>-0.5</td>\n",
       "      <td>0.266667</td>\n",
       "      <td>0.0</td>\n",
       "    </tr>\n",
       "    <tr>\n",
       "      <th>4</th>\n",
       "      <td>((0.5, 0.16666666666666666, 0.3333333333333333...</td>\n",
       "      <td>((0.4, 0.2, 0.4), (0.4, 0.2, 0.4), (0.2, 0.4, ...</td>\n",
       "      <td>-0.997833</td>\n",
       "      <td>0.111410</td>\n",
       "      <td>0.000461</td>\n",
       "      <td>-0.5</td>\n",
       "      <td>0.177778</td>\n",
       "      <td>0.0</td>\n",
       "    </tr>\n",
       "  </tbody>\n",
       "</table>\n",
       "</div>"
      ],
      "text/plain": [
       "                                                   p  \\\n",
       "0  ((0.5, 0.16666666666666666, 0.3333333333333333...   \n",
       "1  ((0.5000000000000001, 0.33333333333333337, 0.1...   \n",
       "2  ((0.5000000000000001, 0.33333333333333337, 0.1...   \n",
       "3  ((0.16666666666666666, 0.5, 0.3333333333333333...   \n",
       "4  ((0.5, 0.16666666666666666, 0.3333333333333333...   \n",
       "\n",
       "                                                   q  model_efficiency_loss  \\\n",
       "0  ((0.4, 0.2, 0.4), (0.4, 0.2, 0.4), (0.4, 0.4, ...              -0.006725   \n",
       "1  ((0.2, 0.4, 0.4), (0.4, 0.2, 0.4), (0.4, 0.4, ...               0.007693   \n",
       "2  ((0.4, 0.4, 0.2), (0.2, 0.4, 0.4), (0.4, 0.4, ...              -0.105759   \n",
       "3  ((0.4, 0.2, 0.4), (0.2, 0.4, 0.4), (0.2, 0.4, ...              -0.814909   \n",
       "4  ((0.4, 0.2, 0.4), (0.4, 0.2, 0.4), (0.2, 0.4, ...              -0.997833   \n",
       "\n",
       "   model_stability_loss  model_sp_loss  da_efficiency_loss  da_stability_loss  \\\n",
       "0              0.199311       0.055227                 0.0           0.200000   \n",
       "1              0.133961       0.000740                 0.0           0.133333   \n",
       "2              0.302394       0.043650                 0.0           0.361111   \n",
       "3              0.237601       0.020103                -0.5           0.266667   \n",
       "4              0.111410       0.000461                -0.5           0.177778   \n",
       "\n",
       "   da_sp_loss  \n",
       "0         0.0  \n",
       "1         0.0  \n",
       "2         0.0  \n",
       "3         0.0  \n",
       "4         0.0  "
      ]
     },
     "execution_count": 144,
     "metadata": {},
     "output_type": "execute_result"
    }
   ],
   "source": [
    "df_1.head()"
   ]
  },
  {
   "cell_type": "code",
   "execution_count": 145,
   "metadata": {},
   "outputs": [],
   "source": [
    "p = df_1['p'][3]\n",
    "q = df_1['q'][3]"
   ]
  },
  {
   "cell_type": "markdown",
   "metadata": {},
   "source": [
    "## patterns2-2\n"
   ]
  },
  {
   "cell_type": "code",
   "execution_count": 54,
   "metadata": {},
   "outputs": [],
   "source": [
    "one_tie_2_2 = list(set(itertools.permutations([2, 1, 1])))\n",
    "no_tie_patterns = list(itertools.permutations([3, 2, 1]))"
   ]
  },
  {
   "cell_type": "code",
   "execution_count": 55,
   "metadata": {},
   "outputs": [],
   "source": [
    "from random import choice\n",
    "one_tie_2_2 = normalize_tuples(one_tie_2_2)\n",
    "no_tie_patterns = normalize_tuples(no_tie_patterns)\n",
    "preference_list_p = list(itertools.product(no_tie_patterns, repeat=3))\n",
    "preference_list_q = list(itertools.product(one_tie_2_2, repeat=3))\n",
    "pairs = [(choice(preference_list_p), choice(preference_list_q)) for _ in range(1000)]\n",
    "df_2 = pd.DataFrame(pairs, columns=['p', 'q'])"
   ]
  },
  {
   "cell_type": "code",
   "execution_count": 57,
   "metadata": {},
   "outputs": [
    {
     "name": "stderr",
     "output_type": "stream",
     "text": [
      "Processing rows: 100%|██████████| 1000/1000 [00:49<00:00, 20.23it/s]\n"
     ]
    }
   ],
   "source": [
    "df_2 = apply_features(cfg, model, df_2)"
   ]
  },
  {
   "cell_type": "code",
   "execution_count": 58,
   "metadata": {},
   "outputs": [
    {
     "name": "stderr",
     "output_type": "stream",
     "text": [
      "/Users/meina/Github/meina-t/matching_with_dl/utils.py:162: FutureWarning: DataFrame.applymap has been deprecated. Use DataFrame.map instead.\n",
      "  return df.applymap(try_convert)\n"
     ]
    }
   ],
   "source": [
    "df_2 = convert_to_float(df_2)"
   ]
  },
  {
   "cell_type": "code",
   "execution_count": 59,
   "metadata": {},
   "outputs": [
    {
     "data": {
      "text/html": [
       "<div>\n",
       "<style scoped>\n",
       "    .dataframe tbody tr th:only-of-type {\n",
       "        vertical-align: middle;\n",
       "    }\n",
       "\n",
       "    .dataframe tbody tr th {\n",
       "        vertical-align: top;\n",
       "    }\n",
       "\n",
       "    .dataframe thead th {\n",
       "        text-align: right;\n",
       "    }\n",
       "</style>\n",
       "<table border=\"1\" class=\"dataframe\">\n",
       "  <thead>\n",
       "    <tr style=\"text-align: right;\">\n",
       "      <th></th>\n",
       "      <th>model_efficiency_loss</th>\n",
       "      <th>model_stability_loss</th>\n",
       "      <th>model_sp_loss</th>\n",
       "      <th>da_efficiency_loss</th>\n",
       "      <th>da_stability_loss</th>\n",
       "      <th>da_sp_loss</th>\n",
       "    </tr>\n",
       "  </thead>\n",
       "  <tbody>\n",
       "    <tr>\n",
       "      <th>count</th>\n",
       "      <td>1000.000000</td>\n",
       "      <td>1.000000e+03</td>\n",
       "      <td>1.000000e+03</td>\n",
       "      <td>1000.000000</td>\n",
       "      <td>1000.000000</td>\n",
       "      <td>1000.0</td>\n",
       "    </tr>\n",
       "    <tr>\n",
       "      <th>mean</th>\n",
       "      <td>-1.248611</td>\n",
       "      <td>1.520610e-01</td>\n",
       "      <td>3.122982e-02</td>\n",
       "      <td>-1.361500</td>\n",
       "      <td>0.169000</td>\n",
       "      <td>0.0</td>\n",
       "    </tr>\n",
       "    <tr>\n",
       "      <th>std</th>\n",
       "      <td>2.063058</td>\n",
       "      <td>8.278802e-02</td>\n",
       "      <td>6.944292e-02</td>\n",
       "      <td>2.083485</td>\n",
       "      <td>0.100310</td>\n",
       "      <td>0.0</td>\n",
       "    </tr>\n",
       "    <tr>\n",
       "      <th>min</th>\n",
       "      <td>-8.998126</td>\n",
       "      <td>7.780180e-07</td>\n",
       "      <td>3.311369e-09</td>\n",
       "      <td>-9.000000</td>\n",
       "      <td>0.000000</td>\n",
       "      <td>0.0</td>\n",
       "    </tr>\n",
       "    <tr>\n",
       "      <th>25%</th>\n",
       "      <td>-2.029033</td>\n",
       "      <td>8.657728e-02</td>\n",
       "      <td>1.190711e-04</td>\n",
       "      <td>-2.000000</td>\n",
       "      <td>0.083333</td>\n",
       "      <td>0.0</td>\n",
       "    </tr>\n",
       "    <tr>\n",
       "      <th>50%</th>\n",
       "      <td>-0.045957</td>\n",
       "      <td>1.586889e-01</td>\n",
       "      <td>1.686647e-03</td>\n",
       "      <td>0.000000</td>\n",
       "      <td>0.166667</td>\n",
       "      <td>0.0</td>\n",
       "    </tr>\n",
       "    <tr>\n",
       "      <th>75%</th>\n",
       "      <td>0.000966</td>\n",
       "      <td>2.047281e-01</td>\n",
       "      <td>2.506721e-02</td>\n",
       "      <td>0.000000</td>\n",
       "      <td>0.243056</td>\n",
       "      <td>0.0</td>\n",
       "    </tr>\n",
       "    <tr>\n",
       "      <th>max</th>\n",
       "      <td>5.621610</td>\n",
       "      <td>3.637879e-01</td>\n",
       "      <td>5.703449e-01</td>\n",
       "      <td>1.000000</td>\n",
       "      <td>0.458333</td>\n",
       "      <td>0.0</td>\n",
       "    </tr>\n",
       "  </tbody>\n",
       "</table>\n",
       "</div>"
      ],
      "text/plain": [
       "       model_efficiency_loss  model_stability_loss  model_sp_loss  \\\n",
       "count            1000.000000          1.000000e+03   1.000000e+03   \n",
       "mean               -1.248611          1.520610e-01   3.122982e-02   \n",
       "std                 2.063058          8.278802e-02   6.944292e-02   \n",
       "min                -8.998126          7.780180e-07   3.311369e-09   \n",
       "25%                -2.029033          8.657728e-02   1.190711e-04   \n",
       "50%                -0.045957          1.586889e-01   1.686647e-03   \n",
       "75%                 0.000966          2.047281e-01   2.506721e-02   \n",
       "max                 5.621610          3.637879e-01   5.703449e-01   \n",
       "\n",
       "       da_efficiency_loss  da_stability_loss  da_sp_loss  \n",
       "count         1000.000000        1000.000000      1000.0  \n",
       "mean            -1.361500           0.169000         0.0  \n",
       "std              2.083485           0.100310         0.0  \n",
       "min             -9.000000           0.000000         0.0  \n",
       "25%             -2.000000           0.083333         0.0  \n",
       "50%              0.000000           0.166667         0.0  \n",
       "75%              0.000000           0.243056         0.0  \n",
       "max              1.000000           0.458333         0.0  "
      ]
     },
     "execution_count": 59,
     "metadata": {},
     "output_type": "execute_result"
    }
   ],
   "source": [
    "df_2.describe()"
   ]
  },
  {
   "cell_type": "code",
   "execution_count": 151,
   "metadata": {},
   "outputs": [
    {
     "data": {
      "text/html": [
       "<div>\n",
       "<style scoped>\n",
       "    .dataframe tbody tr th:only-of-type {\n",
       "        vertical-align: middle;\n",
       "    }\n",
       "\n",
       "    .dataframe tbody tr th {\n",
       "        vertical-align: top;\n",
       "    }\n",
       "\n",
       "    .dataframe thead th {\n",
       "        text-align: right;\n",
       "    }\n",
       "</style>\n",
       "<table border=\"1\" class=\"dataframe\">\n",
       "  <thead>\n",
       "    <tr style=\"text-align: right;\">\n",
       "      <th></th>\n",
       "      <th>p</th>\n",
       "      <th>q</th>\n",
       "      <th>model_efficiency_loss</th>\n",
       "      <th>model_stability_loss</th>\n",
       "      <th>model_sp_loss</th>\n",
       "      <th>da_efficiency_loss</th>\n",
       "      <th>da_stability_loss</th>\n",
       "      <th>da_sp_loss</th>\n",
       "    </tr>\n",
       "  </thead>\n",
       "  <tbody>\n",
       "    <tr>\n",
       "      <th>0</th>\n",
       "      <td>((0.16666666666666666, 0.3333333333333333, 0.5...</td>\n",
       "      <td>((0.5, 0.25, 0.25), (0.5, 0.25, 0.25), (0.25, ...</td>\n",
       "      <td>-5.998079</td>\n",
       "      <td>0.083392</td>\n",
       "      <td>0.000075</td>\n",
       "      <td>-3.75</td>\n",
       "      <td>0.208333</td>\n",
       "      <td>0.0</td>\n",
       "    </tr>\n",
       "    <tr>\n",
       "      <th>1</th>\n",
       "      <td>((0.5, 0.3333333333333333, 0.16666666666666666...</td>\n",
       "      <td>((0.25, 0.25, 0.5), (0.5, 0.25, 0.25), (0.25, ...</td>\n",
       "      <td>-1.991758</td>\n",
       "      <td>0.083701</td>\n",
       "      <td>0.000215</td>\n",
       "      <td>-2.00</td>\n",
       "      <td>0.083333</td>\n",
       "      <td>0.0</td>\n",
       "    </tr>\n",
       "    <tr>\n",
       "      <th>2</th>\n",
       "      <td>((0.16666666666666666, 0.3333333333333333, 0.5...</td>\n",
       "      <td>((0.5, 0.25, 0.25), (0.25, 0.25, 0.5), (0.25, ...</td>\n",
       "      <td>-5.755070</td>\n",
       "      <td>0.143429</td>\n",
       "      <td>0.011078</td>\n",
       "      <td>-6.00</td>\n",
       "      <td>0.138889</td>\n",
       "      <td>0.0</td>\n",
       "    </tr>\n",
       "    <tr>\n",
       "      <th>3</th>\n",
       "      <td>((0.3333333333333333, 0.5, 0.16666666666666666...</td>\n",
       "      <td>((0.5, 0.25, 0.25), (0.5, 0.25, 0.25), (0.25, ...</td>\n",
       "      <td>-0.003272</td>\n",
       "      <td>0.110758</td>\n",
       "      <td>0.000056</td>\n",
       "      <td>0.00</td>\n",
       "      <td>0.111111</td>\n",
       "      <td>0.0</td>\n",
       "    </tr>\n",
       "    <tr>\n",
       "      <th>4</th>\n",
       "      <td>((0.3333333333333333, 0.16666666666666666, 0.5...</td>\n",
       "      <td>((0.25, 0.5, 0.25), (0.25, 0.5, 0.25), (0.5, 0...</td>\n",
       "      <td>0.008054</td>\n",
       "      <td>0.113442</td>\n",
       "      <td>0.000245</td>\n",
       "      <td>0.00</td>\n",
       "      <td>0.111111</td>\n",
       "      <td>0.0</td>\n",
       "    </tr>\n",
       "  </tbody>\n",
       "</table>\n",
       "</div>"
      ],
      "text/plain": [
       "                                                   p  \\\n",
       "0  ((0.16666666666666666, 0.3333333333333333, 0.5...   \n",
       "1  ((0.5, 0.3333333333333333, 0.16666666666666666...   \n",
       "2  ((0.16666666666666666, 0.3333333333333333, 0.5...   \n",
       "3  ((0.3333333333333333, 0.5, 0.16666666666666666...   \n",
       "4  ((0.3333333333333333, 0.16666666666666666, 0.5...   \n",
       "\n",
       "                                                   q  model_efficiency_loss  \\\n",
       "0  ((0.5, 0.25, 0.25), (0.5, 0.25, 0.25), (0.25, ...              -5.998079   \n",
       "1  ((0.25, 0.25, 0.5), (0.5, 0.25, 0.25), (0.25, ...              -1.991758   \n",
       "2  ((0.5, 0.25, 0.25), (0.25, 0.25, 0.5), (0.25, ...              -5.755070   \n",
       "3  ((0.5, 0.25, 0.25), (0.5, 0.25, 0.25), (0.25, ...              -0.003272   \n",
       "4  ((0.25, 0.5, 0.25), (0.25, 0.5, 0.25), (0.5, 0...               0.008054   \n",
       "\n",
       "   model_stability_loss  model_sp_loss  da_efficiency_loss  da_stability_loss  \\\n",
       "0              0.083392       0.000075               -3.75           0.208333   \n",
       "1              0.083701       0.000215               -2.00           0.083333   \n",
       "2              0.143429       0.011078               -6.00           0.138889   \n",
       "3              0.110758       0.000056                0.00           0.111111   \n",
       "4              0.113442       0.000245                0.00           0.111111   \n",
       "\n",
       "   da_sp_loss  \n",
       "0         0.0  \n",
       "1         0.0  \n",
       "2         0.0  \n",
       "3         0.0  \n",
       "4         0.0  "
      ]
     },
     "execution_count": 151,
     "metadata": {},
     "output_type": "execute_result"
    }
   ],
   "source": [
    "df_2.head()"
   ]
  },
  {
   "cell_type": "code",
   "execution_count": 60,
   "metadata": {},
   "outputs": [
    {
     "data": {
      "text/html": [
       "<div>\n",
       "<style scoped>\n",
       "    .dataframe tbody tr th:only-of-type {\n",
       "        vertical-align: middle;\n",
       "    }\n",
       "\n",
       "    .dataframe tbody tr th {\n",
       "        vertical-align: top;\n",
       "    }\n",
       "\n",
       "    .dataframe thead th {\n",
       "        text-align: right;\n",
       "    }\n",
       "</style>\n",
       "<table border=\"1\" class=\"dataframe\">\n",
       "  <thead>\n",
       "    <tr style=\"text-align: right;\">\n",
       "      <th></th>\n",
       "      <th>p</th>\n",
       "      <th>q</th>\n",
       "      <th>model_efficiency_loss</th>\n",
       "      <th>model_stability_loss</th>\n",
       "      <th>model_sp_loss</th>\n",
       "      <th>da_efficiency_loss</th>\n",
       "      <th>da_stability_loss</th>\n",
       "      <th>da_sp_loss</th>\n",
       "    </tr>\n",
       "  </thead>\n",
       "  <tbody>\n",
       "    <tr>\n",
       "      <th>62</th>\n",
       "      <td>((0.5, 0.16666666666666666, 0.3333333333333333...</td>\n",
       "      <td>((0.25, 0.5, 0.25), (0.25, 0.25, 0.5), (0.5, 0...</td>\n",
       "      <td>-2.000257</td>\n",
       "      <td>0.166653</td>\n",
       "      <td>0.000003</td>\n",
       "      <td>1.0</td>\n",
       "      <td>0.458333</td>\n",
       "      <td>0.0</td>\n",
       "    </tr>\n",
       "    <tr>\n",
       "      <th>208</th>\n",
       "      <td>((0.5, 0.3333333333333333, 0.16666666666666666...</td>\n",
       "      <td>((0.25, 0.5, 0.25), (0.5, 0.25, 0.25), (0.25, ...</td>\n",
       "      <td>1.979255</td>\n",
       "      <td>0.333298</td>\n",
       "      <td>0.009038</td>\n",
       "      <td>1.0</td>\n",
       "      <td>0.319444</td>\n",
       "      <td>0.0</td>\n",
       "    </tr>\n",
       "    <tr>\n",
       "      <th>211</th>\n",
       "      <td>((0.16666666666666666, 0.5, 0.3333333333333333...</td>\n",
       "      <td>((0.25, 0.5, 0.25), (0.25, 0.25, 0.5), (0.5, 0...</td>\n",
       "      <td>-0.014744</td>\n",
       "      <td>0.249866</td>\n",
       "      <td>0.000397</td>\n",
       "      <td>1.0</td>\n",
       "      <td>0.458333</td>\n",
       "      <td>0.0</td>\n",
       "    </tr>\n",
       "    <tr>\n",
       "      <th>266</th>\n",
       "      <td>((0.5, 0.3333333333333333, 0.16666666666666666...</td>\n",
       "      <td>((0.25, 0.5, 0.25), (0.5, 0.25, 0.25), (0.25, ...</td>\n",
       "      <td>1.986942</td>\n",
       "      <td>0.333624</td>\n",
       "      <td>0.030526</td>\n",
       "      <td>1.0</td>\n",
       "      <td>0.319444</td>\n",
       "      <td>0.0</td>\n",
       "    </tr>\n",
       "    <tr>\n",
       "      <th>440</th>\n",
       "      <td>((0.16666666666666666, 0.5, 0.3333333333333333...</td>\n",
       "      <td>((0.5, 0.25, 0.25), (0.25, 0.25, 0.5), (0.25, ...</td>\n",
       "      <td>1.852946</td>\n",
       "      <td>0.332255</td>\n",
       "      <td>0.002686</td>\n",
       "      <td>1.0</td>\n",
       "      <td>0.319444</td>\n",
       "      <td>0.0</td>\n",
       "    </tr>\n",
       "    <tr>\n",
       "      <th>498</th>\n",
       "      <td>((0.16666666666666666, 0.3333333333333333, 0.5...</td>\n",
       "      <td>((0.25, 0.5, 0.25), (0.25, 0.25, 0.5), (0.25, ...</td>\n",
       "      <td>1.835057</td>\n",
       "      <td>0.362060</td>\n",
       "      <td>0.130218</td>\n",
       "      <td>1.0</td>\n",
       "      <td>0.347222</td>\n",
       "      <td>0.0</td>\n",
       "    </tr>\n",
       "    <tr>\n",
       "      <th>606</th>\n",
       "      <td>((0.5, 0.3333333333333333, 0.16666666666666666...</td>\n",
       "      <td>((0.25, 0.5, 0.25), (0.5, 0.25, 0.25), (0.5, 0...</td>\n",
       "      <td>2.002859</td>\n",
       "      <td>0.363788</td>\n",
       "      <td>0.205438</td>\n",
       "      <td>1.0</td>\n",
       "      <td>0.347222</td>\n",
       "      <td>0.0</td>\n",
       "    </tr>\n",
       "    <tr>\n",
       "      <th>650</th>\n",
       "      <td>((0.5, 0.3333333333333333, 0.16666666666666666...</td>\n",
       "      <td>((0.25, 0.5, 0.25), (0.5, 0.25, 0.25), (0.25, ...</td>\n",
       "      <td>1.920093</td>\n",
       "      <td>0.361716</td>\n",
       "      <td>0.195708</td>\n",
       "      <td>1.0</td>\n",
       "      <td>0.347222</td>\n",
       "      <td>0.0</td>\n",
       "    </tr>\n",
       "    <tr>\n",
       "      <th>674</th>\n",
       "      <td>((0.5, 0.3333333333333333, 0.16666666666666666...</td>\n",
       "      <td>((0.25, 0.25, 0.5), (0.5, 0.25, 0.25), (0.5, 0...</td>\n",
       "      <td>-0.038641</td>\n",
       "      <td>0.312621</td>\n",
       "      <td>0.017541</td>\n",
       "      <td>1.0</td>\n",
       "      <td>0.409722</td>\n",
       "      <td>0.0</td>\n",
       "    </tr>\n",
       "    <tr>\n",
       "      <th>699</th>\n",
       "      <td>((0.5, 0.3333333333333333, 0.16666666666666666...</td>\n",
       "      <td>((0.25, 0.5, 0.25), (0.5, 0.25, 0.25), (0.25, ...</td>\n",
       "      <td>-0.005448</td>\n",
       "      <td>0.277204</td>\n",
       "      <td>0.015590</td>\n",
       "      <td>1.0</td>\n",
       "      <td>0.347222</td>\n",
       "      <td>0.0</td>\n",
       "    </tr>\n",
       "  </tbody>\n",
       "</table>\n",
       "</div>"
      ],
      "text/plain": [
       "                                                     p  \\\n",
       "62   ((0.5, 0.16666666666666666, 0.3333333333333333...   \n",
       "208  ((0.5, 0.3333333333333333, 0.16666666666666666...   \n",
       "211  ((0.16666666666666666, 0.5, 0.3333333333333333...   \n",
       "266  ((0.5, 0.3333333333333333, 0.16666666666666666...   \n",
       "440  ((0.16666666666666666, 0.5, 0.3333333333333333...   \n",
       "498  ((0.16666666666666666, 0.3333333333333333, 0.5...   \n",
       "606  ((0.5, 0.3333333333333333, 0.16666666666666666...   \n",
       "650  ((0.5, 0.3333333333333333, 0.16666666666666666...   \n",
       "674  ((0.5, 0.3333333333333333, 0.16666666666666666...   \n",
       "699  ((0.5, 0.3333333333333333, 0.16666666666666666...   \n",
       "\n",
       "                                                     q  model_efficiency_loss  \\\n",
       "62   ((0.25, 0.5, 0.25), (0.25, 0.25, 0.5), (0.5, 0...              -2.000257   \n",
       "208  ((0.25, 0.5, 0.25), (0.5, 0.25, 0.25), (0.25, ...               1.979255   \n",
       "211  ((0.25, 0.5, 0.25), (0.25, 0.25, 0.5), (0.5, 0...              -0.014744   \n",
       "266  ((0.25, 0.5, 0.25), (0.5, 0.25, 0.25), (0.25, ...               1.986942   \n",
       "440  ((0.5, 0.25, 0.25), (0.25, 0.25, 0.5), (0.25, ...               1.852946   \n",
       "498  ((0.25, 0.5, 0.25), (0.25, 0.25, 0.5), (0.25, ...               1.835057   \n",
       "606  ((0.25, 0.5, 0.25), (0.5, 0.25, 0.25), (0.5, 0...               2.002859   \n",
       "650  ((0.25, 0.5, 0.25), (0.5, 0.25, 0.25), (0.25, ...               1.920093   \n",
       "674  ((0.25, 0.25, 0.5), (0.5, 0.25, 0.25), (0.5, 0...              -0.038641   \n",
       "699  ((0.25, 0.5, 0.25), (0.5, 0.25, 0.25), (0.25, ...              -0.005448   \n",
       "\n",
       "     model_stability_loss  model_sp_loss  da_efficiency_loss  \\\n",
       "62               0.166653       0.000003                 1.0   \n",
       "208              0.333298       0.009038                 1.0   \n",
       "211              0.249866       0.000397                 1.0   \n",
       "266              0.333624       0.030526                 1.0   \n",
       "440              0.332255       0.002686                 1.0   \n",
       "498              0.362060       0.130218                 1.0   \n",
       "606              0.363788       0.205438                 1.0   \n",
       "650              0.361716       0.195708                 1.0   \n",
       "674              0.312621       0.017541                 1.0   \n",
       "699              0.277204       0.015590                 1.0   \n",
       "\n",
       "     da_stability_loss  da_sp_loss  \n",
       "62            0.458333         0.0  \n",
       "208           0.319444         0.0  \n",
       "211           0.458333         0.0  \n",
       "266           0.319444         0.0  \n",
       "440           0.319444         0.0  \n",
       "498           0.347222         0.0  \n",
       "606           0.347222         0.0  \n",
       "650           0.347222         0.0  \n",
       "674           0.409722         0.0  \n",
       "699           0.347222         0.0  "
      ]
     },
     "execution_count": 60,
     "metadata": {},
     "output_type": "execute_result"
    }
   ],
   "source": [
    "df_2[df_2[\"da_efficiency_loss\"] > 0]"
   ]
  },
  {
   "cell_type": "code",
   "execution_count": 61,
   "metadata": {},
   "outputs": [],
   "source": [
    "p = df_2['p'][62]\n",
    "q = df_2['q'][62]"
   ]
  },
  {
   "cell_type": "markdown",
   "metadata": {},
   "source": [
    "## indifferent"
   ]
  },
  {
   "cell_type": "code",
   "execution_count": 164,
   "metadata": {},
   "outputs": [],
   "source": [
    "full_tie_pattern = [(1, 1, 1)]\n",
    "no_tie_patterns = list(itertools.permutations([3, 2, 1]))\n",
    "\n",
    "full_tie_pattern = normalize_tuples(full_tie_pattern)\n",
    "no_tie_patterns = normalize_tuples(no_tie_patterns)\n",
    "preference_list_p = list(itertools.product(no_tie_patterns, repeat=3))\n",
    "preference_list_q = list(itertools.product(full_tie_pattern, repeat=3))\n",
    "pairs = [(random.choice(preference_list_p), random.choice(preference_list_q)) for _ in range(1000)]\n",
    "df = pd.DataFrame(pairs, columns=['p', 'q'])"
   ]
  },
  {
   "cell_type": "code",
   "execution_count": 165,
   "metadata": {},
   "outputs": [
    {
     "name": "stderr",
     "output_type": "stream",
     "text": [
      "Processing rows: 100%|██████████| 1000/1000 [02:19<00:00,  7.16it/s]\n"
     ]
    }
   ],
   "source": [
    "df = apply_features(cfg, model, df)"
   ]
  },
  {
   "cell_type": "code",
   "execution_count": 166,
   "metadata": {},
   "outputs": [
    {
     "name": "stderr",
     "output_type": "stream",
     "text": [
      "/Users/meina/Github/meina-t/matching_with_dl/utils.py:162: FutureWarning: DataFrame.applymap has been deprecated. Use DataFrame.map instead.\n"
     ]
    }
   ],
   "source": [
    "df = convert_to_float(df)"
   ]
  },
  {
   "cell_type": "code",
   "execution_count": 167,
   "metadata": {},
   "outputs": [
    {
     "data": {
      "text/html": [
       "<div>\n",
       "<style scoped>\n",
       "    .dataframe tbody tr th:only-of-type {\n",
       "        vertical-align: middle;\n",
       "    }\n",
       "\n",
       "    .dataframe tbody tr th {\n",
       "        vertical-align: top;\n",
       "    }\n",
       "\n",
       "    .dataframe thead th {\n",
       "        text-align: right;\n",
       "    }\n",
       "</style>\n",
       "<table border=\"1\" class=\"dataframe\">\n",
       "  <thead>\n",
       "    <tr style=\"text-align: right;\">\n",
       "      <th></th>\n",
       "      <th>model_efficiency_loss</th>\n",
       "      <th>model_stability_loss</th>\n",
       "      <th>model_sp_loss</th>\n",
       "      <th>da_efficiency_loss</th>\n",
       "      <th>da_stability_loss</th>\n",
       "      <th>da_sp_loss</th>\n",
       "    </tr>\n",
       "  </thead>\n",
       "  <tbody>\n",
       "    <tr>\n",
       "      <th>count</th>\n",
       "      <td>1000.000000</td>\n",
       "      <td>1000.000000</td>\n",
       "      <td>1.000000e+03</td>\n",
       "      <td>1000.000000</td>\n",
       "      <td>1000.000000</td>\n",
       "      <td>1000.000000</td>\n",
       "    </tr>\n",
       "    <tr>\n",
       "      <th>mean</th>\n",
       "      <td>-9.528690</td>\n",
       "      <td>0.129895</td>\n",
       "      <td>1.817858e-02</td>\n",
       "      <td>-8.700500</td>\n",
       "      <td>0.147889</td>\n",
       "      <td>0.018444</td>\n",
       "    </tr>\n",
       "    <tr>\n",
       "      <th>std</th>\n",
       "      <td>4.291469</td>\n",
       "      <td>0.087515</td>\n",
       "      <td>2.884684e-02</td>\n",
       "      <td>4.221537</td>\n",
       "      <td>0.095334</td>\n",
       "      <td>0.034344</td>\n",
       "    </tr>\n",
       "    <tr>\n",
       "      <th>min</th>\n",
       "      <td>-15.997853</td>\n",
       "      <td>0.000018</td>\n",
       "      <td>9.082012e-09</td>\n",
       "      <td>-16.000000</td>\n",
       "      <td>0.000000</td>\n",
       "      <td>0.000000</td>\n",
       "    </tr>\n",
       "    <tr>\n",
       "      <th>25%</th>\n",
       "      <td>-11.999037</td>\n",
       "      <td>0.109991</td>\n",
       "      <td>1.448882e-04</td>\n",
       "      <td>-12.000000</td>\n",
       "      <td>0.111111</td>\n",
       "      <td>0.000000</td>\n",
       "    </tr>\n",
       "    <tr>\n",
       "      <th>50%</th>\n",
       "      <td>-10.647566</td>\n",
       "      <td>0.112440</td>\n",
       "      <td>2.478159e-03</td>\n",
       "      <td>-9.000000</td>\n",
       "      <td>0.166667</td>\n",
       "      <td>0.000000</td>\n",
       "    </tr>\n",
       "    <tr>\n",
       "      <th>75%</th>\n",
       "      <td>-7.835713</td>\n",
       "      <td>0.219065</td>\n",
       "      <td>2.620166e-02</td>\n",
       "      <td>-6.000000</td>\n",
       "      <td>0.222222</td>\n",
       "      <td>0.055556</td>\n",
       "    </tr>\n",
       "    <tr>\n",
       "      <th>max</th>\n",
       "      <td>0.044759</td>\n",
       "      <td>0.333414</td>\n",
       "      <td>1.645250e-01</td>\n",
       "      <td>0.000000</td>\n",
       "      <td>0.333333</td>\n",
       "      <td>0.111111</td>\n",
       "    </tr>\n",
       "  </tbody>\n",
       "</table>\n",
       "</div>"
      ],
      "text/plain": [
       "       model_efficiency_loss  model_stability_loss  model_sp_loss  \\\n",
       "count            1000.000000           1000.000000   1.000000e+03   \n",
       "mean               -9.528690              0.129895   1.817858e-02   \n",
       "std                 4.291469              0.087515   2.884684e-02   \n",
       "min               -15.997853              0.000018   9.082012e-09   \n",
       "25%               -11.999037              0.109991   1.448882e-04   \n",
       "50%               -10.647566              0.112440   2.478159e-03   \n",
       "75%                -7.835713              0.219065   2.620166e-02   \n",
       "max                 0.044759              0.333414   1.645250e-01   \n",
       "\n",
       "       da_efficiency_loss  da_stability_loss   da_sp_loss  \n",
       "count         1000.000000        1000.000000  1000.000000  \n",
       "mean            -8.700500           0.147889     0.018444  \n",
       "std              4.221537           0.095334     0.034344  \n",
       "min            -16.000000           0.000000     0.000000  \n",
       "25%            -12.000000           0.111111     0.000000  \n",
       "50%             -9.000000           0.166667     0.000000  \n",
       "75%             -6.000000           0.222222     0.055556  \n",
       "max              0.000000           0.333333     0.111111  "
      ]
     },
     "execution_count": 167,
     "metadata": {},
     "output_type": "execute_result"
    }
   ],
   "source": [
    "df.describe()"
   ]
  },
  {
   "cell_type": "code",
   "execution_count": 175,
   "metadata": {},
   "outputs": [],
   "source": [
    "p = df['p'][7]\n",
    "q = df['q'][7]"
   ]
  },
  {
   "cell_type": "code",
   "execution_count": null,
   "metadata": {},
   "outputs": [],
   "source": []
  }
 ],
 "metadata": {
  "kernelspec": {
   "display_name": "3.10.4",
   "language": "python",
   "name": "python3"
  },
  "language_info": {
   "codemirror_mode": {
    "name": "ipython",
    "version": 3
   },
   "file_extension": ".py",
   "mimetype": "text/x-python",
   "name": "python",
   "nbconvert_exporter": "python",
   "pygments_lexer": "ipython3",
   "version": "3.9.6"
  }
 },
 "nbformat": 4,
 "nbformat_minor": 2
}
