{
 "cells": [
  {
   "cell_type": "code",
   "execution_count": 5,
   "metadata": {},
   "outputs": [],
   "source": [
    "%load_ext autoreload\n",
    "%autoreload 2"
   ]
  },
  {
   "cell_type": "markdown",
   "metadata": {},
   "source": [
    "## (Strategy Proofness - First Order Stochastic Dominance)\n",
    "$$\n",
    "\\forall i\\in W\\cup F \\ \\forall \\succ_i \\forall \\succ_{-i} \\forall \\succ'_i \\forall j \\\\\n",
    "\\sum_{j'\\succeq j}(g_{ij'}(\\succ'_i,\\succ_{-i})-g_{ij'}(\\succ_i,\\succ_{-i})) \\leq 0\n",
    "$$"
   ]
  },
  {
   "cell_type": "markdown",
   "metadata": {},
   "source": [
    "## (Ex-ante Stability)\n",
    "$\\nexists (w,f)\\in W\\times F$ s.t. $\\exist f'\\ [g_{wf'}(\\succ)>0\\land f\\succ_w f']\\ \\exist w'\\ [g_{w'f}(\\succ)>0\\land w\\succ_f w']$\n",
    "\n",
    "## (Stability of Deterministic Matching)\n",
    "$$\n",
    "\\forall (w,f)\\in W\\times F \\ g_{wf}+\\sum_{f'\\succ_w f}g_{wf'}+\\sum_{w'\\succ_f w}g_{w'f}\\geq 1\n",
    "$$\n",
    "\n",
    "## (Ex-post Stability)\n",
    "A randomized matching is **ex-post stable** iff it can be decomposed into deterministic stable matchings.\n",
    "\n",
    "## (Fractionally Stable)\n",
    "$$\n",
    "\\forall (w,f)\\in W\\times F \\ g_{wf}+\\sum_{f'\\succ_w f}g_{wf'}+\\sum_{w'\\succ_f w}g_{w'f}\\geq 1\n",
    "$$\n",
    "\n",
    "### (Violation of Fractionally Stability)\n",
    "$$\n",
    "\\sum_\\succ\\sum_w\\sum_f\\max\\left\\{0,1-g_{wf}(\\succ)-\\sum_{w'\\succ_f w}g_{w'f}(\\succ)-\\sum_{f'\\succ_w f}g_{wf'}(\\succ)\\right\\}\n",
    "$$"
   ]
  },
  {
   "cell_type": "markdown",
   "metadata": {},
   "source": [
    "## (Primal)\n",
    "$$\n",
    "\\begin{align*}\n",
    "    \\min & \\sum_\\succ\\sum_w\\sum_f t_{wf}(\\succ)\\\\\n",
    "    \\text{s.t.} & \\sum_f g_{wf}(\\succ)\\leq 1 & \\forall\\succ\\forall w \\\\\n",
    "    & \\sum_w g_{wf}(\\succ)\\leq 1 & \\forall \\succ\\forall f\\\\\n",
    "    & t_{wf}(\\succ)\\geq 1-g_{wf}(\\succ)-\\sum_{w'\\succ_f w}g_{w'f}(\\succ)-\\sum_{f'\\succ_w f}g_{wf'}(\\succ) & \\forall\\succ\\forall w\\forall f\\\\\n",
    "    & \\sum_{f'\\succ_wf}(g_{wf'}(\\succ_w',\\succ_{-w})-g_{wf'}(\\succ))\\leq 0 & \\forall\\succ\\forall w\\forall\\succ_{w}'\\forall f\\\\\n",
    "    & \\sum_{w'\\succ_fw}(g_{w'f}(\\succ_f',\\succ_{-f})-g_{w'f}(\\succ))\\leq 0 & \\forall\\succ\\forall f\\forall\\succ_{f}'\\forall w\\\\\n",
    "    & g_{wf}(\\succ)\\geq 0,\\ t_{wf}(\\succ)\\geq 0 & \\forall\\succ\\forall w \\forall y\n",
    "\\end{align*}\n",
    "$$\n",
    "\n"
   ]
  },
  {
   "cell_type": "markdown",
   "metadata": {},
   "source": [
    "## (Dual)\n",
    "$$\n",
    "\\begin{align*}\n",
    "    \\min & \\sum_\\succ\\left(\\sum_wx_w(\\succ)+\\sum_fy_f(\\succ)-\\sum_w\\sum_fz_{wf}(\\succ)\\right)\\\\\n",
    "    \\text{s.t.}  \\\\\n",
    "    & \\forall \\succ \\forall w \\forall f\\\\\n",
    "    & x_w(\\succ)+y_f(\\succ)-z_{wf}(\\succ)-\\sum_{f'\\prec_wf}z_{wf'}(\\succ)-\\sum_{w'\\prec_fw}z_{w'f}(\\succ)-\\sum_{\\succ_w'}\\left(\\sum_{f'\\prec_w f}u_{wf'}(\\succ_w',\\succ_w,\\succ_{-w})-\\sum_{f'\\prec_w'f}u_{wf'}(\\succ_w,\\succ_w',\\succ_{-w})\\right)-\\sum_{\\succ_f'}\\left(\\sum_{w'\\prec_fw}v_{w'f}(\\succ_f',\\succ_f,\\succ_{-f})-\\sum_{w'\\prec_f'w}v_{w'f}(\\succ_f,\\succ_f',\\succ_{-f})\\right)\\geq 0 & \\forall\\succ\\forall w\\forall f\\\\\n",
    "    & x_w(\\succ)\\geq 0,\\ y_f(\\succ)\\geq 0,\\ 0\\leq z_{wf}(\\succ)\\leq 1 & \\forall\\succ\\forall w\\forall f\\\\\n",
    "    & u_{wf}(\\succ'_w,\\succ_w,\\succ_{-w})\\geq 0 & \\forall\\succ\\forall w\\forall\\succ_w'\\forall f\\\\\n",
    "    & v_{wf}(\\succ'_f,\\succ_f,\\succ_{-f})\\geq 0 & \\forall\\succ\\forall f\\forall\\succ_f'\\forall w\n",
    "\\end{align*}\n",
    "$$"
   ]
  },
  {
   "cell_type": "code",
   "execution_count": 6,
   "metadata": {},
   "outputs": [],
   "source": [
    "import os\n",
    "import sys\n",
    "import time\n",
    "import logging\n",
    "import argparse\n",
    "import numpy as np\n",
    "from random import random\n",
    "import itertools\n",
    "from pathlib import Path\n",
    "\n",
    "sys.path.append(str(Path(\"primal_dual_matching.ipynb\").resolve().parent.parent))\n",
    "\n",
    "import torch\n",
    "import torch.nn\n",
    "from torch import optim\n",
    "import torch.nn.functional as F\n",
    "\n",
    "from data import Data\n",
    "\n",
    "from primal_net import PrimalNet\n",
    "from primal_loss import *\n",
    "from primal_train import *\n",
    "\n",
    "#from dual_net import DualNet\n",
    "#from dual_loss import *\n",
    "#from dual_train import *\n",
    "\n",
    "import torch\n",
    "import matplotlib.pyplot as plt\n",
    "import seaborn as sns"
   ]
  },
  {
   "cell_type": "markdown",
   "metadata": {},
   "source": [
    "### 2*2"
   ]
  },
  {
   "cell_type": "code",
   "execution_count": 14,
   "metadata": {},
   "outputs": [
    {
     "name": "stderr",
     "output_type": "stream",
     "text": [
      "2024-12-05 17:58:15,002:INFO:[TRAIN-ITER]: 0, [Time-Elapsed]: 0.152208, [Total-Loss]: 0.253666\n",
      "2024-12-05 17:58:15,005:INFO:[CONSTR-Vio]: 0.000455, [OBJECTIVE]: 0.253666\n",
      "2024-12-05 17:58:17,682:INFO:[TRAIN-ITER]: 100, [Time-Elapsed]: 2.832550, [Total-Loss]: 0.000527\n",
      "2024-12-05 17:58:17,684:INFO:[CONSTR-Vio]: 0.000039, [OBJECTIVE]: 0.000527\n"
     ]
    },
    {
     "ename": "KeyboardInterrupt",
     "evalue": "",
     "output_type": "error",
     "traceback": [
      "\u001b[0;31m---------------------------------------------------------------------------\u001b[0m",
      "\u001b[0;31mKeyboardInterrupt\u001b[0m                         Traceback (most recent call last)",
      "Cell \u001b[0;32mIn[14], line 21\u001b[0m\n\u001b[1;32m     18\u001b[0m model \u001b[38;5;241m=\u001b[39m PrimalNet(cfg)\n\u001b[1;32m     19\u001b[0m model\u001b[38;5;241m.\u001b[39mto(device)\n\u001b[0;32m---> 21\u001b[0m \u001b[43mtrain_primal\u001b[49m\u001b[43m(\u001b[49m\u001b[43mcfg\u001b[49m\u001b[43m,\u001b[49m\u001b[43mG\u001b[49m\u001b[43m,\u001b[49m\u001b[43mmodel\u001b[49m\u001b[43m)\u001b[49m\n",
      "File \u001b[0;32m~/Github/meina-t/matching_with_dl/primal_train.py:88\u001b[0m, in \u001b[0;36mtrain_primal\u001b[0;34m(cfg, G, model, include_truncation)\u001b[0m\n\u001b[1;32m     85\u001b[0m model\u001b[38;5;241m.\u001b[39mtrain()\n\u001b[1;32m     87\u001b[0m \u001b[38;5;66;03m# Inference\u001b[39;00m\n\u001b[0;32m---> 88\u001b[0m P, Q \u001b[38;5;241m=\u001b[39m \u001b[43mG\u001b[49m\u001b[38;5;241;43m.\u001b[39;49m\u001b[43mgenerate_batch\u001b[49m\u001b[43m(\u001b[49m\u001b[43mcfg\u001b[49m\u001b[38;5;241;43m.\u001b[39;49m\u001b[43mbatch_size\u001b[49m\u001b[43m)\u001b[49m\n\u001b[1;32m     89\u001b[0m p, q \u001b[38;5;241m=\u001b[39m torch\u001b[38;5;241m.\u001b[39mTensor(P)\u001b[38;5;241m.\u001b[39mto(cfg\u001b[38;5;241m.\u001b[39mdevice), torch\u001b[38;5;241m.\u001b[39mTensor(Q)\u001b[38;5;241m.\u001b[39mto(cfg\u001b[38;5;241m.\u001b[39mdevice)\n\u001b[1;32m     90\u001b[0m r \u001b[38;5;241m=\u001b[39m model(p, q)\n",
      "File \u001b[0;32m~/Github/meina-t/matching_with_dl/data.py:90\u001b[0m, in \u001b[0;36mData.generate_batch\u001b[0;34m(self, batch_size, prob, corr)\u001b[0m\n\u001b[1;32m     86\u001b[0m \u001b[38;5;28;01mif\u001b[39;00m prob \u001b[38;5;129;01mis\u001b[39;00m \u001b[38;5;28;01mNone\u001b[39;00m: prob \u001b[38;5;241m=\u001b[39m \u001b[38;5;28mself\u001b[39m\u001b[38;5;241m.\u001b[39mprob\n\u001b[1;32m     88\u001b[0m N \u001b[38;5;241m=\u001b[39m batch_size \u001b[38;5;241m*\u001b[39m \u001b[38;5;28mself\u001b[39m\u001b[38;5;241m.\u001b[39mnum_agents\n\u001b[0;32m---> 90\u001b[0m P \u001b[38;5;241m=\u001b[39m \u001b[38;5;28;43mself\u001b[39;49m\u001b[38;5;241;43m.\u001b[39;49m\u001b[43msample_ranking\u001b[49m\u001b[43m(\u001b[49m\u001b[43mN\u001b[49m\u001b[43m,\u001b[49m\u001b[43m \u001b[49m\u001b[43mprob\u001b[49m\u001b[43m)\u001b[49m\n\u001b[1;32m     91\u001b[0m Q \u001b[38;5;241m=\u001b[39m \u001b[38;5;28mself\u001b[39m\u001b[38;5;241m.\u001b[39msample_ranking(N, prob) \n\u001b[1;32m     93\u001b[0m P \u001b[38;5;241m=\u001b[39m P\u001b[38;5;241m.\u001b[39mreshape(\u001b[38;5;241m-\u001b[39m\u001b[38;5;241m1\u001b[39m, \u001b[38;5;28mself\u001b[39m\u001b[38;5;241m.\u001b[39mnum_agents, \u001b[38;5;28mself\u001b[39m\u001b[38;5;241m.\u001b[39mnum_agents)                           \n",
      "File \u001b[0;32m~/Github/meina-t/matching_with_dl/data.py:36\u001b[0m, in \u001b[0;36mData.sample_ranking\u001b[0;34m(self, N, prob)\u001b[0m\n\u001b[1;32m     26\u001b[0m \u001b[38;5;250m\u001b[39m\u001b[38;5;124;03m\"\"\" \u001b[39;00m\n\u001b[1;32m     27\u001b[0m \u001b[38;5;124;03mSamples ranked lists\u001b[39;00m\n\u001b[1;32m     28\u001b[0m \u001b[38;5;124;03mArguments\u001b[39;00m\n\u001b[0;32m   (...)\u001b[0m\n\u001b[1;32m     32\u001b[0m \u001b[38;5;124;03m    Ranked List of shape [N, Num_agents]\u001b[39;00m\n\u001b[1;32m     33\u001b[0m \u001b[38;5;124;03m\"\"\"\u001b[39;00m\n\u001b[1;32m     35\u001b[0m N_trunc \u001b[38;5;241m=\u001b[39m \u001b[38;5;28mint\u001b[39m(N \u001b[38;5;241m*\u001b[39m prob)\n\u001b[0;32m---> 36\u001b[0m P \u001b[38;5;241m=\u001b[39m \u001b[43mgenerate_permutation_array\u001b[49m\u001b[43m(\u001b[49m\u001b[43mN\u001b[49m\u001b[43m,\u001b[49m\u001b[43m \u001b[49m\u001b[38;5;28;43mself\u001b[39;49m\u001b[38;5;241;43m.\u001b[39;49m\u001b[43mnum_agents\u001b[49m\u001b[43m)\u001b[49m \u001b[38;5;241m+\u001b[39m \u001b[38;5;241m1\u001b[39m\n\u001b[1;32m     38\u001b[0m \u001b[38;5;28;01mif\u001b[39;00m N_trunc \u001b[38;5;241m>\u001b[39m \u001b[38;5;241m0\u001b[39m:\n\u001b[1;32m     39\u001b[0m     \n\u001b[1;32m     40\u001b[0m     \u001b[38;5;66;03m# Choose indices to truncate\u001b[39;00m\n\u001b[1;32m     41\u001b[0m     idx \u001b[38;5;241m=\u001b[39m np\u001b[38;5;241m.\u001b[39mrandom\u001b[38;5;241m.\u001b[39mchoice(N, N_trunc, replace \u001b[38;5;241m=\u001b[39m \u001b[38;5;28;01mFalse\u001b[39;00m)\n",
      "File \u001b[0;32m~/Github/meina-t/matching_with_dl/data.py:9\u001b[0m, in \u001b[0;36mgenerate_permutation_array\u001b[0;34m(N, num_agents)\u001b[0m\n\u001b[1;32m      7\u001b[0m \u001b[38;5;28;01mdef\u001b[39;00m \u001b[38;5;21mgenerate_permutation_array\u001b[39m(N, num_agents):\n\u001b[1;32m      8\u001b[0m     P \u001b[38;5;241m=\u001b[39m np\u001b[38;5;241m.\u001b[39mzeros((N, num_agents))\n\u001b[0;32m----> 9\u001b[0m     \u001b[38;5;28;01mfor\u001b[39;00m i \u001b[38;5;129;01min\u001b[39;00m \u001b[38;5;28mrange\u001b[39m(N): P[i] \u001b[38;5;241m=\u001b[39m np\u001b[38;5;241m.\u001b[39mrandom\u001b[38;5;241m.\u001b[39mpermutation(num_agents)\n\u001b[1;32m     10\u001b[0m     \u001b[38;5;28;01mreturn\u001b[39;00m P\n",
      "\u001b[0;31mKeyboardInterrupt\u001b[0m: "
     ]
    }
   ],
   "source": [
    "device = \"mps\" #if torch.cuda.is_available() else \"cpu\"\n",
    "lambd = np.ones((2,2))*0.001\n",
    "# lambd = cfg.lambd\n",
    "\n",
    "cfg = HParams(num_agents = 2,\n",
    "              device = device,\n",
    "              lambd = lambd,\n",
    "              rho = 0.1,\n",
    "              lagr_iter = 1000,\n",
    "              batch_size = 512)\n",
    "\n",
    "cfg.lr = 1e-4\n",
    "\n",
    "np.random.seed(cfg.seed)\n",
    "\n",
    "G = Data(cfg)\n",
    "\n",
    "model = PrimalNet(cfg)\n",
    "model.to(device)\n",
    "\n",
    "train_primal(cfg,G,model)"
   ]
  },
  {
   "cell_type": "markdown",
   "metadata": {},
   "source": [
    "### 3* 3"
   ]
  },
  {
   "cell_type": "code",
   "execution_count": null,
   "metadata": {},
   "outputs": [],
   "source": [
    "device = \"mps\" #if torch.cuda.is_available() else \"cpu\"\n",
    "lambd = np.ones((3,3))*0.001\n",
    "# lambd = cfg.lambd\n",
    "\n",
    "cfg = HParams(num_agents = 3,\n",
    "              device = device,\n",
    "              lambd = lambd,\n",
    "              rho = 0.1,\n",
    "              lagr_iter = 100,\n",
    "              batch_size = 128,\n",
    "              epochs = 1000)\n",
    "\n",
    "cfg.lr = 1e-4\n",
    "\n",
    "np.random.seed(cfg.seed)\n",
    "\n",
    "G = Data(cfg)"
   ]
  },
  {
   "cell_type": "code",
   "execution_count": 61,
   "metadata": {},
   "outputs": [
    {
     "data": {
      "text/plain": [
       "(array([[[1.        , 0.33333333, 0.66666667],\n",
       "         [0.66666667, 1.        , 0.33333333],\n",
       "         [1.        , 0.66666667, 0.33333333]]]),\n",
       " array([[[0.66666667, 0.33333333, 0.66666667],\n",
       "         [0.66666667, 0.66666667, 0.33333333],\n",
       "         [0.33333333, 0.33333333, 0.66666667]]]))"
      ]
     },
     "execution_count": 61,
     "metadata": {},
     "output_type": "execute_result"
    }
   ],
   "source": [
    "G.generate_batch(batch_size=1)"
   ]
  },
  {
   "cell_type": "code",
   "execution_count": 62,
   "metadata": {},
   "outputs": [
    {
     "data": {
      "text/plain": [
       "PrimalNet(\n",
       "  (input_block): Sequential(\n",
       "    (0): Linear(in_features=18, out_features=256, bias=True)\n",
       "    (1): LeakyReLU(negative_slope=0.01)\n",
       "    (2): Linear(in_features=256, out_features=256, bias=True)\n",
       "    (3): LeakyReLU(negative_slope=0.01)\n",
       "    (4): Linear(in_features=256, out_features=256, bias=True)\n",
       "    (5): LeakyReLU(negative_slope=0.01)\n",
       "    (6): Linear(in_features=256, out_features=256, bias=True)\n",
       "    (7): LeakyReLU(negative_slope=0.01)\n",
       "    (8): Linear(in_features=256, out_features=256, bias=True)\n",
       "    (9): LeakyReLU(negative_slope=0.01)\n",
       "  )\n",
       "  (layer_out): Linear(in_features=256, out_features=9, bias=True)\n",
       ")"
      ]
     },
     "execution_count": 62,
     "metadata": {},
     "output_type": "execute_result"
    }
   ],
   "source": [
    "model = PrimalNet(cfg)\n",
    "model.to(device)"
   ]
  },
  {
   "cell_type": "code",
   "execution_count": 85,
   "metadata": {},
   "outputs": [
    {
     "name": "stderr",
     "output_type": "stream",
     "text": [
      "2024-12-16 15:44:00,516:INFO:[TRAIN-ITER]: 0, [Time-Elapsed]: 1.705451, [Total-Loss]: 4090639552652247040.000000\n",
      "2024-12-16 15:44:00,534:INFO:[CONSTR-Vio]: 0.001060, [OBJECTIVE]: 4090639552652247040.000000, [EFFICIENCY]:  1.542577\n",
      "2024-12-16 15:44:15,733:INFO:[TRAIN-ITER]: 9, [Time-Elapsed]: 16.923318, [Total-Loss]: 3797588642646458368.000000\n",
      "2024-12-16 15:44:15,736:INFO:[CONSTR-Vio]: 0.000998, [OBJECTIVE]: 3797588642646458368.000000, [EFFICIENCY]:  1.559441\n",
      "2024-12-16 15:44:15,737:INFO:train ended!\n"
     ]
    }
   ],
   "source": [
    "train_primal(cfg,G,model)"
   ]
  },
  {
   "cell_type": "markdown",
   "metadata": {},
   "source": [
    "### plot"
   ]
  },
  {
   "cell_type": "code",
   "execution_count": null,
   "metadata": {},
   "outputs": [],
   "source": [
    "def plot_matching(p, q, match):\n",
    "    # Move tensor to CPU and convert to NumPy\n",
    "    output_matrix = match.squeeze().detach().cpu().numpy()\n",
    "\n",
    "    annotations = np.empty_like(output_matrix, dtype=object)\n",
    "    for i in range(output_matrix.shape[0]):\n",
    "        for j in range(output_matrix.shape[1]):\n",
    "            annotations[i, j] = f'{output_matrix[i, j]:.2e}\\n[{p[i, j]}, {q[j, i]}]'\n",
    "\n",
    "    # Plot the heatmap\n",
    "    plt.figure(figsize=(8, 6))\n",
    "    sns.heatmap(output_matrix, annot=annotations, fmt='', cmap='Blues', cbar=True)\n",
    "    plt.title(\"Agent Relationship Heatmap with Vector Details\")\n",
    "    plt.xlabel(\"Agent\")\n",
    "    plt.ylabel(\"Agent\")\n",
    "    plt.show()\n"
   ]
  },
  {
   "cell_type": "code",
   "execution_count": null,
   "metadata": {},
   "outputs": [],
   "source": [
    "p = torch.tensor([[1, 0.0, 0], [0, 1, 0], [0, 0, 1]]).to(device)\n",
    "q = torch.tensor([[1, 0.0, 0], [0, 1, 0], [0, 0, 1]]).to(device)\n",
    "\n",
    "output = model(p, q)"
   ]
  },
  {
   "cell_type": "code",
   "execution_count": null,
   "metadata": {},
   "outputs": [
    {
     "data": {
      "image/png": "[encoded data removed]",
      "text/plain": [
       "<Figure size 800x600 with 2 Axes>"
      ]
     },
     "metadata": {},
     "output_type": "display_data"
    }
   ],
   "source": [
    "plot_matching(p, q, output)"
   ]
  },
  {
   "cell_type": "markdown",
   "metadata": {},
   "source": [
    "### compare"
   ]
  },
  {
   "cell_type": "code",
   "execution_count": 86,
   "metadata": {},
   "outputs": [],
   "source": [
    "p = torch.tensor([[1, 0.0, 0], [0, 1, 0], [0, 0, 1]]).to(device)\n",
    "q = torch.tensor([[1, 0.0, 0], [0, 1, 0], [0, 0, 1]]).to(device)\n",
    "\n",
    "output = model(p, q)"
   ]
  },
  {
   "cell_type": "code",
   "execution_count": 87,
   "metadata": {},
   "outputs": [
    {
     "data": {
      "text/plain": [
       "tensor([[[0.3311, 0.3347, 0.3342],\n",
       "         [0.3350, 0.3275, 0.3375],\n",
       "         [0.3341, 0.3375, 0.3284]]], device='mps:0', grad_fn=<DivBackward0>)"
      ]
     },
     "execution_count": 87,
     "metadata": {},
     "output_type": "execute_result"
    }
   ],
   "source": [
    "output"
   ]
  },
  {
   "cell_type": "code",
   "execution_count": null,
   "metadata": {},
   "outputs": [],
   "source": [
    "print(f'stability_loss: {}')\n",
    "print(f'efficiency_loss: {}')"
   ]
  },
  {
   "cell_type": "code",
   "execution_count": null,
   "metadata": {},
   "outputs": [],
   "source": [
    "da_output = da_with_tie(p, q)"
   ]
  },
  {
   "cell_type": "code",
   "execution_count": null,
   "metadata": {},
   "outputs": [],
   "source": [
    "da_output"
   ]
  },
  {
   "cell_type": "code",
   "execution_count": 77,
   "metadata": {},
   "outputs": [],
   "source": [
    "from efficiency_loss import generate_stable_matchings, filter_efficient_stable_matchings"
   ]
  },
  {
   "cell_type": "code",
   "execution_count": 78,
   "metadata": {},
   "outputs": [],
   "source": [
    "stable_matching = generate_stable_matchings(p, q)"
   ]
  },
  {
   "cell_type": "code",
   "execution_count": 79,
   "metadata": {},
   "outputs": [
    {
     "data": {
      "text/plain": [
       "[(0, 1, 2)]"
      ]
     },
     "execution_count": 79,
     "metadata": {},
     "output_type": "execute_result"
    }
   ],
   "source": [
    "stable_matching"
   ]
  },
  {
   "cell_type": "code",
   "execution_count": 45,
   "metadata": {},
   "outputs": [
    {
     "data": {
      "text/plain": [
       "[(0, 1, 2)]"
      ]
     },
     "execution_count": 45,
     "metadata": {},
     "output_type": "execute_result"
    }
   ],
   "source": [
    "generate_efficient_stable_matchings(stable_matching, p, q)"
   ]
  },
  {
   "cell_type": "code",
   "execution_count": null,
   "metadata": {},
   "outputs": [],
   "source": []
  }
 ],
 "metadata": {
  "kernelspec": {
   "display_name": "3.10.4",
   "language": "python",
   "name": "python3"
  },
  "language_info": {
   "codemirror_mode": {
    "name": "ipython",
    "version": 3
   },
   "file_extension": ".py",
   "mimetype": "text/x-python",
   "name": "python",
   "nbconvert_exporter": "python",
   "pygments_lexer": "ipython3",
   "version": "3.10.4"
  }
 },
 "nbformat": 4,
 "nbformat_minor": 2
}
