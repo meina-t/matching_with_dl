{
 "cells": [
  {
   "cell_type": "code",
   "execution_count": 2,
   "metadata": {},
   "outputs": [],
   "source": [
    "%load_ext autoreload\n",
    "%autoreload 2"
   ]
  },
  {
   "cell_type": "markdown",
   "metadata": {},
   "source": [
    "## (Strategy Proofness - First Order Stochastic Dominance)\n",
    "$$\n",
    "\\forall i\\in W\\cup F \\ \\forall \\succ_i \\forall \\succ_{-i} \\forall \\succ'_i \\forall j \\\\\n",
    "\\sum_{j'\\succeq j}(g_{ij'}(\\succ'_i,\\succ_{-i})-g_{ij'}(\\succ_i,\\succ_{-i})) \\leq 0\n",
    "$$"
   ]
  },
  {
   "cell_type": "markdown",
   "metadata": {},
   "source": [
    "## (Ex-ante Stability)\n",
    "$\\nexists (w,f)\\in W\\times F$ s.t. $\\exist f'\\ [g_{wf'}(\\succ)>0\\land f\\succ_w f']\\ \\exist w'\\ [g_{w'f}(\\succ)>0\\land w\\succ_f w']$\n",
    "\n",
    "## (Stability of Deterministic Matching)\n",
    "$$\n",
    "\\forall (w,f)\\in W\\times F \\ g_{wf}+\\sum_{f'\\succ_w f}g_{wf'}+\\sum_{w'\\succ_f w}g_{w'f}\\geq 1\n",
    "$$\n",
    "\n",
    "## (Ex-post Stability)\n",
    "A randomized matching is **ex-post stable** iff it can be decomposed into deterministic stable matchings.\n",
    "\n",
    "## (Fractionally Stable)\n",
    "$$\n",
    "\\forall (w,f)\\in W\\times F \\ g_{wf}+\\sum_{f'\\succ_w f}g_{wf'}+\\sum_{w'\\succ_f w}g_{w'f}\\geq 1\n",
    "$$\n",
    "\n",
    "### (Violation of Fractionally Stability)\n",
    "$$\n",
    "\\sum_\\succ\\sum_w\\sum_f\\max\\left\\{0,1-g_{wf}(\\succ)-\\sum_{w'\\succ_f w}g_{w'f}(\\succ)-\\sum_{f'\\succ_w f}g_{wf'}(\\succ)\\right\\}\n",
    "$$"
   ]
  },
  {
   "cell_type": "markdown",
   "metadata": {},
   "source": [
    "## (Primal)\n",
    "$$\n",
    "\\begin{align*}\n",
    "    \\min & \\sum_\\succ\\sum_w\\sum_f t_{wf}(\\succ)\\\\\n",
    "    \\text{s.t.} & \\sum_f g_{wf}(\\succ)\\leq 1 & \\forall\\succ\\forall w \\\\\n",
    "    & \\sum_w g_{wf}(\\succ)\\leq 1 & \\forall \\succ\\forall f\\\\\n",
    "    & t_{wf}(\\succ)\\geq 1-g_{wf}(\\succ)-\\sum_{w'\\succ_f w}g_{w'f}(\\succ)-\\sum_{f'\\succ_w f}g_{wf'}(\\succ) & \\forall\\succ\\forall w\\forall f\\\\\n",
    "    & \\sum_{f'\\succ_wf}(g_{wf'}(\\succ_w',\\succ_{-w})-g_{wf'}(\\succ))\\leq 0 & \\forall\\succ\\forall w\\forall\\succ_{w}'\\forall f\\\\\n",
    "    & \\sum_{w'\\succ_fw}(g_{w'f}(\\succ_f',\\succ_{-f})-g_{w'f}(\\succ))\\leq 0 & \\forall\\succ\\forall f\\forall\\succ_{f}'\\forall w\\\\\n",
    "    & g_{wf}(\\succ)\\geq 0,\\ t_{wf}(\\succ)\\geq 0 & \\forall\\succ\\forall w \\forall y\n",
    "\\end{align*}\n",
    "$$\n",
    "\n"
   ]
  },
  {
   "cell_type": "markdown",
   "metadata": {},
   "source": [
    "## (Dual)\n",
    "$$\n",
    "\\begin{align*}\n",
    "    \\min & \\sum_\\succ\\left(\\sum_wx_w(\\succ)+\\sum_fy_f(\\succ)-\\sum_w\\sum_fz_{wf}(\\succ)\\right)\\\\\n",
    "    \\text{s.t.}  \\\\\n",
    "    & \\forall \\succ \\forall w \\forall f\\\\\n",
    "    & x_w(\\succ)+y_f(\\succ)-z_{wf}(\\succ)-\\sum_{f'\\prec_wf}z_{wf'}(\\succ)-\\sum_{w'\\prec_fw}z_{w'f}(\\succ)-\\sum_{\\succ_w'}\\left(\\sum_{f'\\prec_w f}u_{wf'}(\\succ_w',\\succ_w,\\succ_{-w})-\\sum_{f'\\prec_w'f}u_{wf'}(\\succ_w,\\succ_w',\\succ_{-w})\\right)-\\sum_{\\succ_f'}\\left(\\sum_{w'\\prec_fw}v_{w'f}(\\succ_f',\\succ_f,\\succ_{-f})-\\sum_{w'\\prec_f'w}v_{w'f}(\\succ_f,\\succ_f',\\succ_{-f})\\right)\\geq 0 & \\forall\\succ\\forall w\\forall f\\\\\n",
    "    & x_w(\\succ)\\geq 0,\\ y_f(\\succ)\\geq 0,\\ 0\\leq z_{wf}(\\succ)\\leq 1 & \\forall\\succ\\forall w\\forall f\\\\\n",
    "    & u_{wf}(\\succ'_w,\\succ_w,\\succ_{-w})\\geq 0 & \\forall\\succ\\forall w\\forall\\succ_w'\\forall f\\\\\n",
    "    & v_{wf}(\\succ'_f,\\succ_f,\\succ_{-f})\\geq 0 & \\forall\\succ\\forall f\\forall\\succ_f'\\forall w\n",
    "\\end{align*}\n",
    "$$"
   ]
  },
  {
   "cell_type": "code",
   "execution_count": 6,
   "metadata": {},
   "outputs": [],
   "source": [
    "import os\n",
    "import sys\n",
    "import time\n",
    "import logging\n",
    "import argparse\n",
    "import numpy as np\n",
    "from random import random\n",
    "import itertools\n",
    "from pathlib import Path\n",
    "\n",
    "sys.path.append(str(Path(\"primal_dual_matching.ipynb\").resolve().parent.parent))\n",
    "\n",
    "import torch\n",
    "import torch.nn\n",
    "from torch import optim\n",
    "import torch.nn.functional as F\n",
    "\n",
    "from data import Data\n",
    "\n",
    "from primal_net import PrimalNet\n",
    "from primal_loss import *\n",
    "from primal_train import *\n",
    "\n",
    "from dual_net import DualNet\n",
    "from dual_loss import *\n",
    "from dual_train import *\n",
    "\n",
    "import torch\n",
    "import matplotlib.pyplot as plt\n",
    "import seaborn as sns"
   ]
  },
  {
   "cell_type": "markdown",
   "metadata": {},
   "source": [
    "### 2*2"
   ]
  },
  {
   "cell_type": "code",
   "execution_count": 7,
   "metadata": {},
   "outputs": [
    {
     "name": "stderr",
     "output_type": "stream",
     "text": [
      "2024-12-05 17:51:34,766:INFO:[TRAIN-ITER]: 0, [Time-Elapsed]: 0.745740, [Total-Loss]: 1288113606067486720.000000\n",
      "2024-12-05 17:51:34,767:INFO:[CONSTR-Vio]: 0.000153, [OBJECTIVE]: 1288113606067486720.000000\n",
      "2024-12-05 17:51:37,481:INFO:[TRAIN-ITER]: 100, [Time-Elapsed]: 3.461715, [Total-Loss]: 0.266347\n",
      "2024-12-05 17:51:37,483:INFO:[CONSTR-Vio]: 0.000073, [OBJECTIVE]: 0.266347\n",
      "2024-12-05 17:51:40,168:INFO:[TRAIN-ITER]: 200, [Time-Elapsed]: 6.147922, [Total-Loss]: 0.257339\n",
      "2024-12-05 17:51:40,168:INFO:[CONSTR-Vio]: 0.000070, [OBJECTIVE]: 0.257339\n",
      "2024-12-05 17:51:42,902:INFO:[TRAIN-ITER]: 300, [Time-Elapsed]: 8.879083, [Total-Loss]: 0.246333\n",
      "2024-12-05 17:51:42,903:INFO:[CONSTR-Vio]: 0.000071, [OBJECTIVE]: 0.246333\n",
      "2024-12-05 17:51:45,778:INFO:[TRAIN-ITER]: 400, [Time-Elapsed]: 11.758585, [Total-Loss]: 0.251336\n",
      "2024-12-05 17:51:45,780:INFO:[CONSTR-Vio]: 0.000074, [OBJECTIVE]: 0.251336\n",
      "2024-12-05 17:51:48,629:INFO:[TRAIN-ITER]: 500, [Time-Elapsed]: 14.609509, [Total-Loss]: 0.228320\n",
      "2024-12-05 17:51:48,630:INFO:[CONSTR-Vio]: 0.000071, [OBJECTIVE]: 0.228320\n",
      "2024-12-05 17:51:51,291:INFO:[TRAIN-ITER]: 600, [Time-Elapsed]: 17.266732, [Total-Loss]: 0.263351\n",
      "2024-12-05 17:51:51,292:INFO:[CONSTR-Vio]: 0.000068, [OBJECTIVE]: 0.263351\n",
      "2024-12-05 17:51:54,024:INFO:[TRAIN-ITER]: 700, [Time-Elapsed]: 20.004602, [Total-Loss]: 0.247336\n",
      "2024-12-05 17:51:54,027:INFO:[CONSTR-Vio]: 0.000070, [OBJECTIVE]: 0.247336\n",
      "2024-12-05 17:51:57,018:INFO:[TRAIN-ITER]: 800, [Time-Elapsed]: 22.996193, [Total-Loss]: 0.237327\n",
      "2024-12-05 17:51:57,022:INFO:[CONSTR-Vio]: 0.000075, [OBJECTIVE]: 0.237327\n",
      "2024-12-05 17:51:59,695:INFO:[TRAIN-ITER]: 900, [Time-Elapsed]: 25.675027, [Total-Loss]: 0.252338\n",
      "2024-12-05 17:51:59,696:INFO:[CONSTR-Vio]: 0.000073, [OBJECTIVE]: 0.252338\n",
      "2024-12-05 17:52:02,406:INFO:[TRAIN-ITER]: 1000, [Time-Elapsed]: 28.386002, [Total-Loss]: 0.288360\n",
      "2024-12-05 17:52:02,407:INFO:[CONSTR-Vio]: 0.000066, [OBJECTIVE]: 0.288360\n"
     ]
    },
    {
     "name": "stdout",
     "output_type": "stream",
     "text": [
      "[[0.00100087 0.00100226]\n",
      " [0.00100101 0.00100244]]\n"
     ]
    },
    {
     "name": "stderr",
     "output_type": "stream",
     "text": [
      "2024-12-05 17:52:05,296:INFO:\t[VAL-ITER]: 1000, [LOSS]: 0.256776, [Constr-vio]: 0.000071, [Objective]: 0.256776\n",
      "2024-12-05 17:52:07,986:INFO:[TRAIN-ITER]: 1100, [Time-Elapsed]: 33.962279, [Total-Loss]: 0.250337\n",
      "2024-12-05 17:52:07,988:INFO:[CONSTR-Vio]: 0.000073, [OBJECTIVE]: 0.250337\n",
      "2024-12-05 17:52:10,636:INFO:[TRAIN-ITER]: 1200, [Time-Elapsed]: 36.611169, [Total-Loss]: 0.256344\n",
      "2024-12-05 17:52:10,637:INFO:[CONSTR-Vio]: 0.000069, [OBJECTIVE]: 0.256344\n",
      "2024-12-05 17:52:13,359:INFO:[TRAIN-ITER]: 1300, [Time-Elapsed]: 39.339820, [Total-Loss]: 0.262347\n",
      "2024-12-05 17:52:13,360:INFO:[CONSTR-Vio]: 0.000068, [OBJECTIVE]: 0.262346\n",
      "2024-12-05 17:52:16,014:INFO:[TRAIN-ITER]: 1400, [Time-Elapsed]: 41.991992, [Total-Loss]: 0.277360\n",
      "2024-12-05 17:52:16,018:INFO:[CONSTR-Vio]: 0.000070, [OBJECTIVE]: 0.277360\n",
      "2024-12-05 17:52:18,691:INFO:[TRAIN-ITER]: 1500, [Time-Elapsed]: 44.671374, [Total-Loss]: 0.255348\n",
      "2024-12-05 17:52:18,692:INFO:[CONSTR-Vio]: 0.000070, [OBJECTIVE]: 0.255348\n",
      "2024-12-05 17:52:21,419:INFO:[TRAIN-ITER]: 1600, [Time-Elapsed]: 47.395511, [Total-Loss]: 0.253331\n",
      "2024-12-05 17:52:21,421:INFO:[CONSTR-Vio]: 0.000072, [OBJECTIVE]: 0.253331\n",
      "2024-12-05 17:52:24,116:INFO:[TRAIN-ITER]: 1700, [Time-Elapsed]: 50.096090, [Total-Loss]: 0.256343\n",
      "2024-12-05 17:52:24,117:INFO:[CONSTR-Vio]: 0.000072, [OBJECTIVE]: 0.256343\n",
      "2024-12-05 17:52:26,949:INFO:[TRAIN-ITER]: 1800, [Time-Elapsed]: 52.929008, [Total-Loss]: 0.258339\n",
      "2024-12-05 17:52:26,951:INFO:[CONSTR-Vio]: 0.000071, [OBJECTIVE]: 0.258339\n",
      "2024-12-05 17:52:29,904:INFO:[TRAIN-ITER]: 1900, [Time-Elapsed]: 55.884095, [Total-Loss]: 0.252334\n",
      "2024-12-05 17:52:29,905:INFO:[CONSTR-Vio]: 0.000069, [OBJECTIVE]: 0.252334\n",
      "2024-12-05 17:52:32,692:INFO:[TRAIN-ITER]: 2000, [Time-Elapsed]: 58.667387, [Total-Loss]: 0.248341\n",
      "2024-12-05 17:52:32,693:INFO:[CONSTR-Vio]: 0.000069, [OBJECTIVE]: 0.248341\n"
     ]
    },
    {
     "name": "stdout",
     "output_type": "stream",
     "text": [
      "[[0.00100152 0.00100505]\n",
      " [0.00100211 0.00100475]]\n"
     ]
    },
    {
     "name": "stderr",
     "output_type": "stream",
     "text": [
      "2024-12-05 17:52:35,704:INFO:\t[VAL-ITER]: 2000, [LOSS]: 0.255555, [Constr-vio]: 0.000071, [Objective]: 0.255555\n",
      "2024-12-05 17:52:38,475:INFO:[TRAIN-ITER]: 2100, [Time-Elapsed]: 64.455088, [Total-Loss]: 0.241336\n",
      "2024-12-05 17:52:38,477:INFO:[CONSTR-Vio]: 0.000066, [OBJECTIVE]: 0.241336\n",
      "2024-12-05 17:52:41,138:INFO:[TRAIN-ITER]: 2200, [Time-Elapsed]: 67.114496, [Total-Loss]: 0.264342\n",
      "2024-12-05 17:52:41,139:INFO:[CONSTR-Vio]: 0.000067, [OBJECTIVE]: 0.264342\n",
      "2024-12-05 17:52:43,941:INFO:[TRAIN-ITER]: 2300, [Time-Elapsed]: 69.921158, [Total-Loss]: 0.255348\n",
      "2024-12-05 17:52:43,943:INFO:[CONSTR-Vio]: 0.000068, [OBJECTIVE]: 0.255348\n",
      "2024-12-05 17:52:46,586:INFO:[TRAIN-ITER]: 2400, [Time-Elapsed]: 72.566380, [Total-Loss]: 0.263343\n",
      "2024-12-05 17:52:46,587:INFO:[CONSTR-Vio]: 0.000071, [OBJECTIVE]: 0.263343\n",
      "2024-12-05 17:52:49,296:INFO:[TRAIN-ITER]: 2500, [Time-Elapsed]: 75.276191, [Total-Loss]: 0.242336\n",
      "2024-12-05 17:52:49,297:INFO:[CONSTR-Vio]: 0.000075, [OBJECTIVE]: 0.242336\n",
      "2024-12-05 17:52:52,049:INFO:[TRAIN-ITER]: 2600, [Time-Elapsed]: 78.029084, [Total-Loss]: 0.245329\n",
      "2024-12-05 17:52:52,051:INFO:[CONSTR-Vio]: 0.000072, [OBJECTIVE]: 0.245329\n",
      "2024-12-05 17:52:54,835:INFO:[TRAIN-ITER]: 2700, [Time-Elapsed]: 80.814920, [Total-Loss]: 0.226311\n",
      "2024-12-05 17:52:54,836:INFO:[CONSTR-Vio]: 0.000076, [OBJECTIVE]: 0.226311\n",
      "2024-12-05 17:52:57,459:INFO:[TRAIN-ITER]: 2800, [Time-Elapsed]: 83.434580, [Total-Loss]: 0.262342\n",
      "2024-12-05 17:52:57,460:INFO:[CONSTR-Vio]: 0.000070, [OBJECTIVE]: 0.262342\n",
      "2024-12-05 17:53:00,060:INFO:[TRAIN-ITER]: 2900, [Time-Elapsed]: 86.036892, [Total-Loss]: 0.262343\n",
      "2024-12-05 17:53:00,062:INFO:[CONSTR-Vio]: 0.000072, [OBJECTIVE]: 0.262343\n",
      "2024-12-05 17:53:02,959:INFO:[TRAIN-ITER]: 3000, [Time-Elapsed]: 88.939522, [Total-Loss]: 0.249325\n",
      "2024-12-05 17:53:02,960:INFO:[CONSTR-Vio]: 0.000073, [OBJECTIVE]: 0.249325\n"
     ]
    },
    {
     "name": "stdout",
     "output_type": "stream",
     "text": [
      "[[0.00100265 0.00100773]\n",
      " [0.00100314 0.00100719]]\n"
     ]
    },
    {
     "name": "stderr",
     "output_type": "stream",
     "text": [
      "2024-12-05 17:53:05,981:INFO:\t[VAL-ITER]: 3000, [LOSS]: 0.256476, [Constr-vio]: 0.000071, [Objective]: 0.256476\n"
     ]
    },
    {
     "ename": "KeyboardInterrupt",
     "evalue": "",
     "output_type": "error",
     "traceback": [
      "\u001b[0;31m---------------------------------------------------------------------------\u001b[0m",
      "\u001b[0;31mKeyboardInterrupt\u001b[0m                         Traceback (most recent call last)",
      "Cell \u001b[0;32mIn[7], line 21\u001b[0m\n\u001b[1;32m     18\u001b[0m model \u001b[38;5;241m=\u001b[39m PrimalNet(cfg)\n\u001b[1;32m     19\u001b[0m model\u001b[38;5;241m.\u001b[39mto(device)\n\u001b[0;32m---> 21\u001b[0m \u001b[43mtrain_primal\u001b[49m\u001b[43m(\u001b[49m\u001b[43mcfg\u001b[49m\u001b[43m,\u001b[49m\u001b[43mG\u001b[49m\u001b[43m,\u001b[49m\u001b[43mmodel\u001b[49m\u001b[43m)\u001b[49m\n",
      "File \u001b[0;32m~/Github/meina-t/matching_with_dl/primal_train.py:92\u001b[0m, in \u001b[0;36mtrain_primal\u001b[0;34m(cfg, G, model, include_truncation)\u001b[0m\n\u001b[1;32m     89\u001b[0m p, q \u001b[38;5;241m=\u001b[39m torch\u001b[38;5;241m.\u001b[39mTensor(P)\u001b[38;5;241m.\u001b[39mto(cfg\u001b[38;5;241m.\u001b[39mdevice), torch\u001b[38;5;241m.\u001b[39mTensor(Q)\u001b[38;5;241m.\u001b[39mto(cfg\u001b[38;5;241m.\u001b[39mdevice)\n\u001b[1;32m     90\u001b[0m r \u001b[38;5;241m=\u001b[39m model(p, q)\n\u001b[0;32m---> 92\u001b[0m loss,constr_vio,obj \u001b[38;5;241m=\u001b[39m \u001b[43mcompute_loss\u001b[49m\u001b[43m(\u001b[49m\u001b[43mcfg\u001b[49m\u001b[43m,\u001b[49m\u001b[43mmodel\u001b[49m\u001b[43m,\u001b[49m\u001b[43mr\u001b[49m\u001b[43m,\u001b[49m\u001b[43mp\u001b[49m\u001b[43m,\u001b[49m\u001b[43mq\u001b[49m\u001b[43m,\u001b[49m\u001b[43mlambd\u001b[49m\u001b[43m,\u001b[49m\u001b[43mcfg\u001b[49m\u001b[38;5;241;43m.\u001b[39;49m\u001b[43mrho\u001b[49m\u001b[43m)\u001b[49m\n\u001b[1;32m     93\u001b[0m \u001b[38;5;28;01mif\u001b[39;00m (i\u001b[38;5;241m>\u001b[39m\u001b[38;5;241m0\u001b[39m) \u001b[38;5;129;01mand\u001b[39;00m (i\u001b[38;5;241m%\u001b[39mcfg\u001b[38;5;241m.\u001b[39mlagr_iter \u001b[38;5;241m==\u001b[39m \u001b[38;5;241m0\u001b[39m):\n\u001b[1;32m     94\u001b[0m     lambd \u001b[38;5;241m+\u001b[39m\u001b[38;5;241m=\u001b[39m cfg\u001b[38;5;241m.\u001b[39mrho\u001b[38;5;241m*\u001b[39mconstr_vio\u001b[38;5;241m.\u001b[39mto(\u001b[38;5;124m'\u001b[39m\u001b[38;5;124mcpu\u001b[39m\u001b[38;5;124m'\u001b[39m)\u001b[38;5;241m.\u001b[39mdetach()\u001b[38;5;241m.\u001b[39mnumpy()\u001b[38;5;241m.\u001b[39mcopy()\n",
      "File \u001b[0;32m~/Github/meina-t/matching_with_dl/primal_loss.py:62\u001b[0m, in \u001b[0;36mcompute_loss\u001b[0;34m(cfg, model, r, p, q, lambd, rho)\u001b[0m\n\u001b[1;32m     61\u001b[0m \u001b[38;5;28;01mdef\u001b[39;00m \u001b[38;5;21mcompute_loss\u001b[39m(cfg, model, r, p, q, lambd, rho):\n\u001b[0;32m---> 62\u001b[0m     t \u001b[38;5;241m=\u001b[39m \u001b[43mcompute_t\u001b[49m\u001b[43m(\u001b[49m\u001b[43mr\u001b[49m\u001b[43m,\u001b[49m\u001b[43mp\u001b[49m\u001b[43m,\u001b[49m\u001b[43mq\u001b[49m\u001b[43m)\u001b[49m\n\u001b[1;32m     63\u001b[0m     spv_w \u001b[38;5;241m=\u001b[39m compute_spv_w(cfg,model,r,p,q)\n\u001b[1;32m     64\u001b[0m     spv_f \u001b[38;5;241m=\u001b[39m compute_spv_f(cfg,model,r,p,q)\n",
      "File \u001b[0;32m~/Github/meina-t/matching_with_dl/primal_loss.py:9\u001b[0m, in \u001b[0;36mcompute_t\u001b[0;34m(r, p, q)\u001b[0m\n\u001b[1;32m      7\u001b[0m \u001b[38;5;28;01mdef\u001b[39;00m \u001b[38;5;21mcompute_t\u001b[39m(r, p, q):\n\u001b[1;32m      8\u001b[0m     wp \u001b[38;5;241m=\u001b[39m torch\u001b[38;5;241m.\u001b[39mwhere(p[:, :, \u001b[38;5;28;01mNone\u001b[39;00m, :] \u001b[38;5;241m-\u001b[39m p[:, :, :, \u001b[38;5;28;01mNone\u001b[39;00m]\u001b[38;5;241m>\u001b[39m\u001b[38;5;241m0\u001b[39m,\u001b[38;5;241m1\u001b[39m,\u001b[38;5;241m0\u001b[39m)\u001b[38;5;241m.\u001b[39mto(torch\u001b[38;5;241m.\u001b[39mfloat)\n\u001b[0;32m----> 9\u001b[0m     wq \u001b[38;5;241m=\u001b[39m \u001b[43mtorch\u001b[49m\u001b[38;5;241;43m.\u001b[39;49m\u001b[43mwhere\u001b[49m\u001b[43m(\u001b[49m\u001b[43mq\u001b[49m\u001b[43m[\u001b[49m\u001b[43m:\u001b[49m\u001b[43m,\u001b[49m\u001b[43m \u001b[49m\u001b[43m:\u001b[49m\u001b[43m,\u001b[49m\u001b[43m \u001b[49m\u001b[38;5;28;43;01mNone\u001b[39;49;00m\u001b[43m,\u001b[49m\u001b[43m \u001b[49m\u001b[43m:\u001b[49m\u001b[43m]\u001b[49m\u001b[43m \u001b[49m\u001b[38;5;241;43m-\u001b[39;49m\u001b[43m \u001b[49m\u001b[43mq\u001b[49m\u001b[43m[\u001b[49m\u001b[43m:\u001b[49m\u001b[43m,\u001b[49m\u001b[43m \u001b[49m\u001b[38;5;28;43;01mNone\u001b[39;49;00m\u001b[43m,\u001b[49m\u001b[43m \u001b[49m\u001b[43m:\u001b[49m\u001b[43m,\u001b[49m\u001b[43m \u001b[49m\u001b[43m:\u001b[49m\u001b[43m]\u001b[49m\u001b[38;5;241;43m>\u001b[39;49m\u001b[38;5;241;43m0\u001b[39;49m\u001b[43m,\u001b[49m\u001b[38;5;241;43m1\u001b[39;49m\u001b[43m,\u001b[49m\u001b[38;5;241;43m0\u001b[39;49m\u001b[43m)\u001b[49m\u001b[38;5;241m.\u001b[39mto(torch\u001b[38;5;241m.\u001b[39mfloat)\n\u001b[1;32m     10\u001b[0m     t \u001b[38;5;241m=\u001b[39m  \u001b[38;5;241m1\u001b[39m\u001b[38;5;241m-\u001b[39m r \u001b[38;5;241m-\u001b[39m torch\u001b[38;5;241m.\u001b[39meinsum(\u001b[38;5;124m'\u001b[39m\u001b[38;5;124mbic,bijc->bij\u001b[39m\u001b[38;5;124m'\u001b[39m, r, wp) \u001b[38;5;241m-\u001b[39m torch\u001b[38;5;241m.\u001b[39meinsum(\u001b[38;5;124m'\u001b[39m\u001b[38;5;124mbic,biac->bac\u001b[39m\u001b[38;5;124m'\u001b[39m, r, wq) \n\u001b[1;32m     11\u001b[0m     \u001b[38;5;28;01mreturn\u001b[39;00m t\u001b[38;5;241m.\u001b[39mrelu()\n",
      "\u001b[0;31mKeyboardInterrupt\u001b[0m: "
     ]
    }
   ],
   "source": [
    "device = \"mps\" #if torch.cuda.is_available() else \"cpu\"\n",
    "lambd = np.ones((2,2))*0.001\n",
    "# lambd = cfg.lambd\n",
    "\n",
    "cfg = HParams(num_agents = 2,\n",
    "              device = device,\n",
    "              lambd = lambd,\n",
    "              rho = 0.1,\n",
    "              lagr_iter = 1000,\n",
    "              batch_size = 512)\n",
    "\n",
    "cfg.lr = 1e-4\n",
    "\n",
    "np.random.seed(cfg.seed)\n",
    "\n",
    "G = Data(cfg)\n",
    "\n",
    "model = PrimalNet(cfg)\n",
    "model.to(device)\n",
    "\n",
    "train_primal(cfg,G,model)"
   ]
  },
  {
   "cell_type": "markdown",
   "metadata": {},
   "source": [
    "### 3* 3"
   ]
  },
  {
   "cell_type": "code",
   "execution_count": 8,
   "metadata": {},
   "outputs": [],
   "source": [
    "device = \"mps\" #if torch.cuda.is_available() else \"cpu\"\n",
    "lambd = np.ones((3,3))*0.001\n",
    "# lambd = cfg.lambd\n",
    "\n",
    "cfg = HParams(num_agents = 3,\n",
    "              device = device,\n",
    "              lambd = lambd,\n",
    "              rho = 0.1,\n",
    "              lagr_iter = 1000,\n",
    "              batch_size = 512)\n",
    "\n",
    "cfg.lr = 1e-4\n",
    "\n",
    "np.random.seed(cfg.seed)\n",
    "\n",
    "G = Data(cfg)"
   ]
  },
  {
   "cell_type": "code",
   "execution_count": 9,
   "metadata": {},
   "outputs": [
    {
     "data": {
      "text/plain": [
       "PrimalNet(\n",
       "  (input_block): Sequential(\n",
       "    (0): Linear(in_features=18, out_features=256, bias=True)\n",
       "    (1): LeakyReLU(negative_slope=0.01)\n",
       "    (2): Linear(in_features=256, out_features=256, bias=True)\n",
       "    (3): LeakyReLU(negative_slope=0.01)\n",
       "    (4): Linear(in_features=256, out_features=256, bias=True)\n",
       "    (5): LeakyReLU(negative_slope=0.01)\n",
       "    (6): Linear(in_features=256, out_features=256, bias=True)\n",
       "    (7): LeakyReLU(negative_slope=0.01)\n",
       "    (8): Linear(in_features=256, out_features=256, bias=True)\n",
       "    (9): LeakyReLU(negative_slope=0.01)\n",
       "  )\n",
       "  (layer_out): Linear(in_features=256, out_features=9, bias=True)\n",
       ")"
      ]
     },
     "execution_count": 9,
     "metadata": {},
     "output_type": "execute_result"
    }
   ],
   "source": [
    "model = PrimalNet(cfg)\n",
    "model.to(device)"
   ]
  },
  {
   "cell_type": "code",
   "execution_count": 10,
   "metadata": {},
   "outputs": [
    {
     "name": "stderr",
     "output_type": "stream",
     "text": [
      "2024-12-05 17:53:13,873:INFO:[TRAIN-ITER]: 0, [Time-Elapsed]: 1.593212, [Total-Loss]: 4084071070187913216.000000\n",
      "2024-12-05 17:53:13,874:INFO:[CONSTR-Vio]: 0.005378, [OBJECTIVE]: 4084071070187913216.000000\n",
      "2024-12-05 17:53:18,109:INFO:[TRAIN-ITER]: 100, [Time-Elapsed]: 5.823276, [Total-Loss]: 0.895723\n",
      "2024-12-05 17:53:18,110:INFO:[CONSTR-Vio]: 0.004819, [OBJECTIVE]: 0.895718\n",
      "2024-12-05 17:53:22,593:INFO:[TRAIN-ITER]: 200, [Time-Elapsed]: 10.306717, [Total-Loss]: 0.894962\n",
      "2024-12-05 17:53:22,596:INFO:[CONSTR-Vio]: 0.004813, [OBJECTIVE]: 0.894957\n",
      "2024-12-05 17:53:26,874:INFO:[TRAIN-ITER]: 300, [Time-Elapsed]: 14.587445, [Total-Loss]: 0.891707\n",
      "2024-12-05 17:53:26,875:INFO:[CONSTR-Vio]: 0.004768, [OBJECTIVE]: 0.891703\n",
      "2024-12-05 17:53:31,336:INFO:[TRAIN-ITER]: 400, [Time-Elapsed]: 19.049638, [Total-Loss]: 0.881309\n",
      "2024-12-05 17:53:31,339:INFO:[CONSTR-Vio]: 0.004785, [OBJECTIVE]: 0.881304\n",
      "2024-12-05 17:53:35,656:INFO:[TRAIN-ITER]: 500, [Time-Elapsed]: 23.369539, [Total-Loss]: 0.897606\n",
      "2024-12-05 17:53:35,657:INFO:[CONSTR-Vio]: 0.004754, [OBJECTIVE]: 0.897601\n",
      "2024-12-05 17:53:40,010:INFO:[TRAIN-ITER]: 600, [Time-Elapsed]: 27.723464, [Total-Loss]: 0.878738\n",
      "2024-12-05 17:53:40,011:INFO:[CONSTR-Vio]: 0.004803, [OBJECTIVE]: 0.878733\n",
      "2024-12-05 17:53:44,288:INFO:[TRAIN-ITER]: 700, [Time-Elapsed]: 32.001620, [Total-Loss]: 0.910577\n",
      "2024-12-05 17:53:44,289:INFO:[CONSTR-Vio]: 0.004908, [OBJECTIVE]: 0.910572\n",
      "2024-12-05 17:53:48,534:INFO:[TRAIN-ITER]: 800, [Time-Elapsed]: 36.248361, [Total-Loss]: 0.914491\n",
      "2024-12-05 17:53:48,536:INFO:[CONSTR-Vio]: 0.004797, [OBJECTIVE]: 0.914487\n",
      "2024-12-05 17:53:52,833:INFO:[TRAIN-ITER]: 900, [Time-Elapsed]: 40.548054, [Total-Loss]: 0.886526\n",
      "2024-12-05 17:53:52,834:INFO:[CONSTR-Vio]: 0.004748, [OBJECTIVE]: 0.886521\n",
      "2024-12-05 17:53:57,152:INFO:[TRAIN-ITER]: 1000, [Time-Elapsed]: 44.866729, [Total-Loss]: 0.939122\n",
      "2024-12-05 17:53:57,154:INFO:[CONSTR-Vio]: 0.004878, [OBJECTIVE]: 0.939117\n"
     ]
    },
    {
     "name": "stdout",
     "output_type": "stream",
     "text": [
      "[[0.00106605 0.00107141 0.0010512 ]\n",
      " [0.0010532  0.00106059 0.00105216]\n",
      " [0.00104644 0.00104299 0.00104381]]\n"
     ]
    },
    {
     "name": "stderr",
     "output_type": "stream",
     "text": [
      "2024-12-05 17:54:03,921:INFO:\t[VAL-ITER]: 1000, [LOSS]: 0.889024, [Constr-vio]: 0.004837, [Objective]: 0.889019\n",
      "2024-12-05 17:54:08,413:INFO:[TRAIN-ITER]: 1100, [Time-Elapsed]: 56.126890, [Total-Loss]: 0.909126\n",
      "2024-12-05 17:54:08,415:INFO:[CONSTR-Vio]: 0.005652, [OBJECTIVE]: 0.909120\n",
      "2024-12-05 17:54:12,792:INFO:[TRAIN-ITER]: 1200, [Time-Elapsed]: 60.506017, [Total-Loss]: 0.930179\n",
      "2024-12-05 17:54:12,793:INFO:[CONSTR-Vio]: 0.005614, [OBJECTIVE]: 0.930173\n",
      "2024-12-05 17:54:17,110:INFO:[TRAIN-ITER]: 1300, [Time-Elapsed]: 64.824557, [Total-Loss]: 0.939986\n",
      "2024-12-05 17:54:17,111:INFO:[CONSTR-Vio]: 0.005609, [OBJECTIVE]: 0.939980\n",
      "2024-12-05 17:54:21,574:INFO:[TRAIN-ITER]: 1400, [Time-Elapsed]: 69.287674, [Total-Loss]: 0.892613\n",
      "2024-12-05 17:54:21,577:INFO:[CONSTR-Vio]: 0.005718, [OBJECTIVE]: 0.892606\n"
     ]
    },
    {
     "ename": "KeyboardInterrupt",
     "evalue": "",
     "output_type": "error",
     "traceback": [
      "\u001b[0;31m---------------------------------------------------------------------------\u001b[0m",
      "\u001b[0;31mKeyboardInterrupt\u001b[0m                         Traceback (most recent call last)",
      "Cell \u001b[0;32mIn[10], line 1\u001b[0m\n\u001b[0;32m----> 1\u001b[0m \u001b[43mtrain_primal\u001b[49m\u001b[43m(\u001b[49m\u001b[43mcfg\u001b[49m\u001b[43m,\u001b[49m\u001b[43mG\u001b[49m\u001b[43m,\u001b[49m\u001b[43mmodel\u001b[49m\u001b[43m)\u001b[49m\n",
      "File \u001b[0;32m~/Github/meina-t/matching_with_dl/primal_train.py:98\u001b[0m, in \u001b[0;36mtrain_primal\u001b[0;34m(cfg, G, model, include_truncation)\u001b[0m\n\u001b[1;32m     95\u001b[0m     \u001b[38;5;28mprint\u001b[39m(lambd)\n\u001b[1;32m     96\u001b[0m     cfg\u001b[38;5;241m.\u001b[39mlambd \u001b[38;5;241m=\u001b[39m lambd\n\u001b[0;32m---> 98\u001b[0m \u001b[43mloss\u001b[49m\u001b[38;5;241;43m.\u001b[39;49m\u001b[43mbackward\u001b[49m\u001b[43m(\u001b[49m\u001b[43mretain_graph\u001b[49m\u001b[38;5;241;43m=\u001b[39;49m\u001b[38;5;28;43;01mTrue\u001b[39;49;00m\u001b[43m)\u001b[49m\n\u001b[1;32m    100\u001b[0m opt\u001b[38;5;241m.\u001b[39mstep()\n\u001b[1;32m    101\u001b[0m scheduler\u001b[38;5;241m.\u001b[39mstep()\n",
      "File \u001b[0;32m~/.pyenv/versions/3.10.4/lib/python3.10/site-packages/torch/_tensor.py:581\u001b[0m, in \u001b[0;36mTensor.backward\u001b[0;34m(self, gradient, retain_graph, create_graph, inputs)\u001b[0m\n\u001b[1;32m    571\u001b[0m \u001b[38;5;28;01mif\u001b[39;00m has_torch_function_unary(\u001b[38;5;28mself\u001b[39m):\n\u001b[1;32m    572\u001b[0m     \u001b[38;5;28;01mreturn\u001b[39;00m handle_torch_function(\n\u001b[1;32m    573\u001b[0m         Tensor\u001b[38;5;241m.\u001b[39mbackward,\n\u001b[1;32m    574\u001b[0m         (\u001b[38;5;28mself\u001b[39m,),\n\u001b[0;32m   (...)\u001b[0m\n\u001b[1;32m    579\u001b[0m         inputs\u001b[38;5;241m=\u001b[39minputs,\n\u001b[1;32m    580\u001b[0m     )\n\u001b[0;32m--> 581\u001b[0m \u001b[43mtorch\u001b[49m\u001b[38;5;241;43m.\u001b[39;49m\u001b[43mautograd\u001b[49m\u001b[38;5;241;43m.\u001b[39;49m\u001b[43mbackward\u001b[49m\u001b[43m(\u001b[49m\n\u001b[1;32m    582\u001b[0m \u001b[43m    \u001b[49m\u001b[38;5;28;43mself\u001b[39;49m\u001b[43m,\u001b[49m\u001b[43m \u001b[49m\u001b[43mgradient\u001b[49m\u001b[43m,\u001b[49m\u001b[43m \u001b[49m\u001b[43mretain_graph\u001b[49m\u001b[43m,\u001b[49m\u001b[43m \u001b[49m\u001b[43mcreate_graph\u001b[49m\u001b[43m,\u001b[49m\u001b[43m \u001b[49m\u001b[43minputs\u001b[49m\u001b[38;5;241;43m=\u001b[39;49m\u001b[43minputs\u001b[49m\n\u001b[1;32m    583\u001b[0m \u001b[43m\u001b[49m\u001b[43m)\u001b[49m\n",
      "File \u001b[0;32m~/.pyenv/versions/3.10.4/lib/python3.10/site-packages/torch/autograd/__init__.py:347\u001b[0m, in \u001b[0;36mbackward\u001b[0;34m(tensors, grad_tensors, retain_graph, create_graph, grad_variables, inputs)\u001b[0m\n\u001b[1;32m    342\u001b[0m     retain_graph \u001b[38;5;241m=\u001b[39m create_graph\n\u001b[1;32m    344\u001b[0m \u001b[38;5;66;03m# The reason we repeat the same comment below is that\u001b[39;00m\n\u001b[1;32m    345\u001b[0m \u001b[38;5;66;03m# some Python versions print out the first line of a multi-line function\u001b[39;00m\n\u001b[1;32m    346\u001b[0m \u001b[38;5;66;03m# calls in the traceback and some print out the last line\u001b[39;00m\n\u001b[0;32m--> 347\u001b[0m \u001b[43m_engine_run_backward\u001b[49m\u001b[43m(\u001b[49m\n\u001b[1;32m    348\u001b[0m \u001b[43m    \u001b[49m\u001b[43mtensors\u001b[49m\u001b[43m,\u001b[49m\n\u001b[1;32m    349\u001b[0m \u001b[43m    \u001b[49m\u001b[43mgrad_tensors_\u001b[49m\u001b[43m,\u001b[49m\n\u001b[1;32m    350\u001b[0m \u001b[43m    \u001b[49m\u001b[43mretain_graph\u001b[49m\u001b[43m,\u001b[49m\n\u001b[1;32m    351\u001b[0m \u001b[43m    \u001b[49m\u001b[43mcreate_graph\u001b[49m\u001b[43m,\u001b[49m\n\u001b[1;32m    352\u001b[0m \u001b[43m    \u001b[49m\u001b[43minputs\u001b[49m\u001b[43m,\u001b[49m\n\u001b[1;32m    353\u001b[0m \u001b[43m    \u001b[49m\u001b[43mallow_unreachable\u001b[49m\u001b[38;5;241;43m=\u001b[39;49m\u001b[38;5;28;43;01mTrue\u001b[39;49;00m\u001b[43m,\u001b[49m\n\u001b[1;32m    354\u001b[0m \u001b[43m    \u001b[49m\u001b[43maccumulate_grad\u001b[49m\u001b[38;5;241;43m=\u001b[39;49m\u001b[38;5;28;43;01mTrue\u001b[39;49;00m\u001b[43m,\u001b[49m\n\u001b[1;32m    355\u001b[0m \u001b[43m\u001b[49m\u001b[43m)\u001b[49m\n",
      "File \u001b[0;32m~/.pyenv/versions/3.10.4/lib/python3.10/site-packages/torch/autograd/graph.py:825\u001b[0m, in \u001b[0;36m_engine_run_backward\u001b[0;34m(t_outputs, *args, **kwargs)\u001b[0m\n\u001b[1;32m    823\u001b[0m     unregister_hooks \u001b[38;5;241m=\u001b[39m _register_logging_hooks_on_whole_graph(t_outputs)\n\u001b[1;32m    824\u001b[0m \u001b[38;5;28;01mtry\u001b[39;00m:\n\u001b[0;32m--> 825\u001b[0m     \u001b[38;5;28;01mreturn\u001b[39;00m \u001b[43mVariable\u001b[49m\u001b[38;5;241;43m.\u001b[39;49m\u001b[43m_execution_engine\u001b[49m\u001b[38;5;241;43m.\u001b[39;49m\u001b[43mrun_backward\u001b[49m\u001b[43m(\u001b[49m\u001b[43m  \u001b[49m\u001b[38;5;66;43;03m# Calls into the C++ engine to run the backward pass\u001b[39;49;00m\n\u001b[1;32m    826\u001b[0m \u001b[43m        \u001b[49m\u001b[43mt_outputs\u001b[49m\u001b[43m,\u001b[49m\u001b[43m \u001b[49m\u001b[38;5;241;43m*\u001b[39;49m\u001b[43margs\u001b[49m\u001b[43m,\u001b[49m\u001b[43m \u001b[49m\u001b[38;5;241;43m*\u001b[39;49m\u001b[38;5;241;43m*\u001b[39;49m\u001b[43mkwargs\u001b[49m\n\u001b[1;32m    827\u001b[0m \u001b[43m    \u001b[49m\u001b[43m)\u001b[49m  \u001b[38;5;66;03m# Calls into the C++ engine to run the backward pass\u001b[39;00m\n\u001b[1;32m    828\u001b[0m \u001b[38;5;28;01mfinally\u001b[39;00m:\n\u001b[1;32m    829\u001b[0m     \u001b[38;5;28;01mif\u001b[39;00m attach_logging_hooks:\n",
      "\u001b[0;31mKeyboardInterrupt\u001b[0m: "
     ]
    }
   ],
   "source": [
    "train_primal(cfg,G,model)"
   ]
  },
  {
   "cell_type": "code",
   "execution_count": 11,
   "metadata": {},
   "outputs": [],
   "source": [
    "def plot_matching(p, q, match):\n",
    "    output_matrix = match.squeeze().detach().numpy()\n",
    "\n",
    "    annotations = np.empty_like(output_matrix, dtype=object)\n",
    "    for i in range(output_matrix.shape[0]):\n",
    "        for j in range(output_matrix.shape[1]):\n",
    "            annotations[i, j] = f'{output_matrix[i, j]:.2e}\\n[{p[i, j]}, {q[j, i]}]'\n",
    "\n",
    "    # ヒートマップのプロット\n",
    "    plt.figure(figsize=(8, 6))\n",
    "    sns.heatmap(output_matrix, annot=annotations, fmt='', cmap='Blues', cbar=True)\n",
    "    plt.title(\"Agent Relationship Heatmap with Vector Details\")\n",
    "    plt.xlabel(\"Agent\")\n",
    "    plt.ylabel(\"Agent\")\n",
    "    plt.show()"
   ]
  },
  {
   "cell_type": "code",
   "execution_count": null,
   "metadata": {},
   "outputs": [],
   "source": []
  },
  {
   "cell_type": "code",
   "execution_count": 12,
   "metadata": {},
   "outputs": [
    {
     "ename": "RuntimeError",
     "evalue": "Tensor for argument input is on cpu but expected on mps",
     "output_type": "error",
     "traceback": [
      "\u001b[0;31m---------------------------------------------------------------------------\u001b[0m",
      "\u001b[0;31mRuntimeError\u001b[0m                              Traceback (most recent call last)",
      "Cell \u001b[0;32mIn[12], line 4\u001b[0m\n\u001b[1;32m      1\u001b[0m p \u001b[38;5;241m=\u001b[39m torch\u001b[38;5;241m.\u001b[39mtensor([[\u001b[38;5;241m1\u001b[39m, \u001b[38;5;241m0.0\u001b[39m, \u001b[38;5;241m0\u001b[39m], [\u001b[38;5;241m0\u001b[39m, \u001b[38;5;241m1\u001b[39m, \u001b[38;5;241m0\u001b[39m], [\u001b[38;5;241m0\u001b[39m, \u001b[38;5;241m0\u001b[39m, \u001b[38;5;241m1\u001b[39m]])\n\u001b[1;32m      2\u001b[0m q \u001b[38;5;241m=\u001b[39m torch\u001b[38;5;241m.\u001b[39mtensor([[\u001b[38;5;241m1\u001b[39m, \u001b[38;5;241m0.0\u001b[39m, \u001b[38;5;241m0\u001b[39m], [\u001b[38;5;241m0\u001b[39m, \u001b[38;5;241m1\u001b[39m, \u001b[38;5;241m0\u001b[39m], [\u001b[38;5;241m0\u001b[39m, \u001b[38;5;241m0\u001b[39m, \u001b[38;5;241m1\u001b[39m]])\n\u001b[0;32m----> 4\u001b[0m output \u001b[38;5;241m=\u001b[39m \u001b[43mmodel\u001b[49m\u001b[43m(\u001b[49m\u001b[43mp\u001b[49m\u001b[43m,\u001b[49m\u001b[43m \u001b[49m\u001b[43mq\u001b[49m\u001b[43m)\u001b[49m\n",
      "File \u001b[0;32m~/.pyenv/versions/3.10.4/lib/python3.10/site-packages/torch/nn/modules/module.py:1736\u001b[0m, in \u001b[0;36mModule._wrapped_call_impl\u001b[0;34m(self, *args, **kwargs)\u001b[0m\n\u001b[1;32m   1734\u001b[0m     \u001b[38;5;28;01mreturn\u001b[39;00m \u001b[38;5;28mself\u001b[39m\u001b[38;5;241m.\u001b[39m_compiled_call_impl(\u001b[38;5;241m*\u001b[39margs, \u001b[38;5;241m*\u001b[39m\u001b[38;5;241m*\u001b[39mkwargs)  \u001b[38;5;66;03m# type: ignore[misc]\u001b[39;00m\n\u001b[1;32m   1735\u001b[0m \u001b[38;5;28;01melse\u001b[39;00m:\n\u001b[0;32m-> 1736\u001b[0m     \u001b[38;5;28;01mreturn\u001b[39;00m \u001b[38;5;28;43mself\u001b[39;49m\u001b[38;5;241;43m.\u001b[39;49m\u001b[43m_call_impl\u001b[49m\u001b[43m(\u001b[49m\u001b[38;5;241;43m*\u001b[39;49m\u001b[43margs\u001b[49m\u001b[43m,\u001b[49m\u001b[43m \u001b[49m\u001b[38;5;241;43m*\u001b[39;49m\u001b[38;5;241;43m*\u001b[39;49m\u001b[43mkwargs\u001b[49m\u001b[43m)\u001b[49m\n",
      "File \u001b[0;32m~/.pyenv/versions/3.10.4/lib/python3.10/site-packages/torch/nn/modules/module.py:1747\u001b[0m, in \u001b[0;36mModule._call_impl\u001b[0;34m(self, *args, **kwargs)\u001b[0m\n\u001b[1;32m   1742\u001b[0m \u001b[38;5;66;03m# If we don't have any hooks, we want to skip the rest of the logic in\u001b[39;00m\n\u001b[1;32m   1743\u001b[0m \u001b[38;5;66;03m# this function, and just call forward.\u001b[39;00m\n\u001b[1;32m   1744\u001b[0m \u001b[38;5;28;01mif\u001b[39;00m \u001b[38;5;129;01mnot\u001b[39;00m (\u001b[38;5;28mself\u001b[39m\u001b[38;5;241m.\u001b[39m_backward_hooks \u001b[38;5;129;01mor\u001b[39;00m \u001b[38;5;28mself\u001b[39m\u001b[38;5;241m.\u001b[39m_backward_pre_hooks \u001b[38;5;129;01mor\u001b[39;00m \u001b[38;5;28mself\u001b[39m\u001b[38;5;241m.\u001b[39m_forward_hooks \u001b[38;5;129;01mor\u001b[39;00m \u001b[38;5;28mself\u001b[39m\u001b[38;5;241m.\u001b[39m_forward_pre_hooks\n\u001b[1;32m   1745\u001b[0m         \u001b[38;5;129;01mor\u001b[39;00m _global_backward_pre_hooks \u001b[38;5;129;01mor\u001b[39;00m _global_backward_hooks\n\u001b[1;32m   1746\u001b[0m         \u001b[38;5;129;01mor\u001b[39;00m _global_forward_hooks \u001b[38;5;129;01mor\u001b[39;00m _global_forward_pre_hooks):\n\u001b[0;32m-> 1747\u001b[0m     \u001b[38;5;28;01mreturn\u001b[39;00m \u001b[43mforward_call\u001b[49m\u001b[43m(\u001b[49m\u001b[38;5;241;43m*\u001b[39;49m\u001b[43margs\u001b[49m\u001b[43m,\u001b[49m\u001b[43m \u001b[49m\u001b[38;5;241;43m*\u001b[39;49m\u001b[38;5;241;43m*\u001b[39;49m\u001b[43mkwargs\u001b[49m\u001b[43m)\u001b[49m\n\u001b[1;32m   1749\u001b[0m result \u001b[38;5;241m=\u001b[39m \u001b[38;5;28;01mNone\u001b[39;00m\n\u001b[1;32m   1750\u001b[0m called_always_called_hooks \u001b[38;5;241m=\u001b[39m \u001b[38;5;28mset\u001b[39m()\n",
      "File \u001b[0;32m~/Github/meina-t/matching_with_dl/primal_net.py:44\u001b[0m, in \u001b[0;36mPrimalNet.forward\u001b[0;34m(self, p, q)\u001b[0m\n\u001b[1;32m     42\u001b[0m x \u001b[38;5;241m=\u001b[39m torch\u001b[38;5;241m.\u001b[39mstack([p, q], axis \u001b[38;5;241m=\u001b[39m \u001b[38;5;241m-\u001b[39m\u001b[38;5;241m1\u001b[39m)\n\u001b[1;32m     43\u001b[0m x \u001b[38;5;241m=\u001b[39m x\u001b[38;5;241m.\u001b[39mview(\u001b[38;5;241m-\u001b[39m\u001b[38;5;241m1\u001b[39m, \u001b[38;5;28mself\u001b[39m\u001b[38;5;241m.\u001b[39mcfg\u001b[38;5;241m.\u001b[39mnum_agents \u001b[38;5;241m*\u001b[39m \u001b[38;5;28mself\u001b[39m\u001b[38;5;241m.\u001b[39mcfg\u001b[38;5;241m.\u001b[39mnum_agents \u001b[38;5;241m*\u001b[39m \u001b[38;5;241m2\u001b[39m)\n\u001b[0;32m---> 44\u001b[0m x \u001b[38;5;241m=\u001b[39m \u001b[38;5;28;43mself\u001b[39;49m\u001b[38;5;241;43m.\u001b[39;49m\u001b[43minput_block\u001b[49m\u001b[43m(\u001b[49m\u001b[43mx\u001b[49m\u001b[43m)\u001b[49m\n\u001b[1;32m     46\u001b[0m r \u001b[38;5;241m=\u001b[39m \u001b[38;5;28mself\u001b[39m\u001b[38;5;241m.\u001b[39mlayer_out(x)\n\u001b[1;32m     47\u001b[0m r \u001b[38;5;241m=\u001b[39m r\u001b[38;5;241m.\u001b[39mview(\u001b[38;5;241m-\u001b[39m\u001b[38;5;241m1\u001b[39m, \u001b[38;5;28mself\u001b[39m\u001b[38;5;241m.\u001b[39mcfg\u001b[38;5;241m.\u001b[39mnum_agents, \u001b[38;5;28mself\u001b[39m\u001b[38;5;241m.\u001b[39mcfg\u001b[38;5;241m.\u001b[39mnum_agents)\n",
      "File \u001b[0;32m~/.pyenv/versions/3.10.4/lib/python3.10/site-packages/torch/nn/modules/module.py:1736\u001b[0m, in \u001b[0;36mModule._wrapped_call_impl\u001b[0;34m(self, *args, **kwargs)\u001b[0m\n\u001b[1;32m   1734\u001b[0m     \u001b[38;5;28;01mreturn\u001b[39;00m \u001b[38;5;28mself\u001b[39m\u001b[38;5;241m.\u001b[39m_compiled_call_impl(\u001b[38;5;241m*\u001b[39margs, \u001b[38;5;241m*\u001b[39m\u001b[38;5;241m*\u001b[39mkwargs)  \u001b[38;5;66;03m# type: ignore[misc]\u001b[39;00m\n\u001b[1;32m   1735\u001b[0m \u001b[38;5;28;01melse\u001b[39;00m:\n\u001b[0;32m-> 1736\u001b[0m     \u001b[38;5;28;01mreturn\u001b[39;00m \u001b[38;5;28;43mself\u001b[39;49m\u001b[38;5;241;43m.\u001b[39;49m\u001b[43m_call_impl\u001b[49m\u001b[43m(\u001b[49m\u001b[38;5;241;43m*\u001b[39;49m\u001b[43margs\u001b[49m\u001b[43m,\u001b[49m\u001b[43m \u001b[49m\u001b[38;5;241;43m*\u001b[39;49m\u001b[38;5;241;43m*\u001b[39;49m\u001b[43mkwargs\u001b[49m\u001b[43m)\u001b[49m\n",
      "File \u001b[0;32m~/.pyenv/versions/3.10.4/lib/python3.10/site-packages/torch/nn/modules/module.py:1747\u001b[0m, in \u001b[0;36mModule._call_impl\u001b[0;34m(self, *args, **kwargs)\u001b[0m\n\u001b[1;32m   1742\u001b[0m \u001b[38;5;66;03m# If we don't have any hooks, we want to skip the rest of the logic in\u001b[39;00m\n\u001b[1;32m   1743\u001b[0m \u001b[38;5;66;03m# this function, and just call forward.\u001b[39;00m\n\u001b[1;32m   1744\u001b[0m \u001b[38;5;28;01mif\u001b[39;00m \u001b[38;5;129;01mnot\u001b[39;00m (\u001b[38;5;28mself\u001b[39m\u001b[38;5;241m.\u001b[39m_backward_hooks \u001b[38;5;129;01mor\u001b[39;00m \u001b[38;5;28mself\u001b[39m\u001b[38;5;241m.\u001b[39m_backward_pre_hooks \u001b[38;5;129;01mor\u001b[39;00m \u001b[38;5;28mself\u001b[39m\u001b[38;5;241m.\u001b[39m_forward_hooks \u001b[38;5;129;01mor\u001b[39;00m \u001b[38;5;28mself\u001b[39m\u001b[38;5;241m.\u001b[39m_forward_pre_hooks\n\u001b[1;32m   1745\u001b[0m         \u001b[38;5;129;01mor\u001b[39;00m _global_backward_pre_hooks \u001b[38;5;129;01mor\u001b[39;00m _global_backward_hooks\n\u001b[1;32m   1746\u001b[0m         \u001b[38;5;129;01mor\u001b[39;00m _global_forward_hooks \u001b[38;5;129;01mor\u001b[39;00m _global_forward_pre_hooks):\n\u001b[0;32m-> 1747\u001b[0m     \u001b[38;5;28;01mreturn\u001b[39;00m \u001b[43mforward_call\u001b[49m\u001b[43m(\u001b[49m\u001b[38;5;241;43m*\u001b[39;49m\u001b[43margs\u001b[49m\u001b[43m,\u001b[49m\u001b[43m \u001b[49m\u001b[38;5;241;43m*\u001b[39;49m\u001b[38;5;241;43m*\u001b[39;49m\u001b[43mkwargs\u001b[49m\u001b[43m)\u001b[49m\n\u001b[1;32m   1749\u001b[0m result \u001b[38;5;241m=\u001b[39m \u001b[38;5;28;01mNone\u001b[39;00m\n\u001b[1;32m   1750\u001b[0m called_always_called_hooks \u001b[38;5;241m=\u001b[39m \u001b[38;5;28mset\u001b[39m()\n",
      "File \u001b[0;32m~/.pyenv/versions/3.10.4/lib/python3.10/site-packages/torch/nn/modules/container.py:250\u001b[0m, in \u001b[0;36mSequential.forward\u001b[0;34m(self, input)\u001b[0m\n\u001b[1;32m    248\u001b[0m \u001b[38;5;28;01mdef\u001b[39;00m \u001b[38;5;21mforward\u001b[39m(\u001b[38;5;28mself\u001b[39m, \u001b[38;5;28minput\u001b[39m):\n\u001b[1;32m    249\u001b[0m     \u001b[38;5;28;01mfor\u001b[39;00m module \u001b[38;5;129;01min\u001b[39;00m \u001b[38;5;28mself\u001b[39m:\n\u001b[0;32m--> 250\u001b[0m         \u001b[38;5;28minput\u001b[39m \u001b[38;5;241m=\u001b[39m \u001b[43mmodule\u001b[49m\u001b[43m(\u001b[49m\u001b[38;5;28;43minput\u001b[39;49m\u001b[43m)\u001b[49m\n\u001b[1;32m    251\u001b[0m     \u001b[38;5;28;01mreturn\u001b[39;00m \u001b[38;5;28minput\u001b[39m\n",
      "File \u001b[0;32m~/.pyenv/versions/3.10.4/lib/python3.10/site-packages/torch/nn/modules/module.py:1736\u001b[0m, in \u001b[0;36mModule._wrapped_call_impl\u001b[0;34m(self, *args, **kwargs)\u001b[0m\n\u001b[1;32m   1734\u001b[0m     \u001b[38;5;28;01mreturn\u001b[39;00m \u001b[38;5;28mself\u001b[39m\u001b[38;5;241m.\u001b[39m_compiled_call_impl(\u001b[38;5;241m*\u001b[39margs, \u001b[38;5;241m*\u001b[39m\u001b[38;5;241m*\u001b[39mkwargs)  \u001b[38;5;66;03m# type: ignore[misc]\u001b[39;00m\n\u001b[1;32m   1735\u001b[0m \u001b[38;5;28;01melse\u001b[39;00m:\n\u001b[0;32m-> 1736\u001b[0m     \u001b[38;5;28;01mreturn\u001b[39;00m \u001b[38;5;28;43mself\u001b[39;49m\u001b[38;5;241;43m.\u001b[39;49m\u001b[43m_call_impl\u001b[49m\u001b[43m(\u001b[49m\u001b[38;5;241;43m*\u001b[39;49m\u001b[43margs\u001b[49m\u001b[43m,\u001b[49m\u001b[43m \u001b[49m\u001b[38;5;241;43m*\u001b[39;49m\u001b[38;5;241;43m*\u001b[39;49m\u001b[43mkwargs\u001b[49m\u001b[43m)\u001b[49m\n",
      "File \u001b[0;32m~/.pyenv/versions/3.10.4/lib/python3.10/site-packages/torch/nn/modules/module.py:1747\u001b[0m, in \u001b[0;36mModule._call_impl\u001b[0;34m(self, *args, **kwargs)\u001b[0m\n\u001b[1;32m   1742\u001b[0m \u001b[38;5;66;03m# If we don't have any hooks, we want to skip the rest of the logic in\u001b[39;00m\n\u001b[1;32m   1743\u001b[0m \u001b[38;5;66;03m# this function, and just call forward.\u001b[39;00m\n\u001b[1;32m   1744\u001b[0m \u001b[38;5;28;01mif\u001b[39;00m \u001b[38;5;129;01mnot\u001b[39;00m (\u001b[38;5;28mself\u001b[39m\u001b[38;5;241m.\u001b[39m_backward_hooks \u001b[38;5;129;01mor\u001b[39;00m \u001b[38;5;28mself\u001b[39m\u001b[38;5;241m.\u001b[39m_backward_pre_hooks \u001b[38;5;129;01mor\u001b[39;00m \u001b[38;5;28mself\u001b[39m\u001b[38;5;241m.\u001b[39m_forward_hooks \u001b[38;5;129;01mor\u001b[39;00m \u001b[38;5;28mself\u001b[39m\u001b[38;5;241m.\u001b[39m_forward_pre_hooks\n\u001b[1;32m   1745\u001b[0m         \u001b[38;5;129;01mor\u001b[39;00m _global_backward_pre_hooks \u001b[38;5;129;01mor\u001b[39;00m _global_backward_hooks\n\u001b[1;32m   1746\u001b[0m         \u001b[38;5;129;01mor\u001b[39;00m _global_forward_hooks \u001b[38;5;129;01mor\u001b[39;00m _global_forward_pre_hooks):\n\u001b[0;32m-> 1747\u001b[0m     \u001b[38;5;28;01mreturn\u001b[39;00m \u001b[43mforward_call\u001b[49m\u001b[43m(\u001b[49m\u001b[38;5;241;43m*\u001b[39;49m\u001b[43margs\u001b[49m\u001b[43m,\u001b[49m\u001b[43m \u001b[49m\u001b[38;5;241;43m*\u001b[39;49m\u001b[38;5;241;43m*\u001b[39;49m\u001b[43mkwargs\u001b[49m\u001b[43m)\u001b[49m\n\u001b[1;32m   1749\u001b[0m result \u001b[38;5;241m=\u001b[39m \u001b[38;5;28;01mNone\u001b[39;00m\n\u001b[1;32m   1750\u001b[0m called_always_called_hooks \u001b[38;5;241m=\u001b[39m \u001b[38;5;28mset\u001b[39m()\n",
      "File \u001b[0;32m~/.pyenv/versions/3.10.4/lib/python3.10/site-packages/torch/nn/modules/linear.py:125\u001b[0m, in \u001b[0;36mLinear.forward\u001b[0;34m(self, input)\u001b[0m\n\u001b[1;32m    124\u001b[0m \u001b[38;5;28;01mdef\u001b[39;00m \u001b[38;5;21mforward\u001b[39m(\u001b[38;5;28mself\u001b[39m, \u001b[38;5;28minput\u001b[39m: Tensor) \u001b[38;5;241m-\u001b[39m\u001b[38;5;241m>\u001b[39m Tensor:\n\u001b[0;32m--> 125\u001b[0m     \u001b[38;5;28;01mreturn\u001b[39;00m \u001b[43mF\u001b[49m\u001b[38;5;241;43m.\u001b[39;49m\u001b[43mlinear\u001b[49m\u001b[43m(\u001b[49m\u001b[38;5;28;43minput\u001b[39;49m\u001b[43m,\u001b[49m\u001b[43m \u001b[49m\u001b[38;5;28;43mself\u001b[39;49m\u001b[38;5;241;43m.\u001b[39;49m\u001b[43mweight\u001b[49m\u001b[43m,\u001b[49m\u001b[43m \u001b[49m\u001b[38;5;28;43mself\u001b[39;49m\u001b[38;5;241;43m.\u001b[39;49m\u001b[43mbias\u001b[49m\u001b[43m)\u001b[49m\n",
      "\u001b[0;31mRuntimeError\u001b[0m: Tensor for argument input is on cpu but expected on mps"
     ]
    }
   ],
   "source": [
    "p = torch.tensor([[1, 0.0, 0], [0, 1, 0], [0, 0, 1]])\n",
    "q = torch.tensor([[1, 0.0, 0], [0, 1, 0], [0, 0, 1]])\n",
    "\n",
    "output = model(p, q)"
   ]
  },
  {
   "cell_type": "code",
   "execution_count": null,
   "metadata": {},
   "outputs": [],
   "source": [
    "plot_matching(p, q, output)"
   ]
  }
 ],
 "metadata": {
  "kernelspec": {
   "display_name": "3.10.4",
   "language": "python",
   "name": "python3"
  },
  "language_info": {
   "codemirror_mode": {
    "name": "ipython",
    "version": 3
   },
   "file_extension": ".py",
   "mimetype": "text/x-python",
   "name": "python",
   "nbconvert_exporter": "python",
   "pygments_lexer": "ipython3",
   "version": "3.10.4"
  }
 },
 "nbformat": 4,
 "nbformat_minor": 2
}
